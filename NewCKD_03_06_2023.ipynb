{
  "cells": [
    {
      "cell_type": "code",
      "execution_count": 2,
      "metadata": {
        "colab": {
          "base_uri": "https://localhost:8080/"
        },
        "id": "NFrO7jomrHYj",
        "outputId": "be1b7947-703e-4a51-9733-67a1da401713"
      },
      "outputs": [
        {
          "output_type": "stream",
          "name": "stdout",
          "text": [
            "Reading package lists... Done\n",
            "Building dependency tree       \n",
            "Reading state information... Done\n",
            "The following additional packages will be installed:\n",
            "  fonts-dejavu-core fonts-dejavu-extra libatk-wrapper-java\n",
            "  libatk-wrapper-java-jni libfontenc1 libgail-common libgail18 libgtk2.0-0\n",
            "  libgtk2.0-bin libgtk2.0-common libxkbfile1 libxtst6 libxxf86dga1\n",
            "  openjdk-8-jdk-headless openjdk-8-jre openjdk-8-jre-headless x11-utils\n",
            "Suggested packages:\n",
            "  gvfs openjdk-8-demo openjdk-8-source visualvm libnss-mdns\n",
            "  fonts-ipafont-gothic fonts-ipafont-mincho fonts-wqy-microhei\n",
            "  fonts-wqy-zenhei fonts-indic mesa-utils\n",
            "The following NEW packages will be installed:\n",
            "  fonts-dejavu-core fonts-dejavu-extra libatk-wrapper-java\n",
            "  libatk-wrapper-java-jni libfontenc1 libgail-common libgail18 libgtk2.0-0\n",
            "  libgtk2.0-bin libgtk2.0-common libxkbfile1 libxtst6 libxxf86dga1\n",
            "  openjdk-8-jdk openjdk-8-jdk-headless openjdk-8-jre openjdk-8-jre-headless\n",
            "  x11-utils\n",
            "0 upgraded, 18 newly installed, 0 to remove and 34 not upgraded.\n",
            "Need to get 46.1 MB of archives.\n",
            "After this operation, 167 MB of additional disk space will be used.\n",
            "Get:1 http://archive.ubuntu.com/ubuntu focal/main amd64 fonts-dejavu-core all 2.37-1 [1,041 kB]\n",
            "Get:2 http://archive.ubuntu.com/ubuntu focal/main amd64 fonts-dejavu-extra all 2.37-1 [1,953 kB]\n",
            "Get:3 http://archive.ubuntu.com/ubuntu focal/main amd64 libfontenc1 amd64 1:1.1.4-0ubuntu1 [14.0 kB]\n",
            "Get:4 http://archive.ubuntu.com/ubuntu focal/main amd64 libxkbfile1 amd64 1:1.1.0-1 [65.3 kB]\n",
            "Get:5 http://archive.ubuntu.com/ubuntu focal/main amd64 libxtst6 amd64 2:1.2.3-1 [12.8 kB]\n",
            "Get:6 http://archive.ubuntu.com/ubuntu focal/main amd64 libxxf86dga1 amd64 2:1.1.5-0ubuntu1 [12.0 kB]\n",
            "Get:7 http://archive.ubuntu.com/ubuntu focal/main amd64 x11-utils amd64 7.7+5 [199 kB]\n",
            "Get:8 http://archive.ubuntu.com/ubuntu focal/main amd64 libatk-wrapper-java all 0.37.1-1 [53.0 kB]\n",
            "Get:9 http://archive.ubuntu.com/ubuntu focal/main amd64 libatk-wrapper-java-jni amd64 0.37.1-1 [45.1 kB]\n",
            "Get:10 http://archive.ubuntu.com/ubuntu focal/main amd64 libgtk2.0-common all 2.24.32-4ubuntu4 [126 kB]\n",
            "Get:11 http://archive.ubuntu.com/ubuntu focal/main amd64 libgtk2.0-0 amd64 2.24.32-4ubuntu4 [1,791 kB]\n",
            "Get:12 http://archive.ubuntu.com/ubuntu focal/main amd64 libgail18 amd64 2.24.32-4ubuntu4 [14.7 kB]\n",
            "Get:13 http://archive.ubuntu.com/ubuntu focal/main amd64 libgail-common amd64 2.24.32-4ubuntu4 [116 kB]\n",
            "Get:14 http://archive.ubuntu.com/ubuntu focal/main amd64 libgtk2.0-bin amd64 2.24.32-4ubuntu4 [7,728 B]\n",
            "Get:15 http://archive.ubuntu.com/ubuntu focal-updates/universe amd64 openjdk-8-jre-headless amd64 8u372-ga~us1-0ubuntu1~20.04 [28.3 MB]\n",
            "Get:16 http://archive.ubuntu.com/ubuntu focal-updates/universe amd64 openjdk-8-jre amd64 8u372-ga~us1-0ubuntu1~20.04 [70.0 kB]\n",
            "Get:17 http://archive.ubuntu.com/ubuntu focal-updates/universe amd64 openjdk-8-jdk-headless amd64 8u372-ga~us1-0ubuntu1~20.04 [8,282 kB]\n",
            "Get:18 http://archive.ubuntu.com/ubuntu focal-updates/universe amd64 openjdk-8-jdk amd64 8u372-ga~us1-0ubuntu1~20.04 [4,070 kB]\n",
            "Fetched 46.1 MB in 4s (11.3 MB/s)\n",
            "Selecting previously unselected package fonts-dejavu-core.\n",
            "(Reading database ... 122542 files and directories currently installed.)\n",
            "Preparing to unpack .../00-fonts-dejavu-core_2.37-1_all.deb ...\n",
            "Unpacking fonts-dejavu-core (2.37-1) ...\n",
            "Selecting previously unselected package fonts-dejavu-extra.\n",
            "Preparing to unpack .../01-fonts-dejavu-extra_2.37-1_all.deb ...\n",
            "Unpacking fonts-dejavu-extra (2.37-1) ...\n",
            "Selecting previously unselected package libfontenc1:amd64.\n",
            "Preparing to unpack .../02-libfontenc1_1%3a1.1.4-0ubuntu1_amd64.deb ...\n",
            "Unpacking libfontenc1:amd64 (1:1.1.4-0ubuntu1) ...\n",
            "Selecting previously unselected package libxkbfile1:amd64.\n",
            "Preparing to unpack .../03-libxkbfile1_1%3a1.1.0-1_amd64.deb ...\n",
            "Unpacking libxkbfile1:amd64 (1:1.1.0-1) ...\n",
            "Selecting previously unselected package libxtst6:amd64.\n",
            "Preparing to unpack .../04-libxtst6_2%3a1.2.3-1_amd64.deb ...\n",
            "Unpacking libxtst6:amd64 (2:1.2.3-1) ...\n",
            "Selecting previously unselected package libxxf86dga1:amd64.\n",
            "Preparing to unpack .../05-libxxf86dga1_2%3a1.1.5-0ubuntu1_amd64.deb ...\n",
            "Unpacking libxxf86dga1:amd64 (2:1.1.5-0ubuntu1) ...\n",
            "Selecting previously unselected package x11-utils.\n",
            "Preparing to unpack .../06-x11-utils_7.7+5_amd64.deb ...\n",
            "Unpacking x11-utils (7.7+5) ...\n",
            "Selecting previously unselected package libatk-wrapper-java.\n",
            "Preparing to unpack .../07-libatk-wrapper-java_0.37.1-1_all.deb ...\n",
            "Unpacking libatk-wrapper-java (0.37.1-1) ...\n",
            "Selecting previously unselected package libatk-wrapper-java-jni:amd64.\n",
            "Preparing to unpack .../08-libatk-wrapper-java-jni_0.37.1-1_amd64.deb ...\n",
            "Unpacking libatk-wrapper-java-jni:amd64 (0.37.1-1) ...\n",
            "Selecting previously unselected package libgtk2.0-common.\n",
            "Preparing to unpack .../09-libgtk2.0-common_2.24.32-4ubuntu4_all.deb ...\n",
            "Unpacking libgtk2.0-common (2.24.32-4ubuntu4) ...\n",
            "Selecting previously unselected package libgtk2.0-0:amd64.\n",
            "Preparing to unpack .../10-libgtk2.0-0_2.24.32-4ubuntu4_amd64.deb ...\n",
            "Unpacking libgtk2.0-0:amd64 (2.24.32-4ubuntu4) ...\n",
            "Selecting previously unselected package libgail18:amd64.\n",
            "Preparing to unpack .../11-libgail18_2.24.32-4ubuntu4_amd64.deb ...\n",
            "Unpacking libgail18:amd64 (2.24.32-4ubuntu4) ...\n",
            "Selecting previously unselected package libgail-common:amd64.\n",
            "Preparing to unpack .../12-libgail-common_2.24.32-4ubuntu4_amd64.deb ...\n",
            "Unpacking libgail-common:amd64 (2.24.32-4ubuntu4) ...\n",
            "Selecting previously unselected package libgtk2.0-bin.\n",
            "Preparing to unpack .../13-libgtk2.0-bin_2.24.32-4ubuntu4_amd64.deb ...\n",
            "Unpacking libgtk2.0-bin (2.24.32-4ubuntu4) ...\n",
            "Selecting previously unselected package openjdk-8-jre-headless:amd64.\n",
            "Preparing to unpack .../14-openjdk-8-jre-headless_8u372-ga~us1-0ubuntu1~20.04_amd64.deb ...\n",
            "Unpacking openjdk-8-jre-headless:amd64 (8u372-ga~us1-0ubuntu1~20.04) ...\n",
            "Selecting previously unselected package openjdk-8-jre:amd64.\n",
            "Preparing to unpack .../15-openjdk-8-jre_8u372-ga~us1-0ubuntu1~20.04_amd64.deb ...\n",
            "Unpacking openjdk-8-jre:amd64 (8u372-ga~us1-0ubuntu1~20.04) ...\n",
            "Selecting previously unselected package openjdk-8-jdk-headless:amd64.\n",
            "Preparing to unpack .../16-openjdk-8-jdk-headless_8u372-ga~us1-0ubuntu1~20.04_amd64.deb ...\n",
            "Unpacking openjdk-8-jdk-headless:amd64 (8u372-ga~us1-0ubuntu1~20.04) ...\n",
            "Selecting previously unselected package openjdk-8-jdk:amd64.\n",
            "Preparing to unpack .../17-openjdk-8-jdk_8u372-ga~us1-0ubuntu1~20.04_amd64.deb ...\n",
            "Unpacking openjdk-8-jdk:amd64 (8u372-ga~us1-0ubuntu1~20.04) ...\n",
            "Setting up libxtst6:amd64 (2:1.2.3-1) ...\n",
            "Setting up libxxf86dga1:amd64 (2:1.1.5-0ubuntu1) ...\n",
            "Setting up libfontenc1:amd64 (1:1.1.4-0ubuntu1) ...\n",
            "Setting up openjdk-8-jre-headless:amd64 (8u372-ga~us1-0ubuntu1~20.04) ...\n",
            "update-alternatives: using /usr/lib/jvm/java-8-openjdk-amd64/jre/bin/orbd to provide /usr/bin/orbd (orbd) in auto mode\n",
            "update-alternatives: using /usr/lib/jvm/java-8-openjdk-amd64/jre/bin/servertool to provide /usr/bin/servertool (servertool) in auto mode\n",
            "update-alternatives: using /usr/lib/jvm/java-8-openjdk-amd64/jre/bin/tnameserv to provide /usr/bin/tnameserv (tnameserv) in auto mode\n",
            "Setting up fonts-dejavu-core (2.37-1) ...\n",
            "Setting up fonts-dejavu-extra (2.37-1) ...\n",
            "Setting up libgtk2.0-common (2.24.32-4ubuntu4) ...\n",
            "Setting up libxkbfile1:amd64 (1:1.1.0-1) ...\n",
            "Setting up libgtk2.0-0:amd64 (2.24.32-4ubuntu4) ...\n",
            "Setting up openjdk-8-jdk-headless:amd64 (8u372-ga~us1-0ubuntu1~20.04) ...\n",
            "update-alternatives: using /usr/lib/jvm/java-8-openjdk-amd64/bin/idlj to provide /usr/bin/idlj (idlj) in auto mode\n",
            "update-alternatives: using /usr/lib/jvm/java-8-openjdk-amd64/bin/wsimport to provide /usr/bin/wsimport (wsimport) in auto mode\n",
            "update-alternatives: using /usr/lib/jvm/java-8-openjdk-amd64/bin/jsadebugd to provide /usr/bin/jsadebugd (jsadebugd) in auto mode\n",
            "update-alternatives: using /usr/lib/jvm/java-8-openjdk-amd64/bin/native2ascii to provide /usr/bin/native2ascii (native2ascii) in auto mode\n",
            "update-alternatives: using /usr/lib/jvm/java-8-openjdk-amd64/bin/javah to provide /usr/bin/javah (javah) in auto mode\n",
            "update-alternatives: using /usr/lib/jvm/java-8-openjdk-amd64/bin/clhsdb to provide /usr/bin/clhsdb (clhsdb) in auto mode\n",
            "update-alternatives: using /usr/lib/jvm/java-8-openjdk-amd64/bin/jhat to provide /usr/bin/jhat (jhat) in auto mode\n",
            "update-alternatives: using /usr/lib/jvm/java-8-openjdk-amd64/bin/extcheck to provide /usr/bin/extcheck (extcheck) in auto mode\n",
            "update-alternatives: using /usr/lib/jvm/java-8-openjdk-amd64/bin/hsdb to provide /usr/bin/hsdb (hsdb) in auto mode\n",
            "update-alternatives: using /usr/lib/jvm/java-8-openjdk-amd64/bin/schemagen to provide /usr/bin/schemagen (schemagen) in auto mode\n",
            "update-alternatives: using /usr/lib/jvm/java-8-openjdk-amd64/bin/xjc to provide /usr/bin/xjc (xjc) in auto mode\n",
            "update-alternatives: using /usr/lib/jvm/java-8-openjdk-amd64/bin/wsgen to provide /usr/bin/wsgen (wsgen) in auto mode\n",
            "Setting up libgail18:amd64 (2.24.32-4ubuntu4) ...\n",
            "Setting up libgtk2.0-bin (2.24.32-4ubuntu4) ...\n",
            "Setting up x11-utils (7.7+5) ...\n",
            "Setting up libatk-wrapper-java (0.37.1-1) ...\n",
            "Setting up libgail-common:amd64 (2.24.32-4ubuntu4) ...\n",
            "Setting up libatk-wrapper-java-jni:amd64 (0.37.1-1) ...\n",
            "Setting up openjdk-8-jre:amd64 (8u372-ga~us1-0ubuntu1~20.04) ...\n",
            "update-alternatives: using /usr/lib/jvm/java-8-openjdk-amd64/jre/bin/policytool to provide /usr/bin/policytool (policytool) in auto mode\n",
            "Setting up openjdk-8-jdk:amd64 (8u372-ga~us1-0ubuntu1~20.04) ...\n",
            "update-alternatives: using /usr/lib/jvm/java-8-openjdk-amd64/bin/appletviewer to provide /usr/bin/appletviewer (appletviewer) in auto mode\n",
            "update-alternatives: using /usr/lib/jvm/java-8-openjdk-amd64/bin/jconsole to provide /usr/bin/jconsole (jconsole) in auto mode\n",
            "Processing triggers for mime-support (3.64ubuntu1) ...\n",
            "Processing triggers for hicolor-icon-theme (0.17-2) ...\n",
            "Processing triggers for libc-bin (2.31-0ubuntu9.9) ...\n",
            "Processing triggers for man-db (2.9.1-1) ...\n",
            "Processing triggers for fontconfig (2.13.1-2ubuntu3) ...\n"
          ]
        }
      ],
      "source": [
        "#Install Java Development kit for Spark\n",
        "!apt-get install openjdk-8-jdk"
      ]
    },
    {
      "cell_type": "code",
      "execution_count": 3,
      "metadata": {
        "id": "F9Q4hvvks8hR"
      },
      "outputs": [],
      "source": [
        "import os"
      ]
    },
    {
      "cell_type": "code",
      "execution_count": 4,
      "metadata": {
        "id": "QE6oJChUs8fk"
      },
      "outputs": [],
      "source": [
        "#Set the JAVA_HOME env variable\n",
        "os.environ[\"JAVA_HOME\"]=\"/usr/lib/jvm/java-8-openjdk-amd64\""
      ]
    },
    {
      "cell_type": "code",
      "execution_count": 5,
      "metadata": {
        "colab": {
          "base_uri": "https://localhost:8080/"
        },
        "id": "YRjve76ds8d0",
        "outputId": "fe38f5b4-788b-48aa-8095-bfa101d292da"
      },
      "outputs": [
        {
          "output_type": "stream",
          "name": "stdout",
          "text": [
            "/content\n"
          ]
        }
      ],
      "source": [
        "#Current working directory\n",
        "!pwd"
      ]
    },
    {
      "cell_type": "code",
      "execution_count": 6,
      "metadata": {
        "colab": {
          "base_uri": "https://localhost:8080/"
        },
        "id": "fw5c4DXbs8a4",
        "outputId": "2df32ca5-1c5b-4c29-821f-d768328851be"
      },
      "outputs": [
        {
          "output_type": "stream",
          "name": "stdout",
          "text": [
            "/usr/lib/jvm/java-8-openjdk-amd64\n"
          ]
        }
      ],
      "source": [
        "!echo $JAVA_HOME"
      ]
    },
    {
      "cell_type": "code",
      "execution_count": 7,
      "metadata": {
        "colab": {
          "base_uri": "https://localhost:8080/"
        },
        "id": "v1i6oVQss8Ya",
        "outputId": "f1ed2fc1-c2e7-411d-92c1-29c47dc223b6"
      },
      "outputs": [
        {
          "output_type": "stream",
          "name": "stdout",
          "text": [
            "Looking in indexes: https://pypi.org/simple, https://us-python.pkg.dev/colab-wheels/public/simple/\n",
            "Collecting pyspark==3.0.0\n",
            "  Downloading pyspark-3.0.0.tar.gz (204.7 MB)\n",
            "\u001b[2K     \u001b[90m━━━━━━━━━━━━━━━━━━━━━━━━━━━━━━━━━━━━━━━\u001b[0m \u001b[32m204.7/204.7 MB\u001b[0m \u001b[31m5.8 MB/s\u001b[0m eta \u001b[36m0:00:00\u001b[0m\n",
            "\u001b[?25h  Preparing metadata (setup.py) ... \u001b[?25l\u001b[?25hdone\n",
            "Collecting py4j==0.10.9 (from pyspark==3.0.0)\n",
            "  Downloading py4j-0.10.9-py2.py3-none-any.whl (198 kB)\n",
            "\u001b[2K     \u001b[90m━━━━━━━━━━━━━━━━━━━━━━━━━━━━━━━━━━━━━━\u001b[0m \u001b[32m198.6/198.6 kB\u001b[0m \u001b[31m21.4 MB/s\u001b[0m eta \u001b[36m0:00:00\u001b[0m\n",
            "\u001b[?25hBuilding wheels for collected packages: pyspark\n",
            "  Building wheel for pyspark (setup.py) ... \u001b[?25l\u001b[?25hdone\n",
            "  Created wheel for pyspark: filename=pyspark-3.0.0-py2.py3-none-any.whl size=205044167 sha256=7f714581bd55d4645f1cd325d0c8a8aa75ba28ece4f4105e6f9f50befaae33bb\n",
            "  Stored in directory: /root/.cache/pip/wheels/b1/bb/8b/ca24d3f756f2ed967225b0871898869db676eb5846df5adc56\n",
            "Successfully built pyspark\n",
            "Installing collected packages: py4j, pyspark\n",
            "  Attempting uninstall: py4j\n",
            "    Found existing installation: py4j 0.10.9.7\n",
            "    Uninstalling py4j-0.10.9.7:\n",
            "      Successfully uninstalled py4j-0.10.9.7\n",
            "Successfully installed py4j-0.10.9 pyspark-3.0.0\n"
          ]
        }
      ],
      "source": [
        "#Install PySpark with latest version\n",
        "!pip install pyspark==3.0.0"
      ]
    },
    {
      "cell_type": "code",
      "execution_count": 8,
      "metadata": {
        "id": "OVQt0YWXuI5M",
        "colab": {
          "base_uri": "https://localhost:8080/"
        },
        "outputId": "3127be28-e905-414b-c6d5-730335b36889"
      },
      "outputs": [
        {
          "output_type": "stream",
          "name": "stdout",
          "text": [
            "Looking in indexes: https://pypi.org/simple, https://us-python.pkg.dev/colab-wheels/public/simple/\n",
            "Collecting findspark\n",
            "  Downloading findspark-2.0.1-py2.py3-none-any.whl (4.4 kB)\n",
            "Installing collected packages: findspark\n",
            "Successfully installed findspark-2.0.1\n"
          ]
        }
      ],
      "source": [
        "!pip install findspark\n",
        "import findspark\n",
        "findspark.init()"
      ]
    },
    {
      "cell_type": "code",
      "execution_count": 9,
      "metadata": {
        "id": "xuMziEEEuIwN"
      },
      "outputs": [],
      "source": [
        "from pyspark.sql import SparkSession, SQLContext\n",
        "spark = SparkSession.builder.master(\"local\").appName(\"Test Spark\").config(\"spark.some.config.option\", \"some-value\").getOrCreate()"
      ]
    },
    {
      "cell_type": "code",
      "source": [
        "sc = spark.sparkContext"
      ],
      "metadata": {
        "id": "Q8yHIVAY3l3g"
      },
      "execution_count": 10,
      "outputs": []
    },
    {
      "cell_type": "code",
      "source": [
        "spark"
      ],
      "metadata": {
        "colab": {
          "base_uri": "https://localhost:8080/",
          "height": 219
        },
        "id": "ewvjwee33nEI",
        "outputId": "8bbfb260-1704-459a-bdaf-074cfd8ed209"
      },
      "execution_count": 11,
      "outputs": [
        {
          "output_type": "execute_result",
          "data": {
            "text/plain": [
              "<pyspark.sql.session.SparkSession at 0x7f7dec619a80>"
            ],
            "text/html": [
              "\n",
              "            <div>\n",
              "                <p><b>SparkSession - in-memory</b></p>\n",
              "                \n",
              "        <div>\n",
              "            <p><b>SparkContext</b></p>\n",
              "\n",
              "            <p><a href=\"http://82cd146c4635:4040\">Spark UI</a></p>\n",
              "\n",
              "            <dl>\n",
              "              <dt>Version</dt>\n",
              "                <dd><code>v3.0.0</code></dd>\n",
              "              <dt>Master</dt>\n",
              "                <dd><code>local</code></dd>\n",
              "              <dt>AppName</dt>\n",
              "                <dd><code>Test Spark</code></dd>\n",
              "            </dl>\n",
              "        </div>\n",
              "        \n",
              "            </div>\n",
              "        "
            ]
          },
          "metadata": {},
          "execution_count": 11
        }
      ]
    },
    {
      "cell_type": "code",
      "source": [
        "#mount your drive\n",
        "from google.colab import drive\n",
        "drive.mount('/content/drive')"
      ],
      "metadata": {
        "colab": {
          "base_uri": "https://localhost:8080/"
        },
        "id": "losHHKsa46jH",
        "outputId": "1fd1acf8-aa24-443b-9b40-b234ad60b02c"
      },
      "execution_count": 12,
      "outputs": [
        {
          "output_type": "stream",
          "name": "stdout",
          "text": [
            "Mounted at /content/drive\n"
          ]
        }
      ]
    },
    {
      "cell_type": "code",
      "execution_count": 13,
      "metadata": {
        "id": "r1f0ksKNs8VX"
      },
      "outputs": [],
      "source": [
        "#Read the csv file\n",
        "df=spark.read.csv('/content/drive/MyDrive/Colab Notebooks/dataset/CKDDataSet.csv',inferSchema=True,header=True)"
      ]
    },
    {
      "cell_type": "code",
      "execution_count": 14,
      "metadata": {
        "colab": {
          "base_uri": "https://localhost:8080/"
        },
        "id": "YR_ma62Is8Sv",
        "outputId": "5c3bb8a0-ddda-4d27-9237-92e824f7243d"
      },
      "outputs": [
        {
          "output_type": "stream",
          "name": "stdout",
          "text": [
            "(500, 25)\n"
          ]
        }
      ],
      "source": [
        "#Check dimension's\n",
        "print((df.count(),len(df.columns)))"
      ]
    },
    {
      "cell_type": "code",
      "execution_count": 15,
      "metadata": {
        "colab": {
          "base_uri": "https://localhost:8080/"
        },
        "id": "UcAwea_cs8QU",
        "outputId": "2af5f839-d82e-44e3-9b4a-8a46d6d14f14"
      },
      "outputs": [
        {
          "output_type": "stream",
          "name": "stdout",
          "text": [
            "root\n",
            " |-- age: integer (nullable = true)\n",
            " |-- bp: integer (nullable = true)\n",
            " |-- sg: double (nullable = true)\n",
            " |-- al: integer (nullable = true)\n",
            " |-- su: integer (nullable = true)\n",
            " |-- rbc: integer (nullable = true)\n",
            " |-- pc: integer (nullable = true)\n",
            " |-- pcc: integer (nullable = true)\n",
            " |-- ba: integer (nullable = true)\n",
            " |-- bgr: integer (nullable = true)\n",
            " |-- bu: integer (nullable = true)\n",
            " |-- sc: double (nullable = true)\n",
            " |-- sod: integer (nullable = true)\n",
            " |-- pot: double (nullable = true)\n",
            " |-- hemo: double (nullable = true)\n",
            " |-- pcv: integer (nullable = true)\n",
            " |-- wc: integer (nullable = true)\n",
            " |-- rc: double (nullable = true)\n",
            " |-- htn: integer (nullable = true)\n",
            " |-- dm: integer (nullable = true)\n",
            " |-- cad: integer (nullable = true)\n",
            " |-- appet: integer (nullable = true)\n",
            " |-- pe: integer (nullable = true)\n",
            " |-- ane: integer (nullable = true)\n",
            " |-- predict: integer (nullable = true)\n",
            "\n"
          ]
        }
      ],
      "source": [
        "#Check for the schema\n",
        "df.printSchema()"
      ]
    },
    {
      "cell_type": "code",
      "execution_count": 16,
      "metadata": {
        "colab": {
          "base_uri": "https://localhost:8080/"
        },
        "id": "6G_aM0zss8N5",
        "outputId": "820fe1c5-e9cc-4f71-9805-6811dfd13b22"
      },
      "outputs": [
        {
          "output_type": "stream",
          "name": "stdout",
          "text": [
            "+---+---+-----+---+---+---+---+---+---+---+---+----+---+---+----+---+----+---+---+---+---+-----+---+---+-------+\n",
            "|age| bp|   sg| al| su|rbc| pc|pcc| ba|bgr| bu|  sc|sod|pot|hemo|pcv|  wc| rc|htn| dm|cad|appet| pe|ane|predict|\n",
            "+---+---+-----+---+---+---+---+---+---+---+---+----+---+---+----+---+----+---+---+---+---+-----+---+---+-------+\n",
            "| 40|150| 1.02|  1|  0|  1|  1|  0|  0|181| 96| 8.4|135|4.0|10.3| 44|7800|5.2|  1|  1|  0|    1|  0|  0|      1|\n",
            "| 45|140| 1.02|  4|  0|  1|  1|  0|  0|121| 73| 7.3|130|5.4| 9.4| 38|6000|3.9|  0|  0|  0|    1|  0|  1|      1|\n",
            "| 16|160| 1.02|  2|  3|  1|  1|  0|  0|423|111| 7.0|129|4.9|10.6| 31|7500|4.6|  0|  1|  0|    0|  0|  0|      1|\n",
            "| 18|140|1.005|  4|  0|  1|  0|  1|  0|106|119|11.6|131|5.5| 7.2| 32|6700|4.4|  1|  0|  0|    0|  1|  1|      1|\n",
            "| 51|170| 1.01|  2|  0|  1|  1|  1|  0| 66|144|16.0|128|5.6| 9.6| 35|7300|5.0|  0|  0|  0|    1|  0|  1|      1|\n",
            "+---+---+-----+---+---+---+---+---+---+---+---+----+---+---+----+---+----+---+---+---+---+-----+---+---+-------+\n",
            "only showing top 5 rows\n",
            "\n"
          ]
        }
      ],
      "source": [
        "#Top 5 records\n",
        "df.show(5)"
      ]
    },
    {
      "cell_type": "code",
      "execution_count": 17,
      "metadata": {
        "colab": {
          "base_uri": "https://localhost:8080/"
        },
        "id": "5Wie2lZWs8Lx",
        "outputId": "3386319b-29cf-4389-d635-760303858b60"
      },
      "outputs": [
        {
          "output_type": "execute_result",
          "data": {
            "text/plain": [
              "[('age', 'int'),\n",
              " ('bp', 'int'),\n",
              " ('sg', 'double'),\n",
              " ('al', 'int'),\n",
              " ('su', 'int'),\n",
              " ('rbc', 'int'),\n",
              " ('pc', 'int'),\n",
              " ('pcc', 'int'),\n",
              " ('ba', 'int'),\n",
              " ('bgr', 'int'),\n",
              " ('bu', 'int'),\n",
              " ('sc', 'double'),\n",
              " ('sod', 'int'),\n",
              " ('pot', 'double'),\n",
              " ('hemo', 'double'),\n",
              " ('pcv', 'int'),\n",
              " ('wc', 'int'),\n",
              " ('rc', 'double'),\n",
              " ('htn', 'int'),\n",
              " ('dm', 'int'),\n",
              " ('cad', 'int'),\n",
              " ('appet', 'int'),\n",
              " ('pe', 'int'),\n",
              " ('ane', 'int'),\n",
              " ('predict', 'int')]"
            ]
          },
          "metadata": {},
          "execution_count": 17
        }
      ],
      "source": [
        "#Datatypes of the columns\n",
        "df.dtypes"
      ]
    },
    {
      "cell_type": "code",
      "execution_count": 18,
      "metadata": {
        "id": "0wq3utJqs8JW"
      },
      "outputs": [],
      "source": [
        "#Drop unwanted columns\n",
        "#my_data = df.drop(*['contact', 'day', 'month','default'])\n",
        "my_data = df.alias('my_data')\n",
        "#my_data = df.copy()"
      ]
    },
    {
      "cell_type": "code",
      "execution_count": 19,
      "metadata": {
        "colab": {
          "base_uri": "https://localhost:8080/"
        },
        "id": "qYTGFHeCs8HG",
        "outputId": "fbbf313b-a406-459b-c75a-e19871b6de17"
      },
      "outputs": [
        {
          "output_type": "execute_result",
          "data": {
            "text/plain": [
              "(500, 25)"
            ]
          },
          "metadata": {},
          "execution_count": 19
        }
      ],
      "source": [
        "# get the dimensions of the data\n",
        "(my_data.count() , len(my_data.columns))"
      ]
    },
    {
      "cell_type": "code",
      "execution_count": 20,
      "metadata": {
        "colab": {
          "base_uri": "https://localhost:8080/"
        },
        "id": "rwzTlY6Es8Eu",
        "outputId": "2dc8900e-d36c-43b0-ed0d-bda0318fbc84"
      },
      "outputs": [
        {
          "output_type": "stream",
          "name": "stdout",
          "text": [
            "+-------+------------------+-----------------+--------------------+------------------+------------------+-----------------+------------------+------------------+------------------+-----------------+----------------+-----------------+----------------+------------------+------------------+-----------------+------------------+------------------+-------------------+-------------------+-------------------+------------------+------------------+-------------------+-------------------+\n",
            "|summary|               age|               bp|                  sg|                al|                su|              rbc|                pc|               pcc|                ba|              bgr|              bu|               sc|             sod|               pot|              hemo|              pcv|                wc|                rc|                htn|                 dm|                cad|             appet|                pe|                ane|            predict|\n",
            "+-------+------------------+-----------------+--------------------+------------------+------------------+-----------------+------------------+------------------+------------------+-----------------+----------------+-----------------+----------------+------------------+------------------+-----------------+------------------+------------------+-------------------+-------------------+-------------------+------------------+------------------+-------------------+-------------------+\n",
            "|  count|               500|              500|                 499|               500|               500|              500|               500|               500|               500|              500|             500|              500|             500|               500|               500|              500|               500|               500|                498|                500|                500|               500|               500|                500|                500|\n",
            "|   mean|             44.48|          122.026|  1.0177054108216348|             1.166|             0.662|            0.688|             0.624|             0.092|             0.176|          151.122|         116.456| 6.87179999999999|          135.71| 4.818400000000007|11.386399999999998|           36.974|            7953.6|4.4718000000000035|0.42570281124497994|              0.368|              0.144|             0.738|              0.27|                0.4|              0.698|\n",
            "| stddev|13.930172267376946|37.65140875402032|0.007538082084163...|1.4583200591055385|1.1927284696882237|0.463773837494839|0.4848651239022598|0.2893154106051512|0.3812015598846851|80.98600237795614|80.5096993372522|5.520457922250896|6.09821912963994|0.7732640652644216| 3.006168514617326|8.490081682407299|2351.4986991841033| 0.962245599203434| 0.4949462991744936|0.48274432587896526|0.35144134936584814|0.4401630231788533|0.6146996920634058|0.49038858257900686|0.45958507033382573|\n",
            "|    min|                14|               10|               1.005|                 0|                 0|                0|                 0|                 0|                 0|               66|              10|              0.4|             125|               3.2|               5.6|               16|              3800|               2.6|                  0|                  0|                  0|                 0|                 0|                  0|                  0|\n",
            "|    max|                81|              170|               1.025|                 4|                 4|                1|                 1|                 1|                 1|              490|             914|             18.8|             150|               6.7|              17.5|               54|             21600|               6.5|                  1|                  1|                  1|                 1|                10|                  1|                  1|\n",
            "+-------+------------------+-----------------+--------------------+------------------+------------------+-----------------+------------------+------------------+------------------+-----------------+----------------+-----------------+----------------+------------------+------------------+-----------------+------------------+------------------+-------------------+-------------------+-------------------+------------------+------------------+-------------------+-------------------+\n",
            "\n"
          ]
        }
      ],
      "source": [
        "my_data.describe().show()"
      ]
    },
    {
      "cell_type": "code",
      "execution_count": 21,
      "metadata": {
        "colab": {
          "base_uri": "https://localhost:8080/"
        },
        "id": "7vPTjJTXs8CR",
        "outputId": "6647fa28-42c6-4283-fdef-2fa4dcac149d"
      },
      "outputs": [
        {
          "output_type": "stream",
          "name": "stdout",
          "text": [
            "+---+---+---+---+---+---+---+---+---+---+---+---+---+---+----+---+---+---+---+---+---+-----+---+---+-------+\n",
            "|age| bp| sg| al| su|rbc| pc|pcc| ba|bgr| bu| sc|sod|pot|hemo|pcv| wc| rc|htn| dm|cad|appet| pe|ane|predict|\n",
            "+---+---+---+---+---+---+---+---+---+---+---+---+---+---+----+---+---+---+---+---+---+-----+---+---+-------+\n",
            "|  0|  0|  1|  0|  0|  0|  0|  0|  0|  0|  0|  0|  0|  0|   0|  0|  0|  0|  2|  0|  0|    0|  0|  0|      0|\n",
            "+---+---+---+---+---+---+---+---+---+---+---+---+---+---+----+---+---+---+---+---+---+-----+---+---+-------+\n",
            "\n"
          ]
        }
      ],
      "source": [
        "# import sql function pyspark\n",
        "import pyspark.sql.functions as f\n",
        "\n",
        "# null values in each column\n",
        "data_agg = my_data.agg(*[f.count(f.when(f.isnull(c), c)).alias(c) for c in my_data.columns])\n",
        "data_agg.show()"
      ]
    },
    {
      "cell_type": "code",
      "execution_count": 22,
      "metadata": {
        "id": "FLBQWcPYs7_o",
        "colab": {
          "base_uri": "https://localhost:8080/"
        },
        "outputId": "d0d38ebf-5757-45df-a491-58916831f245"
      },
      "outputs": [
        {
          "output_type": "stream",
          "name": "stdout",
          "text": [
            "+---+-----+\n",
            "|rbc|count|\n",
            "+---+-----+\n",
            "|  1|  344|\n",
            "|  0|  156|\n",
            "+---+-----+\n",
            "\n",
            "\n",
            "+---+-----+\n",
            "| pc|count|\n",
            "+---+-----+\n",
            "|  1|  312|\n",
            "|  0|  188|\n",
            "+---+-----+\n",
            "\n",
            "\n",
            "+---+-----+\n",
            "|pcc|count|\n",
            "+---+-----+\n",
            "|  1|   46|\n",
            "|  0|  454|\n",
            "+---+-----+\n",
            "\n",
            "\n",
            "+---+-----+\n",
            "| ba|count|\n",
            "+---+-----+\n",
            "|  1|   88|\n",
            "|  0|  412|\n",
            "+---+-----+\n",
            "\n",
            "\n",
            "+----+-----+\n",
            "| htn|count|\n",
            "+----+-----+\n",
            "|null|    2|\n",
            "|   1|  212|\n",
            "|   0|  286|\n",
            "+----+-----+\n",
            "\n",
            "\n",
            "+---+-----+\n",
            "| dm|count|\n",
            "+---+-----+\n",
            "|  1|  184|\n",
            "|  0|  316|\n",
            "+---+-----+\n",
            "\n",
            "\n",
            "+---+-----+\n",
            "|cad|count|\n",
            "+---+-----+\n",
            "|  1|   72|\n",
            "|  0|  428|\n",
            "+---+-----+\n",
            "\n",
            "\n",
            "+-----+-----+\n",
            "|appet|count|\n",
            "+-----+-----+\n",
            "|    1|  369|\n",
            "|    0|  131|\n",
            "+-----+-----+\n",
            "\n",
            "\n",
            "+---+-----+\n",
            "| pe|count|\n",
            "+---+-----+\n",
            "|  1|  125|\n",
            "| 10|    1|\n",
            "|  0|  374|\n",
            "+---+-----+\n",
            "\n",
            "\n",
            "+---+-----+\n",
            "|ane|count|\n",
            "+---+-----+\n",
            "|  1|  200|\n",
            "|  0|  300|\n",
            "+---+-----+\n",
            "\n",
            "\n",
            "+-------+-----+\n",
            "|predict|count|\n",
            "+-------+-----+\n",
            "|      1|  349|\n",
            "|      0|  151|\n",
            "+-------+-----+\n",
            "\n",
            "\n"
          ]
        }
      ],
      "source": [
        "# value counts of columns\n",
        "my_data.groupBy('rbc').count().show()\n",
        "print()\n",
        "my_data.groupBy('pc').count().show()\n",
        "print()\n",
        "my_data.groupBy('pcc').count().show()\n",
        "print()\n",
        "my_data.groupBy('ba').count().show()\n",
        "print()\n",
        "my_data.groupBy('htn').count().show()\n",
        "print()\n",
        "my_data.groupBy('dm').count().show()\n",
        "print()\n",
        "my_data.groupBy('cad').count().show()\n",
        "print()\n",
        "my_data.groupBy('appet').count().show()\n",
        "print()\n",
        "my_data.groupBy('pe').count().show()\n",
        "print()\n",
        "my_data.groupBy('ane').count().show()\n",
        "print()\n",
        "my_data.groupBy('predict').count().show()\n",
        "print()"
      ]
    },
    {
      "cell_type": "code",
      "execution_count": 23,
      "metadata": {
        "colab": {
          "base_uri": "https://localhost:8080/"
        },
        "id": "V2tdizyc0QAt",
        "outputId": "7aeb4644-6527-4c42-c640-d5a9864f111f"
      },
      "outputs": [
        {
          "output_type": "execute_result",
          "data": {
            "text/plain": [
              "[('age', 'int'),\n",
              " ('bp', 'int'),\n",
              " ('sg', 'double'),\n",
              " ('al', 'int'),\n",
              " ('su', 'int'),\n",
              " ('rbc', 'int'),\n",
              " ('pc', 'int'),\n",
              " ('pcc', 'int'),\n",
              " ('ba', 'int'),\n",
              " ('bgr', 'int'),\n",
              " ('bu', 'int'),\n",
              " ('sc', 'double'),\n",
              " ('sod', 'int'),\n",
              " ('pot', 'double'),\n",
              " ('hemo', 'double'),\n",
              " ('pcv', 'int'),\n",
              " ('wc', 'int'),\n",
              " ('rc', 'double'),\n",
              " ('htn', 'int'),\n",
              " ('dm', 'int'),\n",
              " ('cad', 'int'),\n",
              " ('appet', 'int'),\n",
              " ('pe', 'int'),\n",
              " ('ane', 'int'),\n",
              " ('predict', 'int')]"
            ]
          },
          "metadata": {},
          "execution_count": 23
        }
      ],
      "source": [
        "my_data.dtypes"
      ]
    },
    {
      "cell_type": "code",
      "execution_count": 24,
      "metadata": {
        "id": "F0krivrR0P49",
        "colab": {
          "base_uri": "https://localhost:8080/"
        },
        "outputId": "9f25444b-90fc-403f-f0d2-dc228507ad1e"
      },
      "outputs": [
        {
          "output_type": "execute_result",
          "data": {
            "text/plain": [
              "['age',\n",
              " 'bp',\n",
              " 'sg',\n",
              " 'al',\n",
              " 'su',\n",
              " 'rbc',\n",
              " 'pc',\n",
              " 'pcc',\n",
              " 'ba',\n",
              " 'bgr',\n",
              " 'bu',\n",
              " 'sc',\n",
              " 'sod',\n",
              " 'pot',\n",
              " 'hemo',\n",
              " 'pcv',\n",
              " 'wc',\n",
              " 'rc',\n",
              " 'htn',\n",
              " 'dm',\n",
              " 'cad',\n",
              " 'appet',\n",
              " 'pe',\n",
              " 'ane',\n",
              " 'predict']"
            ]
          },
          "metadata": {},
          "execution_count": 24
        }
      ],
      "source": [
        "my_data.columns"
      ]
    },
    {
      "cell_type": "code",
      "execution_count": 25,
      "metadata": {
        "id": "6jWj6KUW0P2e"
      },
      "outputs": [],
      "source": [
        "from pyspark.ml.feature import VectorAssembler\n",
        "\n",
        "# specify the input and output columns of the vector assembler\n",
        "assembler = VectorAssembler(inputCols=['age',\n",
        " 'bp',\n",
        " 'sg',\n",
        " 'al',\n",
        " 'su',\n",
        " 'rbc',\n",
        " 'pc',\n",
        " 'pcc',\n",
        " 'ba',\n",
        " 'bgr',\n",
        " 'bu',\n",
        " 'sc',\n",
        " 'sod',\n",
        " 'pot',\n",
        " 'hemo',\n",
        " 'pcv',\n",
        " 'wc',\n",
        " 'rc',\n",
        " 'htn',\n",
        " 'dm',\n",
        " 'cad',\n",
        " 'appet',\n",
        " 'pe',\n",
        " 'ane',\n",
        "                                       ],\n",
        "                           outputCol='features')\n",
        "\n",
        "# fill the null values\n",
        "my_data = my_data.fillna(0)\n",
        "\n",
        "# transform the data\n",
        "final_data = assembler.transform(my_data)"
      ]
    },
    {
      "cell_type": "code",
      "execution_count": 26,
      "metadata": {
        "id": "-nYmEbZ10Pz3",
        "colab": {
          "base_uri": "https://localhost:8080/"
        },
        "outputId": "e9fa2fb4-8d8e-4266-a1c6-adc05556420b"
      },
      "outputs": [
        {
          "output_type": "stream",
          "name": "stdout",
          "text": [
            "+--------------------+-------+\n",
            "|            features|predict|\n",
            "+--------------------+-------+\n",
            "|[40.0,150.0,1.02,...|      1|\n",
            "|[45.0,140.0,1.02,...|      1|\n",
            "|[16.0,160.0,1.02,...|      1|\n",
            "|[18.0,140.0,1.005...|      1|\n",
            "|[51.0,170.0,1.01,...|      1|\n",
            "|[30.0,160.0,1.015...|      1|\n",
            "|[25.0,170.0,1.01,...|      1|\n",
            "|[35.0,120.0,1.015...|      1|\n",
            "|[37.0,130.0,1.02,...|      1|\n",
            "|[40.0,130.0,1.025...|      1|\n",
            "|[35.0,120.0,1.01,...|      1|\n",
            "|[28.0,100.0,1.015...|      1|\n",
            "|[60.0,160.0,1.01,...|      1|\n",
            "|[20.0,130.0,1.015...|      1|\n",
            "|[20.0,150.0,1.025...|      1|\n",
            "|[20.0,140.0,1.025...|      1|\n",
            "|[40.0,130.0,1.02,...|      1|\n",
            "|[45.0,120.0,1.02,...|      1|\n",
            "|[51.0,140.0,1.02,...|      1|\n",
            "|[22.0,120.0,1.02,...|      1|\n",
            "+--------------------+-------+\n",
            "only showing top 20 rows\n",
            "\n"
          ]
        }
      ],
      "source": [
        "# view the transformed vector\n",
        "final_data.select('features','predict').show()"
      ]
    },
    {
      "cell_type": "code",
      "execution_count": 27,
      "metadata": {
        "colab": {
          "base_uri": "https://localhost:8080/"
        },
        "id": "Yy9LB-c20PxM",
        "outputId": "4f3d3e86-b8d2-4f42-a16a-f14b701d4ebb"
      },
      "outputs": [
        {
          "output_type": "stream",
          "name": "stdout",
          "text": [
            "root\n",
            " |-- features: vector (nullable = true)\n",
            " |-- label: integer (nullable = true)\n",
            "\n"
          ]
        }
      ],
      "source": [
        "#Model_Dataframe\n",
        "model_df = final_data.select(['features','predict'])\n",
        "model_df = model_df.withColumnRenamed(\"predict\",\"label\")\n",
        "model_df.printSchema()"
      ]
    },
    {
      "cell_type": "code",
      "execution_count": 28,
      "metadata": {
        "id": "dktB_Luajbkb"
      },
      "outputs": [],
      "source": [
        "\n",
        "#Split into training & testing Dataframe\n",
        "training_df,test_df = model_df.randomSplit([0.75,0.25])"
      ]
    },
    {
      "cell_type": "code",
      "source": [
        "#Create a logistic regression model object\n",
        "from pyspark.ml.classification import LogisticRegression\n",
        "log_reg=LogisticRegression().fit(training_df)"
      ],
      "metadata": {
        "id": "6jlFJEna7qAs"
      },
      "execution_count": 29,
      "outputs": []
    },
    {
      "cell_type": "code",
      "source": [
        "lr_summary=log_reg.summary"
      ],
      "metadata": {
        "id": "tqwrivV17p92"
      },
      "execution_count": 30,
      "outputs": []
    },
    {
      "cell_type": "code",
      "source": [
        "#Overall accuracy of the classification model\n",
        "lr_summary.accuracy"
      ],
      "metadata": {
        "id": "d_DNJu8C7p6D",
        "colab": {
          "base_uri": "https://localhost:8080/"
        },
        "outputId": "54649b63-87dd-4013-f1fb-2c6d4dcd4637"
      },
      "execution_count": 31,
      "outputs": [
        {
          "output_type": "execute_result",
          "data": {
            "text/plain": [
              "1.0"
            ]
          },
          "metadata": {},
          "execution_count": 31
        }
      ]
    },
    {
      "cell_type": "code",
      "source": [
        "#Precision of both classes\n",
        "print(lr_summary.precisionByLabel)"
      ],
      "metadata": {
        "id": "qjWvI9tJ7p2w",
        "colab": {
          "base_uri": "https://localhost:8080/"
        },
        "outputId": "0dc9c170-c240-466d-c679-05654a5ecdd7"
      },
      "execution_count": 32,
      "outputs": [
        {
          "output_type": "stream",
          "name": "stdout",
          "text": [
            "[1.0, 1.0]\n"
          ]
        }
      ]
    },
    {
      "cell_type": "code",
      "source": [
        "#Get Preditions\n",
        "predictions = log_reg.transform(test_df)"
      ],
      "metadata": {
        "id": "1cNfpCza7py_"
      },
      "execution_count": 33,
      "outputs": []
    },
    {
      "cell_type": "code",
      "source": [
        "\n",
        "predictions.select('label','prediction').show(50)"
      ],
      "metadata": {
        "id": "iECKtBrI7pwT",
        "colab": {
          "base_uri": "https://localhost:8080/"
        },
        "outputId": "39eccf8d-adb8-4c68-e045-6fdb0fce05e0"
      },
      "execution_count": 34,
      "outputs": [
        {
          "output_type": "stream",
          "name": "stdout",
          "text": [
            "+-----+----------+\n",
            "|label|prediction|\n",
            "+-----+----------+\n",
            "|    1|       1.0|\n",
            "|    1|       1.0|\n",
            "|    1|       1.0|\n",
            "|    1|       1.0|\n",
            "|    1|       1.0|\n",
            "|    1|       1.0|\n",
            "|    1|       1.0|\n",
            "|    0|       0.0|\n",
            "|    1|       1.0|\n",
            "|    1|       1.0|\n",
            "|    1|       1.0|\n",
            "|    1|       1.0|\n",
            "|    1|       1.0|\n",
            "|    1|       1.0|\n",
            "|    1|       1.0|\n",
            "|    0|       0.0|\n",
            "|    0|       0.0|\n",
            "|    1|       1.0|\n",
            "|    0|       0.0|\n",
            "|    1|       1.0|\n",
            "|    0|       0.0|\n",
            "|    1|       1.0|\n",
            "|    1|       1.0|\n",
            "|    1|       1.0|\n",
            "|    1|       1.0|\n",
            "|    1|       1.0|\n",
            "|    1|       1.0|\n",
            "|    0|       0.0|\n",
            "|    0|       0.0|\n",
            "|    0|       0.0|\n",
            "|    1|       1.0|\n",
            "|    1|       1.0|\n",
            "|    1|       1.0|\n",
            "|    1|       1.0|\n",
            "|    1|       1.0|\n",
            "|    1|       1.0|\n",
            "|    1|       1.0|\n",
            "|    0|       0.0|\n",
            "|    1|       1.0|\n",
            "|    1|       1.0|\n",
            "|    1|       1.0|\n",
            "|    0|       0.0|\n",
            "|    0|       0.0|\n",
            "|    0|       0.0|\n",
            "|    1|       1.0|\n",
            "|    0|       0.0|\n",
            "|    1|       1.0|\n",
            "|    1|       1.0|\n",
            "|    1|       1.0|\n",
            "|    0|       0.0|\n",
            "+-----+----------+\n",
            "only showing top 50 rows\n",
            "\n"
          ]
        }
      ]
    },
    {
      "cell_type": "code",
      "source": [
        "from pyspark.ml.regression import DecisionTreeRegressor\n",
        "from pyspark.ml.evaluation import MulticlassClassificationEvaluator"
      ],
      "metadata": {
        "id": "v0_wwJHv7psr"
      },
      "execution_count": 42,
      "outputs": []
    },
    {
      "cell_type": "code",
      "source": [
        "log_reg=DecisionTreeRegressor().fit(training_df)"
      ],
      "metadata": {
        "id": "qN36IE197pps"
      },
      "execution_count": 43,
      "outputs": []
    },
    {
      "cell_type": "code",
      "source": [
        "test_df.show(truncate=False)"
      ],
      "metadata": {
        "id": "H3Bjp5w17pmW",
        "colab": {
          "base_uri": "https://localhost:8080/"
        },
        "outputId": "90262a40-a72f-45fa-ec72-0b2b545f1019"
      },
      "execution_count": 44,
      "outputs": [
        {
          "output_type": "stream",
          "name": "stdout",
          "text": [
            "+----------------------------------------------------------------------------------------------------------------------+-----+\n",
            "|features                                                                                                              |label|\n",
            "+----------------------------------------------------------------------------------------------------------------------+-----+\n",
            "|(24,[0,1,2,3,4,9,10,11,12,13,14,15,16,17],[42.0,170.0,1.005,4.0,2.0,109.0,204.0,18.4,131.0,5.5,10.9,24.0,5300.0,4.6]) |1    |\n",
            "|(24,[0,1,2,4,8,9,10,11,12,13,14,15,16,17],[61.0,150.0,1.025,2.0,1.0,129.0,153.0,10.5,130.0,5.6,10.7,33.0,12100.0,5.2])|1    |\n",
            "|(24,[0,1,2,5,9,10,11,12,13,14,15,16,17,18],[38.0,170.0,1.025,1.0,273.0,102.0,7.1,135.0,4.0,12.9,36.0,6900.0,3.7,1.0]) |1    |\n",
            "|(24,[0,1,2,7,9,10,11,12,13,14,15,16,17,19],[29.0,130.0,1.025,1.0,153.0,158.0,8.0,145.0,4.9,11.9,42.0,5300.0,5.0,1.0]) |1    |\n",
            "|[18.0,140.0,1.005,4.0,0.0,1.0,0.0,1.0,0.0,106.0,119.0,11.6,131.0,5.5,7.2,32.0,6700.0,4.4,1.0,0.0,0.0,0.0,1.0,1.0]     |1    |\n",
            "|[18.0,160.0,1.005,0.0,0.0,1.0,0.0,0.0,0.0,250.0,105.0,5.6,130.0,4.5,10.1,29.0,7100.0,3.4,1.0,1.0,0.0,1.0,0.0,0.0]     |1    |\n",
            "|[19.0,120.0,1.02,2.0,0.0,1.0,1.0,0.0,0.0,447.0,132.0,8.0,141.0,3.9,15.0,32.0,9200.0,4.4,1.0,1.0,0.0,1.0,0.0,0.0]      |1    |\n",
            "|[20.0,70.0,1.02,0.0,0.0,1.0,1.0,0.0,0.0,133.0,48.0,1.2,147.0,4.3,14.6,44.0,5500.0,4.5,0.0,0.0,0.0,1.0,0.0,0.0]        |0    |\n",
            "|[22.0,120.0,1.02,0.0,3.0,1.0,1.0,1.0,0.0,114.0,204.0,18.4,129.0,4.1,11.6,32.0,9200.0,4.4,1.0,1.0,1.0,1.0,0.0,0.0]     |1    |\n",
            "|[23.0,150.0,1.01,0.0,1.0,1.0,1.0,0.0,0.0,255.0,249.0,5.9,135.0,5.5,10.3,29.0,8300.0,5.2,1.0,1.0,0.0,0.0,0.0,0.0]      |1    |\n",
            "|[23.0,170.0,1.025,1.0,3.0,0.0,0.0,0.0,0.0,208.0,204.0,5.9,130.0,5.6,8.4,33.0,5300.0,3.2,1.0,1.0,0.0,0.0,1.0,1.0]      |1    |\n",
            "|[24.0,160.0,1.005,0.0,1.0,1.0,0.0,0.0,0.0,138.0,182.0,14.8,133.0,5.4,7.1,36.0,6900.0,3.7,0.0,0.0,0.0,1.0,0.0,1.0]     |1    |\n",
            "|[25.0,120.0,1.02,2.0,4.0,1.0,1.0,1.0,0.0,131.0,249.0,5.2,130.0,5.3,7.0,37.0,6900.0,5.2,1.0,0.0,0.0,1.0,1.0,1.0]       |1    |\n",
            "|[25.0,150.0,1.01,4.0,2.0,0.0,0.0,0.0,0.0,76.0,167.0,14.7,131.0,5.5,7.9,37.0,6900.0,5.2,1.0,0.0,0.0,1.0,1.0,1.0]       |1    |\n",
            "|[25.0,150.0,1.02,0.0,1.0,1.0,0.0,0.0,1.0,91.0,190.0,9.7,130.0,4.2,10.6,44.0,11000.0,5.0,1.0,0.0,0.0,1.0,0.0,0.0]      |1    |\n",
            "|[28.0,60.0,1.02,0.0,0.0,1.0,1.0,0.0,0.0,130.0,37.0,0.9,150.0,5.0,15.9,48.0,7200.0,6.5,0.0,0.0,0.0,1.0,0.0,0.0]        |0    |\n",
            "|[28.0,70.0,1.025,0.0,0.0,1.0,1.0,0.0,0.0,88.0,50.0,0.6,147.0,3.7,15.4,49.0,8300.0,4.6,0.0,0.0,0.0,1.0,0.0,0.0]        |0    |\n",
            "|[28.0,100.0,1.015,3.0,0.0,0.0,0.0,0.0,0.0,138.0,119.0,11.6,135.0,4.0,8.1,32.0,3800.0,4.3,1.0,0.0,0.0,1.0,1.0,1.0]     |1    |\n",
            "|[29.0,70.0,1.02,0.0,0.0,1.0,1.0,0.0,0.0,78.0,17.0,0.4,147.0,4.7,16.9,46.0,8400.0,6.1,0.0,0.0,0.0,1.0,0.0,0.0]         |0    |\n",
            "|[29.0,150.0,1.01,0.0,0.0,0.0,1.0,0.0,0.0,84.0,143.0,6.2,141.0,5.0,8.1,29.0,12200.0,2.6,1.0,0.0,0.0,1.0,0.0,1.0]       |1    |\n",
            "+----------------------------------------------------------------------------------------------------------------------+-----+\n",
            "only showing top 20 rows\n",
            "\n"
          ]
        }
      ]
    },
    {
      "cell_type": "code",
      "source": [
        "#Get Preditions\n",
        "predictions = log_reg.transform(test_df)"
      ],
      "metadata": {
        "id": "2u1wTGcB7pf8"
      },
      "execution_count": 45,
      "outputs": []
    },
    {
      "cell_type": "code",
      "source": [
        "predictions.show()"
      ],
      "metadata": {
        "colab": {
          "base_uri": "https://localhost:8080/"
        },
        "id": "Sfs5XY0kn5zc",
        "outputId": "4ab37c9e-5270-4f35-9058-4c79f990064f"
      },
      "execution_count": 46,
      "outputs": [
        {
          "output_type": "stream",
          "name": "stdout",
          "text": [
            "+--------------------+-----+----------+\n",
            "|            features|label|prediction|\n",
            "+--------------------+-----+----------+\n",
            "|(24,[0,1,2,3,4,9,...|    1|       1.0|\n",
            "|(24,[0,1,2,4,8,9,...|    1|       1.0|\n",
            "|(24,[0,1,2,5,9,10...|    1|       1.0|\n",
            "|(24,[0,1,2,7,9,10...|    1|       1.0|\n",
            "|[18.0,140.0,1.005...|    1|       1.0|\n",
            "|[18.0,160.0,1.005...|    1|       1.0|\n",
            "|[19.0,120.0,1.02,...|    1|       1.0|\n",
            "|[20.0,70.0,1.02,0...|    0|       0.0|\n",
            "|[22.0,120.0,1.02,...|    1|       1.0|\n",
            "|[23.0,150.0,1.01,...|    1|       1.0|\n",
            "|[23.0,170.0,1.025...|    1|       1.0|\n",
            "|[24.0,160.0,1.005...|    1|       1.0|\n",
            "|[25.0,120.0,1.02,...|    1|       1.0|\n",
            "|[25.0,150.0,1.01,...|    1|       1.0|\n",
            "|[25.0,150.0,1.02,...|    1|       1.0|\n",
            "|[28.0,60.0,1.02,0...|    0|       0.0|\n",
            "|[28.0,70.0,1.025,...|    0|       0.0|\n",
            "|[28.0,100.0,1.015...|    1|       1.0|\n",
            "|[29.0,70.0,1.02,0...|    0|       0.0|\n",
            "|[29.0,150.0,1.01,...|    1|       1.0|\n",
            "+--------------------+-----+----------+\n",
            "only showing top 20 rows\n",
            "\n"
          ]
        }
      ]
    },
    {
      "cell_type": "code",
      "source": [
        "df_accuracy = MulticlassClassificationEvaluator(labelCol=\"label\",\n",
        "                                                metricName=\"accuracy\").evaluate(predictions)"
      ],
      "metadata": {
        "id": "LyhhFJXXn_mg"
      },
      "execution_count": 47,
      "outputs": []
    },
    {
      "cell_type": "code",
      "source": [
        "df_accuracy"
      ],
      "metadata": {
        "colab": {
          "base_uri": "https://localhost:8080/"
        },
        "id": "_dXfZwuEo7S6",
        "outputId": "2115d5c3-0f8c-4909-d630-0619813c7ba7"
      },
      "execution_count": 48,
      "outputs": [
        {
          "output_type": "execute_result",
          "data": {
            "text/plain": [
              "1.0"
            ]
          },
          "metadata": {},
          "execution_count": 48
        }
      ]
    },
    {
      "cell_type": "code",
      "source": [
        "# Random Forest\n",
        "from pyspark.ml.classification import RandomForestClassifier"
      ],
      "metadata": {
        "id": "s7DsxsNfpVS5"
      },
      "execution_count": 49,
      "outputs": []
    },
    {
      "cell_type": "code",
      "source": [
        "rf_classififer = RandomForestClassifier(labelCol=\"label\",\n",
        "                                        numTrees=50).fit(training_df)"
      ],
      "metadata": {
        "id": "Z2mXxEsppelV"
      },
      "execution_count": 58,
      "outputs": []
    },
    {
      "cell_type": "code",
      "source": [
        "rf_prediction = rf_classififer.transform(test_df)"
      ],
      "metadata": {
        "id": "qZYGPu-crXZz"
      },
      "execution_count": 60,
      "outputs": []
    },
    {
      "cell_type": "code",
      "source": [
        "rf_prediction.show()"
      ],
      "metadata": {
        "colab": {
          "base_uri": "https://localhost:8080/"
        },
        "id": "K4J_l0DGsAXJ",
        "outputId": "cd9088be-22c1-494c-980b-2e24deecfd9e"
      },
      "execution_count": 63,
      "outputs": [
        {
          "output_type": "stream",
          "name": "stdout",
          "text": [
            "+--------------------+-----+-------------+-----------+----------+\n",
            "|            features|label|rawPrediction|probability|prediction|\n",
            "+--------------------+-----+-------------+-----------+----------+\n",
            "|(24,[0,1,2,3,4,9,...|    1|   [0.0,50.0]|  [0.0,1.0]|       1.0|\n",
            "|(24,[0,1,2,4,8,9,...|    1|   [0.0,50.0]|  [0.0,1.0]|       1.0|\n",
            "|(24,[0,1,2,5,9,10...|    1|   [0.0,50.0]|  [0.0,1.0]|       1.0|\n",
            "|(24,[0,1,2,7,9,10...|    1|   [0.0,50.0]|  [0.0,1.0]|       1.0|\n",
            "|[18.0,140.0,1.005...|    1|   [0.0,50.0]|  [0.0,1.0]|       1.0|\n",
            "|[18.0,160.0,1.005...|    1|   [0.0,50.0]|  [0.0,1.0]|       1.0|\n",
            "|[19.0,120.0,1.02,...|    1|   [2.0,48.0]|[0.04,0.96]|       1.0|\n",
            "|[20.0,70.0,1.02,0...|    0|   [50.0,0.0]|  [1.0,0.0]|       0.0|\n",
            "|[22.0,120.0,1.02,...|    1|   [0.0,50.0]|  [0.0,1.0]|       1.0|\n",
            "|[23.0,150.0,1.01,...|    1|   [0.0,50.0]|  [0.0,1.0]|       1.0|\n",
            "|[23.0,170.0,1.025...|    1|   [0.0,50.0]|  [0.0,1.0]|       1.0|\n",
            "|[24.0,160.0,1.005...|    1|   [0.0,50.0]|  [0.0,1.0]|       1.0|\n",
            "|[25.0,120.0,1.02,...|    1|   [0.0,50.0]|  [0.0,1.0]|       1.0|\n",
            "|[25.0,150.0,1.01,...|    1|   [0.0,50.0]|  [0.0,1.0]|       1.0|\n",
            "|[25.0,150.0,1.02,...|    1|   [0.0,50.0]|  [0.0,1.0]|       1.0|\n",
            "|[28.0,60.0,1.02,0...|    0|   [50.0,0.0]|  [1.0,0.0]|       0.0|\n",
            "|[28.0,70.0,1.025,...|    0|   [50.0,0.0]|  [1.0,0.0]|       0.0|\n",
            "|[28.0,100.0,1.015...|    1|   [0.0,50.0]|  [0.0,1.0]|       1.0|\n",
            "|[29.0,70.0,1.02,0...|    0|   [50.0,0.0]|  [1.0,0.0]|       0.0|\n",
            "|[29.0,150.0,1.01,...|    1|   [0.0,50.0]|  [0.0,1.0]|       1.0|\n",
            "+--------------------+-----+-------------+-----------+----------+\n",
            "only showing top 20 rows\n",
            "\n"
          ]
        }
      ]
    },
    {
      "cell_type": "code",
      "source": [
        "from pyspark.ml.evaluation import BinaryClassificationEvaluator"
      ],
      "metadata": {
        "id": "vkNlt2X0qJpz"
      },
      "execution_count": 52,
      "outputs": []
    },
    {
      "cell_type": "code",
      "source": [
        "rf_acu = BinaryClassificationEvaluator(labelCol=\"label\").evaluate(rf_prediction)"
      ],
      "metadata": {
        "id": "vkiOgCknqJmy"
      },
      "execution_count": 64,
      "outputs": []
    },
    {
      "cell_type": "code",
      "source": [
        "rf_acu"
      ],
      "metadata": {
        "colab": {
          "base_uri": "https://localhost:8080/"
        },
        "id": "LgpuVHTCqJkQ",
        "outputId": "eb29813e-73f3-4ee8-8279-e166d7a7c0d4"
      },
      "execution_count": 65,
      "outputs": [
        {
          "output_type": "execute_result",
          "data": {
            "text/plain": [
              "1.0"
            ]
          },
          "metadata": {},
          "execution_count": 65
        }
      ]
    },
    {
      "cell_type": "code",
      "source": [
        "df.columns"
      ],
      "metadata": {
        "colab": {
          "base_uri": "https://localhost:8080/"
        },
        "id": "YIWG6SXIsgHT",
        "outputId": "710bfcf1-faea-4e85-de68-bb013e5d2fd1"
      },
      "execution_count": 67,
      "outputs": [
        {
          "output_type": "execute_result",
          "data": {
            "text/plain": [
              "['age',\n",
              " 'bp',\n",
              " 'sg',\n",
              " 'al',\n",
              " 'su',\n",
              " 'rbc',\n",
              " 'pc',\n",
              " 'pcc',\n",
              " 'ba',\n",
              " 'bgr',\n",
              " 'bu',\n",
              " 'sc',\n",
              " 'sod',\n",
              " 'pot',\n",
              " 'hemo',\n",
              " 'pcv',\n",
              " 'wc',\n",
              " 'rc',\n",
              " 'htn',\n",
              " 'dm',\n",
              " 'cad',\n",
              " 'appet',\n",
              " 'pe',\n",
              " 'ane',\n",
              " 'predict']"
            ]
          },
          "metadata": {},
          "execution_count": 67
        }
      ]
    },
    {
      "cell_type": "code",
      "source": [
        "rf_classififer.featureImportances"
      ],
      "metadata": {
        "colab": {
          "base_uri": "https://localhost:8080/"
        },
        "id": "mXTDDNE6qJex",
        "outputId": "1f46654c-f2aa-476a-84ca-f33b877d3071"
      },
      "execution_count": 68,
      "outputs": [
        {
          "output_type": "execute_result",
          "data": {
            "text/plain": [
              "SparseVector(24, {1: 0.2369, 2: 0.0005, 3: 0.0006, 6: 0.0007, 8: 0.0003, 9: 0.0006, 10: 0.2059, 11: 0.2673, 12: 0.0092, 13: 0.0177, 14: 0.1085, 15: 0.0972, 17: 0.0303, 18: 0.018, 20: 0.0015, 21: 0.0022, 22: 0.001, 23: 0.0015})"
            ]
          },
          "metadata": {},
          "execution_count": 68
        }
      ]
    }
  ],
  "metadata": {
    "colab": {
      "provenance": []
    },
    "kernelspec": {
      "display_name": "Python 3",
      "name": "python3"
    },
    "language_info": {
      "name": "python"
    }
  },
  "nbformat": 4,
  "nbformat_minor": 0
}