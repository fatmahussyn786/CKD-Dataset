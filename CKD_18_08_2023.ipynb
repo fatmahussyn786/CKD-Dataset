{
  "cells": [
    {
      "cell_type": "code",
      "execution_count": null,
      "metadata": {
        "colab": {
          "base_uri": "https://localhost:8080/"
        },
        "id": "fSuWSu3DlOkO",
        "outputId": "bb04f213-473a-4ac4-f0fd-ca9fdcb76da5"
      },
      "outputs": [
        {
          "output_type": "stream",
          "name": "stdout",
          "text": [
            "Reading package lists... Done\n",
            "Building dependency tree... Done\n",
            "Reading state information... Done\n",
            "The following additional packages will be installed:\n",
            "  fonts-dejavu-core fonts-dejavu-extra libatk-wrapper-java\n",
            "  libatk-wrapper-java-jni libfontenc1 libice-dev libsm-dev libxkbfile1\n",
            "  libxt-dev libxtst6 libxxf86dga1 openjdk-11-jre x11-utils\n",
            "Suggested packages:\n",
            "  libice-doc libsm-doc libxt-doc openjdk-11-demo openjdk-11-source visualvm\n",
            "  mesa-utils\n",
            "The following NEW packages will be installed:\n",
            "  fonts-dejavu-core fonts-dejavu-extra libatk-wrapper-java\n",
            "  libatk-wrapper-java-jni libfontenc1 libice-dev libsm-dev libxkbfile1\n",
            "  libxt-dev libxtst6 libxxf86dga1 openjdk-11-jdk openjdk-11-jre x11-utils\n",
            "0 upgraded, 14 newly installed, 0 to remove and 16 not upgraded.\n",
            "Need to get 5,503 kB of archives.\n",
            "After this operation, 15.8 MB of additional disk space will be used.\n",
            "Get:1 http://archive.ubuntu.com/ubuntu jammy/main amd64 fonts-dejavu-core all 2.37-2build1 [1,041 kB]\n",
            "Get:2 http://archive.ubuntu.com/ubuntu jammy/main amd64 fonts-dejavu-extra all 2.37-2build1 [2,041 kB]\n",
            "Get:3 http://archive.ubuntu.com/ubuntu jammy/main amd64 libfontenc1 amd64 1:1.1.4-1build3 [14.7 kB]\n",
            "Get:4 http://archive.ubuntu.com/ubuntu jammy/main amd64 libxkbfile1 amd64 1:1.1.0-1build3 [71.8 kB]\n",
            "Get:5 http://archive.ubuntu.com/ubuntu jammy/main amd64 libxtst6 amd64 2:1.2.3-1build4 [13.4 kB]\n",
            "Get:6 http://archive.ubuntu.com/ubuntu jammy/main amd64 libxxf86dga1 amd64 2:1.1.5-0ubuntu3 [12.6 kB]\n",
            "Get:7 http://archive.ubuntu.com/ubuntu jammy/main amd64 x11-utils amd64 7.7+5build2 [206 kB]\n",
            "Get:8 http://archive.ubuntu.com/ubuntu jammy/main amd64 libatk-wrapper-java all 0.38.0-5build1 [53.1 kB]\n",
            "Get:9 http://archive.ubuntu.com/ubuntu jammy/main amd64 libatk-wrapper-java-jni amd64 0.38.0-5build1 [49.0 kB]\n",
            "Get:10 http://archive.ubuntu.com/ubuntu jammy/main amd64 libice-dev amd64 2:1.0.10-1build2 [51.4 kB]\n",
            "Get:11 http://archive.ubuntu.com/ubuntu jammy/main amd64 libsm-dev amd64 2:1.2.3-1build2 [18.1 kB]\n",
            "Get:12 http://archive.ubuntu.com/ubuntu jammy/main amd64 libxt-dev amd64 1:1.2.1-1 [396 kB]\n",
            "Get:13 http://archive.ubuntu.com/ubuntu jammy-updates/main amd64 openjdk-11-jre amd64 11.0.20+8-1ubuntu1~22.04 [213 kB]\n",
            "Get:14 http://archive.ubuntu.com/ubuntu jammy-updates/main amd64 openjdk-11-jdk amd64 11.0.20+8-1ubuntu1~22.04 [1,322 kB]\n",
            "Fetched 5,503 kB in 2s (3,007 kB/s)\n",
            "Selecting previously unselected package fonts-dejavu-core.\n",
            "(Reading database ... 120831 files and directories currently installed.)\n",
            "Preparing to unpack .../00-fonts-dejavu-core_2.37-2build1_all.deb ...\n",
            "Unpacking fonts-dejavu-core (2.37-2build1) ...\n",
            "Selecting previously unselected package fonts-dejavu-extra.\n",
            "Preparing to unpack .../01-fonts-dejavu-extra_2.37-2build1_all.deb ...\n",
            "Unpacking fonts-dejavu-extra (2.37-2build1) ...\n",
            "Selecting previously unselected package libfontenc1:amd64.\n",
            "Preparing to unpack .../02-libfontenc1_1%3a1.1.4-1build3_amd64.deb ...\n",
            "Unpacking libfontenc1:amd64 (1:1.1.4-1build3) ...\n",
            "Selecting previously unselected package libxkbfile1:amd64.\n",
            "Preparing to unpack .../03-libxkbfile1_1%3a1.1.0-1build3_amd64.deb ...\n",
            "Unpacking libxkbfile1:amd64 (1:1.1.0-1build3) ...\n",
            "Selecting previously unselected package libxtst6:amd64.\n",
            "Preparing to unpack .../04-libxtst6_2%3a1.2.3-1build4_amd64.deb ...\n",
            "Unpacking libxtst6:amd64 (2:1.2.3-1build4) ...\n",
            "Selecting previously unselected package libxxf86dga1:amd64.\n",
            "Preparing to unpack .../05-libxxf86dga1_2%3a1.1.5-0ubuntu3_amd64.deb ...\n",
            "Unpacking libxxf86dga1:amd64 (2:1.1.5-0ubuntu3) ...\n",
            "Selecting previously unselected package x11-utils.\n",
            "Preparing to unpack .../06-x11-utils_7.7+5build2_amd64.deb ...\n",
            "Unpacking x11-utils (7.7+5build2) ...\n",
            "Selecting previously unselected package libatk-wrapper-java.\n",
            "Preparing to unpack .../07-libatk-wrapper-java_0.38.0-5build1_all.deb ...\n",
            "Unpacking libatk-wrapper-java (0.38.0-5build1) ...\n",
            "Selecting previously unselected package libatk-wrapper-java-jni:amd64.\n",
            "Preparing to unpack .../08-libatk-wrapper-java-jni_0.38.0-5build1_amd64.deb ...\n",
            "Unpacking libatk-wrapper-java-jni:amd64 (0.38.0-5build1) ...\n",
            "Selecting previously unselected package libice-dev:amd64.\n",
            "Preparing to unpack .../09-libice-dev_2%3a1.0.10-1build2_amd64.deb ...\n",
            "Unpacking libice-dev:amd64 (2:1.0.10-1build2) ...\n",
            "Selecting previously unselected package libsm-dev:amd64.\n",
            "Preparing to unpack .../10-libsm-dev_2%3a1.2.3-1build2_amd64.deb ...\n",
            "Unpacking libsm-dev:amd64 (2:1.2.3-1build2) ...\n",
            "Selecting previously unselected package libxt-dev:amd64.\n",
            "Preparing to unpack .../11-libxt-dev_1%3a1.2.1-1_amd64.deb ...\n",
            "Unpacking libxt-dev:amd64 (1:1.2.1-1) ...\n",
            "Selecting previously unselected package openjdk-11-jre:amd64.\n",
            "Preparing to unpack .../12-openjdk-11-jre_11.0.20+8-1ubuntu1~22.04_amd64.deb ...\n",
            "Unpacking openjdk-11-jre:amd64 (11.0.20+8-1ubuntu1~22.04) ...\n",
            "Selecting previously unselected package openjdk-11-jdk:amd64.\n",
            "Preparing to unpack .../13-openjdk-11-jdk_11.0.20+8-1ubuntu1~22.04_amd64.deb ...\n",
            "Unpacking openjdk-11-jdk:amd64 (11.0.20+8-1ubuntu1~22.04) ...\n",
            "Setting up libice-dev:amd64 (2:1.0.10-1build2) ...\n",
            "Setting up libsm-dev:amd64 (2:1.2.3-1build2) ...\n",
            "Setting up libxtst6:amd64 (2:1.2.3-1build4) ...\n",
            "Setting up libxxf86dga1:amd64 (2:1.1.5-0ubuntu3) ...\n",
            "Setting up openjdk-11-jre:amd64 (11.0.20+8-1ubuntu1~22.04) ...\n",
            "Setting up libfontenc1:amd64 (1:1.1.4-1build3) ...\n",
            "Setting up libxt-dev:amd64 (1:1.2.1-1) ...\n",
            "Setting up fonts-dejavu-core (2.37-2build1) ...\n",
            "Setting up fonts-dejavu-extra (2.37-2build1) ...\n",
            "Setting up openjdk-11-jdk:amd64 (11.0.20+8-1ubuntu1~22.04) ...\n",
            "update-alternatives: using /usr/lib/jvm/java-11-openjdk-amd64/bin/jconsole to provide /usr/bin/jconsole (jconsole) in auto mode\n",
            "Setting up libxkbfile1:amd64 (1:1.1.0-1build3) ...\n",
            "Setting up x11-utils (7.7+5build2) ...\n",
            "Setting up libatk-wrapper-java (0.38.0-5build1) ...\n",
            "Setting up libatk-wrapper-java-jni:amd64 (0.38.0-5build1) ...\n",
            "Processing triggers for hicolor-icon-theme (0.17-2) ...\n",
            "Processing triggers for libc-bin (2.35-0ubuntu3.1) ...\n",
            "/sbin/ldconfig.real: /usr/local/lib/libtbbbind_2_5.so.3 is not a symbolic link\n",
            "\n",
            "/sbin/ldconfig.real: /usr/local/lib/libtbb.so.12 is not a symbolic link\n",
            "\n",
            "/sbin/ldconfig.real: /usr/local/lib/libtbbbind.so.3 is not a symbolic link\n",
            "\n",
            "/sbin/ldconfig.real: /usr/local/lib/libtbbbind_2_0.so.3 is not a symbolic link\n",
            "\n",
            "/sbin/ldconfig.real: /usr/local/lib/libtbbmalloc.so.2 is not a symbolic link\n",
            "\n",
            "/sbin/ldconfig.real: /usr/local/lib/libtbbmalloc_proxy.so.2 is not a symbolic link\n",
            "\n",
            "Processing triggers for man-db (2.10.2-1) ...\n",
            "Processing triggers for fontconfig (2.13.1-4.2ubuntu5) ...\n"
          ]
        }
      ],
      "source": [
        "#Install Java Development kit for Spark\n",
        "!apt-get install openjdk-11-jdk"
      ]
    },
    {
      "cell_type": "code",
      "execution_count": null,
      "metadata": {
        "id": "LUzwmAoEnIuo"
      },
      "outputs": [],
      "source": [
        "import os\n",
        "import sys\n",
        "\n",
        "os.environ['PYSPARK_PYTHON'] = sys.executable\n",
        "os.environ['PYSPARK_DRIVER_PYTHON'] = sys.executable"
      ]
    },
    {
      "cell_type": "code",
      "execution_count": null,
      "metadata": {
        "colab": {
          "base_uri": "https://localhost:8080/"
        },
        "id": "5rMEFRR_nKzE",
        "outputId": "7f74dbe4-4320-4b8f-e943-5ed6fd441194"
      },
      "outputs": [
        {
          "output_type": "stream",
          "name": "stdout",
          "text": [
            "\n"
          ]
        }
      ],
      "source": [
        "!echo $JAVA_HOME"
      ]
    },
    {
      "cell_type": "code",
      "execution_count": null,
      "metadata": {
        "colab": {
          "base_uri": "https://localhost:8080/"
        },
        "id": "v1i6oVQss8Ya",
        "outputId": "50458611-d797-4e54-a9a0-f86577b22fc3"
      },
      "outputs": [
        {
          "output_type": "stream",
          "name": "stdout",
          "text": [
            "Collecting pyspark==3.0.1\n",
            "  Downloading pyspark-3.0.1.tar.gz (204.2 MB)\n",
            "\u001b[2K     \u001b[90m━━━━━━━━━━━━━━━━━━━━━━━━━━━━━━━━━━━━━━━\u001b[0m \u001b[32m204.2/204.2 MB\u001b[0m \u001b[31m3.3 MB/s\u001b[0m eta \u001b[36m0:00:00\u001b[0m\n",
            "\u001b[?25h  Preparing metadata (setup.py) ... \u001b[?25l\u001b[?25hdone\n",
            "Collecting py4j==0.10.9 (from pyspark==3.0.1)\n",
            "  Downloading py4j-0.10.9-py2.py3-none-any.whl (198 kB)\n",
            "\u001b[2K     \u001b[90m━━━━━━━━━━━━━━━━━━━━━━━━━━━━━━━━━━━━━━\u001b[0m \u001b[32m198.6/198.6 kB\u001b[0m \u001b[31m17.3 MB/s\u001b[0m eta \u001b[36m0:00:00\u001b[0m\n",
            "\u001b[?25hBuilding wheels for collected packages: pyspark\n",
            "  Building wheel for pyspark (setup.py) ... \u001b[?25l\u001b[?25hdone\n",
            "  Created wheel for pyspark: filename=pyspark-3.0.1-py2.py3-none-any.whl size=204612224 sha256=a500ce0949e7ca0abac300426d3f2993cfe149b2aa16a695c028aa07a173737d\n",
            "  Stored in directory: /root/.cache/pip/wheels/19/b0/c8/6cb894117070e130fc44352c2a13f15b6c27e440d04a84fb48\n",
            "Successfully built pyspark\n",
            "Installing collected packages: py4j, pyspark\n",
            "  Attempting uninstall: py4j\n",
            "    Found existing installation: py4j 0.10.9.7\n",
            "    Uninstalling py4j-0.10.9.7:\n",
            "      Successfully uninstalled py4j-0.10.9.7\n",
            "Successfully installed py4j-0.10.9 pyspark-3.0.1\n"
          ]
        }
      ],
      "source": [
        "#Install PySpark with latest version\n",
        "!pip install pyspark==3.0.1"
      ]
    },
    {
      "cell_type": "code",
      "execution_count": null,
      "metadata": {
        "colab": {
          "base_uri": "https://localhost:8080/"
        },
        "id": "OVQt0YWXuI5M",
        "outputId": "9319ddc4-79fd-49fd-bfe5-4037c5290cc3"
      },
      "outputs": [
        {
          "output_type": "stream",
          "name": "stdout",
          "text": [
            "Collecting findspark\n",
            "  Downloading findspark-2.0.1-py2.py3-none-any.whl (4.4 kB)\n",
            "Installing collected packages: findspark\n",
            "Successfully installed findspark-2.0.1\n"
          ]
        }
      ],
      "source": [
        "!pip install findspark\n",
        "import findspark\n",
        "findspark.init()"
      ]
    },
    {
      "cell_type": "code",
      "execution_count": null,
      "metadata": {
        "id": "xuMziEEEuIwN"
      },
      "outputs": [],
      "source": [
        "from pyspark.sql import SparkSession, SQLContext\n",
        "spark = SparkSession.builder.master(\"local\").appName(\"Test Spark\").config(\"spark.some.config.option\", \"some-value\").getOrCreate()"
      ]
    },
    {
      "cell_type": "code",
      "execution_count": null,
      "metadata": {
        "id": "Q8yHIVAY3l3g"
      },
      "outputs": [],
      "source": [
        "sc = spark.sparkContext"
      ]
    },
    {
      "cell_type": "code",
      "execution_count": null,
      "metadata": {
        "colab": {
          "base_uri": "https://localhost:8080/",
          "height": 219
        },
        "id": "ewvjwee33nEI",
        "outputId": "ee547437-8e6f-4ca8-b5e5-d23f383541cf"
      },
      "outputs": [
        {
          "output_type": "execute_result",
          "data": {
            "text/plain": [
              "<pyspark.sql.session.SparkSession at 0x7c53881fd9c0>"
            ],
            "text/html": [
              "\n",
              "            <div>\n",
              "                <p><b>SparkSession - in-memory</b></p>\n",
              "                \n",
              "        <div>\n",
              "            <p><b>SparkContext</b></p>\n",
              "\n",
              "            <p><a href=\"http://792d082ba797:4040\">Spark UI</a></p>\n",
              "\n",
              "            <dl>\n",
              "              <dt>Version</dt>\n",
              "                <dd><code>v3.0.1</code></dd>\n",
              "              <dt>Master</dt>\n",
              "                <dd><code>local</code></dd>\n",
              "              <dt>AppName</dt>\n",
              "                <dd><code>Test Spark</code></dd>\n",
              "            </dl>\n",
              "        </div>\n",
              "        \n",
              "            </div>\n",
              "        "
            ]
          },
          "metadata": {},
          "execution_count": 8
        }
      ],
      "source": [
        "spark"
      ]
    },
    {
      "cell_type": "code",
      "execution_count": null,
      "metadata": {
        "colab": {
          "base_uri": "https://localhost:8080/"
        },
        "id": "losHHKsa46jH",
        "outputId": "be681cff-c4f3-4d17-a844-3ae62e526da3"
      },
      "outputs": [
        {
          "output_type": "stream",
          "name": "stdout",
          "text": [
            "Mounted at /content/drive\n"
          ]
        }
      ],
      "source": [
        "#mount your drive\n",
        "from google.colab import drive\n",
        "drive.mount('/content/drive')"
      ]
    },
    {
      "cell_type": "code",
      "execution_count": null,
      "metadata": {
        "colab": {
          "base_uri": "https://localhost:8080/"
        },
        "id": "r1f0ksKNs8VX",
        "outputId": "638d7151-b68b-4c1a-fe31-53ee3af6e057"
      },
      "outputs": [
        {
          "output_type": "stream",
          "name": "stdout",
          "text": [
            "+---+---+-----+---+---+--------+-------+----------+----------+---+---+----+---+---+----+---+-----+---+---+---+---+-----+---+---+-----+\n",
            "|age| bp|   sg| al| su|     rbc|     pc|       pcc|        ba|bgr| bu|  sc|sod|pot|hemo|pcv|   wc| rc|htn| dm|cad|appet| pe|ane|class|\n",
            "+---+---+-----+---+---+--------+-------+----------+----------+---+---+----+---+---+----+---+-----+---+---+---+---+-----+---+---+-----+\n",
            "| 50|150| 1.02|  1|  0|abnormal| normal|notpresent|notpresent|181|204| 8.4|135|  4|10.3| 44| 7800|5.2| no| no| no| good| no| no|  ckd|\n",
            "| 69|140| 1.02|  4|  0|abnormal| normal|notpresent|notpresent|121| 64| 7.3|130|5.4| 9.4| 38| 6000|3.9| no| no| no| good| no|yes|  ckd|\n",
            "| 69|160| 1.02|  2|  3|abnormal| normal|notpresent|notpresent|423| 34|   7|129|4.9|10.6| 31| 7500|4.6| no|yes| no| poor| no| no|  ckd|\n",
            "| 71|140|1.005|  4|  0|abnormal|abnomal|   present|notpresent|106| 67|11.6|131|5.5| 7.2| 32| 6700|4.4| no| no| no| poor|yes|yes|  ckd|\n",
            "| 65|170| 1.01|  2|  0|abnormal| normal|   present|notpresent| 66|102|  16|128|5.6| 9.6| 35| 7300|  5| no| no| no| good| no|yes|  ckd|\n",
            "| 70|160|1.015|  3|  0|abnormal| normal|notpresent|notpresent| 74|180|   9|137|4.6| 9.6| 39| 7800|  4|yes| no| no| good|yes|yes|  ckd|\n",
            "| 35|170| 1.01|  0|  0|abnormal| normal|notpresent|notpresent|100|249|14.7|127|5.8| 9.7| 36| 6900|3.7| no| no| no| good| no|yes|  ckd|\n",
            "| 55|120|1.015|  2|  4|abnormal|abnomal|notpresent|notpresent|410|223|17.6|132|5.6| 9.5| 44|12100|3.8| no|yes| no| good|yes|yes|  ckd|\n",
            "| 59|130| 1.02|  3|  0|abnormal|abnomal|notpresent|notpresent|138|185|14.8|133|5.4| 9.3| 33| 4500|3.4|yes| no| no| good| no|yes|  ckd|\n",
            "| 55|130|1.025|  2|  0|abnormal|abnomal|notpresent|notpresent| 70|342| 9.4|130|5.4| 8.5| 29|12200|2.6|yes| no| no| good| no|yes|  ckd|\n",
            "| 43|120| 1.01|  2|  4|abnormal|abnomal|notpresent|notpresent|490|119|   8|130|5.7|   8| 28|11000|2.8|yes|yes|yes| poor| no|yes|  ckd|\n",
            "| 68|100|1.015|  3|  0|abnormal|abnomal|notpresent|notpresent|138|213|11.6|135|  4| 8.1| 32| 3800|4.3|yes| no| no| good|yes|yes|  ckd|\n",
            "| 68|160| 1.01|  3|  1|abnormal| normal|notpresent|notpresent| 70|204| 5.7|142|4.9| 7.8| 28|11400|3.7|yes| no| no| poor|yes|yes|  ckd|\n",
            "| 53|130|1.015|  2|  0|abnormal| normal|notpresent|notpresent|380|102|17.5|139|5.3|10.3| 33| 5300|3.2|yes|yes|yes| poor| no| no|  ckd|\n",
            "| 50|150|1.025|  0|  1|abnormal|abnomal|notpresent|   present|208|187|18.4|131|3.7|  10| 16| 9200|3.6|yes|yes|yes| poor| no| no|  ckd|\n",
            "| 69|140|1.025|  0|  2|abnormal| normal|notpresent|notpresent| 98| 73| 7.3|129|4.9| 9.1| 24| 6200|3.4|yes| no| no| poor| no|yes|  ckd|\n",
            "| 69|130| 1.02|  0|  0|abnormal| normal|notpresent|notpresent|157|187| 6.3|130|  5|11.7| 37| 6900|5.2| no| no| no| good| no| no|  ckd|\n",
            "| 71|120| 1.02|  3|  0|abnormal| normal|notpresent|notpresent| 76| 73| 6.4|134|4.4|11.6| 30|11400|3.9|yes| no| no| good| no| no|  ckd|\n",
            "| 65|140| 1.02|  2|  0|abnormal| normal|   present|notpresent| 99| 96| 7.1|135|5.7| 8.4| 24| 5300|4.6|yes|yes|yes| poor| no|yes|  ckd|\n",
            "| 70|120| 1.02|  0|  3|abnormal| normal|   present|notpresent|114| 73|18.4|129|4.1|11.6| 32| 9200|4.4|yes|yes|yes| good| no| no|  ckd|\n",
            "+---+---+-----+---+---+--------+-------+----------+----------+---+---+----+---+---+----+---+-----+---+---+---+---+-----+---+---+-----+\n",
            "only showing top 20 rows\n",
            "\n"
          ]
        }
      ],
      "source": [
        "#Read the csv file\n",
        "df=spark.read.csv('/content/drive/MyDrive/Colab Notebooks/dataset/CKD_final.csv',inferSchema=True,header=True)\n",
        "df.show()"
      ]
    },
    {
      "cell_type": "markdown",
      "metadata": {
        "id": "I1dMahySymb6"
      },
      "source": [
        "## EDA\n",
        "https://medium.com/@aieeshashafique/exploratory-data-analysis-using-pyspark-dataframe-in-python-bd55c02a2852"
      ]
    },
    {
      "cell_type": "code",
      "execution_count": null,
      "metadata": {
        "id": "pdMnd1-uyje6"
      },
      "outputs": [],
      "source": [
        "import numpy as np"
      ]
    },
    {
      "cell_type": "code",
      "execution_count": null,
      "metadata": {
        "colab": {
          "base_uri": "https://localhost:8080/"
        },
        "id": "HHfHtF0fytcX",
        "outputId": "8294dca0-6172-4264-b2db-7e4ba211648b"
      },
      "outputs": [
        {
          "output_type": "execute_result",
          "data": {
            "text/plain": [
              "DataFrame[summary: string, age: string, bp: string, sg: string, al: string, su: string, rbc: string, pc: string, pcc: string, ba: string, bgr: string, bu: string, sc: string, sod: string, pot: string, hemo: string, pcv: string, wc: string, rc: string, htn: string, dm: string, cad: string, appet: string, pe: string, ane: string, class: string]"
            ]
          },
          "metadata": {},
          "execution_count": 12
        }
      ],
      "source": [
        "df.describe()"
      ]
    },
    {
      "cell_type": "code",
      "execution_count": null,
      "metadata": {
        "colab": {
          "base_uri": "https://localhost:8080/"
        },
        "id": "uDYD3rdnytZo",
        "outputId": "4e50361c-fdee-446e-eb7f-41e14adfe694"
      },
      "outputs": [
        {
          "output_type": "stream",
          "name": "stdout",
          "text": [
            "+---+---+-----+---+---+--------+-------+----------+----------+---+---+----+---+---+----+---+-----+---+---+---+---+-----+---+---+-----+\n",
            "|age| bp|   sg| al| su|     rbc|     pc|       pcc|        ba|bgr| bu|  sc|sod|pot|hemo|pcv|   wc| rc|htn| dm|cad|appet| pe|ane|class|\n",
            "+---+---+-----+---+---+--------+-------+----------+----------+---+---+----+---+---+----+---+-----+---+---+---+---+-----+---+---+-----+\n",
            "| 50|150| 1.02|  1|  0|abnormal| normal|notpresent|notpresent|181|204| 8.4|135|  4|10.3| 44| 7800|5.2| no| no| no| good| no| no|  ckd|\n",
            "| 69|140| 1.02|  4|  0|abnormal| normal|notpresent|notpresent|121| 64| 7.3|130|5.4| 9.4| 38| 6000|3.9| no| no| no| good| no|yes|  ckd|\n",
            "| 69|160| 1.02|  2|  3|abnormal| normal|notpresent|notpresent|423| 34|   7|129|4.9|10.6| 31| 7500|4.6| no|yes| no| poor| no| no|  ckd|\n",
            "| 71|140|1.005|  4|  0|abnormal|abnomal|   present|notpresent|106| 67|11.6|131|5.5| 7.2| 32| 6700|4.4| no| no| no| poor|yes|yes|  ckd|\n",
            "| 65|170| 1.01|  2|  0|abnormal| normal|   present|notpresent| 66|102|  16|128|5.6| 9.6| 35| 7300|  5| no| no| no| good| no|yes|  ckd|\n",
            "| 70|160|1.015|  3|  0|abnormal| normal|notpresent|notpresent| 74|180|   9|137|4.6| 9.6| 39| 7800|  4|yes| no| no| good|yes|yes|  ckd|\n",
            "| 35|170| 1.01|  0|  0|abnormal| normal|notpresent|notpresent|100|249|14.7|127|5.8| 9.7| 36| 6900|3.7| no| no| no| good| no|yes|  ckd|\n",
            "| 55|120|1.015|  2|  4|abnormal|abnomal|notpresent|notpresent|410|223|17.6|132|5.6| 9.5| 44|12100|3.8| no|yes| no| good|yes|yes|  ckd|\n",
            "| 59|130| 1.02|  3|  0|abnormal|abnomal|notpresent|notpresent|138|185|14.8|133|5.4| 9.3| 33| 4500|3.4|yes| no| no| good| no|yes|  ckd|\n",
            "| 55|130|1.025|  2|  0|abnormal|abnomal|notpresent|notpresent| 70|342| 9.4|130|5.4| 8.5| 29|12200|2.6|yes| no| no| good| no|yes|  ckd|\n",
            "| 43|120| 1.01|  2|  4|abnormal|abnomal|notpresent|notpresent|490|119|   8|130|5.7|   8| 28|11000|2.8|yes|yes|yes| poor| no|yes|  ckd|\n",
            "| 68|100|1.015|  3|  0|abnormal|abnomal|notpresent|notpresent|138|213|11.6|135|  4| 8.1| 32| 3800|4.3|yes| no| no| good|yes|yes|  ckd|\n",
            "| 68|160| 1.01|  3|  1|abnormal| normal|notpresent|notpresent| 70|204| 5.7|142|4.9| 7.8| 28|11400|3.7|yes| no| no| poor|yes|yes|  ckd|\n",
            "| 53|130|1.015|  2|  0|abnormal| normal|notpresent|notpresent|380|102|17.5|139|5.3|10.3| 33| 5300|3.2|yes|yes|yes| poor| no| no|  ckd|\n",
            "| 50|150|1.025|  0|  1|abnormal|abnomal|notpresent|   present|208|187|18.4|131|3.7|  10| 16| 9200|3.6|yes|yes|yes| poor| no| no|  ckd|\n",
            "| 69|140|1.025|  0|  2|abnormal| normal|notpresent|notpresent| 98| 73| 7.3|129|4.9| 9.1| 24| 6200|3.4|yes| no| no| poor| no|yes|  ckd|\n",
            "| 69|130| 1.02|  0|  0|abnormal| normal|notpresent|notpresent|157|187| 6.3|130|  5|11.7| 37| 6900|5.2| no| no| no| good| no| no|  ckd|\n",
            "| 71|120| 1.02|  3|  0|abnormal| normal|notpresent|notpresent| 76| 73| 6.4|134|4.4|11.6| 30|11400|3.9|yes| no| no| good| no| no|  ckd|\n",
            "| 65|140| 1.02|  2|  0|abnormal| normal|   present|notpresent| 99| 96| 7.1|135|5.7| 8.4| 24| 5300|4.6|yes|yes|yes| poor| no|yes|  ckd|\n",
            "| 70|120| 1.02|  0|  3|abnormal| normal|   present|notpresent|114| 73|18.4|129|4.1|11.6| 32| 9200|4.4|yes|yes|yes| good| no| no|  ckd|\n",
            "+---+---+-----+---+---+--------+-------+----------+----------+---+---+----+---+---+----+---+-----+---+---+---+---+-----+---+---+-----+\n",
            "only showing top 20 rows\n",
            "\n"
          ]
        }
      ],
      "source": [
        "df.show()"
      ]
    },
    {
      "cell_type": "code",
      "execution_count": null,
      "metadata": {
        "colab": {
          "base_uri": "https://localhost:8080/"
        },
        "id": "JDqkZLssytW4",
        "outputId": "a36750b2-306a-4b2a-9580-cb3b657b1fac"
      },
      "outputs": [
        {
          "output_type": "execute_result",
          "data": {
            "text/plain": [
              "['age',\n",
              " 'bp',\n",
              " 'sg',\n",
              " 'al',\n",
              " 'su',\n",
              " 'rbc',\n",
              " 'pc',\n",
              " 'pcc',\n",
              " 'ba',\n",
              " 'bgr',\n",
              " 'bu',\n",
              " 'sc',\n",
              " 'sod',\n",
              " 'pot',\n",
              " 'hemo',\n",
              " 'pcv',\n",
              " 'wc',\n",
              " 'rc',\n",
              " 'htn',\n",
              " 'dm',\n",
              " 'cad',\n",
              " 'appet',\n",
              " 'pe',\n",
              " 'ane',\n",
              " 'class']"
            ]
          },
          "metadata": {},
          "execution_count": 14
        }
      ],
      "source": [
        "df.columns"
      ]
    },
    {
      "cell_type": "code",
      "execution_count": null,
      "metadata": {
        "colab": {
          "base_uri": "https://localhost:8080/"
        },
        "id": "NEelBuxiytUO",
        "outputId": "d51419d3-5577-43c4-a18a-3b8facefd6d0"
      },
      "outputs": [
        {
          "output_type": "stream",
          "name": "stdout",
          "text": [
            "+-------+------------------+\n",
            "|summary|               age|\n",
            "+-------+------------------+\n",
            "|  count|             99999|\n",
            "|   mean|54.165723031370035|\n",
            "| stddev|14.123696494554018|\n",
            "|    min|                15|\n",
            "|    max|                 ?|\n",
            "+-------+------------------+\n",
            "\n",
            "+-------+------------------+\n",
            "|summary|                bp|\n",
            "+-------+------------------+\n",
            "|  count|             99999|\n",
            "|   mean|126.38240236875801|\n",
            "| stddev| 35.41131574010887|\n",
            "|    min|                10|\n",
            "|    max|                 ?|\n",
            "+-------+------------------+\n",
            "\n",
            "+-------+------------------+\n",
            "|summary|                sg|\n",
            "+-------+------------------+\n",
            "|  count|             99999|\n",
            "|   mean|1.1576812074731944|\n",
            "| stddev|0.7138240082296518|\n",
            "|    min|                 0|\n",
            "|    max|                 ?|\n",
            "+-------+------------------+\n",
            "\n",
            "+-------+------------------+\n",
            "|summary|                al|\n",
            "+-------+------------------+\n",
            "|  count|             99999|\n",
            "|   mean|1.1185170137125444|\n",
            "| stddev| 1.418269945794224|\n",
            "|    min|                 0|\n",
            "|    max|                 ?|\n",
            "+-------+------------------+\n",
            "\n",
            "+-------+------------------+\n",
            "|summary|                su|\n",
            "+-------+------------------+\n",
            "|  count|             99999|\n",
            "|   mean|0.6857240281882246|\n",
            "| stddev|1.2261648044569144|\n",
            "|    min|                 0|\n",
            "|    max|                 ?|\n",
            "+-------+------------------+\n",
            "\n",
            "+-------+------+\n",
            "|summary|   rbc|\n",
            "+-------+------+\n",
            "|  count| 99999|\n",
            "|   mean|  null|\n",
            "| stddev|  null|\n",
            "|    min|     ?|\n",
            "|    max|normal|\n",
            "+-------+------+\n",
            "\n",
            "+-------+------+\n",
            "|summary|    pc|\n",
            "+-------+------+\n",
            "|  count| 99999|\n",
            "|   mean|  null|\n",
            "| stddev|  null|\n",
            "|    min|     ?|\n",
            "|    max|normal|\n",
            "+-------+------+\n",
            "\n",
            "+-------+----------+\n",
            "|summary|       pcc|\n",
            "+-------+----------+\n",
            "|  count|     99999|\n",
            "|   mean|      null|\n",
            "| stddev|      null|\n",
            "|    min|notpresent|\n",
            "|    max|   present|\n",
            "+-------+----------+\n",
            "\n",
            "+-------+-------+\n",
            "|summary|     ba|\n",
            "+-------+-------+\n",
            "|  count|  99999|\n",
            "|   mean|   null|\n",
            "| stddev|   null|\n",
            "|    min|      ?|\n",
            "|    max|present|\n",
            "+-------+-------+\n",
            "\n",
            "+-------+------------------+\n",
            "|summary|               bgr|\n",
            "+-------+------------------+\n",
            "|  count|             99999|\n",
            "|   mean|147.70895682680603|\n",
            "| stddev| 80.18746608384342|\n",
            "|    min|                10|\n",
            "|    max|                 ?|\n",
            "+-------+------------------+\n",
            "\n",
            "+-------+-----------------+\n",
            "|summary|               bu|\n",
            "+-------+-----------------+\n",
            "|  count|            99999|\n",
            "|   mean|82.30819496842653|\n",
            "| stddev|71.64437998619202|\n",
            "|    min|              1.5|\n",
            "|    max|                ?|\n",
            "+-------+-----------------+\n",
            "\n",
            "+-------+-----------------+\n",
            "|summary|               sc|\n",
            "+-------+-----------------+\n",
            "|  count|            99999|\n",
            "|   mean|5.402288898498567|\n",
            "| stddev| 5.28142028803703|\n",
            "|    min|              0.4|\n",
            "|    max|                ?|\n",
            "+-------+-----------------+\n",
            "\n",
            "+-------+-----------------+\n",
            "|summary|              sod|\n",
            "+-------+-----------------+\n",
            "|  count|            99999|\n",
            "|   mean|135.0617642818897|\n",
            "| stddev|6.338830261259875|\n",
            "|    min|              104|\n",
            "|    max|                ?|\n",
            "+-------+-----------------+\n",
            "\n",
            "+-------+------------------+\n",
            "|summary|               pot|\n",
            "+-------+------------------+\n",
            "|  count|             99999|\n",
            "|   mean| 4.596316289506215|\n",
            "| stddev|0.7796644843046697|\n",
            "|    min|               2.1|\n",
            "|    max|                 ?|\n",
            "+-------+------------------+\n",
            "\n",
            "+-------+------------------+\n",
            "|summary|              hemo|\n",
            "+-------+------------------+\n",
            "|  count|             99999|\n",
            "|   mean|11.968007102800282|\n",
            "| stddev| 2.897700657177569|\n",
            "|    min|               0.9|\n",
            "|    max|                 ?|\n",
            "+-------+------------------+\n",
            "\n",
            "+-------+-----------------+\n",
            "|summary|              pcv|\n",
            "+-------+-----------------+\n",
            "|  count|            99999|\n",
            "|   mean|36.25608467212287|\n",
            "| stddev|8.368646404874667|\n",
            "|    min|               14|\n",
            "|    max|                ?|\n",
            "+-------+-----------------+\n",
            "\n",
            "+-------+-----------------+\n",
            "|summary|               wc|\n",
            "+-------+-----------------+\n",
            "|  count|            99999|\n",
            "|   mean|8608.810743743532|\n",
            "| stddev|3548.961783922019|\n",
            "|    min|            10000|\n",
            "|    max|                ?|\n",
            "+-------+-----------------+\n",
            "\n",
            "+-------+------------------+\n",
            "|summary|                rc|\n",
            "+-------+------------------+\n",
            "|  count|             99999|\n",
            "|   mean| 4.335314187655269|\n",
            "| stddev|1.3828500780147008|\n",
            "|    min|              0.29|\n",
            "|    max|                 ?|\n",
            "+-------+------------------+\n",
            "\n",
            "+-------+-----+\n",
            "|summary|  htn|\n",
            "+-------+-----+\n",
            "|  count|99999|\n",
            "|   mean| null|\n",
            "| stddev| null|\n",
            "|    min|    ?|\n",
            "|    max|  yes|\n",
            "+-------+-----+\n",
            "\n",
            "+-------+-----+\n",
            "|summary|   dm|\n",
            "+-------+-----+\n",
            "|  count|99999|\n",
            "|   mean| null|\n",
            "| stddev| null|\n",
            "|    min|    ?|\n",
            "|    max|  yes|\n",
            "+-------+-----+\n",
            "\n",
            "+-------+-----+\n",
            "|summary|  cad|\n",
            "+-------+-----+\n",
            "|  count|99999|\n",
            "|   mean| null|\n",
            "| stddev| null|\n",
            "|    min|   no|\n",
            "|    max|  yes|\n",
            "+-------+-----+\n",
            "\n",
            "+-------+-----+\n",
            "|summary|appet|\n",
            "+-------+-----+\n",
            "|  count|99999|\n",
            "|   mean| null|\n",
            "| stddev| null|\n",
            "|    min|    ?|\n",
            "|    max| poor|\n",
            "+-------+-----+\n",
            "\n",
            "+-------+-----+\n",
            "|summary|   pe|\n",
            "+-------+-----+\n",
            "|  count|99999|\n",
            "|   mean| null|\n",
            "| stddev| null|\n",
            "|    min|    ?|\n",
            "|    max|  yes|\n",
            "+-------+-----+\n",
            "\n",
            "+-------+-----+\n",
            "|summary|  ane|\n",
            "+-------+-----+\n",
            "|  count|99999|\n",
            "|   mean| null|\n",
            "| stddev| null|\n",
            "|    min|   no|\n",
            "|    max|  yes|\n",
            "+-------+-----+\n",
            "\n",
            "+-------+------+\n",
            "|summary| class|\n",
            "+-------+------+\n",
            "|  count| 99999|\n",
            "|   mean|  null|\n",
            "| stddev|  null|\n",
            "|    min|   ckd|\n",
            "|    max|notckd|\n",
            "+-------+------+\n",
            "\n"
          ]
        }
      ],
      "source": [
        "for col in df.columns:\n",
        "     df.describe([col]).show()"
      ]
    },
    {
      "cell_type": "code",
      "execution_count": null,
      "metadata": {
        "colab": {
          "base_uri": "https://localhost:8080/"
        },
        "id": "tklXsa2BytRn",
        "outputId": "1019afca-4960-4b4d-dd5c-6e5fa42b571e"
      },
      "outputs": [
        {
          "output_type": "execute_result",
          "data": {
            "text/plain": [
              "['notckd', 'ckd']"
            ]
          },
          "metadata": {},
          "execution_count": 16
        }
      ],
      "source": [
        "#check unique values for class\n",
        "df.select('class').distinct().rdd.map(lambda r: r[0]).collect()"
      ]
    },
    {
      "cell_type": "code",
      "execution_count": null,
      "metadata": {
        "colab": {
          "base_uri": "https://localhost:8080/"
        },
        "id": "kbKI4FAgytO-",
        "outputId": "11712f33-2c79-47c4-fc1e-a9673f63ac9d"
      },
      "outputs": [
        {
          "output_type": "stream",
          "name": "stdout",
          "text": [
            "+---+---+---+---+---+---+---+---+---+---+---+---+---+---+----+---+---+---+---+---+---+-----+---+---+-----+\n",
            "|age| bp| sg| al| su|rbc| pc|pcc| ba|bgr| bu| sc|sod|pot|hemo|pcv| wc| rc|htn| dm|cad|appet| pe|ane|class|\n",
            "+---+---+---+---+---+---+---+---+---+---+---+---+---+---+----+---+---+---+---+---+---+-----+---+---+-----+\n",
            "+---+---+---+---+---+---+---+---+---+---+---+---+---+---+----+---+---+---+---+---+---+-----+---+---+-----+\n",
            "\n"
          ]
        }
      ],
      "source": [
        "#filter out those rows\n",
        "df.filter(df['class']==\"ckd\\t\").show()"
      ]
    },
    {
      "cell_type": "code",
      "execution_count": null,
      "metadata": {
        "id": "6mtVstHzytJM"
      },
      "outputs": [],
      "source": [
        "#since 'ckd\\t' is the same class as of 'ckd', so we replaced first to correct one.\n",
        "from pyspark.sql.functions import when, lit\n",
        "df = df.withColumn('class', when(df['class']=='ckd\\t',\n",
        "lit(\"ckd\")).otherwise(df['class']))"
      ]
    },
    {
      "cell_type": "code",
      "execution_count": null,
      "metadata": {
        "colab": {
          "base_uri": "https://localhost:8080/"
        },
        "id": "I0fHa6VKytGF",
        "outputId": "83735622-332e-4b83-dac9-85ba8886bb59"
      },
      "outputs": [
        {
          "output_type": "stream",
          "name": "stdout",
          "text": [
            "+---+---+---+---+---+---+---+---+---+---+---+---+---+---+----+---+---+---+---+---+---+-----+---+---+-----+\n",
            "|age| bp| sg| al| su|rbc| pc|pcc| ba|bgr| bu| sc|sod|pot|hemo|pcv| wc| rc|htn| dm|cad|appet| pe|ane|class|\n",
            "+---+---+---+---+---+---+---+---+---+---+---+---+---+---+----+---+---+---+---+---+---+-----+---+---+-----+\n",
            "+---+---+---+---+---+---+---+---+---+---+---+---+---+---+----+---+---+---+---+---+---+-----+---+---+-----+\n",
            "\n"
          ]
        }
      ],
      "source": [
        "#Validate that there is no more left after replacing\n",
        "df.filter(df['class']==\"ckd\\t\").show()"
      ]
    },
    {
      "cell_type": "code",
      "execution_count": null,
      "metadata": {
        "id": "ePDRXa2-ytB1"
      },
      "outputs": [],
      "source": [
        "#replace no with notckd of class column\n",
        "from pyspark.sql.functions import when, lit\n",
        "df = df.withColumn('class', when(df['class']=='no',\n",
        "lit(\"notckd\")).otherwise(df['class']))"
      ]
    },
    {
      "cell_type": "code",
      "execution_count": null,
      "metadata": {
        "colab": {
          "base_uri": "https://localhost:8080/"
        },
        "id": "7bscLivxys4K",
        "outputId": "b48015af-cba5-455a-8fde-8928d479652e"
      },
      "outputs": [
        {
          "output_type": "execute_result",
          "data": {
            "text/plain": [
              "['notckd', 'ckd']"
            ]
          },
          "metadata": {},
          "execution_count": 21
        }
      ],
      "source": [
        "#validate now  unique values for class\n",
        "df.select('class').distinct().rdd.map(lambda r: r[0]).collect()"
      ]
    },
    {
      "cell_type": "code",
      "execution_count": null,
      "metadata": {
        "colab": {
          "base_uri": "https://localhost:8080/"
        },
        "id": "bLbeRXW7zXv4",
        "outputId": "5fbb76f4-bf16-475c-9b91-fd5bc38ddb78"
      },
      "outputs": [
        {
          "output_type": "stream",
          "name": "stdout",
          "text": [
            "age \t with null values:  0\n",
            "bp \t with null values:  0\n",
            "sg \t with null values:  0\n",
            "al \t with null values:  0\n",
            "su \t with null values:  0\n",
            "rbc \t with null values:  0\n",
            "pc \t with null values:  0\n",
            "pcc \t with null values:  0\n",
            "ba \t with null values:  0\n",
            "bgr \t with null values:  0\n",
            "bu \t with null values:  0\n",
            "sc \t with null values:  0\n",
            "sod \t with null values:  0\n",
            "pot \t with null values:  0\n",
            "hemo \t with null values:  0\n",
            "pcv \t with null values:  0\n",
            "wc \t with null values:  0\n",
            "rc \t with null values:  0\n",
            "htn \t with null values:  0\n",
            "dm \t with null values:  0\n",
            "cad \t with null values:  0\n",
            "appet \t with null values:  0\n",
            "pe \t with null values:  0\n",
            "ane \t with null values:  0\n",
            "class \t with null values:  0\n"
          ]
        }
      ],
      "source": [
        "#Count the value of null in every column\n",
        "for col in df.columns:\n",
        "    print(col, \"\\t\", \"with null values: \", df.filter(df[col].isNull()).count())"
      ]
    },
    {
      "cell_type": "code",
      "execution_count": null,
      "metadata": {
        "colab": {
          "base_uri": "https://localhost:8080/"
        },
        "id": "GeaRvoHzzXsb",
        "outputId": "11f8ecb4-ea0d-4f23-b281-3914f959937a"
      },
      "outputs": [
        {
          "output_type": "stream",
          "name": "stdout",
          "text": [
            "age \t with '?' values:  31\n",
            "bp \t with '?' values:  31\n",
            "sg \t with '?' values:  1678\n",
            "al \t with '?' values:  1549\n",
            "su \t with '?' values:  3221\n",
            "rbc \t with '?' values:  86\n",
            "pc \t with '?' values:  1921\n",
            "pcc \t with '?' values:  0\n",
            "ba \t with '?' values:  213\n",
            "bgr \t with '?' values:  2230\n",
            "bu \t with '?' values:  865\n",
            "sc \t with '?' values:  580\n",
            "sod \t with '?' values:  2883\n",
            "pot \t with '?' values:  1058\n",
            "hemo \t with '?' values:  320\n",
            "pcv \t with '?' values:  1029\n",
            "wc \t with '?' values:  462\n",
            "rc \t with '?' values:  934\n",
            "htn \t with '?' values:  90\n",
            "dm \t with '?' values:  101\n",
            "cad \t with '?' values:  0\n",
            "appet \t with '?' values:  74\n",
            "pe \t with '?' values:  497\n",
            "ane \t with '?' values:  0\n",
            "class \t with '?' values:  0\n"
          ]
        }
      ],
      "source": [
        "#Count the value of '?' in every column\n",
        "for col in df.columns:\n",
        "    print(col, \"\\t\", \"with '?' values: \", df.filter(df[col]==\"?\").count())"
      ]
    },
    {
      "cell_type": "code",
      "execution_count": null,
      "metadata": {
        "id": "kfHZAy_IzXnc"
      },
      "outputs": [],
      "source": [
        "#since in our dataset, column value is represented through '?' and None, so we will first replace the '? with None values.'\n",
        "df = df.replace('?',None)\n",
        "df = df.replace('\\t?',None)\n",
        "df = df.replace('?\\t',None)\n",
        "df = df.replace('\\tno',\"no\")\n",
        "df = df.replace('no\\t',\"no\")\n",
        "df = df.replace('\\tyes',\"yes\")\n",
        "df = df.replace('yes\\t',\"yes\")"
      ]
    },
    {
      "cell_type": "code",
      "execution_count": null,
      "metadata": {
        "colab": {
          "base_uri": "https://localhost:8080/"
        },
        "id": "CIIDWZ3EzXjo",
        "outputId": "983f3bb1-687c-4318-cd84-2b89ec9fe148"
      },
      "outputs": [
        {
          "output_type": "stream",
          "name": "stdout",
          "text": [
            "age \t with '?' values:  0\n",
            "bp \t with '?' values:  0\n",
            "sg \t with '?' values:  0\n",
            "al \t with '?' values:  0\n",
            "su \t with '?' values:  0\n",
            "rbc \t with '?' values:  0\n",
            "pc \t with '?' values:  0\n",
            "pcc \t with '?' values:  0\n",
            "ba \t with '?' values:  0\n",
            "bgr \t with '?' values:  0\n",
            "bu \t with '?' values:  0\n",
            "sc \t with '?' values:  0\n",
            "sod \t with '?' values:  0\n",
            "pot \t with '?' values:  0\n",
            "hemo \t with '?' values:  0\n",
            "pcv \t with '?' values:  0\n",
            "wc \t with '?' values:  0\n",
            "rc \t with '?' values:  0\n",
            "htn \t with '?' values:  0\n",
            "dm \t with '?' values:  0\n",
            "cad \t with '?' values:  0\n",
            "appet \t with '?' values:  0\n",
            "pe \t with '?' values:  0\n",
            "ane \t with '?' values:  0\n",
            "class \t with '?' values:  0\n"
          ]
        }
      ],
      "source": [
        "#Now for validation Count the value of '?' in every column\n",
        "for col in df.columns:\n",
        "    print(col, \"\\t\", \"with '?' values: \", df.filter(df[col]==\"?\").count())"
      ]
    },
    {
      "cell_type": "code",
      "execution_count": null,
      "metadata": {
        "id": "N7DUGicozXgF"
      },
      "outputs": [],
      "source": [
        "# #Now for validation Count the value of null in every column\n",
        "# for col in df.columns:\n",
        "#     print(col, \"\\t\", \"with null values: \", df.filter(df[col].isNull()).count())"
      ]
    },
    {
      "cell_type": "code",
      "execution_count": null,
      "metadata": {
        "id": "nq74BKWzCowm"
      },
      "outputs": [],
      "source": [
        "#Computation for mean"
      ]
    },
    {
      "cell_type": "code",
      "execution_count": null,
      "metadata": {
        "id": "L1FX1E4AzXcc"
      },
      "outputs": [],
      "source": [
        "#Find the average of a column\n",
        "\n",
        "from pyspark.sql.functions import avg\n",
        "\n",
        "mean_value = df.select(avg(df['age']))"
      ]
    },
    {
      "cell_type": "code",
      "execution_count": null,
      "metadata": {
        "colab": {
          "base_uri": "https://localhost:8080/"
        },
        "id": "upnNe26SzXYq",
        "outputId": "b39a4726-6ac1-4781-d883-4f846c817390"
      },
      "outputs": [
        {
          "output_type": "execute_result",
          "data": {
            "text/plain": [
              "DataFrame[avg(age): double]"
            ]
          },
          "metadata": {},
          "execution_count": 29
        }
      ],
      "source": [
        "mean_value\n"
      ]
    },
    {
      "cell_type": "code",
      "execution_count": null,
      "metadata": {
        "colab": {
          "base_uri": "https://localhost:8080/"
        },
        "id": "D2fAB3-WzXVG",
        "outputId": "8e6bfa29-f33b-4001-a698-5ddb791f139e"
      },
      "outputs": [
        {
          "output_type": "execute_result",
          "data": {
            "text/plain": [
              "['avg(age)']"
            ]
          },
          "metadata": {},
          "execution_count": 30
        }
      ],
      "source": [
        "mean_value.columns\n"
      ]
    },
    {
      "cell_type": "code",
      "execution_count": null,
      "metadata": {
        "id": "19KC1Rp9zXRm"
      },
      "outputs": [],
      "source": [
        "res = mean_value.rdd.map(lambda row : row['avg(age)']).collect()"
      ]
    },
    {
      "cell_type": "code",
      "execution_count": null,
      "metadata": {
        "colab": {
          "base_uri": "https://localhost:8080/"
        },
        "id": "XxvFSUKUzXOW",
        "outputId": "55f6a46a-7ec2-48a8-8a9b-7f928c9f0a6a"
      },
      "outputs": [
        {
          "output_type": "execute_result",
          "data": {
            "text/plain": [
              "[54.165723031370035]"
            ]
          },
          "metadata": {},
          "execution_count": 32
        }
      ],
      "source": [
        "res"
      ]
    },
    {
      "cell_type": "code",
      "execution_count": null,
      "metadata": {
        "id": "oD1C7BIOzW_r"
      },
      "outputs": [],
      "source": [
        "#Complete function to find the mean of columns of pyspark dataframe"
      ]
    },
    {
      "cell_type": "code",
      "execution_count": null,
      "metadata": {
        "id": "WcYHXExCzW8e"
      },
      "outputs": [],
      "source": [
        "#Find the avg of all numeric columns\n",
        "from pyspark.sql.functions import avg\n",
        "\n",
        "def mean_of_pyspark_columns(df, numeric_cols, verbose=False):\n",
        "    col_with_mean=[]\n",
        "    for col in numeric_cols:\n",
        "        mean_value = df.select(avg(df[col]))\n",
        "        avg_col = mean_value.columns[0]\n",
        "        res = mean_value.rdd.map(lambda row : row[avg_col]).collect()\n",
        "\n",
        "        if (verbose==True): print(mean_value.columns[0], \"\\t\", res[0])\n",
        "        col_with_mean.append([col, res[0]])\n",
        "    return col_with_mean"
      ]
    },
    {
      "cell_type": "code",
      "execution_count": null,
      "metadata": {
        "colab": {
          "base_uri": "https://localhost:8080/"
        },
        "id": "g63ip2t7zW5W",
        "outputId": "a7b133e6-d68d-4154-8486-25e608f9c986"
      },
      "outputs": [
        {
          "output_type": "stream",
          "name": "stdout",
          "text": [
            "avg(age) \t 54.165723031370035\n",
            "avg(bp) \t 126.38240236875801\n",
            "avg(sg) \t 1.1576812074731944\n",
            "avg(bgr) \t 147.70895682680603\n",
            "avg(bu) \t 82.30819496842653\n",
            "avg(sc) \t 5.402288898498567\n",
            "avg(sod) \t 135.0617642818897\n",
            "avg(pot) \t 4.596316289506215\n",
            "avg(hemo) \t 11.968007102800282\n",
            "avg(pcv) \t 36.25608467212287\n",
            "avg(wc) \t 8608.810743743532\n",
            "avg(rbc) \t None\n"
          ]
        },
        {
          "output_type": "execute_result",
          "data": {
            "text/plain": [
              "[['age', 54.165723031370035],\n",
              " ['bp', 126.38240236875801],\n",
              " ['sg', 1.1576812074731944],\n",
              " ['bgr', 147.70895682680603],\n",
              " ['bu', 82.30819496842653],\n",
              " ['sc', 5.402288898498567],\n",
              " ['sod', 135.0617642818897],\n",
              " ['pot', 4.596316289506215],\n",
              " ['hemo', 11.968007102800282],\n",
              " ['pcv', 36.25608467212287],\n",
              " ['wc', 8608.810743743532],\n",
              " ['rbc', None]]"
            ]
          },
          "metadata": {},
          "execution_count": 35
        }
      ],
      "source": [
        "#Validate it\n",
        "numeric_cols=['age', 'bp', 'sg','bgr', 'bu', 'sc', 'sod', 'pot', 'hemo', 'pcv', 'wc', 'rbc']\n",
        "mean_of_pyspark_columns(df, numeric_cols, verbose=True)"
      ]
    },
    {
      "cell_type": "code",
      "execution_count": null,
      "metadata": {
        "id": "lrkl-dgvzW2C"
      },
      "outputs": [],
      "source": [
        "#Complete function to find the mode of columns of pyspark dataframe"
      ]
    },
    {
      "cell_type": "code",
      "execution_count": null,
      "metadata": {
        "id": "oMx_DgdZzWvw"
      },
      "outputs": [],
      "source": [
        "def mode_of_pyspark_columns(df, cat_col_list, verbose=False):\n",
        "    col_with_mode=[]\n",
        "    for col in cat_col_list:\n",
        "        #Filter null\n",
        "        df = df.filter(df[col].isNull()==False)\n",
        "        #Find unique_values_with_count\n",
        "        unique_classes = df.select(col).distinct().rdd.map(lambda x: x[0]).collect()\n",
        "        unique_values_with_count=[]\n",
        "        for uc in unique_classes:\n",
        "             unique_values_with_count.append([uc, df.filter(df[col]==uc).count()])\n",
        "        #sort unique values w.r.t their count values\n",
        "        sorted_unique_values_with_count= sorted(unique_values_with_count, key = lambda x: x[1], reverse =True)\n",
        "\n",
        "        if (verbose==True): print(col, sorted_unique_values_with_count, \" and mode is \", sorted_unique_values_with_count[0][0])\n",
        "        col_with_mode.append([col, sorted_unique_values_with_count[0][0]])\n",
        "    return col_with_mode"
      ]
    },
    {
      "cell_type": "code",
      "execution_count": null,
      "metadata": {
        "colab": {
          "base_uri": "https://localhost:8080/"
        },
        "id": "MG838rvwC-Og",
        "outputId": "5991aad4-c6d8-46e0-c8b9-97e784b735f4"
      },
      "outputs": [
        {
          "output_type": "stream",
          "name": "stdout",
          "text": [
            "al [['0', 55211], ['2', 15743], ['3', 12573], ['4', 8598], ['1', 6276], ['5', 49]]  and mode is  0\n",
            "su [['0', 69748], ['2', 9263], ['3', 7498], ['1', 5313], ['4', 4745], ['5', 209]]  and mode is  0\n",
            "rbc [['abnormal', 57223], ['normal', 39485]]  and mode is  abnormal\n",
            "pc [['normal', 59989], ['abnormal', 34477], ['abnomal', 1317]]  and mode is  normal\n",
            "pcc [['notpresent', 83299], ['present', 12484]]  and mode is  notpresent\n",
            "ba [['notpresent', 80629], ['present', 15072]]  and mode is  notpresent\n",
            "htn [['no', 52581], ['yes', 43035]]  and mode is  no\n",
            "dm [['no', 58025], ['yes', 37493]]  and mode is  no\n",
            "cad [['no', 72549], ['yes', 22969]]  and mode is  no\n",
            "appet [['good', 66697], ['poor', 28345], ['good ', 410]]  and mode is  good\n",
            "pe [['no', 70549], ['yes', 24433]]  and mode is  no\n",
            "ane [['no', 69267], ['yes', 25715]]  and mode is  no\n"
          ]
        },
        {
          "output_type": "execute_result",
          "data": {
            "text/plain": [
              "[['al', '0'],\n",
              " ['su', '0'],\n",
              " ['rbc', 'abnormal'],\n",
              " ['pc', 'normal'],\n",
              " ['pcc', 'notpresent'],\n",
              " ['ba', 'notpresent'],\n",
              " ['htn', 'no'],\n",
              " ['dm', 'no'],\n",
              " ['cad', 'no'],\n",
              " ['appet', 'good'],\n",
              " ['pe', 'no'],\n",
              " ['ane', 'no']]"
            ]
          },
          "metadata": {},
          "execution_count": 38
        }
      ],
      "source": [
        "#Validate it\n",
        "cat_col_list=['al', 'su', 'rbc', 'pc', 'pcc', 'ba', 'htn', 'dm', 'cad', 'appet', 'pe', 'ane']\n",
        "mode_of_pyspark_columns(df, cat_col_list, verbose=True)"
      ]
    },
    {
      "cell_type": "code",
      "execution_count": null,
      "metadata": {
        "id": "uVFQ_LyCC-KN"
      },
      "outputs": [],
      "source": [
        "#as you can see from the above that we have to replace for colmun 'cad' also\n",
        "from pyspark.sql.functions import when, lit\n",
        "df = df.withColumn('cad', when(df['cad']=='\\tno',\n",
        "lit(\"no\")).otherwise(df['cad']))"
      ]
    },
    {
      "cell_type": "code",
      "execution_count": null,
      "metadata": {
        "colab": {
          "base_uri": "https://localhost:8080/"
        },
        "id": "4nj4ti21C-GH",
        "outputId": "0af7668b-0aa9-4c29-b9ef-f078f8ef4682"
      },
      "outputs": [
        {
          "output_type": "stream",
          "name": "stdout",
          "text": [
            "+---+\n",
            "|cad|\n",
            "+---+\n",
            "| no|\n",
            "|yes|\n",
            "+---+\n",
            "\n"
          ]
        }
      ],
      "source": [
        "df.select('cad').distinct().show()"
      ]
    },
    {
      "cell_type": "code",
      "execution_count": null,
      "metadata": {
        "id": "pRV5kf0mC-Bn"
      },
      "outputs": [],
      "source": [
        "#Now we have found our bits and pieces, its time to integrate them\n",
        "\n",
        "#Fill missing values for mean and mode"
      ]
    },
    {
      "cell_type": "code",
      "execution_count": null,
      "metadata": {
        "id": "d7GL-fR1C989"
      },
      "outputs": [],
      "source": [
        "#Fill missing values for mean\n",
        "from pyspark.sql.functions import when, lit\n",
        "\n",
        "def fill_missing_with_mean(df, numeric_cols):\n",
        "    col_with_mean = mean_of_pyspark_columns(df, numeric_cols)\n",
        "\n",
        "    for col, mean in col_with_mean:\n",
        "        df = df.withColumn(col, when(df[col].isNull()==True,\n",
        "        lit(mean)).otherwise(df[col]))\n",
        "\n",
        "    return df"
      ]
    },
    {
      "cell_type": "code",
      "execution_count": null,
      "metadata": {
        "id": "sIILT7KLC94L"
      },
      "outputs": [],
      "source": [
        "#Now this is the time to literally consume the fill_missing_with_mean\n",
        "\n",
        "numeric_cols=['age', 'bp', 'sg','bgr', 'bu', 'sc', 'sod', 'pot', 'hemo', 'pcv', 'wc', 'rbc']\n",
        "df = fill_missing_with_mean(df, numeric_cols)"
      ]
    },
    {
      "cell_type": "code",
      "execution_count": null,
      "metadata": {
        "colab": {
          "base_uri": "https://localhost:8080/"
        },
        "id": "Xdv2ilyKC9zc",
        "outputId": "ffe5c3a2-817d-4fc4-d3c3-50b9f00bdf61"
      },
      "outputs": [
        {
          "output_type": "stream",
          "name": "stdout",
          "text": [
            "+---+---+-----+---+---+--------+-------+----------+----------+---+---+----+---+---+----+---+-----+---+---+---+---+-----+---+---+-----+\n",
            "|age| bp|   sg| al| su|     rbc|     pc|       pcc|        ba|bgr| bu|  sc|sod|pot|hemo|pcv|   wc| rc|htn| dm|cad|appet| pe|ane|class|\n",
            "+---+---+-----+---+---+--------+-------+----------+----------+---+---+----+---+---+----+---+-----+---+---+---+---+-----+---+---+-----+\n",
            "| 50|150| 1.02|  1|  0|abnormal| normal|notpresent|notpresent|181|204| 8.4|135|  4|10.3| 44| 7800|5.2| no| no| no| good| no| no|  ckd|\n",
            "| 69|140| 1.02|  4|  0|abnormal| normal|notpresent|notpresent|121| 64| 7.3|130|5.4| 9.4| 38| 6000|3.9| no| no| no| good| no|yes|  ckd|\n",
            "| 69|160| 1.02|  2|  3|abnormal| normal|notpresent|notpresent|423| 34|   7|129|4.9|10.6| 31| 7500|4.6| no|yes| no| poor| no| no|  ckd|\n",
            "| 71|140|1.005|  4|  0|abnormal|abnomal|   present|notpresent|106| 67|11.6|131|5.5| 7.2| 32| 6700|4.4| no| no| no| poor|yes|yes|  ckd|\n",
            "| 65|170| 1.01|  2|  0|abnormal| normal|   present|notpresent| 66|102|  16|128|5.6| 9.6| 35| 7300|  5| no| no| no| good| no|yes|  ckd|\n",
            "| 70|160|1.015|  3|  0|abnormal| normal|notpresent|notpresent| 74|180|   9|137|4.6| 9.6| 39| 7800|  4|yes| no| no| good|yes|yes|  ckd|\n",
            "| 35|170| 1.01|  0|  0|abnormal| normal|notpresent|notpresent|100|249|14.7|127|5.8| 9.7| 36| 6900|3.7| no| no| no| good| no|yes|  ckd|\n",
            "| 55|120|1.015|  2|  4|abnormal|abnomal|notpresent|notpresent|410|223|17.6|132|5.6| 9.5| 44|12100|3.8| no|yes| no| good|yes|yes|  ckd|\n",
            "| 59|130| 1.02|  3|  0|abnormal|abnomal|notpresent|notpresent|138|185|14.8|133|5.4| 9.3| 33| 4500|3.4|yes| no| no| good| no|yes|  ckd|\n",
            "| 55|130|1.025|  2|  0|abnormal|abnomal|notpresent|notpresent| 70|342| 9.4|130|5.4| 8.5| 29|12200|2.6|yes| no| no| good| no|yes|  ckd|\n",
            "| 43|120| 1.01|  2|  4|abnormal|abnomal|notpresent|notpresent|490|119|   8|130|5.7|   8| 28|11000|2.8|yes|yes|yes| poor| no|yes|  ckd|\n",
            "| 68|100|1.015|  3|  0|abnormal|abnomal|notpresent|notpresent|138|213|11.6|135|  4| 8.1| 32| 3800|4.3|yes| no| no| good|yes|yes|  ckd|\n",
            "| 68|160| 1.01|  3|  1|abnormal| normal|notpresent|notpresent| 70|204| 5.7|142|4.9| 7.8| 28|11400|3.7|yes| no| no| poor|yes|yes|  ckd|\n",
            "| 53|130|1.015|  2|  0|abnormal| normal|notpresent|notpresent|380|102|17.5|139|5.3|10.3| 33| 5300|3.2|yes|yes|yes| poor| no| no|  ckd|\n",
            "| 50|150|1.025|  0|  1|abnormal|abnomal|notpresent|   present|208|187|18.4|131|3.7|  10| 16| 9200|3.6|yes|yes|yes| poor| no| no|  ckd|\n",
            "| 69|140|1.025|  0|  2|abnormal| normal|notpresent|notpresent| 98| 73| 7.3|129|4.9| 9.1| 24| 6200|3.4|yes| no| no| poor| no|yes|  ckd|\n",
            "| 69|130| 1.02|  0|  0|abnormal| normal|notpresent|notpresent|157|187| 6.3|130|  5|11.7| 37| 6900|5.2| no| no| no| good| no| no|  ckd|\n",
            "| 71|120| 1.02|  3|  0|abnormal| normal|notpresent|notpresent| 76| 73| 6.4|134|4.4|11.6| 30|11400|3.9|yes| no| no| good| no| no|  ckd|\n",
            "| 65|140| 1.02|  2|  0|abnormal| normal|   present|notpresent| 99| 96| 7.1|135|5.7| 8.4| 24| 5300|4.6|yes|yes|yes| poor| no|yes|  ckd|\n",
            "| 70|120| 1.02|  0|  3|abnormal| normal|   present|notpresent|114| 73|18.4|129|4.1|11.6| 32| 9200|4.4|yes|yes|yes| good| no| no|  ckd|\n",
            "+---+---+-----+---+---+--------+-------+----------+----------+---+---+----+---+---+----+---+-----+---+---+---+---+-----+---+---+-----+\n",
            "only showing top 20 rows\n",
            "\n"
          ]
        }
      ],
      "source": [
        "df.show()"
      ]
    },
    {
      "cell_type": "code",
      "execution_count": null,
      "metadata": {
        "id": "ENvvxaxEC9u8"
      },
      "outputs": [],
      "source": [
        "#Fill missing values for mode\n",
        "from pyspark.sql.functions import when, lit\n",
        "\n",
        "def fill_missing_with_mode(df, cat_col_list):\n",
        "    col_with_mode =mode_of_pyspark_columns(df, cat_col_list)\n",
        "\n",
        "    for col, mode in col_with_mode:\n",
        "        df = df.withColumn(col, when(df[col].isNull()==True,\n",
        "        lit(mode)).otherwise(df[col]))\n",
        "\n",
        "    return df"
      ]
    },
    {
      "cell_type": "code",
      "execution_count": null,
      "metadata": {
        "id": "dnyOQdTSC9qY"
      },
      "outputs": [],
      "source": [
        "#Now this is the time to literally consume the fill_missing_with_mode\n",
        "cat_col_list=['al', 'su', 'rbc', 'pc', 'pcc', 'ba', 'htn', 'dm', 'cad', 'appet', 'pe', 'ane']\n",
        "df = fill_missing_with_mode(df, cat_col_list)"
      ]
    },
    {
      "cell_type": "code",
      "execution_count": null,
      "metadata": {
        "id": "ARQx6t4UC9e0",
        "colab": {
          "base_uri": "https://localhost:8080/"
        },
        "outputId": "6f979804-366b-453b-f58e-7528a728f9ac"
      },
      "outputs": [
        {
          "output_type": "stream",
          "name": "stdout",
          "text": [
            "+-------+------------------+\n",
            "|summary|               age|\n",
            "+-------+------------------+\n",
            "|  count|             99999|\n",
            "|   mean| 54.16572303137004|\n",
            "| stddev|14.121507108118916|\n",
            "|    min|                15|\n",
            "|    max|                90|\n",
            "+-------+------------------+\n",
            "\n",
            "+-------+------------------+\n",
            "|summary|                bp|\n",
            "+-------+------------------+\n",
            "|  count|             99999|\n",
            "|   mean|126.38240236875798|\n",
            "| stddev|35.405826450929894|\n",
            "|    min|                10|\n",
            "|    max|                80|\n",
            "+-------+------------------+\n",
            "\n",
            "+-------+------------------+\n",
            "|summary|                sg|\n",
            "+-------+------------------+\n",
            "|  count|             99999|\n",
            "|   mean|1.1576812074732064|\n",
            "| stddev|0.7078095671897485|\n",
            "|    min|                 0|\n",
            "|    max|                 4|\n",
            "+-------+------------------+\n",
            "\n",
            "+-------+------------------+\n",
            "|summary|                al|\n",
            "+-------+------------------+\n",
            "|  count|             99999|\n",
            "|   mean|1.1011910119101191|\n",
            "| stddev| 1.414005116579934|\n",
            "|    min|                 0|\n",
            "|    max|                 5|\n",
            "+-------+------------------+\n",
            "\n",
            "+-------+------------------+\n",
            "|summary|                su|\n",
            "+-------+------------------+\n",
            "|  count|             99999|\n",
            "|   mean|0.6636366363663637|\n",
            "| stddev|1.2123160533509616|\n",
            "|    min|                 0|\n",
            "|    max|                 5|\n",
            "+-------+------------------+\n",
            "\n",
            "+-------+--------+\n",
            "|summary|     rbc|\n",
            "+-------+--------+\n",
            "|  count|   99999|\n",
            "|   mean|    null|\n",
            "| stddev|    null|\n",
            "|    min|abnormal|\n",
            "|    max|  normal|\n",
            "+-------+--------+\n",
            "\n",
            "+-------+-------+\n",
            "|summary|     pc|\n",
            "+-------+-------+\n",
            "|  count|  99999|\n",
            "|   mean|   null|\n",
            "| stddev|   null|\n",
            "|    min|abnomal|\n",
            "|    max| normal|\n",
            "+-------+-------+\n",
            "\n",
            "+-------+----------+\n",
            "|summary|       pcc|\n",
            "+-------+----------+\n",
            "|  count|     99999|\n",
            "|   mean|      null|\n",
            "| stddev|      null|\n",
            "|    min|notpresent|\n",
            "|    max|   present|\n",
            "+-------+----------+\n",
            "\n",
            "+-------+----------+\n",
            "|summary|        ba|\n",
            "+-------+----------+\n",
            "|  count|     99999|\n",
            "|   mean|      null|\n",
            "| stddev|      null|\n",
            "|    min|notpresent|\n",
            "|    max|   present|\n",
            "+-------+----------+\n",
            "\n",
            "+-------+------------------+\n",
            "|summary|               bgr|\n",
            "+-------+------------------+\n",
            "|  count|             99999|\n",
            "|   mean|147.70895682680148|\n",
            "| stddev| 79.28831683425238|\n",
            "|    min|                10|\n",
            "|    max|                99|\n",
            "+-------+------------------+\n",
            "\n",
            "+-------+-----------------+\n",
            "|summary|               bu|\n",
            "+-------+-----------------+\n",
            "|  count|            99999|\n",
            "|   mean| 82.3081949684282|\n",
            "| stddev|71.33383882811373|\n",
            "|    min|              1.5|\n",
            "|    max|             98.6|\n",
            "+-------+-----------------+\n",
            "\n",
            "+-------+------------------+\n",
            "|summary|                sc|\n",
            "+-------+------------------+\n",
            "|  count|             99999|\n",
            "|   mean| 5.402288898498088|\n",
            "| stddev|5.2660815889699775|\n",
            "|    min|               0.4|\n",
            "|    max|              9.98|\n",
            "+-------+------------------+\n",
            "\n",
            "+-------+-----------------+\n",
            "|summary|              sod|\n",
            "+-------+-----------------+\n",
            "|  count|            99999|\n",
            "|   mean|135.0617642818893|\n",
            "| stddev|6.246785920756962|\n",
            "|    min|              104|\n",
            "|    max|               58|\n",
            "+-------+-----------------+\n",
            "\n",
            "+-------+------------------+\n",
            "|summary|               pot|\n",
            "+-------+------------------+\n",
            "|  count|             99999|\n",
            "|   mean| 4.596316289506222|\n",
            "| stddev|0.7755290090546167|\n",
            "|    min|               2.1|\n",
            "|    max|                 9|\n",
            "+-------+------------------+\n",
            "\n",
            "+-------+------------------+\n",
            "|summary|              hemo|\n",
            "+-------+------------------+\n",
            "|  count|             99999|\n",
            "|   mean|11.968007102800264|\n",
            "| stddev| 2.893060528245837|\n",
            "|    min|               0.9|\n",
            "|    max|               9.9|\n",
            "+-------+------------------+\n",
            "\n",
            "+-------+------------------+\n",
            "|summary|               pcv|\n",
            "+-------+------------------+\n",
            "|  count|             99999|\n",
            "|   mean|36.256084672123286|\n",
            "| stddev| 8.325477516612548|\n",
            "|    min|                14|\n",
            "|    max|               9.1|\n",
            "+-------+------------------+\n",
            "\n",
            "+-------+------------------+\n",
            "|summary|                wc|\n",
            "+-------+------------------+\n",
            "|  count|             99999|\n",
            "|   mean|  8608.81074374349|\n",
            "| stddev|3540.7540271119515|\n",
            "|    min|             10000|\n",
            "|    max|              9990|\n",
            "+-------+------------------+\n",
            "\n",
            "+-------+------------------+\n",
            "|summary|                rc|\n",
            "+-------+------------------+\n",
            "|  count|             99065|\n",
            "|   mean| 4.335314187655269|\n",
            "| stddev|1.3828500780147008|\n",
            "|    min|              0.29|\n",
            "|    max|              9.98|\n",
            "+-------+------------------+\n",
            "\n",
            "+-------+-----+\n",
            "|summary|  htn|\n",
            "+-------+-----+\n",
            "|  count|99999|\n",
            "|   mean| null|\n",
            "| stddev| null|\n",
            "|    min|   no|\n",
            "|    max|  yes|\n",
            "+-------+-----+\n",
            "\n",
            "+-------+-----+\n",
            "|summary|   dm|\n",
            "+-------+-----+\n",
            "|  count|99999|\n",
            "|   mean| null|\n",
            "| stddev| null|\n",
            "|    min|   no|\n",
            "|    max|  yes|\n",
            "+-------+-----+\n",
            "\n",
            "+-------+-----+\n",
            "|summary|  cad|\n",
            "+-------+-----+\n",
            "|  count|99999|\n",
            "|   mean| null|\n",
            "| stddev| null|\n",
            "|    min|   no|\n",
            "|    max|  yes|\n",
            "+-------+-----+\n",
            "\n",
            "+-------+-----+\n",
            "|summary|appet|\n",
            "+-------+-----+\n",
            "|  count|99999|\n",
            "|   mean| null|\n",
            "| stddev| null|\n",
            "|    min| good|\n",
            "|    max| poor|\n",
            "+-------+-----+\n",
            "\n",
            "+-------+-----+\n",
            "|summary|   pe|\n",
            "+-------+-----+\n",
            "|  count|99999|\n",
            "|   mean| null|\n",
            "| stddev| null|\n",
            "|    min|   no|\n",
            "|    max|  yes|\n",
            "+-------+-----+\n",
            "\n",
            "+-------+-----+\n",
            "|summary|  ane|\n",
            "+-------+-----+\n",
            "|  count|99999|\n",
            "|   mean| null|\n",
            "| stddev| null|\n",
            "|    min|   no|\n",
            "|    max|  yes|\n",
            "+-------+-----+\n",
            "\n",
            "+-------+------+\n",
            "|summary| class|\n",
            "+-------+------+\n",
            "|  count| 99999|\n",
            "|   mean|  null|\n",
            "| stddev|  null|\n",
            "|    min|   ckd|\n",
            "|    max|notckd|\n",
            "+-------+------+\n",
            "\n"
          ]
        }
      ],
      "source": [
        "#again validate that our awesome functions worked or not on true dataframe that is 'df'\n",
        "for col in df.columns:\n",
        "     df.describe([col]).show()"
      ]
    },
    {
      "cell_type": "code",
      "execution_count": null,
      "metadata": {
        "id": "z5qojBL2Fi1R",
        "colab": {
          "base_uri": "https://localhost:8080/"
        },
        "outputId": "1585919a-badf-4a47-d4a9-9cc5628b3217"
      },
      "outputs": [
        {
          "output_type": "stream",
          "name": "stdout",
          "text": [
            "age \t with null values:  0\n",
            "bp \t with null values:  0\n",
            "sg \t with null values:  0\n",
            "al \t with null values:  0\n",
            "su \t with null values:  0\n",
            "rbc \t with null values:  0\n",
            "pc \t with null values:  0\n",
            "pcc \t with null values:  0\n",
            "ba \t with null values:  0\n",
            "bgr \t with null values:  0\n",
            "bu \t with null values:  0\n",
            "sc \t with null values:  0\n",
            "sod \t with null values:  0\n",
            "pot \t with null values:  0\n",
            "hemo \t with null values:  0\n",
            "pcv \t with null values:  0\n",
            "wc \t with null values:  0\n",
            "rc \t with null values:  934\n",
            "htn \t with null values:  0\n",
            "dm \t with null values:  0\n",
            "cad \t with null values:  0\n",
            "appet \t with null values:  0\n",
            "pe \t with null values:  0\n",
            "ane \t with null values:  0\n",
            "class \t with null values:  0\n"
          ]
        }
      ],
      "source": [
        "#Count the value of null in every column\n",
        "for col in df.columns:\n",
        "    print(col, \"\\t\", \"with null values: \", df.filter(df[col].isNull()).count())"
      ]
    },
    {
      "cell_type": "code",
      "execution_count": null,
      "metadata": {
        "id": "hIj1A_HaFiwj",
        "colab": {
          "base_uri": "https://localhost:8080/"
        },
        "outputId": "ce19a35c-25ec-435a-b53f-ccd6a458d15e"
      },
      "outputs": [
        {
          "output_type": "stream",
          "name": "stdout",
          "text": [
            "+---+---+-----+---+---+--------+-------+----------+----------+---+---+----+---+---+----+---+-----+---+---+---+---+-----+---+---+-----+-----+\n",
            "|age| bp|   sg| al| su|     rbc|     pc|       pcc|        ba|bgr| bu|  sc|sod|pot|hemo|pcv|   wc| rc|htn| dm|cad|appet| pe|ane|class|label|\n",
            "+---+---+-----+---+---+--------+-------+----------+----------+---+---+----+---+---+----+---+-----+---+---+---+---+-----+---+---+-----+-----+\n",
            "| 50|150| 1.02|  1|  0|abnormal| normal|notpresent|notpresent|181|204| 8.4|135|  4|10.3| 44| 7800|5.2| no| no| no| good| no| no|  ckd|  0.0|\n",
            "| 69|140| 1.02|  4|  0|abnormal| normal|notpresent|notpresent|121| 64| 7.3|130|5.4| 9.4| 38| 6000|3.9| no| no| no| good| no|yes|  ckd|  0.0|\n",
            "| 69|160| 1.02|  2|  3|abnormal| normal|notpresent|notpresent|423| 34|   7|129|4.9|10.6| 31| 7500|4.6| no|yes| no| poor| no| no|  ckd|  0.0|\n",
            "| 71|140|1.005|  4|  0|abnormal|abnomal|   present|notpresent|106| 67|11.6|131|5.5| 7.2| 32| 6700|4.4| no| no| no| poor|yes|yes|  ckd|  0.0|\n",
            "| 65|170| 1.01|  2|  0|abnormal| normal|   present|notpresent| 66|102|  16|128|5.6| 9.6| 35| 7300|  5| no| no| no| good| no|yes|  ckd|  0.0|\n",
            "| 70|160|1.015|  3|  0|abnormal| normal|notpresent|notpresent| 74|180|   9|137|4.6| 9.6| 39| 7800|  4|yes| no| no| good|yes|yes|  ckd|  0.0|\n",
            "| 35|170| 1.01|  0|  0|abnormal| normal|notpresent|notpresent|100|249|14.7|127|5.8| 9.7| 36| 6900|3.7| no| no| no| good| no|yes|  ckd|  0.0|\n",
            "| 55|120|1.015|  2|  4|abnormal|abnomal|notpresent|notpresent|410|223|17.6|132|5.6| 9.5| 44|12100|3.8| no|yes| no| good|yes|yes|  ckd|  0.0|\n",
            "| 59|130| 1.02|  3|  0|abnormal|abnomal|notpresent|notpresent|138|185|14.8|133|5.4| 9.3| 33| 4500|3.4|yes| no| no| good| no|yes|  ckd|  0.0|\n",
            "| 55|130|1.025|  2|  0|abnormal|abnomal|notpresent|notpresent| 70|342| 9.4|130|5.4| 8.5| 29|12200|2.6|yes| no| no| good| no|yes|  ckd|  0.0|\n",
            "| 43|120| 1.01|  2|  4|abnormal|abnomal|notpresent|notpresent|490|119|   8|130|5.7|   8| 28|11000|2.8|yes|yes|yes| poor| no|yes|  ckd|  0.0|\n",
            "| 68|100|1.015|  3|  0|abnormal|abnomal|notpresent|notpresent|138|213|11.6|135|  4| 8.1| 32| 3800|4.3|yes| no| no| good|yes|yes|  ckd|  0.0|\n",
            "| 68|160| 1.01|  3|  1|abnormal| normal|notpresent|notpresent| 70|204| 5.7|142|4.9| 7.8| 28|11400|3.7|yes| no| no| poor|yes|yes|  ckd|  0.0|\n",
            "| 53|130|1.015|  2|  0|abnormal| normal|notpresent|notpresent|380|102|17.5|139|5.3|10.3| 33| 5300|3.2|yes|yes|yes| poor| no| no|  ckd|  0.0|\n",
            "| 50|150|1.025|  0|  1|abnormal|abnomal|notpresent|   present|208|187|18.4|131|3.7|  10| 16| 9200|3.6|yes|yes|yes| poor| no| no|  ckd|  0.0|\n",
            "| 69|140|1.025|  0|  2|abnormal| normal|notpresent|notpresent| 98| 73| 7.3|129|4.9| 9.1| 24| 6200|3.4|yes| no| no| poor| no|yes|  ckd|  0.0|\n",
            "| 69|130| 1.02|  0|  0|abnormal| normal|notpresent|notpresent|157|187| 6.3|130|  5|11.7| 37| 6900|5.2| no| no| no| good| no| no|  ckd|  0.0|\n",
            "| 71|120| 1.02|  3|  0|abnormal| normal|notpresent|notpresent| 76| 73| 6.4|134|4.4|11.6| 30|11400|3.9|yes| no| no| good| no| no|  ckd|  0.0|\n",
            "| 65|140| 1.02|  2|  0|abnormal| normal|   present|notpresent| 99| 96| 7.1|135|5.7| 8.4| 24| 5300|4.6|yes|yes|yes| poor| no|yes|  ckd|  0.0|\n",
            "| 70|120| 1.02|  0|  3|abnormal| normal|   present|notpresent|114| 73|18.4|129|4.1|11.6| 32| 9200|4.4|yes|yes|yes| good| no| no|  ckd|  0.0|\n",
            "+---+---+-----+---+---+--------+-------+----------+----------+---+---+----+---+---+----+---+-----+---+---+---+---+-----+---+---+-----+-----+\n",
            "only showing top 20 rows\n",
            "\n",
            "+-----+\n",
            "|label|\n",
            "+-----+\n",
            "|  0.0|\n",
            "|  1.0|\n",
            "+-----+\n",
            "\n"
          ]
        }
      ],
      "source": [
        "from pyspark.ml.feature import StringIndexer\n",
        "\n",
        "\n",
        "indexer = StringIndexer(inputCol=\"class\", outputCol=\"label\")\n",
        "indexed = indexer.fit(df).transform(df)\n",
        "indexed.show()\n",
        "indexed.select('label').distinct().show()"
      ]
    },
    {
      "cell_type": "code",
      "execution_count": null,
      "metadata": {
        "id": "nMmDwCNnFirr",
        "colab": {
          "base_uri": "https://localhost:8080/"
        },
        "outputId": "c4b02596-b537-40dd-9b58-49e6914fcbb1"
      },
      "outputs": [
        {
          "output_type": "stream",
          "name": "stdout",
          "text": [
            "age \t with null values:  0\n",
            "bp \t with null values:  0\n",
            "sg \t with null values:  0\n",
            "al \t with null values:  0\n",
            "su \t with null values:  0\n",
            "rbc \t with null values:  0\n",
            "pc \t with null values:  0\n",
            "pcc \t with null values:  0\n",
            "ba \t with null values:  0\n",
            "bgr \t with null values:  0\n",
            "bu \t with null values:  0\n",
            "sc \t with null values:  0\n",
            "sod \t with null values:  0\n",
            "pot \t with null values:  0\n",
            "hemo \t with null values:  0\n",
            "pcv \t with null values:  0\n",
            "wc \t with null values:  0\n",
            "rc \t with null values:  934\n",
            "htn \t with null values:  0\n",
            "dm \t with null values:  0\n",
            "cad \t with null values:  0\n",
            "appet \t with null values:  0\n",
            "pe \t with null values:  0\n",
            "ane \t with null values:  0\n",
            "class \t with null values:  0\n"
          ]
        }
      ],
      "source": [
        "#Count the value of null in every column\n",
        "for col in df.columns:\n",
        "    print(col, \"\\t\", \"with null values: \", df.filter(df[col].isNull()).count())"
      ]
    },
    {
      "cell_type": "code",
      "execution_count": null,
      "metadata": {
        "id": "Om-5vj7vFimz",
        "colab": {
          "base_uri": "https://localhost:8080/"
        },
        "outputId": "2926561e-5f1a-4278-ac1c-3195899b715d"
      },
      "outputs": [
        {
          "output_type": "stream",
          "name": "stdout",
          "text": [
            "+---+---+-----+---+---+--------+-------+----------+----------+---+---+----+---+---+----+---+-----+---+---+---+---+-----+---+---+-----+-----+-------+-------+--------+-------+--------+-------+--------+-------+--------+----------+-------+--------+\n",
            "|age| bp|   sg| al| su|     rbc|     pc|       pcc|        ba|bgr| bu|  sc|sod|pot|hemo|pcv|   wc| rc|htn| dm|cad|appet| pe|ane|class|label|alIndex|suIndex|rbcIndex|pcIndex|pccIndex|baIndex|htnIndex|dmIndex|cadIndex|appetIndex|peIndex|aneIndex|\n",
            "+---+---+-----+---+---+--------+-------+----------+----------+---+---+----+---+---+----+---+-----+---+---+---+---+-----+---+---+-----+-----+-------+-------+--------+-------+--------+-------+--------+-------+--------+----------+-------+--------+\n",
            "| 50|150| 1.02|  1|  0|abnormal| normal|notpresent|notpresent|181|204| 8.4|135|  4|10.3| 44| 7800|5.2| no| no| no| good| no| no|  ckd|  0.0|    4.0|    0.0|     0.0|    0.0|     0.0|    0.0|     0.0|    0.0|     0.0|       0.0|    0.0|     0.0|\n",
            "| 69|140| 1.02|  4|  0|abnormal| normal|notpresent|notpresent|121| 64| 7.3|130|5.4| 9.4| 38| 6000|3.9| no| no| no| good| no|yes|  ckd|  0.0|    3.0|    0.0|     0.0|    0.0|     0.0|    0.0|     0.0|    0.0|     0.0|       0.0|    0.0|     1.0|\n",
            "| 69|160| 1.02|  2|  3|abnormal| normal|notpresent|notpresent|423| 34|   7|129|4.9|10.6| 31| 7500|4.6| no|yes| no| poor| no| no|  ckd|  0.0|    1.0|    2.0|     0.0|    0.0|     0.0|    0.0|     0.0|    1.0|     0.0|       1.0|    0.0|     0.0|\n",
            "| 71|140|1.005|  4|  0|abnormal|abnomal|   present|notpresent|106| 67|11.6|131|5.5| 7.2| 32| 6700|4.4| no| no| no| poor|yes|yes|  ckd|  0.0|    3.0|    0.0|     0.0|    2.0|     1.0|    0.0|     0.0|    0.0|     0.0|       1.0|    1.0|     1.0|\n",
            "| 65|170| 1.01|  2|  0|abnormal| normal|   present|notpresent| 66|102|  16|128|5.6| 9.6| 35| 7300|  5| no| no| no| good| no|yes|  ckd|  0.0|    1.0|    0.0|     0.0|    0.0|     1.0|    0.0|     0.0|    0.0|     0.0|       0.0|    0.0|     1.0|\n",
            "| 70|160|1.015|  3|  0|abnormal| normal|notpresent|notpresent| 74|180|   9|137|4.6| 9.6| 39| 7800|  4|yes| no| no| good|yes|yes|  ckd|  0.0|    2.0|    0.0|     0.0|    0.0|     0.0|    0.0|     1.0|    0.0|     0.0|       0.0|    1.0|     1.0|\n",
            "| 35|170| 1.01|  0|  0|abnormal| normal|notpresent|notpresent|100|249|14.7|127|5.8| 9.7| 36| 6900|3.7| no| no| no| good| no|yes|  ckd|  0.0|    0.0|    0.0|     0.0|    0.0|     0.0|    0.0|     0.0|    0.0|     0.0|       0.0|    0.0|     1.0|\n",
            "| 55|120|1.015|  2|  4|abnormal|abnomal|notpresent|notpresent|410|223|17.6|132|5.6| 9.5| 44|12100|3.8| no|yes| no| good|yes|yes|  ckd|  0.0|    1.0|    4.0|     0.0|    2.0|     0.0|    0.0|     0.0|    1.0|     0.0|       0.0|    1.0|     1.0|\n",
            "| 59|130| 1.02|  3|  0|abnormal|abnomal|notpresent|notpresent|138|185|14.8|133|5.4| 9.3| 33| 4500|3.4|yes| no| no| good| no|yes|  ckd|  0.0|    2.0|    0.0|     0.0|    2.0|     0.0|    0.0|     1.0|    0.0|     0.0|       0.0|    0.0|     1.0|\n",
            "| 55|130|1.025|  2|  0|abnormal|abnomal|notpresent|notpresent| 70|342| 9.4|130|5.4| 8.5| 29|12200|2.6|yes| no| no| good| no|yes|  ckd|  0.0|    1.0|    0.0|     0.0|    2.0|     0.0|    0.0|     1.0|    0.0|     0.0|       0.0|    0.0|     1.0|\n",
            "| 43|120| 1.01|  2|  4|abnormal|abnomal|notpresent|notpresent|490|119|   8|130|5.7|   8| 28|11000|2.8|yes|yes|yes| poor| no|yes|  ckd|  0.0|    1.0|    4.0|     0.0|    2.0|     0.0|    0.0|     1.0|    1.0|     1.0|       1.0|    0.0|     1.0|\n",
            "| 68|100|1.015|  3|  0|abnormal|abnomal|notpresent|notpresent|138|213|11.6|135|  4| 8.1| 32| 3800|4.3|yes| no| no| good|yes|yes|  ckd|  0.0|    2.0|    0.0|     0.0|    2.0|     0.0|    0.0|     1.0|    0.0|     0.0|       0.0|    1.0|     1.0|\n",
            "| 68|160| 1.01|  3|  1|abnormal| normal|notpresent|notpresent| 70|204| 5.7|142|4.9| 7.8| 28|11400|3.7|yes| no| no| poor|yes|yes|  ckd|  0.0|    2.0|    3.0|     0.0|    0.0|     0.0|    0.0|     1.0|    0.0|     0.0|       1.0|    1.0|     1.0|\n",
            "| 53|130|1.015|  2|  0|abnormal| normal|notpresent|notpresent|380|102|17.5|139|5.3|10.3| 33| 5300|3.2|yes|yes|yes| poor| no| no|  ckd|  0.0|    1.0|    0.0|     0.0|    0.0|     0.0|    0.0|     1.0|    1.0|     1.0|       1.0|    0.0|     0.0|\n",
            "| 50|150|1.025|  0|  1|abnormal|abnomal|notpresent|   present|208|187|18.4|131|3.7|  10| 16| 9200|3.6|yes|yes|yes| poor| no| no|  ckd|  0.0|    0.0|    3.0|     0.0|    2.0|     0.0|    1.0|     1.0|    1.0|     1.0|       1.0|    0.0|     0.0|\n",
            "| 69|140|1.025|  0|  2|abnormal| normal|notpresent|notpresent| 98| 73| 7.3|129|4.9| 9.1| 24| 6200|3.4|yes| no| no| poor| no|yes|  ckd|  0.0|    0.0|    1.0|     0.0|    0.0|     0.0|    0.0|     1.0|    0.0|     0.0|       1.0|    0.0|     1.0|\n",
            "| 69|130| 1.02|  0|  0|abnormal| normal|notpresent|notpresent|157|187| 6.3|130|  5|11.7| 37| 6900|5.2| no| no| no| good| no| no|  ckd|  0.0|    0.0|    0.0|     0.0|    0.0|     0.0|    0.0|     0.0|    0.0|     0.0|       0.0|    0.0|     0.0|\n",
            "| 71|120| 1.02|  3|  0|abnormal| normal|notpresent|notpresent| 76| 73| 6.4|134|4.4|11.6| 30|11400|3.9|yes| no| no| good| no| no|  ckd|  0.0|    2.0|    0.0|     0.0|    0.0|     0.0|    0.0|     1.0|    0.0|     0.0|       0.0|    0.0|     0.0|\n",
            "| 65|140| 1.02|  2|  0|abnormal| normal|   present|notpresent| 99| 96| 7.1|135|5.7| 8.4| 24| 5300|4.6|yes|yes|yes| poor| no|yes|  ckd|  0.0|    1.0|    0.0|     0.0|    0.0|     1.0|    0.0|     1.0|    1.0|     1.0|       1.0|    0.0|     1.0|\n",
            "| 70|120| 1.02|  0|  3|abnormal| normal|   present|notpresent|114| 73|18.4|129|4.1|11.6| 32| 9200|4.4|yes|yes|yes| good| no| no|  ckd|  0.0|    0.0|    2.0|     0.0|    0.0|     1.0|    0.0|     1.0|    1.0|     1.0|       0.0|    0.0|     0.0|\n",
            "+---+---+-----+---+---+--------+-------+----------+----------+---+---+----+---+---+----+---+-----+---+---+---+---+-----+---+---+-----+-----+-------+-------+--------+-------+--------+-------+--------+-------+--------+----------+-------+--------+\n",
            "only showing top 20 rows\n",
            "\n"
          ]
        }
      ],
      "source": [
        "from pyspark.ml.feature import StringIndexer\n",
        "\n",
        "cat_col_list=['al', 'su', 'rbc', 'pc', 'pcc', 'ba', 'htn', 'dm', 'cad', 'appet', 'pe', 'ane']\n",
        "for col in cat_col_list:\n",
        "    indexer = StringIndexer(inputCol=col, outputCol=col + \"Index\")\n",
        "    indexed = indexer.fit(indexed).transform(indexed)\n",
        "indexed.show()"
      ]
    },
    {
      "cell_type": "code",
      "execution_count": null,
      "metadata": {
        "id": "dxQmKsCQFihq",
        "colab": {
          "base_uri": "https://localhost:8080/"
        },
        "outputId": "1ff6810d-6234-4843-b48b-e17c75656974"
      },
      "outputs": [
        {
          "data": {
            "text/plain": [
              "['age',\n",
              " 'bp',\n",
              " 'sg',\n",
              " 'bgr',\n",
              " 'bu',\n",
              " 'sc',\n",
              " 'sod',\n",
              " 'pot',\n",
              " 'hemo',\n",
              " 'pcv',\n",
              " 'wc',\n",
              " 'rbc',\n",
              " 'alIndex',\n",
              " 'suIndex',\n",
              " 'rbcIndex',\n",
              " 'pcIndex',\n",
              " 'pccIndex',\n",
              " 'baIndex',\n",
              " 'htnIndex',\n",
              " 'dmIndex',\n",
              " 'cadIndex',\n",
              " 'appetIndex',\n",
              " 'peIndex',\n",
              " 'aneIndex']"
            ]
          },
          "execution_count": 52,
          "metadata": {},
          "output_type": "execute_result"
        }
      ],
      "source": [
        "numeric_cols=['age', 'bp', 'sg','bgr', 'bu', 'sc', 'sod', 'pot', 'hemo', 'pcv', 'wc', 'rbc']\n",
        "index_cat_col_list=['alIndex', 'suIndex', 'rbcIndex', 'pcIndex', 'pccIndex', 'baIndex', 'htnIndex', 'dmIndex', 'cadIndex', 'appetIndex', 'peIndex', 'aneIndex']\n",
        "\n",
        "features_list=numeric_cols + index_cat_col_list\n",
        "features_list"
      ]
    },
    {
      "cell_type": "code",
      "execution_count": null,
      "metadata": {
        "id": "mJeWalq9Qa0T"
      },
      "outputs": [],
      "source": [
        "from pyspark.sql.types import DoubleType\n",
        "\n",
        "numeric_cols=['age', 'bp', 'sg','bgr', 'bu', 'sc', 'sod', 'pot', 'hemo', 'pcv', 'wc', 'rbc']\n",
        "for col in numeric_cols:\n",
        "    indexed = indexed.withColumn(col, indexed[col].cast(DoubleType()))"
      ]
    },
    {
      "cell_type": "code",
      "execution_count": null,
      "metadata": {
        "id": "66AkAGL5Qaq8"
      },
      "outputs": [],
      "source": [
        "from pyspark.ml.linalg import Vectors\n",
        "from pyspark.ml.feature import VectorAssembler\n",
        "\n",
        "vectorAssembler = VectorAssembler(inputCols=features_list,\n",
        "                                  outputCol=\"features\")\n",
        "\n",
        "# For your special case that has string instead of doubles you should cast them first.\n",
        "# expr = [col(c).cast(\"Double\").alias(c)\n",
        "#         for c in vectorAssembler.getInputCols()]\n",
        "\n",
        "# df2 = df2.select(*expr)\n",
        "features_vectorized = vectorAssembler.transform(indexed)\n",
        "#features_vectorized.show()"
      ]
    },
    {
      "cell_type": "code",
      "source": [
        "from pyspark.ml.feature import Normalizer\n",
        "from pyspark.ml.linalg import Vectors\n",
        "\n",
        "normalizer = Normalizer(inputCol=\"features\", outputCol=\"features_norm\", p=1.0)\n",
        "l1NormData = normalizer.transform(features_vectorized)\n",
        "#l1NormData.show()"
      ],
      "metadata": {
        "id": "kEzmcZ9GmMZY"
      },
      "execution_count": null,
      "outputs": []
    },
    {
      "cell_type": "code",
      "source": [
        "df_combine = l1NormData\n",
        "for col in features_list:\n",
        "      df_combine = df_combine.drop(col)\n",
        "\n",
        "#df_combine.show()"
      ],
      "metadata": {
        "id": "hatzCnE8ptz3"
      },
      "execution_count": null,
      "outputs": []
    },
    {
      "cell_type": "code",
      "source": [
        "for col in cat_col_list:\n",
        "      df_combine = df_combine.drop(col)\n",
        "\n",
        "#df_combine.show()"
      ],
      "metadata": {
        "id": "aRRj3vPpp68x"
      },
      "execution_count": null,
      "outputs": []
    },
    {
      "cell_type": "code",
      "source": [
        "df_combine = df_combine.drop(\"features\").drop(\"class\")\n",
        "#df_combine.show()"
      ],
      "metadata": {
        "id": "kPi9uTXeqMon"
      },
      "execution_count": null,
      "outputs": []
    },
    {
      "cell_type": "code",
      "execution_count": null,
      "metadata": {
        "id": "YR_ma62Is8Sv",
        "colab": {
          "base_uri": "https://localhost:8080/"
        },
        "outputId": "53ca6be3-e334-47db-ce54-378cadcef3d8"
      },
      "outputs": [
        {
          "output_type": "stream",
          "name": "stdout",
          "text": [
            "(99999, 25)\n"
          ]
        }
      ],
      "source": [
        "#Check dimension's\n",
        "print((df.count(),len(df.columns)))"
      ]
    },
    {
      "cell_type": "code",
      "execution_count": null,
      "metadata": {
        "id": "UcAwea_cs8QU",
        "colab": {
          "base_uri": "https://localhost:8080/"
        },
        "outputId": "02e942c4-a8e8-4518-a58b-ef8f92f995ce"
      },
      "outputs": [
        {
          "output_type": "stream",
          "name": "stdout",
          "text": [
            "root\n",
            " |-- age: string (nullable = true)\n",
            " |-- bp: string (nullable = true)\n",
            " |-- sg: string (nullable = true)\n",
            " |-- al: string (nullable = true)\n",
            " |-- su: string (nullable = true)\n",
            " |-- rbc: string (nullable = true)\n",
            " |-- pc: string (nullable = true)\n",
            " |-- pcc: string (nullable = true)\n",
            " |-- ba: string (nullable = true)\n",
            " |-- bgr: string (nullable = true)\n",
            " |-- bu: string (nullable = true)\n",
            " |-- sc: string (nullable = true)\n",
            " |-- sod: string (nullable = true)\n",
            " |-- pot: string (nullable = true)\n",
            " |-- hemo: string (nullable = true)\n",
            " |-- pcv: string (nullable = true)\n",
            " |-- wc: string (nullable = true)\n",
            " |-- rc: string (nullable = true)\n",
            " |-- htn: string (nullable = true)\n",
            " |-- dm: string (nullable = true)\n",
            " |-- cad: string (nullable = true)\n",
            " |-- appet: string (nullable = true)\n",
            " |-- pe: string (nullable = true)\n",
            " |-- ane: string (nullable = true)\n",
            " |-- class: string (nullable = true)\n",
            "\n"
          ]
        }
      ],
      "source": [
        "#Check for the schema\n",
        "df.printSchema()"
      ]
    },
    {
      "cell_type": "code",
      "execution_count": null,
      "metadata": {
        "id": "5Wie2lZWs8Lx",
        "colab": {
          "base_uri": "https://localhost:8080/"
        },
        "outputId": "3d659793-9fae-43fd-ffb7-23ded8562fbe"
      },
      "outputs": [
        {
          "output_type": "execute_result",
          "data": {
            "text/plain": [
              "[('age', 'string'),\n",
              " ('bp', 'string'),\n",
              " ('sg', 'string'),\n",
              " ('al', 'string'),\n",
              " ('su', 'string'),\n",
              " ('rbc', 'string'),\n",
              " ('pc', 'string'),\n",
              " ('pcc', 'string'),\n",
              " ('ba', 'string'),\n",
              " ('bgr', 'string'),\n",
              " ('bu', 'string'),\n",
              " ('sc', 'string'),\n",
              " ('sod', 'string'),\n",
              " ('pot', 'string'),\n",
              " ('hemo', 'string'),\n",
              " ('pcv', 'string'),\n",
              " ('wc', 'string'),\n",
              " ('rc', 'string'),\n",
              " ('htn', 'string'),\n",
              " ('dm', 'string'),\n",
              " ('cad', 'string'),\n",
              " ('appet', 'string'),\n",
              " ('pe', 'string'),\n",
              " ('ane', 'string'),\n",
              " ('class', 'string')]"
            ]
          },
          "metadata": {},
          "execution_count": 128
        }
      ],
      "source": [
        "#Datatypes of the columns\n",
        "df.dtypes"
      ]
    },
    {
      "cell_type": "code",
      "execution_count": null,
      "metadata": {
        "id": "0wq3utJqs8JW"
      },
      "outputs": [],
      "source": [
        "#Drop unwanted columns\n",
        "#my_data = df.drop(*['contact', 'day', 'month','default'])\n",
        "my_data = df.alias('my_data')\n",
        "#my_data = df.copy()"
      ]
    },
    {
      "cell_type": "code",
      "execution_count": null,
      "metadata": {
        "id": "qYTGFHeCs8HG",
        "colab": {
          "base_uri": "https://localhost:8080/"
        },
        "outputId": "789e589c-a31a-44de-be21-d9998e757391"
      },
      "outputs": [
        {
          "output_type": "execute_result",
          "data": {
            "text/plain": [
              "(99999, 25)"
            ]
          },
          "metadata": {},
          "execution_count": 130
        }
      ],
      "source": [
        "# get the dimensions of the data\n",
        "(my_data.count() , len(my_data.columns))"
      ]
    },
    {
      "cell_type": "code",
      "execution_count": null,
      "metadata": {
        "id": "rwzTlY6Es8Eu",
        "colab": {
          "base_uri": "https://localhost:8080/"
        },
        "outputId": "b0b7e82d-230b-483f-deea-3201f080f553"
      },
      "outputs": [
        {
          "output_type": "stream",
          "name": "stdout",
          "text": [
            "+-------+------------------+------------------+------------------+------------------+------------------+--------+-------+----------+----------+------------------+-----------------+------------------+-----------------+------------------+------------------+------------------+------------------+------------------+-----+-----+-----+-----+-----+-----+------+\n",
            "|summary|               age|                bp|                sg|                al|                su|     rbc|     pc|       pcc|        ba|               bgr|               bu|                sc|              sod|               pot|              hemo|               pcv|                wc|                rc|  htn|   dm|  cad|appet|   pe|  ane| class|\n",
            "+-------+------------------+------------------+------------------+------------------+------------------+--------+-------+----------+----------+------------------+-----------------+------------------+-----------------+------------------+------------------+------------------+------------------+------------------+-----+-----+-----+-----+-----+-----+------+\n",
            "|  count|             99999|             99999|             99999|             99999|             99999|   99999|  99999|     99999|     99999|             99999|            99999|             99999|            99999|             99999|             99999|             99999|             99999|             99065|99999|99999|99999|99999|99999|99999| 99999|\n",
            "|   mean| 54.16572303137004|126.38240236875798|1.1576812074732064|1.1011910119101191|0.6636366363663637|    null|   null|      null|      null|147.70895682680148| 82.3081949684282| 5.402288898498088|135.0617642818893| 4.596316289506222|11.968007102800264|36.256084672123286|  8608.81074374349| 4.335314187655269| null| null| null| null| null| null|  null|\n",
            "| stddev|14.121507108118916|35.405826450929894|0.7078095671897485| 1.414005116579934|1.2123160533509616|    null|   null|      null|      null| 79.28831683425238|71.33383882811373|5.2660815889699775|6.246785920756962|0.7755290090546167| 2.893060528245837| 8.325477516612548|3540.7540271119515|1.3828500780147008| null| null| null| null| null| null|  null|\n",
            "|    min|                15|                10|                 0|                 0|                 0|abnormal|abnomal|notpresent|notpresent|                10|              1.5|               0.4|              104|               2.1|               0.9|                14|             10000|              0.29|   no|   no|   no| good|   no|   no|   ckd|\n",
            "|    max|                90|                80|                 4|                 5|                 5|  normal| normal|   present|   present|                99|             98.6|              9.98|               58|                 9|               9.9|               9.1|              9990|              9.98|  yes|  yes|  yes| poor|  yes|  yes|notckd|\n",
            "+-------+------------------+------------------+------------------+------------------+------------------+--------+-------+----------+----------+------------------+-----------------+------------------+-----------------+------------------+------------------+------------------+------------------+------------------+-----+-----+-----+-----+-----+-----+------+\n",
            "\n"
          ]
        }
      ],
      "source": [
        "my_data.describe().show()"
      ]
    },
    {
      "cell_type": "code",
      "execution_count": null,
      "metadata": {
        "id": "y61tQF2mgB1W"
      },
      "outputs": [],
      "source": [
        "#How to handle Categorical features\n",
        "from pyspark.ml.feature import StringIndexer"
      ]
    },
    {
      "cell_type": "code",
      "execution_count": null,
      "metadata": {
        "id": "ZwjQxZLHgEQP",
        "colab": {
          "base_uri": "https://localhost:8080/"
        },
        "outputId": "dc18a97d-398e-4e89-d7de-89469c92d67b"
      },
      "outputs": [
        {
          "output_type": "stream",
          "name": "stdout",
          "text": [
            "+---+---+-----+---+---+--------+-------+----------+----------+---+---+----+---+---+----+---+-----+---+---+---+---+-----+---+---+-----+-----------+\n",
            "|age| bp|   sg| al| su|     rbc|     pc|       pcc|        ba|bgr| bu|  sc|sod|pot|hemo|pcv|   wc| rc|htn| dm|cad|appet| pe|ane|class|rbc_indexed|\n",
            "+---+---+-----+---+---+--------+-------+----------+----------+---+---+----+---+---+----+---+-----+---+---+---+---+-----+---+---+-----+-----------+\n",
            "| 50|150| 1.02|  1|  0|abnormal| normal|notpresent|notpresent|181|204| 8.4|135|  4|10.3| 44| 7800|5.2| no| no| no| good| no| no|  ckd|        0.0|\n",
            "| 69|140| 1.02|  4|  0|abnormal| normal|notpresent|notpresent|121| 64| 7.3|130|5.4| 9.4| 38| 6000|3.9| no| no| no| good| no|yes|  ckd|        0.0|\n",
            "| 69|160| 1.02|  2|  3|abnormal| normal|notpresent|notpresent|423| 34|   7|129|4.9|10.6| 31| 7500|4.6| no|yes| no| poor| no| no|  ckd|        0.0|\n",
            "| 71|140|1.005|  4|  0|abnormal|abnomal|   present|notpresent|106| 67|11.6|131|5.5| 7.2| 32| 6700|4.4| no| no| no| poor|yes|yes|  ckd|        0.0|\n",
            "| 65|170| 1.01|  2|  0|abnormal| normal|   present|notpresent| 66|102|  16|128|5.6| 9.6| 35| 7300|  5| no| no| no| good| no|yes|  ckd|        0.0|\n",
            "| 70|160|1.015|  3|  0|abnormal| normal|notpresent|notpresent| 74|180|   9|137|4.6| 9.6| 39| 7800|  4|yes| no| no| good|yes|yes|  ckd|        0.0|\n",
            "| 35|170| 1.01|  0|  0|abnormal| normal|notpresent|notpresent|100|249|14.7|127|5.8| 9.7| 36| 6900|3.7| no| no| no| good| no|yes|  ckd|        0.0|\n",
            "| 55|120|1.015|  2|  4|abnormal|abnomal|notpresent|notpresent|410|223|17.6|132|5.6| 9.5| 44|12100|3.8| no|yes| no| good|yes|yes|  ckd|        0.0|\n",
            "| 59|130| 1.02|  3|  0|abnormal|abnomal|notpresent|notpresent|138|185|14.8|133|5.4| 9.3| 33| 4500|3.4|yes| no| no| good| no|yes|  ckd|        0.0|\n",
            "| 55|130|1.025|  2|  0|abnormal|abnomal|notpresent|notpresent| 70|342| 9.4|130|5.4| 8.5| 29|12200|2.6|yes| no| no| good| no|yes|  ckd|        0.0|\n",
            "| 43|120| 1.01|  2|  4|abnormal|abnomal|notpresent|notpresent|490|119|   8|130|5.7|   8| 28|11000|2.8|yes|yes|yes| poor| no|yes|  ckd|        0.0|\n",
            "| 68|100|1.015|  3|  0|abnormal|abnomal|notpresent|notpresent|138|213|11.6|135|  4| 8.1| 32| 3800|4.3|yes| no| no| good|yes|yes|  ckd|        0.0|\n",
            "| 68|160| 1.01|  3|  1|abnormal| normal|notpresent|notpresent| 70|204| 5.7|142|4.9| 7.8| 28|11400|3.7|yes| no| no| poor|yes|yes|  ckd|        0.0|\n",
            "| 53|130|1.015|  2|  0|abnormal| normal|notpresent|notpresent|380|102|17.5|139|5.3|10.3| 33| 5300|3.2|yes|yes|yes| poor| no| no|  ckd|        0.0|\n",
            "| 50|150|1.025|  0|  1|abnormal|abnomal|notpresent|   present|208|187|18.4|131|3.7|  10| 16| 9200|3.6|yes|yes|yes| poor| no| no|  ckd|        0.0|\n",
            "| 69|140|1.025|  0|  2|abnormal| normal|notpresent|notpresent| 98| 73| 7.3|129|4.9| 9.1| 24| 6200|3.4|yes| no| no| poor| no|yes|  ckd|        0.0|\n",
            "| 69|130| 1.02|  0|  0|abnormal| normal|notpresent|notpresent|157|187| 6.3|130|  5|11.7| 37| 6900|5.2| no| no| no| good| no| no|  ckd|        0.0|\n",
            "| 71|120| 1.02|  3|  0|abnormal| normal|notpresent|notpresent| 76| 73| 6.4|134|4.4|11.6| 30|11400|3.9|yes| no| no| good| no| no|  ckd|        0.0|\n",
            "| 65|140| 1.02|  2|  0|abnormal| normal|   present|notpresent| 99| 96| 7.1|135|5.7| 8.4| 24| 5300|4.6|yes|yes|yes| poor| no|yes|  ckd|        0.0|\n",
            "| 70|120| 1.02|  0|  3|abnormal| normal|   present|notpresent|114| 73|18.4|129|4.1|11.6| 32| 9200|4.4|yes|yes|yes| good| no| no|  ckd|        0.0|\n",
            "+---+---+-----+---+---+--------+-------+----------+----------+---+---+----+---+---+----+---+-----+---+---+---+---+-----+---+---+-----+-----------+\n",
            "only showing top 20 rows\n",
            "\n"
          ]
        }
      ],
      "source": [
        "indexer = StringIndexer(inputCol=\"rbc\", outputCol=\"rbc_indexed\")\n",
        "df_r = indexer.fit(df).transform(df)\n",
        "df_r.show()"
      ]
    },
    {
      "cell_type": "code",
      "execution_count": null,
      "metadata": {
        "id": "Z1ThDff8gaR3",
        "colab": {
          "base_uri": "https://localhost:8080/"
        },
        "outputId": "656b60d9-af40-4928-b163-ff792a98e246"
      },
      "outputs": [
        {
          "output_type": "stream",
          "name": "stdout",
          "text": [
            "+---+---+-----+---+---+--------+-------+----------+----------+---+---+----+---+---+----+---+-----+---+---+---+---+-----+---+---+-----+-----------+----------+-----------+----------+-----------+-------------+----------+-----------+-----------+----------+-------------+\n",
            "|age| bp|   sg| al| su|     rbc|     pc|       pcc|        ba|bgr| bu|  sc|sod|pot|hemo|pcv|   wc| rc|htn| dm|cad|appet| pe|ane|class|rbc_indexed|dm_indexed|ane_indexed|ba_indexed|cad_indexed|class_indexed|pe_indexed|pcc_indexed|htn_indexed|pc_indexed|appet_indexed|\n",
            "+---+---+-----+---+---+--------+-------+----------+----------+---+---+----+---+---+----+---+-----+---+---+---+---+-----+---+---+-----+-----------+----------+-----------+----------+-----------+-------------+----------+-----------+-----------+----------+-------------+\n",
            "| 50|150| 1.02|  1|  0|abnormal| normal|notpresent|notpresent|181|204| 8.4|135|  4|10.3| 44| 7800|5.2| no| no| no| good| no| no|  ckd|        0.0|       0.0|        0.0|       0.0|        0.0|          0.0|       0.0|        0.0|        0.0|       0.0|          0.0|\n",
            "| 69|140| 1.02|  4|  0|abnormal| normal|notpresent|notpresent|121| 64| 7.3|130|5.4| 9.4| 38| 6000|3.9| no| no| no| good| no|yes|  ckd|        0.0|       0.0|        1.0|       0.0|        0.0|          0.0|       0.0|        0.0|        0.0|       0.0|          0.0|\n",
            "| 69|160| 1.02|  2|  3|abnormal| normal|notpresent|notpresent|423| 34|   7|129|4.9|10.6| 31| 7500|4.6| no|yes| no| poor| no| no|  ckd|        0.0|       1.0|        0.0|       0.0|        0.0|          0.0|       0.0|        0.0|        0.0|       0.0|          1.0|\n",
            "| 71|140|1.005|  4|  0|abnormal|abnomal|   present|notpresent|106| 67|11.6|131|5.5| 7.2| 32| 6700|4.4| no| no| no| poor|yes|yes|  ckd|        0.0|       0.0|        1.0|       0.0|        0.0|          0.0|       1.0|        1.0|        0.0|       2.0|          1.0|\n",
            "| 65|170| 1.01|  2|  0|abnormal| normal|   present|notpresent| 66|102|  16|128|5.6| 9.6| 35| 7300|  5| no| no| no| good| no|yes|  ckd|        0.0|       0.0|        1.0|       0.0|        0.0|          0.0|       0.0|        1.0|        0.0|       0.0|          0.0|\n",
            "| 70|160|1.015|  3|  0|abnormal| normal|notpresent|notpresent| 74|180|   9|137|4.6| 9.6| 39| 7800|  4|yes| no| no| good|yes|yes|  ckd|        0.0|       0.0|        1.0|       0.0|        0.0|          0.0|       1.0|        0.0|        1.0|       0.0|          0.0|\n",
            "| 35|170| 1.01|  0|  0|abnormal| normal|notpresent|notpresent|100|249|14.7|127|5.8| 9.7| 36| 6900|3.7| no| no| no| good| no|yes|  ckd|        0.0|       0.0|        1.0|       0.0|        0.0|          0.0|       0.0|        0.0|        0.0|       0.0|          0.0|\n",
            "| 55|120|1.015|  2|  4|abnormal|abnomal|notpresent|notpresent|410|223|17.6|132|5.6| 9.5| 44|12100|3.8| no|yes| no| good|yes|yes|  ckd|        0.0|       1.0|        1.0|       0.0|        0.0|          0.0|       1.0|        0.0|        0.0|       2.0|          0.0|\n",
            "| 59|130| 1.02|  3|  0|abnormal|abnomal|notpresent|notpresent|138|185|14.8|133|5.4| 9.3| 33| 4500|3.4|yes| no| no| good| no|yes|  ckd|        0.0|       0.0|        1.0|       0.0|        0.0|          0.0|       0.0|        0.0|        1.0|       2.0|          0.0|\n",
            "| 55|130|1.025|  2|  0|abnormal|abnomal|notpresent|notpresent| 70|342| 9.4|130|5.4| 8.5| 29|12200|2.6|yes| no| no| good| no|yes|  ckd|        0.0|       0.0|        1.0|       0.0|        0.0|          0.0|       0.0|        0.0|        1.0|       2.0|          0.0|\n",
            "| 43|120| 1.01|  2|  4|abnormal|abnomal|notpresent|notpresent|490|119|   8|130|5.7|   8| 28|11000|2.8|yes|yes|yes| poor| no|yes|  ckd|        0.0|       1.0|        1.0|       0.0|        1.0|          0.0|       0.0|        0.0|        1.0|       2.0|          1.0|\n",
            "| 68|100|1.015|  3|  0|abnormal|abnomal|notpresent|notpresent|138|213|11.6|135|  4| 8.1| 32| 3800|4.3|yes| no| no| good|yes|yes|  ckd|        0.0|       0.0|        1.0|       0.0|        0.0|          0.0|       1.0|        0.0|        1.0|       2.0|          0.0|\n",
            "| 68|160| 1.01|  3|  1|abnormal| normal|notpresent|notpresent| 70|204| 5.7|142|4.9| 7.8| 28|11400|3.7|yes| no| no| poor|yes|yes|  ckd|        0.0|       0.0|        1.0|       0.0|        0.0|          0.0|       1.0|        0.0|        1.0|       0.0|          1.0|\n",
            "| 53|130|1.015|  2|  0|abnormal| normal|notpresent|notpresent|380|102|17.5|139|5.3|10.3| 33| 5300|3.2|yes|yes|yes| poor| no| no|  ckd|        0.0|       1.0|        0.0|       0.0|        1.0|          0.0|       0.0|        0.0|        1.0|       0.0|          1.0|\n",
            "| 50|150|1.025|  0|  1|abnormal|abnomal|notpresent|   present|208|187|18.4|131|3.7|  10| 16| 9200|3.6|yes|yes|yes| poor| no| no|  ckd|        0.0|       1.0|        0.0|       1.0|        1.0|          0.0|       0.0|        0.0|        1.0|       2.0|          1.0|\n",
            "| 69|140|1.025|  0|  2|abnormal| normal|notpresent|notpresent| 98| 73| 7.3|129|4.9| 9.1| 24| 6200|3.4|yes| no| no| poor| no|yes|  ckd|        0.0|       0.0|        1.0|       0.0|        0.0|          0.0|       0.0|        0.0|        1.0|       0.0|          1.0|\n",
            "| 69|130| 1.02|  0|  0|abnormal| normal|notpresent|notpresent|157|187| 6.3|130|  5|11.7| 37| 6900|5.2| no| no| no| good| no| no|  ckd|        0.0|       0.0|        0.0|       0.0|        0.0|          0.0|       0.0|        0.0|        0.0|       0.0|          0.0|\n",
            "| 71|120| 1.02|  3|  0|abnormal| normal|notpresent|notpresent| 76| 73| 6.4|134|4.4|11.6| 30|11400|3.9|yes| no| no| good| no| no|  ckd|        0.0|       0.0|        0.0|       0.0|        0.0|          0.0|       0.0|        0.0|        1.0|       0.0|          0.0|\n",
            "| 65|140| 1.02|  2|  0|abnormal| normal|   present|notpresent| 99| 96| 7.1|135|5.7| 8.4| 24| 5300|4.6|yes|yes|yes| poor| no|yes|  ckd|        0.0|       1.0|        1.0|       0.0|        1.0|          0.0|       0.0|        1.0|        1.0|       0.0|          1.0|\n",
            "| 70|120| 1.02|  0|  3|abnormal| normal|   present|notpresent|114| 73|18.4|129|4.1|11.6| 32| 9200|4.4|yes|yes|yes| good| no| no|  ckd|        0.0|       1.0|        0.0|       0.0|        1.0|          0.0|       0.0|        1.0|        1.0|       0.0|          0.0|\n",
            "+---+---+-----+---+---+--------+-------+----------+----------+---+---+----+---+---+----+---+-----+---+---+---+---+-----+---+---+-----+-----------+----------+-----------+----------+-----------+-------------+----------+-----------+-----------+----------+-------------+\n",
            "only showing top 20 rows\n",
            "\n"
          ]
        }
      ],
      "source": [
        "indexer = StringIndexer(inputCols=[\"pc\", \"pcc\", \"ba\", \"htn\", \"dm\", \"cad\", \"appet\", \"pe\", \"ane\", \"class\"],\n",
        "                        outputCols=[\"pc_indexed\", \"pcc_indexed\",\"ba_indexed\", \"htn_indexed\", \"dm_indexed\",\"cad_indexed\",\"appet_indexed\", \"pe_indexed\",\"ane_indexed\", \"class_indexed\" ])\n",
        "df_r = indexer.fit(df_r).transform(df_r)\n",
        "df_r.show()"
      ]
    },
    {
      "cell_type": "code",
      "execution_count": null,
      "metadata": {
        "id": "oV-_m3FyhWjt",
        "colab": {
          "base_uri": "https://localhost:8080/"
        },
        "outputId": "87bc16a1-91d3-458c-d444-86f87e8032d7"
      },
      "outputs": [
        {
          "output_type": "execute_result",
          "data": {
            "text/plain": [
              "['age',\n",
              " 'bp',\n",
              " 'sg',\n",
              " 'al',\n",
              " 'su',\n",
              " 'rbc',\n",
              " 'pc',\n",
              " 'pcc',\n",
              " 'ba',\n",
              " 'bgr',\n",
              " 'bu',\n",
              " 'sc',\n",
              " 'sod',\n",
              " 'pot',\n",
              " 'hemo',\n",
              " 'pcv',\n",
              " 'wc',\n",
              " 'rc',\n",
              " 'htn',\n",
              " 'dm',\n",
              " 'cad',\n",
              " 'appet',\n",
              " 'pe',\n",
              " 'ane',\n",
              " 'class',\n",
              " 'rbc_indexed',\n",
              " 'dm_indexed',\n",
              " 'ane_indexed',\n",
              " 'ba_indexed',\n",
              " 'cad_indexed',\n",
              " 'class_indexed',\n",
              " 'pe_indexed',\n",
              " 'pcc_indexed',\n",
              " 'htn_indexed',\n",
              " 'pc_indexed',\n",
              " 'appet_indexed']"
            ]
          },
          "metadata": {},
          "execution_count": 136
        }
      ],
      "source": [
        "df_r.columns"
      ]
    },
    {
      "cell_type": "code",
      "execution_count": null,
      "metadata": {
        "id": "2Hkk5DciMuIV",
        "colab": {
          "base_uri": "https://localhost:8080/"
        },
        "outputId": "bbe3fd01-7556-41e6-834c-56fae1203311"
      },
      "outputs": [
        {
          "output_type": "stream",
          "name": "stdout",
          "text": [
            "+---+---+-----+---+---+--------+-------+----------+----------+---+---+----+---+---+----+---+-----+---+---+---+---+-----+---+---+-----+-----------+----------+-----------+----------+-----------+-------------+----------+-----------+-----------+----------+-------------+----------+----------+-----------+----------+----------+\n",
            "|age| bp|   sg| al| su|     rbc|     pc|       pcc|        ba|bgr| bu|  sc|sod|pot|hemo|pcv|   wc| rc|htn| dm|cad|appet| pe|ane|class|rbc_indexed|dm_indexed|ane_indexed|ba_indexed|cad_indexed|class_indexed|pe_indexed|pcc_indexed|htn_indexed|pc_indexed|appet_indexed|bp_indexed|al_indexed|age_indexed|su_indexed|sg_indexed|\n",
            "+---+---+-----+---+---+--------+-------+----------+----------+---+---+----+---+---+----+---+-----+---+---+---+---+-----+---+---+-----+-----------+----------+-----------+----------+-----------+-------------+----------+-----------+-----------+----------+-------------+----------+----------+-----------+----------+----------+\n",
            "| 50|150| 1.02|  1|  0|abnormal| normal|notpresent|notpresent|181|204| 8.4|135|  4|10.3| 44| 7800|5.2| no| no| no| good| no| no|  ckd|        0.0|       0.0|        0.0|       0.0|        0.0|          0.0|       0.0|        0.0|        0.0|       0.0|          0.0|       0.0|       4.0|        5.0|       0.0|       1.0|\n",
            "| 69|140| 1.02|  4|  0|abnormal| normal|notpresent|notpresent|121| 64| 7.3|130|5.4| 9.4| 38| 6000|3.9| no| no| no| good| no|yes|  ckd|        0.0|       0.0|        1.0|       0.0|        0.0|          0.0|       0.0|        0.0|        0.0|       0.0|          0.0|       1.0|       3.0|        2.0|       0.0|       1.0|\n",
            "| 69|160| 1.02|  2|  3|abnormal| normal|notpresent|notpresent|423| 34|   7|129|4.9|10.6| 31| 7500|4.6| no|yes| no| poor| no| no|  ckd|        0.0|       1.0|        0.0|       0.0|        0.0|          0.0|       0.0|        0.0|        0.0|       0.0|          1.0|       2.0|       1.0|        2.0|       2.0|       1.0|\n",
            "| 71|140|1.005|  4|  0|abnormal|abnomal|   present|notpresent|106| 67|11.6|131|5.5| 7.2| 32| 6700|4.4| no| no| no| poor|yes|yes|  ckd|        0.0|       0.0|        1.0|       0.0|        0.0|          0.0|       1.0|        1.0|        0.0|       2.0|          1.0|       1.0|       3.0|        9.0|       0.0|       3.0|\n",
            "| 65|170| 1.01|  2|  0|abnormal| normal|   present|notpresent| 66|102|  16|128|5.6| 9.6| 35| 7300|  5| no| no| no| good| no|yes|  ckd|        0.0|       0.0|        1.0|       0.0|        0.0|          0.0|       0.0|        1.0|        0.0|       0.0|          0.0|       5.0|       1.0|        6.0|       0.0|       2.0|\n",
            "| 70|160|1.015|  3|  0|abnormal| normal|notpresent|notpresent| 74|180|   9|137|4.6| 9.6| 39| 7800|  4|yes| no| no| good|yes|yes|  ckd|        0.0|       0.0|        1.0|       0.0|        0.0|          0.0|       1.0|        0.0|        1.0|       0.0|          0.0|       2.0|       2.0|        8.0|       0.0|       7.0|\n",
            "| 35|170| 1.01|  0|  0|abnormal| normal|notpresent|notpresent|100|249|14.7|127|5.8| 9.7| 36| 6900|3.7| no| no| no| good| no|yes|  ckd|        0.0|       0.0|        1.0|       0.0|        0.0|          0.0|       0.0|        0.0|        0.0|       0.0|          0.0|       5.0|       0.0|        3.0|       0.0|       2.0|\n",
            "| 55|120|1.015|  2|  4|abnormal|abnomal|notpresent|notpresent|410|223|17.6|132|5.6| 9.5| 44|12100|3.8| no|yes| no| good|yes|yes|  ckd|        0.0|       1.0|        1.0|       0.0|        0.0|          0.0|       1.0|        0.0|        0.0|       2.0|          0.0|       3.0|       1.0|        0.0|       4.0|       7.0|\n",
            "| 59|130| 1.02|  3|  0|abnormal|abnomal|notpresent|notpresent|138|185|14.8|133|5.4| 9.3| 33| 4500|3.4|yes| no| no| good| no|yes|  ckd|        0.0|       0.0|        1.0|       0.0|        0.0|          0.0|       0.0|        0.0|        1.0|       2.0|          0.0|       4.0|       2.0|        7.0|       0.0|       1.0|\n",
            "| 55|130|1.025|  2|  0|abnormal|abnomal|notpresent|notpresent| 70|342| 9.4|130|5.4| 8.5| 29|12200|2.6|yes| no| no| good| no|yes|  ckd|        0.0|       0.0|        1.0|       0.0|        0.0|          0.0|       0.0|        0.0|        1.0|       2.0|          0.0|       4.0|       1.0|        0.0|       0.0|       0.0|\n",
            "| 43|120| 1.01|  2|  4|abnormal|abnomal|notpresent|notpresent|490|119|   8|130|5.7|   8| 28|11000|2.8|yes|yes|yes| poor| no|yes|  ckd|        0.0|       1.0|        1.0|       0.0|        1.0|          0.0|       0.0|        0.0|        1.0|       2.0|          1.0|       3.0|       1.0|        4.0|       4.0|       2.0|\n",
            "| 68|100|1.015|  3|  0|abnormal|abnomal|notpresent|notpresent|138|213|11.6|135|  4| 8.1| 32| 3800|4.3|yes| no| no| good|yes|yes|  ckd|        0.0|       0.0|        1.0|       0.0|        0.0|          0.0|       1.0|        0.0|        1.0|       2.0|          0.0|       9.0|       2.0|        1.0|       0.0|       7.0|\n",
            "| 68|160| 1.01|  3|  1|abnormal| normal|notpresent|notpresent| 70|204| 5.7|142|4.9| 7.8| 28|11400|3.7|yes| no| no| poor|yes|yes|  ckd|        0.0|       0.0|        1.0|       0.0|        0.0|          0.0|       1.0|        0.0|        1.0|       0.0|          1.0|       2.0|       2.0|        1.0|       3.0|       2.0|\n",
            "| 53|130|1.015|  2|  0|abnormal| normal|notpresent|notpresent|380|102|17.5|139|5.3|10.3| 33| 5300|3.2|yes|yes|yes| poor| no| no|  ckd|        0.0|       1.0|        0.0|       0.0|        1.0|          0.0|       0.0|        0.0|        1.0|       0.0|          1.0|       4.0|       1.0|       10.0|       0.0|       7.0|\n",
            "| 50|150|1.025|  0|  1|abnormal|abnomal|notpresent|   present|208|187|18.4|131|3.7|  10| 16| 9200|3.6|yes|yes|yes| poor| no| no|  ckd|        0.0|       1.0|        0.0|       1.0|        1.0|          0.0|       0.0|        0.0|        1.0|       2.0|          1.0|       0.0|       0.0|        5.0|       3.0|       0.0|\n",
            "| 69|140|1.025|  0|  2|abnormal| normal|notpresent|notpresent| 98| 73| 7.3|129|4.9| 9.1| 24| 6200|3.4|yes| no| no| poor| no|yes|  ckd|        0.0|       0.0|        1.0|       0.0|        0.0|          0.0|       0.0|        0.0|        1.0|       0.0|          1.0|       1.0|       0.0|        2.0|       1.0|       0.0|\n",
            "| 69|130| 1.02|  0|  0|abnormal| normal|notpresent|notpresent|157|187| 6.3|130|  5|11.7| 37| 6900|5.2| no| no| no| good| no| no|  ckd|        0.0|       0.0|        0.0|       0.0|        0.0|          0.0|       0.0|        0.0|        0.0|       0.0|          0.0|       4.0|       0.0|        2.0|       0.0|       1.0|\n",
            "| 71|120| 1.02|  3|  0|abnormal| normal|notpresent|notpresent| 76| 73| 6.4|134|4.4|11.6| 30|11400|3.9|yes| no| no| good| no| no|  ckd|        0.0|       0.0|        0.0|       0.0|        0.0|          0.0|       0.0|        0.0|        1.0|       0.0|          0.0|       3.0|       2.0|        9.0|       0.0|       1.0|\n",
            "| 65|140| 1.02|  2|  0|abnormal| normal|   present|notpresent| 99| 96| 7.1|135|5.7| 8.4| 24| 5300|4.6|yes|yes|yes| poor| no|yes|  ckd|        0.0|       1.0|        1.0|       0.0|        1.0|          0.0|       0.0|        1.0|        1.0|       0.0|          1.0|       1.0|       1.0|        6.0|       0.0|       1.0|\n",
            "| 70|120| 1.02|  0|  3|abnormal| normal|   present|notpresent|114| 73|18.4|129|4.1|11.6| 32| 9200|4.4|yes|yes|yes| good| no| no|  ckd|        0.0|       1.0|        0.0|       0.0|        1.0|          0.0|       0.0|        1.0|        1.0|       0.0|          0.0|       3.0|       0.0|        8.0|       2.0|       1.0|\n",
            "+---+---+-----+---+---+--------+-------+----------+----------+---+---+----+---+---+----+---+-----+---+---+---+---+-----+---+---+-----+-----------+----------+-----------+----------+-----------+-------------+----------+-----------+-----------+----------+-------------+----------+----------+-----------+----------+----------+\n",
            "only showing top 20 rows\n",
            "\n"
          ]
        }
      ],
      "source": [
        "indexer = StringIndexer(inputCols=[\"age\", \"bp\", \"sg\", \"al\", \"su\"],\n",
        "                        outputCols=[\"age_indexed\", \"bp_indexed\",\"sg_indexed\", \"al_indexed\", \"su_indexed\"])\n",
        "df_r = indexer.fit(df_r).transform(df_r)\n",
        "df_r.show()"
      ]
    },
    {
      "cell_type": "code",
      "source": [
        "df_r.columns"
      ],
      "metadata": {
        "colab": {
          "base_uri": "https://localhost:8080/"
        },
        "id": "FSvkSMH4w_yn",
        "outputId": "cc5e6728-23a5-4fbd-eede-3819defd1c2a"
      },
      "execution_count": null,
      "outputs": [
        {
          "output_type": "execute_result",
          "data": {
            "text/plain": [
              "['age',\n",
              " 'bp',\n",
              " 'sg',\n",
              " 'al',\n",
              " 'su',\n",
              " 'rbc',\n",
              " 'pc',\n",
              " 'pcc',\n",
              " 'ba',\n",
              " 'bgr',\n",
              " 'bu',\n",
              " 'sc',\n",
              " 'sod',\n",
              " 'pot',\n",
              " 'hemo',\n",
              " 'pcv',\n",
              " 'wc',\n",
              " 'rc',\n",
              " 'htn',\n",
              " 'dm',\n",
              " 'cad',\n",
              " 'appet',\n",
              " 'pe',\n",
              " 'ane',\n",
              " 'class',\n",
              " 'rbc_indexed',\n",
              " 'dm_indexed',\n",
              " 'ane_indexed',\n",
              " 'ba_indexed',\n",
              " 'cad_indexed',\n",
              " 'class_indexed',\n",
              " 'pe_indexed',\n",
              " 'pcc_indexed',\n",
              " 'htn_indexed',\n",
              " 'pc_indexed',\n",
              " 'appet_indexed',\n",
              " 'bp_indexed',\n",
              " 'al_indexed',\n",
              " 'age_indexed',\n",
              " 'su_indexed',\n",
              " 'sg_indexed']"
            ]
          },
          "metadata": {},
          "execution_count": 138
        }
      ]
    },
    {
      "cell_type": "code",
      "execution_count": null,
      "metadata": {
        "id": "ntvE7SzRhdD-"
      },
      "outputs": [],
      "source": [
        "from pyspark.ml.feature import VectorAssembler\n",
        "featureassembler = VectorAssembler(inputCols=['age_indexed',\n",
        " 'bp_indexed',\n",
        " 'sg_indexed',\n",
        " 'al_indexed',\n",
        " 'su_indexed',\n",
        "'rbc_indexed',\n",
        " 'pc_indexed',\n",
        " 'pcc_indexed',\n",
        " 'ba_indexed',\n",
        " 'htn_indexed',\n",
        " 'dm_indexed',\n",
        " 'cad_indexed',\n",
        " 'appet_indexed',\n",
        " 'pe_indexed',\n",
        " 'ane_indexed'], outputCol=\"class_feature\")\n",
        "output=featureassembler.transform(df_r)"
      ]
    },
    {
      "cell_type": "code",
      "execution_count": null,
      "metadata": {
        "id": "VtPm71L2kFxq",
        "colab": {
          "base_uri": "https://localhost:8080/"
        },
        "outputId": "74cab4a2-3aa1-46db-efc4-cd1c2fda7b41"
      },
      "outputs": [
        {
          "output_type": "stream",
          "name": "stdout",
          "text": [
            "+---+---+-----+---+---+--------+-------+----------+----------+---+---+----+---+---+----+---+-----+---+---+---+---+-----+---+---+-----+-----------+----------+-----------+----------+-----------+-------------+----------+-----------+-----------+----------+-------------+----------+----------+-----------+----------+----------+--------------------+\n",
            "|age| bp|   sg| al| su|     rbc|     pc|       pcc|        ba|bgr| bu|  sc|sod|pot|hemo|pcv|   wc| rc|htn| dm|cad|appet| pe|ane|class|rbc_indexed|dm_indexed|ane_indexed|ba_indexed|cad_indexed|class_indexed|pe_indexed|pcc_indexed|htn_indexed|pc_indexed|appet_indexed|bp_indexed|al_indexed|age_indexed|su_indexed|sg_indexed|       class_feature|\n",
            "+---+---+-----+---+---+--------+-------+----------+----------+---+---+----+---+---+----+---+-----+---+---+---+---+-----+---+---+-----+-----------+----------+-----------+----------+-----------+-------------+----------+-----------+-----------+----------+-------------+----------+----------+-----------+----------+----------+--------------------+\n",
            "| 50|150| 1.02|  1|  0|abnormal| normal|notpresent|notpresent|181|204| 8.4|135|  4|10.3| 44| 7800|5.2| no| no| no| good| no| no|  ckd|        0.0|       0.0|        0.0|       0.0|        0.0|          0.0|       0.0|        0.0|        0.0|       0.0|          0.0|       0.0|       4.0|        5.0|       0.0|       1.0|(15,[0,2,3],[5.0,...|\n",
            "| 69|140| 1.02|  4|  0|abnormal| normal|notpresent|notpresent|121| 64| 7.3|130|5.4| 9.4| 38| 6000|3.9| no| no| no| good| no|yes|  ckd|        0.0|       0.0|        1.0|       0.0|        0.0|          0.0|       0.0|        0.0|        0.0|       0.0|          0.0|       1.0|       3.0|        2.0|       0.0|       1.0|(15,[0,1,2,3,14],...|\n",
            "| 69|160| 1.02|  2|  3|abnormal| normal|notpresent|notpresent|423| 34|   7|129|4.9|10.6| 31| 7500|4.6| no|yes| no| poor| no| no|  ckd|        0.0|       1.0|        0.0|       0.0|        0.0|          0.0|       0.0|        0.0|        0.0|       0.0|          1.0|       2.0|       1.0|        2.0|       2.0|       1.0|(15,[0,1,2,3,4,10...|\n",
            "| 71|140|1.005|  4|  0|abnormal|abnomal|   present|notpresent|106| 67|11.6|131|5.5| 7.2| 32| 6700|4.4| no| no| no| poor|yes|yes|  ckd|        0.0|       0.0|        1.0|       0.0|        0.0|          0.0|       1.0|        1.0|        0.0|       2.0|          1.0|       1.0|       3.0|        9.0|       0.0|       3.0|[9.0,1.0,3.0,3.0,...|\n",
            "| 65|170| 1.01|  2|  0|abnormal| normal|   present|notpresent| 66|102|  16|128|5.6| 9.6| 35| 7300|  5| no| no| no| good| no|yes|  ckd|        0.0|       0.0|        1.0|       0.0|        0.0|          0.0|       0.0|        1.0|        0.0|       0.0|          0.0|       5.0|       1.0|        6.0|       0.0|       2.0|(15,[0,1,2,3,7,14...|\n",
            "| 70|160|1.015|  3|  0|abnormal| normal|notpresent|notpresent| 74|180|   9|137|4.6| 9.6| 39| 7800|  4|yes| no| no| good|yes|yes|  ckd|        0.0|       0.0|        1.0|       0.0|        0.0|          0.0|       1.0|        0.0|        1.0|       0.0|          0.0|       2.0|       2.0|        8.0|       0.0|       7.0|(15,[0,1,2,3,9,13...|\n",
            "| 35|170| 1.01|  0|  0|abnormal| normal|notpresent|notpresent|100|249|14.7|127|5.8| 9.7| 36| 6900|3.7| no| no| no| good| no|yes|  ckd|        0.0|       0.0|        1.0|       0.0|        0.0|          0.0|       0.0|        0.0|        0.0|       0.0|          0.0|       5.0|       0.0|        3.0|       0.0|       2.0|(15,[0,1,2,14],[3...|\n",
            "| 55|120|1.015|  2|  4|abnormal|abnomal|notpresent|notpresent|410|223|17.6|132|5.6| 9.5| 44|12100|3.8| no|yes| no| good|yes|yes|  ckd|        0.0|       1.0|        1.0|       0.0|        0.0|          0.0|       1.0|        0.0|        0.0|       2.0|          0.0|       3.0|       1.0|        0.0|       4.0|       7.0|(15,[1,2,3,4,6,10...|\n",
            "| 59|130| 1.02|  3|  0|abnormal|abnomal|notpresent|notpresent|138|185|14.8|133|5.4| 9.3| 33| 4500|3.4|yes| no| no| good| no|yes|  ckd|        0.0|       0.0|        1.0|       0.0|        0.0|          0.0|       0.0|        0.0|        1.0|       2.0|          0.0|       4.0|       2.0|        7.0|       0.0|       1.0|(15,[0,1,2,3,6,9,...|\n",
            "| 55|130|1.025|  2|  0|abnormal|abnomal|notpresent|notpresent| 70|342| 9.4|130|5.4| 8.5| 29|12200|2.6|yes| no| no| good| no|yes|  ckd|        0.0|       0.0|        1.0|       0.0|        0.0|          0.0|       0.0|        0.0|        1.0|       2.0|          0.0|       4.0|       1.0|        0.0|       0.0|       0.0|(15,[1,3,6,9,14],...|\n",
            "| 43|120| 1.01|  2|  4|abnormal|abnomal|notpresent|notpresent|490|119|   8|130|5.7|   8| 28|11000|2.8|yes|yes|yes| poor| no|yes|  ckd|        0.0|       1.0|        1.0|       0.0|        1.0|          0.0|       0.0|        0.0|        1.0|       2.0|          1.0|       3.0|       1.0|        4.0|       4.0|       2.0|[4.0,3.0,2.0,1.0,...|\n",
            "| 68|100|1.015|  3|  0|abnormal|abnomal|notpresent|notpresent|138|213|11.6|135|  4| 8.1| 32| 3800|4.3|yes| no| no| good|yes|yes|  ckd|        0.0|       0.0|        1.0|       0.0|        0.0|          0.0|       1.0|        0.0|        1.0|       2.0|          0.0|       9.0|       2.0|        1.0|       0.0|       7.0|(15,[0,1,2,3,6,9,...|\n",
            "| 68|160| 1.01|  3|  1|abnormal| normal|notpresent|notpresent| 70|204| 5.7|142|4.9| 7.8| 28|11400|3.7|yes| no| no| poor|yes|yes|  ckd|        0.0|       0.0|        1.0|       0.0|        0.0|          0.0|       1.0|        0.0|        1.0|       0.0|          1.0|       2.0|       2.0|        1.0|       3.0|       2.0|[1.0,2.0,2.0,2.0,...|\n",
            "| 53|130|1.015|  2|  0|abnormal| normal|notpresent|notpresent|380|102|17.5|139|5.3|10.3| 33| 5300|3.2|yes|yes|yes| poor| no| no|  ckd|        0.0|       1.0|        0.0|       0.0|        1.0|          0.0|       0.0|        0.0|        1.0|       0.0|          1.0|       4.0|       1.0|       10.0|       0.0|       7.0|(15,[0,1,2,3,9,10...|\n",
            "| 50|150|1.025|  0|  1|abnormal|abnomal|notpresent|   present|208|187|18.4|131|3.7|  10| 16| 9200|3.6|yes|yes|yes| poor| no| no|  ckd|        0.0|       1.0|        0.0|       1.0|        1.0|          0.0|       0.0|        0.0|        1.0|       2.0|          1.0|       0.0|       0.0|        5.0|       3.0|       0.0|(15,[0,4,6,8,9,10...|\n",
            "| 69|140|1.025|  0|  2|abnormal| normal|notpresent|notpresent| 98| 73| 7.3|129|4.9| 9.1| 24| 6200|3.4|yes| no| no| poor| no|yes|  ckd|        0.0|       0.0|        1.0|       0.0|        0.0|          0.0|       0.0|        0.0|        1.0|       0.0|          1.0|       1.0|       0.0|        2.0|       1.0|       0.0|(15,[0,1,4,9,12,1...|\n",
            "| 69|130| 1.02|  0|  0|abnormal| normal|notpresent|notpresent|157|187| 6.3|130|  5|11.7| 37| 6900|5.2| no| no| no| good| no| no|  ckd|        0.0|       0.0|        0.0|       0.0|        0.0|          0.0|       0.0|        0.0|        0.0|       0.0|          0.0|       4.0|       0.0|        2.0|       0.0|       1.0|(15,[0,1,2],[2.0,...|\n",
            "| 71|120| 1.02|  3|  0|abnormal| normal|notpresent|notpresent| 76| 73| 6.4|134|4.4|11.6| 30|11400|3.9|yes| no| no| good| no| no|  ckd|        0.0|       0.0|        0.0|       0.0|        0.0|          0.0|       0.0|        0.0|        1.0|       0.0|          0.0|       3.0|       2.0|        9.0|       0.0|       1.0|(15,[0,1,2,3,9],[...|\n",
            "| 65|140| 1.02|  2|  0|abnormal| normal|   present|notpresent| 99| 96| 7.1|135|5.7| 8.4| 24| 5300|4.6|yes|yes|yes| poor| no|yes|  ckd|        0.0|       1.0|        1.0|       0.0|        1.0|          0.0|       0.0|        1.0|        1.0|       0.0|          1.0|       1.0|       1.0|        6.0|       0.0|       1.0|[6.0,1.0,1.0,1.0,...|\n",
            "| 70|120| 1.02|  0|  3|abnormal| normal|   present|notpresent|114| 73|18.4|129|4.1|11.6| 32| 9200|4.4|yes|yes|yes| good| no| no|  ckd|        0.0|       1.0|        0.0|       0.0|        1.0|          0.0|       0.0|        1.0|        1.0|       0.0|          0.0|       3.0|       0.0|        8.0|       2.0|       1.0|(15,[0,1,2,4,7,9,...|\n",
            "+---+---+-----+---+---+--------+-------+----------+----------+---+---+----+---+---+----+---+-----+---+---+---+---+-----+---+---+-----+-----------+----------+-----------+----------+-----------+-------------+----------+-----------+-----------+----------+-------------+----------+----------+-----------+----------+----------+--------------------+\n",
            "only showing top 20 rows\n",
            "\n"
          ]
        }
      ],
      "source": [
        "output.show()"
      ]
    },
    {
      "cell_type": "code",
      "execution_count": null,
      "metadata": {
        "id": "Pd2dfD2hkJT7",
        "colab": {
          "base_uri": "https://localhost:8080/"
        },
        "outputId": "da2e56f9-cedd-48bd-f799-997a745d5b41"
      },
      "outputs": [
        {
          "output_type": "stream",
          "name": "stdout",
          "text": [
            "+--------------------+\n",
            "|       class_feature|\n",
            "+--------------------+\n",
            "|(15,[0,2,3],[5.0,...|\n",
            "|(15,[0,1,2,3,14],...|\n",
            "|(15,[0,1,2,3,4,10...|\n",
            "|[9.0,1.0,3.0,3.0,...|\n",
            "|(15,[0,1,2,3,7,14...|\n",
            "|(15,[0,1,2,3,9,13...|\n",
            "|(15,[0,1,2,14],[3...|\n",
            "|(15,[1,2,3,4,6,10...|\n",
            "|(15,[0,1,2,3,6,9,...|\n",
            "|(15,[1,3,6,9,14],...|\n",
            "|[4.0,3.0,2.0,1.0,...|\n",
            "|(15,[0,1,2,3,6,9,...|\n",
            "|[1.0,2.0,2.0,2.0,...|\n",
            "|(15,[0,1,2,3,9,10...|\n",
            "|(15,[0,4,6,8,9,10...|\n",
            "|(15,[0,1,4,9,12,1...|\n",
            "|(15,[0,1,2],[2.0,...|\n",
            "|(15,[0,1,2,3,9],[...|\n",
            "|[6.0,1.0,1.0,1.0,...|\n",
            "|(15,[0,1,2,4,7,9,...|\n",
            "+--------------------+\n",
            "only showing top 20 rows\n",
            "\n"
          ]
        }
      ],
      "source": [
        "output.select('class_feature').show()"
      ]
    },
    {
      "cell_type": "code",
      "execution_count": null,
      "metadata": {
        "id": "aK_GNw7fkMW7",
        "colab": {
          "base_uri": "https://localhost:8080/"
        },
        "outputId": "85fdd952-7ae8-477e-edfc-75f1f73e0025"
      },
      "outputs": [
        {
          "output_type": "stream",
          "name": "stdout",
          "text": [
            "+---+---+-----+---+---+--------+-------+----------+----------+---+---+----+---+---+----+---+-----+---+---+---+---+-----+---+---+-----+-----------+----------+-----------+----------+-----------+-------------+----------+-----------+-----------+----------+-------------+----------+----------+-----------+----------+----------+--------------------+\n",
            "|age| bp|   sg| al| su|     rbc|     pc|       pcc|        ba|bgr| bu|  sc|sod|pot|hemo|pcv|   wc| rc|htn| dm|cad|appet| pe|ane|class|rbc_indexed|dm_indexed|ane_indexed|ba_indexed|cad_indexed|class_indexed|pe_indexed|pcc_indexed|htn_indexed|pc_indexed|appet_indexed|bp_indexed|al_indexed|age_indexed|su_indexed|sg_indexed|       class_feature|\n",
            "+---+---+-----+---+---+--------+-------+----------+----------+---+---+----+---+---+----+---+-----+---+---+---+---+-----+---+---+-----+-----------+----------+-----------+----------+-----------+-------------+----------+-----------+-----------+----------+-------------+----------+----------+-----------+----------+----------+--------------------+\n",
            "| 50|150| 1.02|  1|  0|abnormal| normal|notpresent|notpresent|181|204| 8.4|135|  4|10.3| 44| 7800|5.2| no| no| no| good| no| no|  ckd|        0.0|       0.0|        0.0|       0.0|        0.0|          0.0|       0.0|        0.0|        0.0|       0.0|          0.0|       0.0|       4.0|        5.0|       0.0|       1.0|(15,[0,2,3],[5.0,...|\n",
            "| 69|140| 1.02|  4|  0|abnormal| normal|notpresent|notpresent|121| 64| 7.3|130|5.4| 9.4| 38| 6000|3.9| no| no| no| good| no|yes|  ckd|        0.0|       0.0|        1.0|       0.0|        0.0|          0.0|       0.0|        0.0|        0.0|       0.0|          0.0|       1.0|       3.0|        2.0|       0.0|       1.0|(15,[0,1,2,3,14],...|\n",
            "| 69|160| 1.02|  2|  3|abnormal| normal|notpresent|notpresent|423| 34|   7|129|4.9|10.6| 31| 7500|4.6| no|yes| no| poor| no| no|  ckd|        0.0|       1.0|        0.0|       0.0|        0.0|          0.0|       0.0|        0.0|        0.0|       0.0|          1.0|       2.0|       1.0|        2.0|       2.0|       1.0|(15,[0,1,2,3,4,10...|\n",
            "| 71|140|1.005|  4|  0|abnormal|abnomal|   present|notpresent|106| 67|11.6|131|5.5| 7.2| 32| 6700|4.4| no| no| no| poor|yes|yes|  ckd|        0.0|       0.0|        1.0|       0.0|        0.0|          0.0|       1.0|        1.0|        0.0|       2.0|          1.0|       1.0|       3.0|        9.0|       0.0|       3.0|[9.0,1.0,3.0,3.0,...|\n",
            "| 65|170| 1.01|  2|  0|abnormal| normal|   present|notpresent| 66|102|  16|128|5.6| 9.6| 35| 7300|  5| no| no| no| good| no|yes|  ckd|        0.0|       0.0|        1.0|       0.0|        0.0|          0.0|       0.0|        1.0|        0.0|       0.0|          0.0|       5.0|       1.0|        6.0|       0.0|       2.0|(15,[0,1,2,3,7,14...|\n",
            "| 70|160|1.015|  3|  0|abnormal| normal|notpresent|notpresent| 74|180|   9|137|4.6| 9.6| 39| 7800|  4|yes| no| no| good|yes|yes|  ckd|        0.0|       0.0|        1.0|       0.0|        0.0|          0.0|       1.0|        0.0|        1.0|       0.0|          0.0|       2.0|       2.0|        8.0|       0.0|       7.0|(15,[0,1,2,3,9,13...|\n",
            "| 35|170| 1.01|  0|  0|abnormal| normal|notpresent|notpresent|100|249|14.7|127|5.8| 9.7| 36| 6900|3.7| no| no| no| good| no|yes|  ckd|        0.0|       0.0|        1.0|       0.0|        0.0|          0.0|       0.0|        0.0|        0.0|       0.0|          0.0|       5.0|       0.0|        3.0|       0.0|       2.0|(15,[0,1,2,14],[3...|\n",
            "| 55|120|1.015|  2|  4|abnormal|abnomal|notpresent|notpresent|410|223|17.6|132|5.6| 9.5| 44|12100|3.8| no|yes| no| good|yes|yes|  ckd|        0.0|       1.0|        1.0|       0.0|        0.0|          0.0|       1.0|        0.0|        0.0|       2.0|          0.0|       3.0|       1.0|        0.0|       4.0|       7.0|(15,[1,2,3,4,6,10...|\n",
            "| 59|130| 1.02|  3|  0|abnormal|abnomal|notpresent|notpresent|138|185|14.8|133|5.4| 9.3| 33| 4500|3.4|yes| no| no| good| no|yes|  ckd|        0.0|       0.0|        1.0|       0.0|        0.0|          0.0|       0.0|        0.0|        1.0|       2.0|          0.0|       4.0|       2.0|        7.0|       0.0|       1.0|(15,[0,1,2,3,6,9,...|\n",
            "| 55|130|1.025|  2|  0|abnormal|abnomal|notpresent|notpresent| 70|342| 9.4|130|5.4| 8.5| 29|12200|2.6|yes| no| no| good| no|yes|  ckd|        0.0|       0.0|        1.0|       0.0|        0.0|          0.0|       0.0|        0.0|        1.0|       2.0|          0.0|       4.0|       1.0|        0.0|       0.0|       0.0|(15,[1,3,6,9,14],...|\n",
            "| 43|120| 1.01|  2|  4|abnormal|abnomal|notpresent|notpresent|490|119|   8|130|5.7|   8| 28|11000|2.8|yes|yes|yes| poor| no|yes|  ckd|        0.0|       1.0|        1.0|       0.0|        1.0|          0.0|       0.0|        0.0|        1.0|       2.0|          1.0|       3.0|       1.0|        4.0|       4.0|       2.0|[4.0,3.0,2.0,1.0,...|\n",
            "| 68|100|1.015|  3|  0|abnormal|abnomal|notpresent|notpresent|138|213|11.6|135|  4| 8.1| 32| 3800|4.3|yes| no| no| good|yes|yes|  ckd|        0.0|       0.0|        1.0|       0.0|        0.0|          0.0|       1.0|        0.0|        1.0|       2.0|          0.0|       9.0|       2.0|        1.0|       0.0|       7.0|(15,[0,1,2,3,6,9,...|\n",
            "| 68|160| 1.01|  3|  1|abnormal| normal|notpresent|notpresent| 70|204| 5.7|142|4.9| 7.8| 28|11400|3.7|yes| no| no| poor|yes|yes|  ckd|        0.0|       0.0|        1.0|       0.0|        0.0|          0.0|       1.0|        0.0|        1.0|       0.0|          1.0|       2.0|       2.0|        1.0|       3.0|       2.0|[1.0,2.0,2.0,2.0,...|\n",
            "| 53|130|1.015|  2|  0|abnormal| normal|notpresent|notpresent|380|102|17.5|139|5.3|10.3| 33| 5300|3.2|yes|yes|yes| poor| no| no|  ckd|        0.0|       1.0|        0.0|       0.0|        1.0|          0.0|       0.0|        0.0|        1.0|       0.0|          1.0|       4.0|       1.0|       10.0|       0.0|       7.0|(15,[0,1,2,3,9,10...|\n",
            "| 50|150|1.025|  0|  1|abnormal|abnomal|notpresent|   present|208|187|18.4|131|3.7|  10| 16| 9200|3.6|yes|yes|yes| poor| no| no|  ckd|        0.0|       1.0|        0.0|       1.0|        1.0|          0.0|       0.0|        0.0|        1.0|       2.0|          1.0|       0.0|       0.0|        5.0|       3.0|       0.0|(15,[0,4,6,8,9,10...|\n",
            "| 69|140|1.025|  0|  2|abnormal| normal|notpresent|notpresent| 98| 73| 7.3|129|4.9| 9.1| 24| 6200|3.4|yes| no| no| poor| no|yes|  ckd|        0.0|       0.0|        1.0|       0.0|        0.0|          0.0|       0.0|        0.0|        1.0|       0.0|          1.0|       1.0|       0.0|        2.0|       1.0|       0.0|(15,[0,1,4,9,12,1...|\n",
            "| 69|130| 1.02|  0|  0|abnormal| normal|notpresent|notpresent|157|187| 6.3|130|  5|11.7| 37| 6900|5.2| no| no| no| good| no| no|  ckd|        0.0|       0.0|        0.0|       0.0|        0.0|          0.0|       0.0|        0.0|        0.0|       0.0|          0.0|       4.0|       0.0|        2.0|       0.0|       1.0|(15,[0,1,2],[2.0,...|\n",
            "| 71|120| 1.02|  3|  0|abnormal| normal|notpresent|notpresent| 76| 73| 6.4|134|4.4|11.6| 30|11400|3.9|yes| no| no| good| no| no|  ckd|        0.0|       0.0|        0.0|       0.0|        0.0|          0.0|       0.0|        0.0|        1.0|       0.0|          0.0|       3.0|       2.0|        9.0|       0.0|       1.0|(15,[0,1,2,3,9],[...|\n",
            "| 65|140| 1.02|  2|  0|abnormal| normal|   present|notpresent| 99| 96| 7.1|135|5.7| 8.4| 24| 5300|4.6|yes|yes|yes| poor| no|yes|  ckd|        0.0|       1.0|        1.0|       0.0|        1.0|          0.0|       0.0|        1.0|        1.0|       0.0|          1.0|       1.0|       1.0|        6.0|       0.0|       1.0|[6.0,1.0,1.0,1.0,...|\n",
            "| 70|120| 1.02|  0|  3|abnormal| normal|   present|notpresent|114| 73|18.4|129|4.1|11.6| 32| 9200|4.4|yes|yes|yes| good| no| no|  ckd|        0.0|       1.0|        0.0|       0.0|        1.0|          0.0|       0.0|        1.0|        1.0|       0.0|          0.0|       3.0|       0.0|        8.0|       2.0|       1.0|(15,[0,1,2,4,7,9,...|\n",
            "+---+---+-----+---+---+--------+-------+----------+----------+---+---+----+---+---+----+---+-----+---+---+---+---+-----+---+---+-----+-----------+----------+-----------+----------+-----------+-------------+----------+-----------+-----------+----------+-------------+----------+----------+-----------+----------+----------+--------------------+\n",
            "only showing top 20 rows\n",
            "\n"
          ]
        }
      ],
      "source": [
        "output.show()"
      ]
    },
    {
      "cell_type": "code",
      "execution_count": null,
      "metadata": {
        "id": "gbs5uM7gkP_C"
      },
      "outputs": [],
      "source": [
        "finalized_data =output.select(\"class_feature\", \"class_indexed\")"
      ]
    },
    {
      "cell_type": "code",
      "execution_count": null,
      "metadata": {
        "id": "wWhCm_cRkZY7",
        "colab": {
          "base_uri": "https://localhost:8080/"
        },
        "outputId": "234d457f-2c25-4089-ec74-c70087e9129d"
      },
      "outputs": [
        {
          "output_type": "stream",
          "name": "stdout",
          "text": [
            "+--------------------+-------------+\n",
            "|       class_feature|class_indexed|\n",
            "+--------------------+-------------+\n",
            "|(15,[0,2,3],[5.0,...|          0.0|\n",
            "|(15,[0,1,2,3,14],...|          0.0|\n",
            "|(15,[0,1,2,3,4,10...|          0.0|\n",
            "|[9.0,1.0,3.0,3.0,...|          0.0|\n",
            "|(15,[0,1,2,3,7,14...|          0.0|\n",
            "|(15,[0,1,2,3,9,13...|          0.0|\n",
            "|(15,[0,1,2,14],[3...|          0.0|\n",
            "|(15,[1,2,3,4,6,10...|          0.0|\n",
            "|(15,[0,1,2,3,6,9,...|          0.0|\n",
            "|(15,[1,3,6,9,14],...|          0.0|\n",
            "|[4.0,3.0,2.0,1.0,...|          0.0|\n",
            "|(15,[0,1,2,3,6,9,...|          0.0|\n",
            "|[1.0,2.0,2.0,2.0,...|          0.0|\n",
            "|(15,[0,1,2,3,9,10...|          0.0|\n",
            "|(15,[0,4,6,8,9,10...|          0.0|\n",
            "|(15,[0,1,4,9,12,1...|          0.0|\n",
            "|(15,[0,1,2],[2.0,...|          0.0|\n",
            "|(15,[0,1,2,3,9],[...|          0.0|\n",
            "|[6.0,1.0,1.0,1.0,...|          0.0|\n",
            "|(15,[0,1,2,4,7,9,...|          0.0|\n",
            "+--------------------+-------------+\n",
            "only showing top 20 rows\n",
            "\n"
          ]
        }
      ],
      "source": [
        "finalized_data.show()"
      ]
    },
    {
      "cell_type": "code",
      "execution_count": null,
      "metadata": {
        "id": "NuA4s9svkcG1"
      },
      "outputs": [],
      "source": [
        "from pyspark.ml.regression import LinearRegression\n",
        "#train test split\n",
        "train_data, test_data = finalized_data.randomSplit([0.75, 0.25])\n",
        "regressor = LinearRegression(featuresCol='class_feature', labelCol='class_indexed')\n",
        "regressor = regressor.fit(train_data)"
      ]
    },
    {
      "cell_type": "code",
      "execution_count": null,
      "metadata": {
        "id": "6DLt5AXQOYJz",
        "colab": {
          "base_uri": "https://localhost:8080/"
        },
        "outputId": "905bc144-7215-4d3f-e390-ea29628b22ee"
      },
      "outputs": [
        {
          "output_type": "execute_result",
          "data": {
            "text/plain": [
              "DenseVector([0.0033, 0.0557, -0.0182, -0.0335, -0.0228, 0.1884, -0.0679, -0.0314, -0.0616, -0.2136, -0.2115, 0.2108, -0.072, -0.067, 0.0014])"
            ]
          },
          "metadata": {},
          "execution_count": 147
        }
      ],
      "source": [
        "regressor.coefficients"
      ]
    },
    {
      "cell_type": "code",
      "execution_count": null,
      "metadata": {
        "id": "BTNWIygYPBQB",
        "colab": {
          "base_uri": "https://localhost:8080/"
        },
        "outputId": "2ad390c3-b3b2-49d9-984e-ec43e8c3f489"
      },
      "outputs": [
        {
          "output_type": "execute_result",
          "data": {
            "text/plain": [
              "0.2400073948468487"
            ]
          },
          "metadata": {},
          "execution_count": 148
        }
      ],
      "source": [
        "regressor.intercept"
      ]
    },
    {
      "cell_type": "code",
      "execution_count": null,
      "metadata": {
        "id": "XUmyR2M9QQOj"
      },
      "outputs": [],
      "source": [
        "## Prediction\n",
        "pred_result = regressor.evaluate(test_data)"
      ]
    },
    {
      "cell_type": "code",
      "execution_count": null,
      "metadata": {
        "id": "PixU8h41QU0w",
        "colab": {
          "base_uri": "https://localhost:8080/"
        },
        "outputId": "83815df0-58cb-4ff2-c32e-df0e8209d481"
      },
      "outputs": [
        {
          "output_type": "stream",
          "name": "stdout",
          "text": [
            "+--------------------+-------------+-------------------+\n",
            "|       class_feature|class_indexed|         prediction|\n",
            "+--------------------+-------------+-------------------+\n",
            "|     (15,[0],[10.0])|          0.0|0.27309561352523526|\n",
            "|(15,[0,1],[2.0,2.0])|          0.0| 0.3580277181354623|\n",
            "|(15,[0,1],[2.0,4.0])|          0.0| 0.4694303976883986|\n",
            "|(15,[0,1],[7.0,1.0])|          0.0|0.31887048769818743|\n",
            "|(15,[0,1],[20.0,7...|          1.0| 0.6960932106388988|\n",
            "|(15,[0,1],[21.0,7...|          1.0| 0.6994020325067375|\n",
            "|(15,[0,1],[23.0,8...|          1.0|  0.761721016018883|\n",
            "|(15,[0,1],[34.0,6...|          1.0| 0.6867153770121719|\n",
            "|(15,[0,1,2],[1.0,...|          0.0|0.31841672346983757|\n",
            "|(15,[0,1,2],[2.0,...|          0.0| 0.2841752919601011|\n",
            "|(15,[0,1,2],[2.0,...|          0.0|0.13896660076895676|\n",
            "|(15,[0,1,2],[2.0,...|          0.0|0.12081551437006371|\n",
            "|(15,[0,1,2],[2.0,...|          0.0|0.17651685414653187|\n",
            "|(15,[0,1,2],[2.0,...|          0.0| 0.2503692803218931|\n",
            "|(15,[0,1,2],[2.0,...|          0.0| 0.4512793112895056|\n",
            "|(15,[0,1,2],[2.0,...|          0.0|0.43312822489061253|\n",
            "|(15,[0,1,2],[2.0,...|          0.0|0.43437630547040157|\n",
            "|(15,[0,1,2],[3.0,...|          0.0|0.28748411382793976|\n",
            "|(15,[0,1,2],[3.0,...|          0.0|0.26933302742904675|\n",
            "|(15,[0,1,2],[3.0,...|          0.0|0.17982567601437055|\n",
            "+--------------------+-------------+-------------------+\n",
            "only showing top 20 rows\n",
            "\n"
          ]
        }
      ],
      "source": [
        "## Final Comparison\n",
        "pred_result.predictions.show()"
      ]
    },
    {
      "cell_type": "code",
      "execution_count": null,
      "metadata": {
        "id": "tReYQoXjQdIP",
        "colab": {
          "base_uri": "https://localhost:8080/"
        },
        "outputId": "3645f331-5561-4fd6-f20f-69dff3fc10b6"
      },
      "outputs": [
        {
          "output_type": "execute_result",
          "data": {
            "text/plain": [
              "(0.830936407648348, 0.14251560548484102, 0.03200635818854149)"
            ]
          },
          "metadata": {},
          "execution_count": 151
        }
      ],
      "source": [
        "pred_result.r2, pred_result.meanAbsoluteError, pred_result.meanSquaredError"
      ]
    },
    {
      "cell_type": "code",
      "execution_count": null,
      "metadata": {
        "id": "_k3ec7lcShyg"
      },
      "outputs": [],
      "source": [
        "#Split the dataset into training and testing dataset\n",
        "\n",
        "splits = finalized_data.randomSplit([0.75, 0.25])\n",
        "train_data = splits[0]\n",
        "test_data = splits[1]"
      ]
    },
    {
      "cell_type": "code",
      "execution_count": null,
      "metadata": {
        "id": "tvzVCwLvRUVS"
      },
      "outputs": [],
      "source": [
        "from pyspark.ml.classification import LogisticRegression\n",
        "\n",
        "lr = LogisticRegression(featuresCol = 'class_feature', labelCol = 'class_indexed', maxIter=10, regParam=0.3, elasticNetParam=0.8)"
      ]
    },
    {
      "cell_type": "code",
      "execution_count": null,
      "metadata": {
        "id": "N-isMYrWRVYp"
      },
      "outputs": [],
      "source": [
        "from pyspark.ml import Pipeline\n",
        "pipeline = Pipeline(stages=[lr])"
      ]
    },
    {
      "cell_type": "code",
      "execution_count": null,
      "metadata": {
        "id": "2dPOcdcMTPt7"
      },
      "outputs": [],
      "source": [
        "model = pipeline.fit(train_data)"
      ]
    },
    {
      "cell_type": "code",
      "execution_count": null,
      "metadata": {
        "id": "V-snE4caT62O"
      },
      "outputs": [],
      "source": [
        "prediction = model.transform(train_data)"
      ]
    },
    {
      "cell_type": "code",
      "execution_count": null,
      "metadata": {
        "id": "FiUBT4DKT91w",
        "colab": {
          "base_uri": "https://localhost:8080/"
        },
        "outputId": "71d870f1-5643-475f-af7b-8a806241e7b3"
      },
      "outputs": [
        {
          "output_type": "stream",
          "name": "stdout",
          "text": [
            "root\n",
            " |-- class_feature: vector (nullable = true)\n",
            " |-- class_indexed: double (nullable = false)\n",
            " |-- rawPrediction: vector (nullable = true)\n",
            " |-- probability: vector (nullable = true)\n",
            " |-- prediction: double (nullable = false)\n",
            "\n"
          ]
        }
      ],
      "source": [
        "prediction.printSchema()"
      ]
    },
    {
      "cell_type": "code",
      "execution_count": null,
      "metadata": {
        "id": "SQwwId2wUAd9",
        "colab": {
          "base_uri": "https://localhost:8080/"
        },
        "outputId": "4302877a-6e5f-445e-d6ee-7973b97124f4"
      },
      "outputs": [
        {
          "output_type": "stream",
          "name": "stdout",
          "text": [
            "+--------------------+-------------+--------------------+--------------------+----------+\n",
            "|       class_feature|class_indexed|       rawPrediction|         probability|prediction|\n",
            "+--------------------+-------------+--------------------+--------------------+----------+\n",
            "|          (15,[],[])|          0.0|[1.67471974079878...|[0.84220407112144...|       0.0|\n",
            "|      (15,[0],[2.0])|          0.0|[1.67471974079878...|[0.84220407112144...|       0.0|\n",
            "|      (15,[0],[3.0])|          0.0|[1.67471974079878...|[0.84220407112144...|       0.0|\n",
            "|      (15,[0],[4.0])|          0.0|[1.67471974079878...|[0.84220407112144...|       0.0|\n",
            "|(15,[0,1],[2.0,2.0])|          0.0|[1.39924769378450...|[0.80206448178420...|       0.0|\n",
            "|(15,[0,1],[2.0,4.0])|          0.0|[1.12377564677023...|[0.75468838835944...|       0.0|\n",
            "|(15,[0,1],[3.0,2.0])|          0.0|[1.39924769378450...|[0.80206448178420...|       0.0|\n",
            "|(15,[0,1],[4.0,3.0])|          0.0|[1.26151167027736...|[0.77928622363461...|       0.0|\n",
            "|(15,[0,1],[5.0,6.0])|          1.0|[0.84830359975595...|[0.70021116277469...|       0.0|\n",
            "|(15,[0,1],[7.0,1.0])|          0.0|[1.53698371729164...|[0.82302581858830...|       0.0|\n",
            "|(15,[0,1],[10.0,2...|          0.0|[1.39924769378450...|[0.80206448178420...|       0.0|\n",
            "|(15,[0,1],[10.0,4...|          0.0|[1.12377564677023...|[0.75468838835944...|       0.0|\n",
            "|(15,[0,1],[10.0,5...|          0.0|[0.98603962326309...|[0.72830496445598...|       0.0|\n",
            "|(15,[0,1],[11.0,6...|          1.0|[0.84830359975595...|[0.70021116277469...|       0.0|\n",
            "|(15,[0,1],[13.0,7...|          1.0|[0.71056757624881...|[0.67052656128030...|       0.0|\n",
            "|(15,[0,1],[20.0,7...|          1.0|[0.71056757624881...|[0.67052656128030...|       0.0|\n",
            "|(15,[0,1],[21.0,7...|          1.0|[0.71056757624881...|[0.67052656128030...|       0.0|\n",
            "|(15,[0,1],[23.0,6...|          1.0|[0.84830359975595...|[0.70021116277469...|       0.0|\n",
            "|(15,[0,1],[23.0,8...|          1.0|[0.57283155274167...|[0.63941628411390...|       0.0|\n",
            "|(15,[0,1],[36.0,7...|          1.0|[0.71056757624881...|[0.67052656128030...|       0.0|\n",
            "+--------------------+-------------+--------------------+--------------------+----------+\n",
            "only showing top 20 rows\n",
            "\n"
          ]
        }
      ],
      "source": [
        "prediction.show()"
      ]
    },
    {
      "cell_type": "code",
      "execution_count": null,
      "metadata": {
        "id": "cClhI9I9UKmb",
        "colab": {
          "base_uri": "https://localhost:8080/"
        },
        "outputId": "2ec2926a-80fd-474c-b213-da2f5625313c"
      },
      "outputs": [
        {
          "output_type": "execute_result",
          "data": {
            "text/plain": [
              "0.748921782652681"
            ]
          },
          "metadata": {},
          "execution_count": 159
        }
      ],
      "source": [
        "from pyspark.ml.evaluation import MulticlassClassificationEvaluator\n",
        "binEval = MulticlassClassificationEvaluator().setMetricName(\"accuracy\") .setPredictionCol(\"prediction\").setLabelCol(\"class_indexed\")\n",
        "\n",
        "binEval.evaluate(prediction)"
      ]
    },
    {
      "cell_type": "code",
      "execution_count": null,
      "metadata": {
        "id": "DmcegCoZUW7l",
        "colab": {
          "base_uri": "https://localhost:8080/"
        },
        "outputId": "f9bb6437-1aa4-4613-e2cb-1842a1c119c2"
      },
      "outputs": [
        {
          "output_type": "execute_result",
          "data": {
            "text/plain": [
              "0.7530854271356784"
            ]
          },
          "metadata": {},
          "execution_count": 160
        }
      ],
      "source": [
        "#test on testing data\n",
        "prediction = model.transform(test_data)\n",
        "\n",
        "from pyspark.ml.evaluation import MulticlassClassificationEvaluator\n",
        "binEval = MulticlassClassificationEvaluator().setMetricName(\"accuracy\") .setPredictionCol(\"prediction\").setLabelCol(\"class_indexed\")\n",
        "\n",
        "binEval.evaluate(prediction)"
      ]
    },
    {
      "cell_type": "markdown",
      "source": [
        "## Gradient Boost"
      ],
      "metadata": {
        "id": "ISsWYR_G0DyP"
      }
    },
    {
      "cell_type": "code",
      "source": [
        "#Split the dataset into training and testing dataset\n",
        "\n",
        "splits = finalized_data.randomSplit([0.75, 0.25])\n",
        "train_data = splits[0]\n",
        "test_data = splits[1]"
      ],
      "metadata": {
        "id": "90elFbSt0HDm"
      },
      "execution_count": null,
      "outputs": []
    },
    {
      "cell_type": "code",
      "source": [
        "from pyspark.ml.classification import GBTClassifier\n",
        "\n",
        "gbt = GBTClassifier(labelCol=\"class_indexed\", featuresCol=\"class_feature\", maxIter=10)"
      ],
      "metadata": {
        "id": "7NqBSAWt0KTI"
      },
      "execution_count": null,
      "outputs": []
    },
    {
      "cell_type": "code",
      "source": [
        "from pyspark.ml import Pipeline\n",
        "pipeline = Pipeline(stages=[gbt])"
      ],
      "metadata": {
        "id": "DL83iEJv0M7p"
      },
      "execution_count": null,
      "outputs": []
    },
    {
      "cell_type": "code",
      "source": [
        "# dt = DecisionTreeClassifier(maxDepth=2, labelCol=\"indexed\")\n",
        "# paramGrid = ParamGridBuilder().addGrid(dt.maxBins, [49, 52, 55]).addGrid(dt.maxDepth, [4, 6, 8]).addGrid(rf.impurity, [\"entropy\", \"gini\"]).build()\n",
        "# pipeline = Pipeline(stages=[labelIndexer, typeIndexer, assembler, dt])\n",
        "\n",
        "# model = pipeline.fit(train_data)"
      ],
      "metadata": {
        "id": "LmmON3TR359N"
      },
      "execution_count": null,
      "outputs": []
    },
    {
      "cell_type": "code",
      "source": [
        "prediction = model.transform(train_data)"
      ],
      "metadata": {
        "id": "PyK31YeJ0Upi"
      },
      "execution_count": null,
      "outputs": []
    },
    {
      "cell_type": "code",
      "source": [
        "prediction.printSchema()"
      ],
      "metadata": {
        "colab": {
          "base_uri": "https://localhost:8080/"
        },
        "id": "aH0NQE8N1ERr",
        "outputId": "0ef473d4-8de9-44c6-bbb6-df2dca6d5f0d"
      },
      "execution_count": null,
      "outputs": [
        {
          "output_type": "stream",
          "name": "stdout",
          "text": [
            "root\n",
            " |-- class_feature: vector (nullable = true)\n",
            " |-- class_indexed: double (nullable = false)\n",
            " |-- rawPrediction: vector (nullable = true)\n",
            " |-- probability: vector (nullable = true)\n",
            " |-- prediction: double (nullable = false)\n",
            "\n"
          ]
        }
      ]
    },
    {
      "cell_type": "code",
      "source": [
        "prediction.show()"
      ],
      "metadata": {
        "colab": {
          "base_uri": "https://localhost:8080/"
        },
        "id": "754kWEfe1Hog",
        "outputId": "631a990f-a281-4086-bf2b-20a88273de10"
      },
      "execution_count": null,
      "outputs": [
        {
          "output_type": "stream",
          "name": "stdout",
          "text": [
            "+--------------------+-------------+--------------------+--------------------+----------+\n",
            "|       class_feature|class_indexed|       rawPrediction|         probability|prediction|\n",
            "+--------------------+-------------+--------------------+--------------------+----------+\n",
            "|      (15,[0],[2.0])|          0.0|[1.67471974079878...|[0.84220407112144...|       0.0|\n",
            "|      (15,[0],[3.0])|          0.0|[1.67471974079878...|[0.84220407112144...|       0.0|\n",
            "|      (15,[0],[4.0])|          0.0|[1.67471974079878...|[0.84220407112144...|       0.0|\n",
            "|     (15,[0],[10.0])|          0.0|[1.67471974079878...|[0.84220407112144...|       0.0|\n",
            "|(15,[0,1],[2.0,4.0])|          0.0|[1.12377564677023...|[0.75468838835944...|       0.0|\n",
            "|(15,[0,1],[4.0,2.0])|          0.0|[1.39924769378450...|[0.80206448178420...|       0.0|\n",
            "|(15,[0,1],[4.0,3.0])|          0.0|[1.26151167027736...|[0.77928622363461...|       0.0|\n",
            "|(15,[0,1],[7.0,5.0])|          0.0|[0.98603962326309...|[0.72830496445598...|       0.0|\n",
            "|(15,[0,1],[10.0,2...|          0.0|[1.39924769378450...|[0.80206448178420...|       0.0|\n",
            "|(15,[0,1],[10.0,4...|          0.0|[1.12377564677023...|[0.75468838835944...|       0.0|\n",
            "|(15,[0,1],[11.0,6...|          1.0|[0.84830359975595...|[0.70021116277469...|       0.0|\n",
            "|(15,[0,1],[13.0,7...|          1.0|[0.71056757624881...|[0.67052656128030...|       0.0|\n",
            "|(15,[0,1],[20.0,7...|          1.0|[0.71056757624881...|[0.67052656128030...|       0.0|\n",
            "|(15,[0,1],[21.0,7...|          1.0|[0.71056757624881...|[0.67052656128030...|       0.0|\n",
            "|(15,[0,1],[23.0,6...|          1.0|[0.84830359975595...|[0.70021116277469...|       0.0|\n",
            "|(15,[0,1],[23.0,8...|          1.0|[0.57283155274167...|[0.63941628411390...|       0.0|\n",
            "|(15,[0,1],[34.0,6...|          1.0|[0.84830359975595...|[0.70021116277469...|       0.0|\n",
            "|(15,[0,1],[36.0,7...|          1.0|[0.71056757624881...|[0.67052656128030...|       0.0|\n",
            "|(15,[0,1,2],[1.0,...|          0.0|[1.53698371729164...|[0.82302581858830...|       0.0|\n",
            "|(15,[0,1,2],[1.0,...|          0.0|[1.53698371729164...|[0.82302581858830...|       0.0|\n",
            "+--------------------+-------------+--------------------+--------------------+----------+\n",
            "only showing top 20 rows\n",
            "\n"
          ]
        }
      ]
    },
    {
      "cell_type": "code",
      "source": [
        "from pyspark.ml.evaluation import MulticlassClassificationEvaluator\n",
        "binEval = MulticlassClassificationEvaluator().setMetricName(\"accuracy\") .setPredictionCol(\"prediction\").setLabelCol(\"class_indexed\")\n",
        "\n",
        "binEval.evaluate(prediction)"
      ],
      "metadata": {
        "colab": {
          "base_uri": "https://localhost:8080/"
        },
        "id": "FT9HEnYY1KFv",
        "outputId": "0bb788b4-429c-4923-9461-7e3f5cef2e9f"
      },
      "execution_count": null,
      "outputs": [
        {
          "output_type": "execute_result",
          "data": {
            "text/plain": [
              "0.7502141442261363"
            ]
          },
          "metadata": {},
          "execution_count": 170
        }
      ]
    },
    {
      "cell_type": "code",
      "source": [
        "#test on testing data\n",
        "prediction = model.transform(test_data)\n",
        "\n",
        "from pyspark.ml.evaluation import MulticlassClassificationEvaluator\n",
        "binEval = MulticlassClassificationEvaluator().setMetricName(\"accuracy\") .setPredictionCol(\"prediction\").setLabelCol(\"class_indexed\")\n",
        "\n",
        "binEval.evaluate(prediction)"
      ],
      "metadata": {
        "colab": {
          "base_uri": "https://localhost:8080/"
        },
        "id": "qq8njJu11J8A",
        "outputId": "51c3e300-9fd6-48cc-f974-0b4da182d62c"
      },
      "execution_count": null,
      "outputs": [
        {
          "output_type": "execute_result",
          "data": {
            "text/plain": [
              "0.7491990665664676"
            ]
          },
          "metadata": {},
          "execution_count": 171
        }
      ]
    },
    {
      "cell_type": "markdown",
      "source": [
        "## Random Forest Classifier\n",
        "\n"
      ],
      "metadata": {
        "id": "_1rvhe4Tjb_Z"
      }
    },
    {
      "cell_type": "code",
      "source": [
        "from pyspark.ml.classification import RandomForestClassifier\n",
        "\n",
        "# Train a RandomForest model.\n",
        "rf = RandomForestClassifier(labelCol=\"label\", featuresCol=\"features_norm\", numTrees=10)"
      ],
      "metadata": {
        "id": "45iiBu5Pja5p"
      },
      "execution_count": null,
      "outputs": []
    },
    {
      "cell_type": "code",
      "source": [
        "from pyspark.ml import Pipeline\n",
        "pipeline = Pipeline(stages=[rf])"
      ],
      "metadata": {
        "id": "JsToJsbFjzXK"
      },
      "execution_count": null,
      "outputs": []
    },
    {
      "cell_type": "code",
      "source": [
        "#model = pipeline.fit(train_data)"
      ],
      "metadata": {
        "id": "SQ_yGAMyj4zB"
      },
      "execution_count": null,
      "outputs": []
    },
    {
      "cell_type": "code",
      "source": [
        "prediction = model.transform(train_data)"
      ],
      "metadata": {
        "id": "hwpO9e6qkLhZ"
      },
      "execution_count": null,
      "outputs": []
    },
    {
      "cell_type": "code",
      "source": [
        "prediction.printSchema()"
      ],
      "metadata": {
        "colab": {
          "base_uri": "https://localhost:8080/"
        },
        "id": "w9OGHQMMkP7x",
        "outputId": "a986d340-d265-4ca2-9db6-af2bbaef7476"
      },
      "execution_count": null,
      "outputs": [
        {
          "output_type": "stream",
          "name": "stdout",
          "text": [
            "root\n",
            " |-- class_feature: vector (nullable = true)\n",
            " |-- class_indexed: double (nullable = false)\n",
            " |-- rawPrediction: vector (nullable = true)\n",
            " |-- probability: vector (nullable = true)\n",
            " |-- prediction: double (nullable = false)\n",
            "\n"
          ]
        }
      ]
    },
    {
      "cell_type": "code",
      "source": [
        "prediction.show()"
      ],
      "metadata": {
        "colab": {
          "base_uri": "https://localhost:8080/"
        },
        "id": "xMeZvTY2kPxH",
        "outputId": "26d2baaf-10e2-436e-8e25-e66679ee234c"
      },
      "execution_count": null,
      "outputs": [
        {
          "output_type": "stream",
          "name": "stdout",
          "text": [
            "+--------------------+-------------+--------------------+--------------------+----------+\n",
            "|       class_feature|class_indexed|       rawPrediction|         probability|prediction|\n",
            "+--------------------+-------------+--------------------+--------------------+----------+\n",
            "|      (15,[0],[2.0])|          0.0|[1.67471974079878...|[0.84220407112144...|       0.0|\n",
            "|      (15,[0],[3.0])|          0.0|[1.67471974079878...|[0.84220407112144...|       0.0|\n",
            "|      (15,[0],[4.0])|          0.0|[1.67471974079878...|[0.84220407112144...|       0.0|\n",
            "|     (15,[0],[10.0])|          0.0|[1.67471974079878...|[0.84220407112144...|       0.0|\n",
            "|(15,[0,1],[2.0,4.0])|          0.0|[1.12377564677023...|[0.75468838835944...|       0.0|\n",
            "|(15,[0,1],[4.0,2.0])|          0.0|[1.39924769378450...|[0.80206448178420...|       0.0|\n",
            "|(15,[0,1],[4.0,3.0])|          0.0|[1.26151167027736...|[0.77928622363461...|       0.0|\n",
            "|(15,[0,1],[7.0,5.0])|          0.0|[0.98603962326309...|[0.72830496445598...|       0.0|\n",
            "|(15,[0,1],[10.0,2...|          0.0|[1.39924769378450...|[0.80206448178420...|       0.0|\n",
            "|(15,[0,1],[10.0,4...|          0.0|[1.12377564677023...|[0.75468838835944...|       0.0|\n",
            "|(15,[0,1],[11.0,6...|          1.0|[0.84830359975595...|[0.70021116277469...|       0.0|\n",
            "|(15,[0,1],[13.0,7...|          1.0|[0.71056757624881...|[0.67052656128030...|       0.0|\n",
            "|(15,[0,1],[20.0,7...|          1.0|[0.71056757624881...|[0.67052656128030...|       0.0|\n",
            "|(15,[0,1],[21.0,7...|          1.0|[0.71056757624881...|[0.67052656128030...|       0.0|\n",
            "|(15,[0,1],[23.0,6...|          1.0|[0.84830359975595...|[0.70021116277469...|       0.0|\n",
            "|(15,[0,1],[23.0,8...|          1.0|[0.57283155274167...|[0.63941628411390...|       0.0|\n",
            "|(15,[0,1],[34.0,6...|          1.0|[0.84830359975595...|[0.70021116277469...|       0.0|\n",
            "|(15,[0,1],[36.0,7...|          1.0|[0.71056757624881...|[0.67052656128030...|       0.0|\n",
            "|(15,[0,1,2],[1.0,...|          0.0|[1.53698371729164...|[0.82302581858830...|       0.0|\n",
            "|(15,[0,1,2],[1.0,...|          0.0|[1.53698371729164...|[0.82302581858830...|       0.0|\n",
            "+--------------------+-------------+--------------------+--------------------+----------+\n",
            "only showing top 20 rows\n",
            "\n"
          ]
        }
      ]
    },
    {
      "cell_type": "code",
      "source": [
        "from pyspark.ml.evaluation import MulticlassClassificationEvaluator\n",
        "binEval = MulticlassClassificationEvaluator().setMetricName(\"accuracy\") .setPredictionCol(\"prediction\").setLabelCol(\"class_indexed\")\n",
        "\n",
        "binEval.evaluate(prediction)"
      ],
      "metadata": {
        "colab": {
          "base_uri": "https://localhost:8080/"
        },
        "id": "CXGWfIDbkPmE",
        "outputId": "b709ca0b-62dc-48b9-b7a6-4fa501449d1a"
      },
      "execution_count": null,
      "outputs": [
        {
          "output_type": "execute_result",
          "data": {
            "text/plain": [
              "0.7502141442261363"
            ]
          },
          "metadata": {},
          "execution_count": 178
        }
      ]
    },
    {
      "cell_type": "code",
      "source": [
        "#test on testing data\n",
        "prediction = model.transform(test_data)\n",
        "\n",
        "from pyspark.ml.evaluation import MulticlassClassificationEvaluator\n",
        "binEval = MulticlassClassificationEvaluator().setMetricName(\"accuracy\") .setPredictionCol(\"prediction\").setLabelCol(\"class_indexed\")\n",
        "\n",
        "binEval.evaluate(prediction)"
      ],
      "metadata": {
        "colab": {
          "base_uri": "https://localhost:8080/"
        },
        "id": "IVJ7oxL1kPd5",
        "outputId": "c641e00c-dfda-4888-af75-8db871c54f26"
      },
      "execution_count": null,
      "outputs": [
        {
          "output_type": "execute_result",
          "data": {
            "text/plain": [
              "0.7491990665664676"
            ]
          },
          "metadata": {},
          "execution_count": 179
        }
      ]
    }
  ],
  "metadata": {
    "colab": {
      "provenance": []
    },
    "kernelspec": {
      "display_name": "Python 3",
      "name": "python3"
    },
    "language_info": {
      "name": "python"
    }
  },
  "nbformat": 4,
  "nbformat_minor": 0
}