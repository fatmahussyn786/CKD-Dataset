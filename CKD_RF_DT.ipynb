{
  "cells": [
    {
      "cell_type": "code",
      "execution_count": 75,
      "metadata": {
        "colab": {
          "base_uri": "https://localhost:8080/"
        },
        "id": "4-tpzSMLWQxh",
        "outputId": "0da3b352-6db5-48d5-cbdc-7aa2fc33cda6"
      },
      "outputs": [
        {
          "output_type": "stream",
          "name": "stdout",
          "text": [
            "Reading package lists... Done\n",
            "Building dependency tree... Done\n",
            "Reading state information... Done\n",
            "openjdk-11-jdk is already the newest version (11.0.20+8-1ubuntu1~22.04).\n",
            "0 upgraded, 0 newly installed, 0 to remove and 16 not upgraded.\n"
          ]
        }
      ],
      "source": [
        "#Install Java Development kit for Spark\n",
        "!apt-get install openjdk-11-jdk"
      ]
    },
    {
      "cell_type": "code",
      "execution_count": 76,
      "metadata": {
        "id": "YH0Sw8mO8eSM"
      },
      "outputs": [],
      "source": [
        "import os\n",
        "import sys\n",
        "\n",
        "os.environ['PYSPARK_PYTHON'] = sys.executable\n",
        "os.environ['PYSPARK_DRIVER_PYTHON'] = sys.executable"
      ]
    },
    {
      "cell_type": "code",
      "execution_count": 77,
      "metadata": {
        "colab": {
          "base_uri": "https://localhost:8080/"
        },
        "id": "q2SdmSRPsnGr",
        "outputId": "a69d22e7-687a-4a9e-bdde-f2a2fd36064b"
      },
      "outputs": [
        {
          "output_type": "stream",
          "name": "stdout",
          "text": [
            "\n"
          ]
        }
      ],
      "source": [
        "!echo $JAVA_HOME"
      ]
    },
    {
      "cell_type": "code",
      "execution_count": 78,
      "metadata": {
        "colab": {
          "base_uri": "https://localhost:8080/"
        },
        "id": "uE-6tvKxsovS",
        "outputId": "f4c14749-9857-4f58-a4c1-59f1dd0230e4"
      },
      "outputs": [
        {
          "output_type": "stream",
          "name": "stdout",
          "text": [
            "Requirement already satisfied: pyspark==3.0.1 in /usr/local/lib/python3.10/dist-packages (3.0.1)\n",
            "Requirement already satisfied: py4j==0.10.9 in /usr/local/lib/python3.10/dist-packages (from pyspark==3.0.1) (0.10.9)\n"
          ]
        }
      ],
      "source": [
        "#Install PySpark with latest version\n",
        "!pip install pyspark==3.0.1"
      ]
    },
    {
      "cell_type": "code",
      "execution_count": 79,
      "metadata": {
        "colab": {
          "base_uri": "https://localhost:8080/"
        },
        "id": "A5o8QkNGtBj7",
        "outputId": "a4f40479-22d0-4c0c-920c-1946c5ea238a"
      },
      "outputs": [
        {
          "output_type": "stream",
          "name": "stdout",
          "text": [
            "Requirement already satisfied: findspark in /usr/local/lib/python3.10/dist-packages (2.0.1)\n"
          ]
        }
      ],
      "source": [
        "!pip install findspark\n",
        "import findspark\n",
        "findspark.init()"
      ]
    },
    {
      "cell_type": "code",
      "execution_count": 80,
      "metadata": {
        "id": "lvt-84jQtGF8"
      },
      "outputs": [],
      "source": [
        "from pyspark.sql import SparkSession, SQLContext\n",
        "spark = SparkSession.builder.master(\"local\").appName(\"Test Spark\").config(\"spark.some.config.option\", \"some-value\").getOrCreate()"
      ]
    },
    {
      "cell_type": "code",
      "execution_count": 81,
      "metadata": {
        "id": "sR37CBattHkK"
      },
      "outputs": [],
      "source": [
        "sc = spark.sparkContext"
      ]
    },
    {
      "cell_type": "code",
      "execution_count": 82,
      "metadata": {
        "colab": {
          "base_uri": "https://localhost:8080/",
          "height": 219
        },
        "id": "rDbAJ-yhtJFS",
        "outputId": "56dc0e0e-70ee-42e5-c41d-a8e174b27df4"
      },
      "outputs": [
        {
          "output_type": "execute_result",
          "data": {
            "text/plain": [
              "<pyspark.sql.session.SparkSession at 0x7ad608055960>"
            ],
            "text/html": [
              "\n",
              "            <div>\n",
              "                <p><b>SparkSession - in-memory</b></p>\n",
              "                \n",
              "        <div>\n",
              "            <p><b>SparkContext</b></p>\n",
              "\n",
              "            <p><a href=\"http://ceb5ac79feaf:4040\">Spark UI</a></p>\n",
              "\n",
              "            <dl>\n",
              "              <dt>Version</dt>\n",
              "                <dd><code>v3.0.1</code></dd>\n",
              "              <dt>Master</dt>\n",
              "                <dd><code>local</code></dd>\n",
              "              <dt>AppName</dt>\n",
              "                <dd><code>Test Spark</code></dd>\n",
              "            </dl>\n",
              "        </div>\n",
              "        \n",
              "            </div>\n",
              "        "
            ]
          },
          "metadata": {},
          "execution_count": 82
        }
      ],
      "source": [
        "spark"
      ]
    },
    {
      "cell_type": "code",
      "execution_count": 83,
      "metadata": {
        "id": "hSmjbEy2tPWZ"
      },
      "outputs": [],
      "source": [
        "import numpy as np"
      ]
    },
    {
      "cell_type": "code",
      "execution_count": 84,
      "metadata": {
        "colab": {
          "base_uri": "https://localhost:8080/"
        },
        "id": "MDk6fb9-tUIN",
        "outputId": "d101e9c6-0295-47e9-aa79-40529525ec31"
      },
      "outputs": [
        {
          "output_type": "stream",
          "name": "stdout",
          "text": [
            "Drive already mounted at /content/drive; to attempt to forcibly remount, call drive.mount(\"/content/drive\", force_remount=True).\n"
          ]
        }
      ],
      "source": [
        "#mount your drive\n",
        "from google.colab import drive\n",
        "drive.mount('/content/drive')"
      ]
    },
    {
      "cell_type": "code",
      "execution_count": 85,
      "metadata": {
        "colab": {
          "base_uri": "https://localhost:8080/"
        },
        "id": "KfP4sI6utb6K",
        "outputId": "bbf75d30-13ae-4abd-f2d1-49b1fd4c63bc"
      },
      "outputs": [
        {
          "output_type": "stream",
          "name": "stdout",
          "text": [
            "+---+---+-----+---+---+--------+-------+----------+----------+---+---+----+---+---+----+---+-----+---+---+---+---+-----+---+---+-----+\n",
            "|age| bp|   sg| al| su|     rbc|     pc|       pcc|        ba|bgr| bu|  sc|sod|pot|hemo|pcv|   wc| rc|htn| dm|cad|appet| pe|ane|class|\n",
            "+---+---+-----+---+---+--------+-------+----------+----------+---+---+----+---+---+----+---+-----+---+---+---+---+-----+---+---+-----+\n",
            "| 50|150| 1.02|  1|  0|abnormal| normal|notpresent|notpresent|181|204| 8.4|135|  4|10.3| 44| 7800|5.2| no| no| no| good| no| no|  ckd|\n",
            "| 69|140| 1.02|  4|  0|abnormal| normal|notpresent|notpresent|121| 64| 7.3|130|5.4| 9.4| 38| 6000|3.9| no| no| no| good| no|yes|  ckd|\n",
            "| 69|160| 1.02|  2|  3|abnormal| normal|notpresent|notpresent|423| 34|   7|129|4.9|10.6| 31| 7500|4.6| no|yes| no| poor| no| no|  ckd|\n",
            "| 71|140|1.005|  4|  0|abnormal|abnomal|   present|notpresent|106| 67|11.6|131|5.5| 7.2| 32| 6700|4.4| no| no| no| poor|yes|yes|  ckd|\n",
            "| 65|170| 1.01|  2|  0|abnormal| normal|   present|notpresent| 66|102|  16|128|5.6| 9.6| 35| 7300|  5| no| no| no| good| no|yes|  ckd|\n",
            "| 70|160|1.015|  3|  0|abnormal| normal|notpresent|notpresent| 74|180|   9|137|4.6| 9.6| 39| 7800|  4|yes| no| no| good|yes|yes|  ckd|\n",
            "| 35|170| 1.01|  0|  0|abnormal| normal|notpresent|notpresent|100|249|14.7|127|5.8| 9.7| 36| 6900|3.7| no| no| no| good| no|yes|  ckd|\n",
            "| 55|120|1.015|  2|  4|abnormal|abnomal|notpresent|notpresent|410|223|17.6|132|5.6| 9.5| 44|12100|3.8| no|yes| no| good|yes|yes|  ckd|\n",
            "| 59|130| 1.02|  3|  0|abnormal|abnomal|notpresent|notpresent|138|185|14.8|133|5.4| 9.3| 33| 4500|3.4|yes| no| no| good| no|yes|  ckd|\n",
            "| 55|130|1.025|  2|  0|abnormal|abnomal|notpresent|notpresent| 70|342| 9.4|130|5.4| 8.5| 29|12200|2.6|yes| no| no| good| no|yes|  ckd|\n",
            "| 43|120| 1.01|  2|  4|abnormal|abnomal|notpresent|notpresent|490|119|   8|130|5.7|   8| 28|11000|2.8|yes|yes|yes| poor| no|yes|  ckd|\n",
            "| 68|100|1.015|  3|  0|abnormal|abnomal|notpresent|notpresent|138|213|11.6|135|  4| 8.1| 32| 3800|4.3|yes| no| no| good|yes|yes|  ckd|\n",
            "| 68|160| 1.01|  3|  1|abnormal| normal|notpresent|notpresent| 70|204| 5.7|142|4.9| 7.8| 28|11400|3.7|yes| no| no| poor|yes|yes|  ckd|\n",
            "| 53|130|1.015|  2|  0|abnormal| normal|notpresent|notpresent|380|102|17.5|139|5.3|10.3| 33| 5300|3.2|yes|yes|yes| poor| no| no|  ckd|\n",
            "| 50|150|1.025|  0|  1|abnormal|abnomal|notpresent|   present|208|187|18.4|131|3.7|  10| 16| 9200|3.6|yes|yes|yes| poor| no| no|  ckd|\n",
            "| 69|140|1.025|  0|  2|abnormal| normal|notpresent|notpresent| 98| 73| 7.3|129|4.9| 9.1| 24| 6200|3.4|yes| no| no| poor| no|yes|  ckd|\n",
            "| 69|130| 1.02|  0|  0|abnormal| normal|notpresent|notpresent|157|187| 6.3|130|  5|11.7| 37| 6900|5.2| no| no| no| good| no| no|  ckd|\n",
            "| 71|120| 1.02|  3|  0|abnormal| normal|notpresent|notpresent| 76| 73| 6.4|134|4.4|11.6| 30|11400|3.9|yes| no| no| good| no| no|  ckd|\n",
            "| 65|140| 1.02|  2|  0|abnormal| normal|   present|notpresent| 99| 96| 7.1|135|5.7| 8.4| 24| 5300|4.6|yes|yes|yes| poor| no|yes|  ckd|\n",
            "| 70|120| 1.02|  0|  3|abnormal| normal|   present|notpresent|114| 73|18.4|129|4.1|11.6| 32| 9200|4.4|yes|yes|yes| good| no| no|  ckd|\n",
            "+---+---+-----+---+---+--------+-------+----------+----------+---+---+----+---+---+----+---+-----+---+---+---+---+-----+---+---+-----+\n",
            "only showing top 20 rows\n",
            "\n"
          ]
        }
      ],
      "source": [
        "#Read the csv file\n",
        "df=spark.read.csv('/content/drive/MyDrive/Colab Notebooks/dataset/CKD_final.csv',inferSchema=True,header=True)\n",
        "df.show()"
      ]
    },
    {
      "cell_type": "code",
      "execution_count": 86,
      "metadata": {
        "colab": {
          "base_uri": "https://localhost:8080/"
        },
        "id": "r01Sq_ZctQvR",
        "outputId": "612f1135-697a-4676-8a04-dc3668bd921d"
      },
      "outputs": [
        {
          "output_type": "execute_result",
          "data": {
            "text/plain": [
              "DataFrame[summary: string, age: string, bp: string, sg: string, al: string, su: string, rbc: string, pc: string, pcc: string, ba: string, bgr: string, bu: string, sc: string, sod: string, pot: string, hemo: string, pcv: string, wc: string, rc: string, htn: string, dm: string, cad: string, appet: string, pe: string, ane: string, class: string]"
            ]
          },
          "metadata": {},
          "execution_count": 86
        }
      ],
      "source": [
        "df.describe()"
      ]
    },
    {
      "cell_type": "code",
      "execution_count": 87,
      "metadata": {
        "colab": {
          "base_uri": "https://localhost:8080/"
        },
        "id": "LOtNubadtk9p",
        "outputId": "03e54327-7964-478e-86cf-d12878ffe505"
      },
      "outputs": [
        {
          "output_type": "stream",
          "name": "stdout",
          "text": [
            "+---+---+-----+---+---+--------+-------+----------+----------+---+---+----+---+---+----+---+-----+---+---+---+---+-----+---+---+-----+\n",
            "|age| bp|   sg| al| su|     rbc|     pc|       pcc|        ba|bgr| bu|  sc|sod|pot|hemo|pcv|   wc| rc|htn| dm|cad|appet| pe|ane|class|\n",
            "+---+---+-----+---+---+--------+-------+----------+----------+---+---+----+---+---+----+---+-----+---+---+---+---+-----+---+---+-----+\n",
            "| 50|150| 1.02|  1|  0|abnormal| normal|notpresent|notpresent|181|204| 8.4|135|  4|10.3| 44| 7800|5.2| no| no| no| good| no| no|  ckd|\n",
            "| 69|140| 1.02|  4|  0|abnormal| normal|notpresent|notpresent|121| 64| 7.3|130|5.4| 9.4| 38| 6000|3.9| no| no| no| good| no|yes|  ckd|\n",
            "| 69|160| 1.02|  2|  3|abnormal| normal|notpresent|notpresent|423| 34|   7|129|4.9|10.6| 31| 7500|4.6| no|yes| no| poor| no| no|  ckd|\n",
            "| 71|140|1.005|  4|  0|abnormal|abnomal|   present|notpresent|106| 67|11.6|131|5.5| 7.2| 32| 6700|4.4| no| no| no| poor|yes|yes|  ckd|\n",
            "| 65|170| 1.01|  2|  0|abnormal| normal|   present|notpresent| 66|102|  16|128|5.6| 9.6| 35| 7300|  5| no| no| no| good| no|yes|  ckd|\n",
            "| 70|160|1.015|  3|  0|abnormal| normal|notpresent|notpresent| 74|180|   9|137|4.6| 9.6| 39| 7800|  4|yes| no| no| good|yes|yes|  ckd|\n",
            "| 35|170| 1.01|  0|  0|abnormal| normal|notpresent|notpresent|100|249|14.7|127|5.8| 9.7| 36| 6900|3.7| no| no| no| good| no|yes|  ckd|\n",
            "| 55|120|1.015|  2|  4|abnormal|abnomal|notpresent|notpresent|410|223|17.6|132|5.6| 9.5| 44|12100|3.8| no|yes| no| good|yes|yes|  ckd|\n",
            "| 59|130| 1.02|  3|  0|abnormal|abnomal|notpresent|notpresent|138|185|14.8|133|5.4| 9.3| 33| 4500|3.4|yes| no| no| good| no|yes|  ckd|\n",
            "| 55|130|1.025|  2|  0|abnormal|abnomal|notpresent|notpresent| 70|342| 9.4|130|5.4| 8.5| 29|12200|2.6|yes| no| no| good| no|yes|  ckd|\n",
            "| 43|120| 1.01|  2|  4|abnormal|abnomal|notpresent|notpresent|490|119|   8|130|5.7|   8| 28|11000|2.8|yes|yes|yes| poor| no|yes|  ckd|\n",
            "| 68|100|1.015|  3|  0|abnormal|abnomal|notpresent|notpresent|138|213|11.6|135|  4| 8.1| 32| 3800|4.3|yes| no| no| good|yes|yes|  ckd|\n",
            "| 68|160| 1.01|  3|  1|abnormal| normal|notpresent|notpresent| 70|204| 5.7|142|4.9| 7.8| 28|11400|3.7|yes| no| no| poor|yes|yes|  ckd|\n",
            "| 53|130|1.015|  2|  0|abnormal| normal|notpresent|notpresent|380|102|17.5|139|5.3|10.3| 33| 5300|3.2|yes|yes|yes| poor| no| no|  ckd|\n",
            "| 50|150|1.025|  0|  1|abnormal|abnomal|notpresent|   present|208|187|18.4|131|3.7|  10| 16| 9200|3.6|yes|yes|yes| poor| no| no|  ckd|\n",
            "| 69|140|1.025|  0|  2|abnormal| normal|notpresent|notpresent| 98| 73| 7.3|129|4.9| 9.1| 24| 6200|3.4|yes| no| no| poor| no|yes|  ckd|\n",
            "| 69|130| 1.02|  0|  0|abnormal| normal|notpresent|notpresent|157|187| 6.3|130|  5|11.7| 37| 6900|5.2| no| no| no| good| no| no|  ckd|\n",
            "| 71|120| 1.02|  3|  0|abnormal| normal|notpresent|notpresent| 76| 73| 6.4|134|4.4|11.6| 30|11400|3.9|yes| no| no| good| no| no|  ckd|\n",
            "| 65|140| 1.02|  2|  0|abnormal| normal|   present|notpresent| 99| 96| 7.1|135|5.7| 8.4| 24| 5300|4.6|yes|yes|yes| poor| no|yes|  ckd|\n",
            "| 70|120| 1.02|  0|  3|abnormal| normal|   present|notpresent|114| 73|18.4|129|4.1|11.6| 32| 9200|4.4|yes|yes|yes| good| no| no|  ckd|\n",
            "+---+---+-----+---+---+--------+-------+----------+----------+---+---+----+---+---+----+---+-----+---+---+---+---+-----+---+---+-----+\n",
            "only showing top 20 rows\n",
            "\n"
          ]
        }
      ],
      "source": [
        "df.show()"
      ]
    },
    {
      "cell_type": "code",
      "execution_count": 88,
      "metadata": {
        "colab": {
          "base_uri": "https://localhost:8080/"
        },
        "id": "u1dB3DAitpZY",
        "outputId": "f260ce18-c3b7-4d3b-98bb-5fb8cb27e5d4"
      },
      "outputs": [
        {
          "output_type": "execute_result",
          "data": {
            "text/plain": [
              "['age',\n",
              " 'bp',\n",
              " 'sg',\n",
              " 'al',\n",
              " 'su',\n",
              " 'rbc',\n",
              " 'pc',\n",
              " 'pcc',\n",
              " 'ba',\n",
              " 'bgr',\n",
              " 'bu',\n",
              " 'sc',\n",
              " 'sod',\n",
              " 'pot',\n",
              " 'hemo',\n",
              " 'pcv',\n",
              " 'wc',\n",
              " 'rc',\n",
              " 'htn',\n",
              " 'dm',\n",
              " 'cad',\n",
              " 'appet',\n",
              " 'pe',\n",
              " 'ane',\n",
              " 'class']"
            ]
          },
          "metadata": {},
          "execution_count": 88
        }
      ],
      "source": [
        "df.columns"
      ]
    },
    {
      "cell_type": "code",
      "execution_count": 89,
      "metadata": {
        "colab": {
          "base_uri": "https://localhost:8080/"
        },
        "id": "FI0W1Xp5trrs",
        "outputId": "db4b5084-5ccd-4193-cb2c-402237fc823f"
      },
      "outputs": [
        {
          "output_type": "stream",
          "name": "stdout",
          "text": [
            "+-------+------------------+\n",
            "|summary|               age|\n",
            "+-------+------------------+\n",
            "|  count|             99999|\n",
            "|   mean|54.165723031370035|\n",
            "| stddev|14.123696494554018|\n",
            "|    min|                15|\n",
            "|    max|                 ?|\n",
            "+-------+------------------+\n",
            "\n",
            "+-------+------------------+\n",
            "|summary|                bp|\n",
            "+-------+------------------+\n",
            "|  count|             99999|\n",
            "|   mean|126.38240236875801|\n",
            "| stddev| 35.41131574010887|\n",
            "|    min|                10|\n",
            "|    max|                 ?|\n",
            "+-------+------------------+\n",
            "\n",
            "+-------+------------------+\n",
            "|summary|                sg|\n",
            "+-------+------------------+\n",
            "|  count|             99999|\n",
            "|   mean|1.1576812074731944|\n",
            "| stddev|0.7138240082296518|\n",
            "|    min|                 0|\n",
            "|    max|                 ?|\n",
            "+-------+------------------+\n",
            "\n",
            "+-------+------------------+\n",
            "|summary|                al|\n",
            "+-------+------------------+\n",
            "|  count|             99999|\n",
            "|   mean|1.1185170137125444|\n",
            "| stddev| 1.418269945794224|\n",
            "|    min|                 0|\n",
            "|    max|                 ?|\n",
            "+-------+------------------+\n",
            "\n",
            "+-------+------------------+\n",
            "|summary|                su|\n",
            "+-------+------------------+\n",
            "|  count|             99999|\n",
            "|   mean|0.6857240281882246|\n",
            "| stddev|1.2261648044569144|\n",
            "|    min|                 0|\n",
            "|    max|                 ?|\n",
            "+-------+------------------+\n",
            "\n",
            "+-------+------+\n",
            "|summary|   rbc|\n",
            "+-------+------+\n",
            "|  count| 99999|\n",
            "|   mean|  null|\n",
            "| stddev|  null|\n",
            "|    min|     ?|\n",
            "|    max|normal|\n",
            "+-------+------+\n",
            "\n",
            "+-------+------+\n",
            "|summary|    pc|\n",
            "+-------+------+\n",
            "|  count| 99999|\n",
            "|   mean|  null|\n",
            "| stddev|  null|\n",
            "|    min|     ?|\n",
            "|    max|normal|\n",
            "+-------+------+\n",
            "\n",
            "+-------+----------+\n",
            "|summary|       pcc|\n",
            "+-------+----------+\n",
            "|  count|     99999|\n",
            "|   mean|      null|\n",
            "| stddev|      null|\n",
            "|    min|notpresent|\n",
            "|    max|   present|\n",
            "+-------+----------+\n",
            "\n",
            "+-------+-------+\n",
            "|summary|     ba|\n",
            "+-------+-------+\n",
            "|  count|  99999|\n",
            "|   mean|   null|\n",
            "| stddev|   null|\n",
            "|    min|      ?|\n",
            "|    max|present|\n",
            "+-------+-------+\n",
            "\n",
            "+-------+------------------+\n",
            "|summary|               bgr|\n",
            "+-------+------------------+\n",
            "|  count|             99999|\n",
            "|   mean|147.70895682680603|\n",
            "| stddev| 80.18746608384342|\n",
            "|    min|                10|\n",
            "|    max|                 ?|\n",
            "+-------+------------------+\n",
            "\n",
            "+-------+-----------------+\n",
            "|summary|               bu|\n",
            "+-------+-----------------+\n",
            "|  count|            99999|\n",
            "|   mean|82.30819496842653|\n",
            "| stddev|71.64437998619202|\n",
            "|    min|              1.5|\n",
            "|    max|                ?|\n",
            "+-------+-----------------+\n",
            "\n",
            "+-------+-----------------+\n",
            "|summary|               sc|\n",
            "+-------+-----------------+\n",
            "|  count|            99999|\n",
            "|   mean|5.402288898498567|\n",
            "| stddev| 5.28142028803703|\n",
            "|    min|              0.4|\n",
            "|    max|                ?|\n",
            "+-------+-----------------+\n",
            "\n",
            "+-------+-----------------+\n",
            "|summary|              sod|\n",
            "+-------+-----------------+\n",
            "|  count|            99999|\n",
            "|   mean|135.0617642818897|\n",
            "| stddev|6.338830261259875|\n",
            "|    min|              104|\n",
            "|    max|                ?|\n",
            "+-------+-----------------+\n",
            "\n",
            "+-------+------------------+\n",
            "|summary|               pot|\n",
            "+-------+------------------+\n",
            "|  count|             99999|\n",
            "|   mean| 4.596316289506215|\n",
            "| stddev|0.7796644843046697|\n",
            "|    min|               2.1|\n",
            "|    max|                 ?|\n",
            "+-------+------------------+\n",
            "\n",
            "+-------+------------------+\n",
            "|summary|              hemo|\n",
            "+-------+------------------+\n",
            "|  count|             99999|\n",
            "|   mean|11.968007102800282|\n",
            "| stddev| 2.897700657177569|\n",
            "|    min|               0.9|\n",
            "|    max|                 ?|\n",
            "+-------+------------------+\n",
            "\n",
            "+-------+-----------------+\n",
            "|summary|              pcv|\n",
            "+-------+-----------------+\n",
            "|  count|            99999|\n",
            "|   mean|36.25608467212287|\n",
            "| stddev|8.368646404874667|\n",
            "|    min|               14|\n",
            "|    max|                ?|\n",
            "+-------+-----------------+\n",
            "\n",
            "+-------+-----------------+\n",
            "|summary|               wc|\n",
            "+-------+-----------------+\n",
            "|  count|            99999|\n",
            "|   mean|8608.810743743532|\n",
            "| stddev|3548.961783922019|\n",
            "|    min|            10000|\n",
            "|    max|                ?|\n",
            "+-------+-----------------+\n",
            "\n",
            "+-------+------------------+\n",
            "|summary|                rc|\n",
            "+-------+------------------+\n",
            "|  count|             99999|\n",
            "|   mean| 4.335314187655269|\n",
            "| stddev|1.3828500780147008|\n",
            "|    min|              0.29|\n",
            "|    max|                 ?|\n",
            "+-------+------------------+\n",
            "\n",
            "+-------+-----+\n",
            "|summary|  htn|\n",
            "+-------+-----+\n",
            "|  count|99999|\n",
            "|   mean| null|\n",
            "| stddev| null|\n",
            "|    min|    ?|\n",
            "|    max|  yes|\n",
            "+-------+-----+\n",
            "\n",
            "+-------+-----+\n",
            "|summary|   dm|\n",
            "+-------+-----+\n",
            "|  count|99999|\n",
            "|   mean| null|\n",
            "| stddev| null|\n",
            "|    min|    ?|\n",
            "|    max|  yes|\n",
            "+-------+-----+\n",
            "\n",
            "+-------+-----+\n",
            "|summary|  cad|\n",
            "+-------+-----+\n",
            "|  count|99999|\n",
            "|   mean| null|\n",
            "| stddev| null|\n",
            "|    min|   no|\n",
            "|    max|  yes|\n",
            "+-------+-----+\n",
            "\n",
            "+-------+-----+\n",
            "|summary|appet|\n",
            "+-------+-----+\n",
            "|  count|99999|\n",
            "|   mean| null|\n",
            "| stddev| null|\n",
            "|    min|    ?|\n",
            "|    max| poor|\n",
            "+-------+-----+\n",
            "\n",
            "+-------+-----+\n",
            "|summary|   pe|\n",
            "+-------+-----+\n",
            "|  count|99999|\n",
            "|   mean| null|\n",
            "| stddev| null|\n",
            "|    min|    ?|\n",
            "|    max|  yes|\n",
            "+-------+-----+\n",
            "\n",
            "+-------+-----+\n",
            "|summary|  ane|\n",
            "+-------+-----+\n",
            "|  count|99999|\n",
            "|   mean| null|\n",
            "| stddev| null|\n",
            "|    min|   no|\n",
            "|    max|  yes|\n",
            "+-------+-----+\n",
            "\n",
            "+-------+------+\n",
            "|summary| class|\n",
            "+-------+------+\n",
            "|  count| 99999|\n",
            "|   mean|  null|\n",
            "| stddev|  null|\n",
            "|    min|   ckd|\n",
            "|    max|notckd|\n",
            "+-------+------+\n",
            "\n"
          ]
        }
      ],
      "source": [
        "for col in df.columns:\n",
        "     df.describe([col]).show()"
      ]
    },
    {
      "cell_type": "code",
      "execution_count": 90,
      "metadata": {
        "colab": {
          "base_uri": "https://localhost:8080/"
        },
        "id": "AX4qY9I2t5YB",
        "outputId": "32be5d97-f248-45a5-bc4f-2f7805355b51"
      },
      "outputs": [
        {
          "output_type": "execute_result",
          "data": {
            "text/plain": [
              "['notckd', 'ckd']"
            ]
          },
          "metadata": {},
          "execution_count": 90
        }
      ],
      "source": [
        "#check unique values for class\n",
        "df.select('class').distinct().rdd.map(lambda r: r[0]).collect()"
      ]
    },
    {
      "cell_type": "code",
      "execution_count": 91,
      "metadata": {
        "colab": {
          "base_uri": "https://localhost:8080/"
        },
        "id": "a2OihNoUt_cw",
        "outputId": "326903f2-5d24-4ba1-e77f-5453c92c8ab4"
      },
      "outputs": [
        {
          "output_type": "stream",
          "name": "stdout",
          "text": [
            "age \t with null values:  0\n",
            "bp \t with null values:  0\n",
            "sg \t with null values:  0\n",
            "al \t with null values:  0\n",
            "su \t with null values:  0\n",
            "rbc \t with null values:  0\n",
            "pc \t with null values:  0\n",
            "pcc \t with null values:  0\n",
            "ba \t with null values:  0\n",
            "bgr \t with null values:  0\n",
            "bu \t with null values:  0\n",
            "sc \t with null values:  0\n",
            "sod \t with null values:  0\n",
            "pot \t with null values:  0\n",
            "hemo \t with null values:  0\n",
            "pcv \t with null values:  0\n",
            "wc \t with null values:  0\n",
            "rc \t with null values:  0\n",
            "htn \t with null values:  0\n",
            "dm \t with null values:  0\n",
            "cad \t with null values:  0\n",
            "appet \t with null values:  0\n",
            "pe \t with null values:  0\n",
            "ane \t with null values:  0\n",
            "class \t with null values:  0\n"
          ]
        }
      ],
      "source": [
        "#Count the value of null in every column\n",
        "for col in df.columns:\n",
        "    print(col, \"\\t\", \"with null values: \", df.filter(df[col].isNull()).count())"
      ]
    },
    {
      "cell_type": "code",
      "execution_count": 92,
      "metadata": {
        "colab": {
          "base_uri": "https://localhost:8080/"
        },
        "id": "rhwDmAlAuWdZ",
        "outputId": "95e54805-4760-4fa0-9bee-6d9f73192284"
      },
      "outputs": [
        {
          "output_type": "stream",
          "name": "stdout",
          "text": [
            "age \t with '?' values:  31\n",
            "bp \t with '?' values:  31\n",
            "sg \t with '?' values:  1678\n",
            "al \t with '?' values:  1549\n",
            "su \t with '?' values:  3221\n",
            "rbc \t with '?' values:  86\n",
            "pc \t with '?' values:  1921\n",
            "pcc \t with '?' values:  0\n",
            "ba \t with '?' values:  213\n",
            "bgr \t with '?' values:  2230\n",
            "bu \t with '?' values:  865\n",
            "sc \t with '?' values:  580\n",
            "sod \t with '?' values:  2883\n",
            "pot \t with '?' values:  1058\n",
            "hemo \t with '?' values:  320\n",
            "pcv \t with '?' values:  1029\n",
            "wc \t with '?' values:  462\n",
            "rc \t with '?' values:  934\n",
            "htn \t with '?' values:  90\n",
            "dm \t with '?' values:  101\n",
            "cad \t with '?' values:  0\n",
            "appet \t with '?' values:  74\n",
            "pe \t with '?' values:  497\n",
            "ane \t with '?' values:  0\n",
            "class \t with '?' values:  0\n"
          ]
        }
      ],
      "source": [
        "#Count the value of '?' in every column\n",
        "for col in df.columns:\n",
        "    print(col, \"\\t\", \"with '?' values: \", df.filter(df[col]==\"?\").count())"
      ]
    },
    {
      "cell_type": "code",
      "execution_count": 93,
      "metadata": {
        "id": "Jhu4HQZJuwAF"
      },
      "outputs": [],
      "source": [
        "#since in our dataset, column value is represented through '?' and None, so we will first replace the '? with None values.'\n",
        "df = df.replace('?',None)\n",
        "df = df.replace('\\t?',None)\n",
        "df = df.replace('?\\t',None)\n",
        "df = df.replace('\\tno',\"no\")\n",
        "df = df.replace('no\\t',\"no\")\n",
        "df = df.replace('\\tyes',\"yes\")\n",
        "df = df.replace('yes\\t',\"yes\")"
      ]
    },
    {
      "cell_type": "code",
      "execution_count": 94,
      "metadata": {
        "colab": {
          "base_uri": "https://localhost:8080/"
        },
        "id": "o_8Qt5LyuxKQ",
        "outputId": "d6cf2534-a20d-4597-fe34-bb4f076a6e15"
      },
      "outputs": [
        {
          "output_type": "stream",
          "name": "stdout",
          "text": [
            "age \t with '?' values:  0\n",
            "bp \t with '?' values:  0\n",
            "sg \t with '?' values:  0\n",
            "al \t with '?' values:  0\n",
            "su \t with '?' values:  0\n",
            "rbc \t with '?' values:  0\n",
            "pc \t with '?' values:  0\n",
            "pcc \t with '?' values:  0\n",
            "ba \t with '?' values:  0\n",
            "bgr \t with '?' values:  0\n",
            "bu \t with '?' values:  0\n",
            "sc \t with '?' values:  0\n",
            "sod \t with '?' values:  0\n",
            "pot \t with '?' values:  0\n",
            "hemo \t with '?' values:  0\n",
            "pcv \t with '?' values:  0\n",
            "wc \t with '?' values:  0\n",
            "rc \t with '?' values:  0\n",
            "htn \t with '?' values:  0\n",
            "dm \t with '?' values:  0\n",
            "cad \t with '?' values:  0\n",
            "appet \t with '?' values:  0\n",
            "pe \t with '?' values:  0\n",
            "ane \t with '?' values:  0\n",
            "class \t with '?' values:  0\n"
          ]
        }
      ],
      "source": [
        "#Now for validation Count the value of '?' in every column\n",
        "for col in df.columns:\n",
        "    print(col, \"\\t\", \"with '?' values: \", df.filter(df[col]==\"?\").count())"
      ]
    },
    {
      "cell_type": "code",
      "execution_count": 95,
      "metadata": {
        "colab": {
          "base_uri": "https://localhost:8080/"
        },
        "id": "_Vt9kJQLuxEf",
        "outputId": "5d76b57d-c027-4e43-98b9-6f52f10b88e6"
      },
      "outputs": [
        {
          "output_type": "stream",
          "name": "stdout",
          "text": [
            "age \t with null values:  31\n",
            "bp \t with null values:  31\n",
            "sg \t with null values:  1678\n",
            "al \t with null values:  1549\n",
            "su \t with null values:  3221\n",
            "rbc \t with null values:  86\n",
            "pc \t with null values:  1921\n",
            "pcc \t with null values:  0\n",
            "ba \t with null values:  213\n",
            "bgr \t with null values:  2230\n",
            "bu \t with null values:  865\n",
            "sc \t with null values:  580\n",
            "sod \t with null values:  2883\n",
            "pot \t with null values:  1058\n",
            "hemo \t with null values:  320\n",
            "pcv \t with null values:  1029\n",
            "wc \t with null values:  462\n",
            "rc \t with null values:  934\n",
            "htn \t with null values:  90\n",
            "dm \t with null values:  101\n",
            "cad \t with null values:  0\n",
            "appet \t with null values:  74\n",
            "pe \t with null values:  497\n",
            "ane \t with null values:  0\n",
            "class \t with null values:  0\n"
          ]
        }
      ],
      "source": [
        "#Now for validation Count the value of null in every column\n",
        "for col in df.columns:\n",
        "    print(col, \"\\t\", \"with null values: \", df.filter(df[col].isNull()).count())"
      ]
    },
    {
      "cell_type": "code",
      "execution_count": 96,
      "metadata": {
        "id": "ekAztsF7vL_V"
      },
      "outputs": [],
      "source": [
        "#Computation for mean"
      ]
    },
    {
      "cell_type": "code",
      "execution_count": 97,
      "metadata": {
        "id": "YxD7SgdivOn1"
      },
      "outputs": [],
      "source": [
        "#Find the average of a column\n",
        "\n",
        "from pyspark.sql.functions import avg\n",
        "\n",
        "mean_value = df.select(avg(df['age']))"
      ]
    },
    {
      "cell_type": "code",
      "execution_count": 98,
      "metadata": {
        "colab": {
          "base_uri": "https://localhost:8080/"
        },
        "id": "y9K5FP6KvY0w",
        "outputId": "6ca901cd-191b-4925-921d-8685fc9ea9c4"
      },
      "outputs": [
        {
          "output_type": "execute_result",
          "data": {
            "text/plain": [
              "DataFrame[avg(age): double]"
            ]
          },
          "metadata": {},
          "execution_count": 98
        }
      ],
      "source": [
        "mean_value"
      ]
    },
    {
      "cell_type": "code",
      "execution_count": 99,
      "metadata": {
        "colab": {
          "base_uri": "https://localhost:8080/"
        },
        "id": "MhVgZuJvva6n",
        "outputId": "e8790334-7b39-41d2-e11d-1635fba028b7"
      },
      "outputs": [
        {
          "output_type": "execute_result",
          "data": {
            "text/plain": [
              "['avg(age)']"
            ]
          },
          "metadata": {},
          "execution_count": 99
        }
      ],
      "source": [
        "mean_value.columns"
      ]
    },
    {
      "cell_type": "code",
      "execution_count": 100,
      "metadata": {
        "id": "j9pzmJ3avdXv"
      },
      "outputs": [],
      "source": [
        "res = mean_value.rdd.map(lambda row : row['avg(age)']).collect()"
      ]
    },
    {
      "cell_type": "code",
      "execution_count": 101,
      "metadata": {
        "colab": {
          "base_uri": "https://localhost:8080/"
        },
        "id": "VhtUanZJverH",
        "outputId": "7ae55818-1692-4803-f1cc-5cb43fd71c6d"
      },
      "outputs": [
        {
          "output_type": "execute_result",
          "data": {
            "text/plain": [
              "[54.165723031370035]"
            ]
          },
          "metadata": {},
          "execution_count": 101
        }
      ],
      "source": [
        "res"
      ]
    },
    {
      "cell_type": "code",
      "execution_count": 102,
      "metadata": {
        "id": "-t7PuPwLvgyh"
      },
      "outputs": [],
      "source": [
        "#Complete function to find the mean of columns of pyspark dataframe"
      ]
    },
    {
      "cell_type": "code",
      "execution_count": 103,
      "metadata": {
        "id": "Swlrir_Mvimy"
      },
      "outputs": [],
      "source": [
        "#Find the avg of all numeric columns\n",
        "from pyspark.sql.functions import avg\n",
        "\n",
        "def mean_of_pyspark_columns(df, numeric_cols, verbose=False):\n",
        "    col_with_mean=[]\n",
        "    for col in numeric_cols:\n",
        "        mean_value = df.select(avg(df[col]))\n",
        "        avg_col = mean_value.columns[0]\n",
        "        res = mean_value.rdd.map(lambda row : row[avg_col]).collect()\n",
        "\n",
        "        if (verbose==True): print(mean_value.columns[0], \"\\t\", res[0])\n",
        "        col_with_mean.append([col, res[0]])\n",
        "    return col_with_mean"
      ]
    },
    {
      "cell_type": "code",
      "execution_count": 104,
      "metadata": {
        "colab": {
          "base_uri": "https://localhost:8080/"
        },
        "id": "KE_Q_bP9vlU_",
        "outputId": "83f178d4-75d5-4a89-d5cd-1cff3cb016b2"
      },
      "outputs": [
        {
          "output_type": "stream",
          "name": "stdout",
          "text": [
            "avg(age) \t 54.165723031370035\n",
            "avg(bp) \t 126.38240236875801\n",
            "avg(sg) \t 1.1576812074731944\n",
            "avg(bgr) \t 147.70895682680603\n",
            "avg(bu) \t 82.30819496842653\n",
            "avg(sc) \t 5.402288898498567\n",
            "avg(sod) \t 135.0617642818897\n",
            "avg(pot) \t 4.596316289506215\n",
            "avg(hemo) \t 11.968007102800282\n",
            "avg(pcv) \t 36.25608467212287\n",
            "avg(wc) \t 8608.810743743532\n",
            "avg(rc) \t 4.335314187655269\n"
          ]
        },
        {
          "output_type": "execute_result",
          "data": {
            "text/plain": [
              "[['age', 54.165723031370035],\n",
              " ['bp', 126.38240236875801],\n",
              " ['sg', 1.1576812074731944],\n",
              " ['bgr', 147.70895682680603],\n",
              " ['bu', 82.30819496842653],\n",
              " ['sc', 5.402288898498567],\n",
              " ['sod', 135.0617642818897],\n",
              " ['pot', 4.596316289506215],\n",
              " ['hemo', 11.968007102800282],\n",
              " ['pcv', 36.25608467212287],\n",
              " ['wc', 8608.810743743532],\n",
              " ['rc', 4.335314187655269]]"
            ]
          },
          "metadata": {},
          "execution_count": 104
        }
      ],
      "source": [
        "#Validate it\n",
        "numeric_cols=['age', 'bp', 'sg','bgr', 'bu', 'sc', 'sod', 'pot', 'hemo', 'pcv', 'wc', 'rc']\n",
        "mean_of_pyspark_columns(df, numeric_cols, verbose=True)"
      ]
    },
    {
      "cell_type": "code",
      "execution_count": 105,
      "metadata": {
        "id": "m-ElRausv97Z"
      },
      "outputs": [],
      "source": [
        "#Complete function to find the mode of columns of pyspark dataframe"
      ]
    },
    {
      "cell_type": "code",
      "execution_count": 106,
      "metadata": {
        "id": "122xxFv2wAC_"
      },
      "outputs": [],
      "source": [
        "def mode_of_pyspark_columns(df, cat_col_list, verbose=False):\n",
        "    col_with_mode=[]\n",
        "    for col in cat_col_list:\n",
        "        #Filter null\n",
        "        df = df.filter(df[col].isNull()==False)\n",
        "        #Find unique_values_with_count\n",
        "        unique_classes = df.select(col).distinct().rdd.map(lambda x: x[0]).collect()\n",
        "        unique_values_with_count=[]\n",
        "        for uc in unique_classes:\n",
        "             unique_values_with_count.append([uc, df.filter(df[col]==uc).count()])\n",
        "        #sort unique values w.r.t their count values\n",
        "        sorted_unique_values_with_count= sorted(unique_values_with_count, key = lambda x: x[1], reverse =True)\n",
        "\n",
        "        if (verbose==True): print(col, sorted_unique_values_with_count, \" and mode is \", sorted_unique_values_with_count[0][0])\n",
        "        col_with_mode.append([col, sorted_unique_values_with_count[0][0]])\n",
        "    return col_with_mode"
      ]
    },
    {
      "cell_type": "code",
      "execution_count": 107,
      "metadata": {
        "colab": {
          "base_uri": "https://localhost:8080/"
        },
        "id": "2Jx1EexVzzkM",
        "outputId": "8e9b0e69-a5af-4d5f-f5e3-7ad44697bca0"
      },
      "outputs": [
        {
          "output_type": "execute_result",
          "data": {
            "text/plain": [
              "[None, 'normal', 'abnormal', 'abnomal']"
            ]
          },
          "metadata": {},
          "execution_count": 107
        }
      ],
      "source": [
        "#check unique values for class\n",
        "df.select('pc').distinct().rdd.map(lambda r: r[0]).collect()"
      ]
    },
    {
      "cell_type": "code",
      "execution_count": 108,
      "metadata": {
        "colab": {
          "base_uri": "https://localhost:8080/"
        },
        "id": "6Yhy0Bos0LJ7",
        "outputId": "47169d90-4033-437e-9a9d-88940b8a1602"
      },
      "outputs": [
        {
          "output_type": "stream",
          "name": "stdout",
          "text": [
            "+---+---+-----+---+---+--------+-------+----------+----------+---+---+----+---+---+----+----+-----+----+---+---+---+-----+---+---+-----+\n",
            "|age| bp|   sg| al| su|     rbc|     pc|       pcc|        ba|bgr| bu|  sc|sod|pot|hemo| pcv|   wc|  rc|htn| dm|cad|appet| pe|ane|class|\n",
            "+---+---+-----+---+---+--------+-------+----------+----------+---+---+----+---+---+----+----+-----+----+---+---+---+-----+---+---+-----+\n",
            "| 71|140|1.005|  4|  0|abnormal|abnomal|   present|notpresent|106| 67|11.6|131|5.5| 7.2|  32| 6700| 4.4| no| no| no| poor|yes|yes|  ckd|\n",
            "| 55|120|1.015|  2|  4|abnormal|abnomal|notpresent|notpresent|410|223|17.6|132|5.6| 9.5|  44|12100| 3.8| no|yes| no| good|yes|yes|  ckd|\n",
            "| 59|130| 1.02|  3|  0|abnormal|abnomal|notpresent|notpresent|138|185|14.8|133|5.4| 9.3|  33| 4500| 3.4|yes| no| no| good| no|yes|  ckd|\n",
            "| 55|130|1.025|  2|  0|abnormal|abnomal|notpresent|notpresent| 70|342| 9.4|130|5.4| 8.5|  29|12200| 2.6|yes| no| no| good| no|yes|  ckd|\n",
            "| 43|120| 1.01|  2|  4|abnormal|abnomal|notpresent|notpresent|490|119|   8|130|5.7|   8|  28|11000| 2.8|yes|yes|yes| poor| no|yes|  ckd|\n",
            "| 68|100|1.015|  3|  0|abnormal|abnomal|notpresent|notpresent|138|213|11.6|135|  4| 8.1|  32| 3800| 4.3|yes| no| no| good|yes|yes|  ckd|\n",
            "| 50|150|1.025|  0|  1|abnormal|abnomal|notpresent|   present|208|187|18.4|131|3.7|  10|  16| 9200| 3.6|yes|yes|yes| poor| no| no|  ckd|\n",
            "| 68|170|1.005|  4|  0|  normal|abnomal|   present|notpresent|106|151|11.6|131|4.8|null|null| 5500|   5|yes| no| no| poor|yes| no|  ckd|\n",
            "| 69|150|1.015|  2|  4|  normal|abnomal|notpresent|notpresent|410|200|17.6|132|4.2|null|null| 5800| 5.2| no|yes| no| good| no| no|  ckd|\n",
            "| 71|140| 1.02|  3|  0|abnormal|abnomal|notpresent|notpresent|138|230|14.8|133|5.8|11.1|  32| 5800|   5|yes|yes|yes| poor| no| no|  ckd|\n",
            "| 65|150|1.025|  2|  0|  normal|abnomal|notpresent|notpresent| 70|227| 9.4|130|5.6|null|null|13200| 4.7|yes|yes|yes| poor|yes| no|  ckd|\n",
            "| 70|120| 1.01|  2|  4|  normal|abnomal|notpresent|notpresent|490|127|   8|130|4.9|null|null|13200|null| no| no| no| poor| no| no|  ckd|\n",
            "| 35|130|1.015|  3|  0|  normal|abnomal|notpresent|notpresent|138|230|11.6|135|5.7|  13|  40| 9800| 4.2|yes| no| no| good| no| no|  ckd|\n",
            "| 55|120|1.025|  0|  1|abnormal|abnomal|notpresent|   present|208|167|18.4|131|4.4| 9.2|  30| 7000| 3.2|yes|yes|yes| poor| no|yes|  ckd|\n",
            "| 55|160|1.005|  4|  0|abnormal|abnomal|   present|notpresent|106|144|11.6|131|6.7|10.5|  32| 3800| 4.3|yes|yes|yes| good| no| no|  ckd|\n",
            "| 68|150|1.015|  2|  4|abnormal|abnomal|notpresent|notpresent|410|212|17.6|132|5.2| 9.8|  32| 6700| 4.4|yes| no| no| good|yes|yes|  ckd|\n",
            "| 68|160| 1.02|  3|  0|  normal|abnomal|notpresent|notpresent|138|138|14.8|133|6.7|  15|  35| 7300|   5|yes| no| no| good| no| no|  ckd|\n",
            "| 53|160|1.025|  2|  0|abnormal|abnomal|notpresent|notpresent| 70|151| 9.4|130|5.2|10.9|  39| 7800|   4|yes|yes|yes| good| no| no|  ckd|\n",
            "| 50|170| 1.01|  2|  4|  normal|abnomal|notpresent|notpresent|490| 90|   8|130|6.7|14.6|  36| 6900| 3.7| no|yes| no| good| no| no|  ckd|\n",
            "| 69|140|1.015|  3|  0|abnormal|abnomal|notpresent|notpresent|138|293|11.6|135|3.8| 9.8|  44|12100| 3.8| no|yes| no| good| no|yes|  ckd|\n",
            "+---+---+-----+---+---+--------+-------+----------+----------+---+---+----+---+---+----+----+-----+----+---+---+---+-----+---+---+-----+\n",
            "only showing top 20 rows\n",
            "\n"
          ]
        }
      ],
      "source": [
        "#filter out those rows\n",
        "df.filter(df['pc']==\"abnomal\").show()"
      ]
    },
    {
      "cell_type": "code",
      "execution_count": 109,
      "metadata": {
        "id": "c3iuJEpG0Wwj"
      },
      "outputs": [],
      "source": [
        "#since 'ckd\\t' is the same class as of 'ckd', so we replaced first to correct one.\n",
        "from pyspark.sql.functions import when, lit\n",
        "df = df.withColumn('pc', when(df['pc']=='abnomal',\n",
        "lit(\"abnormal\")).otherwise(df['pc']))"
      ]
    },
    {
      "cell_type": "code",
      "execution_count": 110,
      "metadata": {
        "colab": {
          "base_uri": "https://localhost:8080/"
        },
        "id": "4torE66a0i0D",
        "outputId": "5e655c81-dca0-4832-d9bb-5940b7250815"
      },
      "outputs": [
        {
          "output_type": "stream",
          "name": "stdout",
          "text": [
            "+---+---+---+---+---+---+---+---+---+---+---+---+---+---+----+---+---+---+---+---+---+-----+---+---+-----+\n",
            "|age| bp| sg| al| su|rbc| pc|pcc| ba|bgr| bu| sc|sod|pot|hemo|pcv| wc| rc|htn| dm|cad|appet| pe|ane|class|\n",
            "+---+---+---+---+---+---+---+---+---+---+---+---+---+---+----+---+---+---+---+---+---+-----+---+---+-----+\n",
            "+---+---+---+---+---+---+---+---+---+---+---+---+---+---+----+---+---+---+---+---+---+-----+---+---+-----+\n",
            "\n"
          ]
        }
      ],
      "source": [
        "#filter out those rows\n",
        "df.filter(df['pc']==\"abnomal\").show()"
      ]
    },
    {
      "cell_type": "code",
      "execution_count": 111,
      "metadata": {
        "colab": {
          "base_uri": "https://localhost:8080/"
        },
        "id": "ShPSpFHY0rcS",
        "outputId": "3aef8c14-acbc-4e0e-8d4c-da519e48e02b"
      },
      "outputs": [
        {
          "output_type": "execute_result",
          "data": {
            "text/plain": [
              "[None, 'normal', 'abnormal']"
            ]
          },
          "metadata": {},
          "execution_count": 111
        }
      ],
      "source": [
        "#validate now  unique values for class\n",
        "df.select('pc').distinct().rdd.map(lambda r: r[0]).collect()"
      ]
    },
    {
      "cell_type": "code",
      "execution_count": 112,
      "metadata": {
        "colab": {
          "base_uri": "https://localhost:8080/"
        },
        "id": "swoEA0xWwEsG",
        "outputId": "2238aa05-5f20-4ffc-defb-5e347616c438"
      },
      "outputs": [
        {
          "output_type": "stream",
          "name": "stdout",
          "text": [
            "al [['0', 55211], ['2', 15743], ['3', 12573], ['4', 8598], ['1', 6276], ['5', 49]]  and mode is  0\n",
            "su [['0', 69748], ['2', 9263], ['3', 7498], ['1', 5313], ['4', 4745], ['5', 209]]  and mode is  0\n",
            "rbc [['abnormal', 57223], ['normal', 39485]]  and mode is  abnormal\n",
            "pc [['normal', 59989], ['abnormal', 35794]]  and mode is  normal\n",
            "pcc [['notpresent', 83299], ['present', 12484]]  and mode is  notpresent\n",
            "ba [['notpresent', 80629], ['present', 15072]]  and mode is  notpresent\n",
            "htn [['no', 52581], ['yes', 43035]]  and mode is  no\n",
            "dm [['no', 58025], ['yes', 37493]]  and mode is  no\n",
            "cad [['no', 72549], ['yes', 22969]]  and mode is  no\n",
            "appet [['good', 66697], ['poor', 28345], ['good ', 410]]  and mode is  good\n",
            "pe [['no', 70549], ['yes', 24433]]  and mode is  no\n",
            "ane [['no', 69267], ['yes', 25715]]  and mode is  no\n"
          ]
        },
        {
          "output_type": "execute_result",
          "data": {
            "text/plain": [
              "[['al', '0'],\n",
              " ['su', '0'],\n",
              " ['rbc', 'abnormal'],\n",
              " ['pc', 'normal'],\n",
              " ['pcc', 'notpresent'],\n",
              " ['ba', 'notpresent'],\n",
              " ['htn', 'no'],\n",
              " ['dm', 'no'],\n",
              " ['cad', 'no'],\n",
              " ['appet', 'good'],\n",
              " ['pe', 'no'],\n",
              " ['ane', 'no']]"
            ]
          },
          "metadata": {},
          "execution_count": 112
        }
      ],
      "source": [
        "#Validate it\n",
        "cat_col_list=['al', 'su', 'rbc', 'pc', 'pcc', 'ba', 'htn', 'dm', 'cad', 'appet', 'pe', 'ane']\n",
        "mode_of_pyspark_columns(df, cat_col_list, verbose=True)"
      ]
    },
    {
      "cell_type": "code",
      "execution_count": 113,
      "metadata": {
        "id": "9xIbjCL352lO"
      },
      "outputs": [],
      "source": [
        "#as you can see from the above that we have to replace for colmun 'cad' also\n",
        "from pyspark.sql.functions import when, lit\n",
        "df = df.withColumn('cad', when(df['cad']=='\\tno',\n",
        "lit(\"no\")).otherwise(df['cad']))"
      ]
    },
    {
      "cell_type": "code",
      "execution_count": 114,
      "metadata": {
        "colab": {
          "base_uri": "https://localhost:8080/"
        },
        "id": "8PL0chYL56xG",
        "outputId": "2ef51f75-849b-4776-d452-28acb80a156d"
      },
      "outputs": [
        {
          "output_type": "stream",
          "name": "stdout",
          "text": [
            "+---+\n",
            "|cad|\n",
            "+---+\n",
            "| no|\n",
            "|yes|\n",
            "+---+\n",
            "\n"
          ]
        }
      ],
      "source": [
        "df.select('cad').distinct().show()"
      ]
    },
    {
      "cell_type": "code",
      "execution_count": 115,
      "metadata": {
        "id": "YNTYJduI5_De"
      },
      "outputs": [],
      "source": [
        "#Now we have found our bits and pieces, its time to integrate them\n",
        "\n",
        "#Fill missing values for mean and mode"
      ]
    },
    {
      "cell_type": "code",
      "execution_count": 116,
      "metadata": {
        "id": "uNlRMDMT6CBg"
      },
      "outputs": [],
      "source": [
        "#Fill missing values for mean\n",
        "from pyspark.sql.functions import when, lit\n",
        "\n",
        "def fill_missing_with_mean(df, numeric_cols):\n",
        "    col_with_mean = mean_of_pyspark_columns(df, numeric_cols)\n",
        "\n",
        "    for col, mean in col_with_mean:\n",
        "        df = df.withColumn(col, when(df[col].isNull()==True,\n",
        "        lit(mean)).otherwise(df[col]))\n",
        "\n",
        "    return df"
      ]
    },
    {
      "cell_type": "code",
      "execution_count": 117,
      "metadata": {
        "id": "OvgQI6-46F5-"
      },
      "outputs": [],
      "source": [
        "#Now this is the time to literally consume the fill_missing_with_mean\n",
        "\n",
        "numeric_cols=['age', 'bp', 'sg','bgr', 'bu', 'sc', 'sod', 'pot', 'hemo', 'pcv', 'wc', 'rc']\n",
        "df = fill_missing_with_mean(df, numeric_cols)"
      ]
    },
    {
      "cell_type": "code",
      "execution_count": 118,
      "metadata": {
        "colab": {
          "base_uri": "https://localhost:8080/"
        },
        "id": "6_icQWgp6EbF",
        "outputId": "2f151ade-ac92-4fc6-a346-c98783b26ddf"
      },
      "outputs": [
        {
          "output_type": "stream",
          "name": "stdout",
          "text": [
            "+---+---+-----+---+---+--------+--------+----------+----------+---+---+----+---+---+----+---+-----+---+---+---+---+-----+---+---+-----+\n",
            "|age| bp|   sg| al| su|     rbc|      pc|       pcc|        ba|bgr| bu|  sc|sod|pot|hemo|pcv|   wc| rc|htn| dm|cad|appet| pe|ane|class|\n",
            "+---+---+-----+---+---+--------+--------+----------+----------+---+---+----+---+---+----+---+-----+---+---+---+---+-----+---+---+-----+\n",
            "| 50|150| 1.02|  1|  0|abnormal|  normal|notpresent|notpresent|181|204| 8.4|135|  4|10.3| 44| 7800|5.2| no| no| no| good| no| no|  ckd|\n",
            "| 69|140| 1.02|  4|  0|abnormal|  normal|notpresent|notpresent|121| 64| 7.3|130|5.4| 9.4| 38| 6000|3.9| no| no| no| good| no|yes|  ckd|\n",
            "| 69|160| 1.02|  2|  3|abnormal|  normal|notpresent|notpresent|423| 34|   7|129|4.9|10.6| 31| 7500|4.6| no|yes| no| poor| no| no|  ckd|\n",
            "| 71|140|1.005|  4|  0|abnormal|abnormal|   present|notpresent|106| 67|11.6|131|5.5| 7.2| 32| 6700|4.4| no| no| no| poor|yes|yes|  ckd|\n",
            "| 65|170| 1.01|  2|  0|abnormal|  normal|   present|notpresent| 66|102|  16|128|5.6| 9.6| 35| 7300|  5| no| no| no| good| no|yes|  ckd|\n",
            "| 70|160|1.015|  3|  0|abnormal|  normal|notpresent|notpresent| 74|180|   9|137|4.6| 9.6| 39| 7800|  4|yes| no| no| good|yes|yes|  ckd|\n",
            "| 35|170| 1.01|  0|  0|abnormal|  normal|notpresent|notpresent|100|249|14.7|127|5.8| 9.7| 36| 6900|3.7| no| no| no| good| no|yes|  ckd|\n",
            "| 55|120|1.015|  2|  4|abnormal|abnormal|notpresent|notpresent|410|223|17.6|132|5.6| 9.5| 44|12100|3.8| no|yes| no| good|yes|yes|  ckd|\n",
            "| 59|130| 1.02|  3|  0|abnormal|abnormal|notpresent|notpresent|138|185|14.8|133|5.4| 9.3| 33| 4500|3.4|yes| no| no| good| no|yes|  ckd|\n",
            "| 55|130|1.025|  2|  0|abnormal|abnormal|notpresent|notpresent| 70|342| 9.4|130|5.4| 8.5| 29|12200|2.6|yes| no| no| good| no|yes|  ckd|\n",
            "| 43|120| 1.01|  2|  4|abnormal|abnormal|notpresent|notpresent|490|119|   8|130|5.7|   8| 28|11000|2.8|yes|yes|yes| poor| no|yes|  ckd|\n",
            "| 68|100|1.015|  3|  0|abnormal|abnormal|notpresent|notpresent|138|213|11.6|135|  4| 8.1| 32| 3800|4.3|yes| no| no| good|yes|yes|  ckd|\n",
            "| 68|160| 1.01|  3|  1|abnormal|  normal|notpresent|notpresent| 70|204| 5.7|142|4.9| 7.8| 28|11400|3.7|yes| no| no| poor|yes|yes|  ckd|\n",
            "| 53|130|1.015|  2|  0|abnormal|  normal|notpresent|notpresent|380|102|17.5|139|5.3|10.3| 33| 5300|3.2|yes|yes|yes| poor| no| no|  ckd|\n",
            "| 50|150|1.025|  0|  1|abnormal|abnormal|notpresent|   present|208|187|18.4|131|3.7|  10| 16| 9200|3.6|yes|yes|yes| poor| no| no|  ckd|\n",
            "| 69|140|1.025|  0|  2|abnormal|  normal|notpresent|notpresent| 98| 73| 7.3|129|4.9| 9.1| 24| 6200|3.4|yes| no| no| poor| no|yes|  ckd|\n",
            "| 69|130| 1.02|  0|  0|abnormal|  normal|notpresent|notpresent|157|187| 6.3|130|  5|11.7| 37| 6900|5.2| no| no| no| good| no| no|  ckd|\n",
            "| 71|120| 1.02|  3|  0|abnormal|  normal|notpresent|notpresent| 76| 73| 6.4|134|4.4|11.6| 30|11400|3.9|yes| no| no| good| no| no|  ckd|\n",
            "| 65|140| 1.02|  2|  0|abnormal|  normal|   present|notpresent| 99| 96| 7.1|135|5.7| 8.4| 24| 5300|4.6|yes|yes|yes| poor| no|yes|  ckd|\n",
            "| 70|120| 1.02|  0|  3|abnormal|  normal|   present|notpresent|114| 73|18.4|129|4.1|11.6| 32| 9200|4.4|yes|yes|yes| good| no| no|  ckd|\n",
            "+---+---+-----+---+---+--------+--------+----------+----------+---+---+----+---+---+----+---+-----+---+---+---+---+-----+---+---+-----+\n",
            "only showing top 20 rows\n",
            "\n"
          ]
        }
      ],
      "source": [
        "df.show()"
      ]
    },
    {
      "cell_type": "code",
      "execution_count": 119,
      "metadata": {
        "id": "npx5Ps7n6Z2B"
      },
      "outputs": [],
      "source": [
        "#Fill missing values for mode\n",
        "from pyspark.sql.functions import when, lit\n",
        "\n",
        "def fill_missing_with_mode(df, cat_col_list):\n",
        "    col_with_mode =mode_of_pyspark_columns(df, cat_col_list)\n",
        "\n",
        "    for col, mode in col_with_mode:\n",
        "        df = df.withColumn(col, when(df[col].isNull()==True,\n",
        "        lit(mode)).otherwise(df[col]))\n",
        "\n",
        "    return df"
      ]
    },
    {
      "cell_type": "code",
      "execution_count": 120,
      "metadata": {
        "id": "XQJEK8Qb6eoN"
      },
      "outputs": [],
      "source": [
        "#Now this is the time to literally consume the fill_missing_with_mode\n",
        "cat_col_list=['al', 'su', 'rbc', 'pc', 'pcc', 'ba', 'htn', 'dm', 'cad', 'appet', 'pe', 'ane']\n",
        "df = fill_missing_with_mode(df, cat_col_list)"
      ]
    },
    {
      "cell_type": "code",
      "execution_count": 121,
      "metadata": {
        "colab": {
          "base_uri": "https://localhost:8080/"
        },
        "id": "eoe0tySK6mxL",
        "outputId": "718b16dd-fbac-429a-bca5-573b9a058533"
      },
      "outputs": [
        {
          "output_type": "stream",
          "name": "stdout",
          "text": [
            "+-------+------------------+\n",
            "|summary|               age|\n",
            "+-------+------------------+\n",
            "|  count|             99999|\n",
            "|   mean| 54.16572303137004|\n",
            "| stddev|14.121507108118916|\n",
            "|    min|                15|\n",
            "|    max|                90|\n",
            "+-------+------------------+\n",
            "\n",
            "+-------+------------------+\n",
            "|summary|                bp|\n",
            "+-------+------------------+\n",
            "|  count|             99999|\n",
            "|   mean|126.38240236875798|\n",
            "| stddev|35.405826450929894|\n",
            "|    min|                10|\n",
            "|    max|                80|\n",
            "+-------+------------------+\n",
            "\n",
            "+-------+------------------+\n",
            "|summary|                sg|\n",
            "+-------+------------------+\n",
            "|  count|             99999|\n",
            "|   mean|1.1576812074732064|\n",
            "| stddev|0.7078095671897485|\n",
            "|    min|                 0|\n",
            "|    max|                 4|\n",
            "+-------+------------------+\n",
            "\n",
            "+-------+------------------+\n",
            "|summary|                al|\n",
            "+-------+------------------+\n",
            "|  count|             99999|\n",
            "|   mean|1.1011910119101191|\n",
            "| stddev| 1.414005116579934|\n",
            "|    min|                 0|\n",
            "|    max|                 5|\n",
            "+-------+------------------+\n",
            "\n",
            "+-------+------------------+\n",
            "|summary|                su|\n",
            "+-------+------------------+\n",
            "|  count|             99999|\n",
            "|   mean|0.6636366363663637|\n",
            "| stddev|1.2123160533509616|\n",
            "|    min|                 0|\n",
            "|    max|                 5|\n",
            "+-------+------------------+\n",
            "\n",
            "+-------+--------+\n",
            "|summary|     rbc|\n",
            "+-------+--------+\n",
            "|  count|   99999|\n",
            "|   mean|    null|\n",
            "| stddev|    null|\n",
            "|    min|abnormal|\n",
            "|    max|  normal|\n",
            "+-------+--------+\n",
            "\n",
            "+-------+--------+\n",
            "|summary|      pc|\n",
            "+-------+--------+\n",
            "|  count|   99999|\n",
            "|   mean|    null|\n",
            "| stddev|    null|\n",
            "|    min|abnormal|\n",
            "|    max|  normal|\n",
            "+-------+--------+\n",
            "\n",
            "+-------+----------+\n",
            "|summary|       pcc|\n",
            "+-------+----------+\n",
            "|  count|     99999|\n",
            "|   mean|      null|\n",
            "| stddev|      null|\n",
            "|    min|notpresent|\n",
            "|    max|   present|\n",
            "+-------+----------+\n",
            "\n",
            "+-------+----------+\n",
            "|summary|        ba|\n",
            "+-------+----------+\n",
            "|  count|     99999|\n",
            "|   mean|      null|\n",
            "| stddev|      null|\n",
            "|    min|notpresent|\n",
            "|    max|   present|\n",
            "+-------+----------+\n",
            "\n",
            "+-------+------------------+\n",
            "|summary|               bgr|\n",
            "+-------+------------------+\n",
            "|  count|             99999|\n",
            "|   mean|147.70895682680148|\n",
            "| stddev| 79.28831683425238|\n",
            "|    min|                10|\n",
            "|    max|                99|\n",
            "+-------+------------------+\n",
            "\n",
            "+-------+-----------------+\n",
            "|summary|               bu|\n",
            "+-------+-----------------+\n",
            "|  count|            99999|\n",
            "|   mean| 82.3081949684282|\n",
            "| stddev|71.33383882811373|\n",
            "|    min|              1.5|\n",
            "|    max|             98.6|\n",
            "+-------+-----------------+\n",
            "\n",
            "+-------+------------------+\n",
            "|summary|                sc|\n",
            "+-------+------------------+\n",
            "|  count|             99999|\n",
            "|   mean| 5.402288898498088|\n",
            "| stddev|5.2660815889699775|\n",
            "|    min|               0.4|\n",
            "|    max|              9.98|\n",
            "+-------+------------------+\n",
            "\n",
            "+-------+-----------------+\n",
            "|summary|              sod|\n",
            "+-------+-----------------+\n",
            "|  count|            99999|\n",
            "|   mean|135.0617642818893|\n",
            "| stddev|6.246785920756962|\n",
            "|    min|              104|\n",
            "|    max|               58|\n",
            "+-------+-----------------+\n",
            "\n",
            "+-------+------------------+\n",
            "|summary|               pot|\n",
            "+-------+------------------+\n",
            "|  count|             99999|\n",
            "|   mean| 4.596316289506222|\n",
            "| stddev|0.7755290090546167|\n",
            "|    min|               2.1|\n",
            "|    max|                 9|\n",
            "+-------+------------------+\n",
            "\n",
            "+-------+------------------+\n",
            "|summary|              hemo|\n",
            "+-------+------------------+\n",
            "|  count|             99999|\n",
            "|   mean|11.968007102800264|\n",
            "| stddev| 2.893060528245837|\n",
            "|    min|               0.9|\n",
            "|    max|               9.9|\n",
            "+-------+------------------+\n",
            "\n",
            "+-------+------------------+\n",
            "|summary|               pcv|\n",
            "+-------+------------------+\n",
            "|  count|             99999|\n",
            "|   mean|36.256084672123286|\n",
            "| stddev| 8.325477516612548|\n",
            "|    min|                14|\n",
            "|    max|               9.1|\n",
            "+-------+------------------+\n",
            "\n",
            "+-------+------------------+\n",
            "|summary|                wc|\n",
            "+-------+------------------+\n",
            "|  count|             99999|\n",
            "|   mean|  8608.81074374349|\n",
            "| stddev|3540.7540271119515|\n",
            "|    min|             10000|\n",
            "|    max|              9990|\n",
            "+-------+------------------+\n",
            "\n",
            "+-------+------------------+\n",
            "|summary|                rc|\n",
            "+-------+------------------+\n",
            "|  count|             99999|\n",
            "|   mean| 4.335314187655248|\n",
            "| stddev|1.3763768883288605|\n",
            "|    min|              0.29|\n",
            "|    max|              9.98|\n",
            "+-------+------------------+\n",
            "\n",
            "+-------+-----+\n",
            "|summary|  htn|\n",
            "+-------+-----+\n",
            "|  count|99999|\n",
            "|   mean| null|\n",
            "| stddev| null|\n",
            "|    min|   no|\n",
            "|    max|  yes|\n",
            "+-------+-----+\n",
            "\n",
            "+-------+-----+\n",
            "|summary|   dm|\n",
            "+-------+-----+\n",
            "|  count|99999|\n",
            "|   mean| null|\n",
            "| stddev| null|\n",
            "|    min|   no|\n",
            "|    max|  yes|\n",
            "+-------+-----+\n",
            "\n",
            "+-------+-----+\n",
            "|summary|  cad|\n",
            "+-------+-----+\n",
            "|  count|99999|\n",
            "|   mean| null|\n",
            "| stddev| null|\n",
            "|    min|   no|\n",
            "|    max|  yes|\n",
            "+-------+-----+\n",
            "\n",
            "+-------+-----+\n",
            "|summary|appet|\n",
            "+-------+-----+\n",
            "|  count|99999|\n",
            "|   mean| null|\n",
            "| stddev| null|\n",
            "|    min| good|\n",
            "|    max| poor|\n",
            "+-------+-----+\n",
            "\n",
            "+-------+-----+\n",
            "|summary|   pe|\n",
            "+-------+-----+\n",
            "|  count|99999|\n",
            "|   mean| null|\n",
            "| stddev| null|\n",
            "|    min|   no|\n",
            "|    max|  yes|\n",
            "+-------+-----+\n",
            "\n",
            "+-------+-----+\n",
            "|summary|  ane|\n",
            "+-------+-----+\n",
            "|  count|99999|\n",
            "|   mean| null|\n",
            "| stddev| null|\n",
            "|    min|   no|\n",
            "|    max|  yes|\n",
            "+-------+-----+\n",
            "\n",
            "+-------+------+\n",
            "|summary| class|\n",
            "+-------+------+\n",
            "|  count| 99999|\n",
            "|   mean|  null|\n",
            "| stddev|  null|\n",
            "|    min|   ckd|\n",
            "|    max|notckd|\n",
            "+-------+------+\n",
            "\n"
          ]
        }
      ],
      "source": [
        "#again validate that our awesome functions worked or not on true dataframe that is 'df'\n",
        "for col in df.columns:\n",
        "     df.describe([col]).show()"
      ]
    },
    {
      "cell_type": "code",
      "execution_count": 122,
      "metadata": {
        "colab": {
          "base_uri": "https://localhost:8080/"
        },
        "id": "0_BsIa_w99lB",
        "outputId": "ee06553b-ad77-42f1-a9c1-cdc482dba8c5"
      },
      "outputs": [
        {
          "output_type": "stream",
          "name": "stdout",
          "text": [
            "+---+---+-----+---+---+--------+--------+----------+----------+---+---+----+---+---+----+---+-----+---+---+---+---+-----+---+---+-----+-----+\n",
            "|age| bp|   sg| al| su|     rbc|      pc|       pcc|        ba|bgr| bu|  sc|sod|pot|hemo|pcv|   wc| rc|htn| dm|cad|appet| pe|ane|class|label|\n",
            "+---+---+-----+---+---+--------+--------+----------+----------+---+---+----+---+---+----+---+-----+---+---+---+---+-----+---+---+-----+-----+\n",
            "| 50|150| 1.02|  1|  0|abnormal|  normal|notpresent|notpresent|181|204| 8.4|135|  4|10.3| 44| 7800|5.2| no| no| no| good| no| no|  ckd|  0.0|\n",
            "| 69|140| 1.02|  4|  0|abnormal|  normal|notpresent|notpresent|121| 64| 7.3|130|5.4| 9.4| 38| 6000|3.9| no| no| no| good| no|yes|  ckd|  0.0|\n",
            "| 69|160| 1.02|  2|  3|abnormal|  normal|notpresent|notpresent|423| 34|   7|129|4.9|10.6| 31| 7500|4.6| no|yes| no| poor| no| no|  ckd|  0.0|\n",
            "| 71|140|1.005|  4|  0|abnormal|abnormal|   present|notpresent|106| 67|11.6|131|5.5| 7.2| 32| 6700|4.4| no| no| no| poor|yes|yes|  ckd|  0.0|\n",
            "| 65|170| 1.01|  2|  0|abnormal|  normal|   present|notpresent| 66|102|  16|128|5.6| 9.6| 35| 7300|  5| no| no| no| good| no|yes|  ckd|  0.0|\n",
            "| 70|160|1.015|  3|  0|abnormal|  normal|notpresent|notpresent| 74|180|   9|137|4.6| 9.6| 39| 7800|  4|yes| no| no| good|yes|yes|  ckd|  0.0|\n",
            "| 35|170| 1.01|  0|  0|abnormal|  normal|notpresent|notpresent|100|249|14.7|127|5.8| 9.7| 36| 6900|3.7| no| no| no| good| no|yes|  ckd|  0.0|\n",
            "| 55|120|1.015|  2|  4|abnormal|abnormal|notpresent|notpresent|410|223|17.6|132|5.6| 9.5| 44|12100|3.8| no|yes| no| good|yes|yes|  ckd|  0.0|\n",
            "| 59|130| 1.02|  3|  0|abnormal|abnormal|notpresent|notpresent|138|185|14.8|133|5.4| 9.3| 33| 4500|3.4|yes| no| no| good| no|yes|  ckd|  0.0|\n",
            "| 55|130|1.025|  2|  0|abnormal|abnormal|notpresent|notpresent| 70|342| 9.4|130|5.4| 8.5| 29|12200|2.6|yes| no| no| good| no|yes|  ckd|  0.0|\n",
            "| 43|120| 1.01|  2|  4|abnormal|abnormal|notpresent|notpresent|490|119|   8|130|5.7|   8| 28|11000|2.8|yes|yes|yes| poor| no|yes|  ckd|  0.0|\n",
            "| 68|100|1.015|  3|  0|abnormal|abnormal|notpresent|notpresent|138|213|11.6|135|  4| 8.1| 32| 3800|4.3|yes| no| no| good|yes|yes|  ckd|  0.0|\n",
            "| 68|160| 1.01|  3|  1|abnormal|  normal|notpresent|notpresent| 70|204| 5.7|142|4.9| 7.8| 28|11400|3.7|yes| no| no| poor|yes|yes|  ckd|  0.0|\n",
            "| 53|130|1.015|  2|  0|abnormal|  normal|notpresent|notpresent|380|102|17.5|139|5.3|10.3| 33| 5300|3.2|yes|yes|yes| poor| no| no|  ckd|  0.0|\n",
            "| 50|150|1.025|  0|  1|abnormal|abnormal|notpresent|   present|208|187|18.4|131|3.7|  10| 16| 9200|3.6|yes|yes|yes| poor| no| no|  ckd|  0.0|\n",
            "| 69|140|1.025|  0|  2|abnormal|  normal|notpresent|notpresent| 98| 73| 7.3|129|4.9| 9.1| 24| 6200|3.4|yes| no| no| poor| no|yes|  ckd|  0.0|\n",
            "| 69|130| 1.02|  0|  0|abnormal|  normal|notpresent|notpresent|157|187| 6.3|130|  5|11.7| 37| 6900|5.2| no| no| no| good| no| no|  ckd|  0.0|\n",
            "| 71|120| 1.02|  3|  0|abnormal|  normal|notpresent|notpresent| 76| 73| 6.4|134|4.4|11.6| 30|11400|3.9|yes| no| no| good| no| no|  ckd|  0.0|\n",
            "| 65|140| 1.02|  2|  0|abnormal|  normal|   present|notpresent| 99| 96| 7.1|135|5.7| 8.4| 24| 5300|4.6|yes|yes|yes| poor| no|yes|  ckd|  0.0|\n",
            "| 70|120| 1.02|  0|  3|abnormal|  normal|   present|notpresent|114| 73|18.4|129|4.1|11.6| 32| 9200|4.4|yes|yes|yes| good| no| no|  ckd|  0.0|\n",
            "+---+---+-----+---+---+--------+--------+----------+----------+---+---+----+---+---+----+---+-----+---+---+---+---+-----+---+---+-----+-----+\n",
            "only showing top 20 rows\n",
            "\n",
            "+-----+\n",
            "|label|\n",
            "+-----+\n",
            "|  0.0|\n",
            "|  1.0|\n",
            "+-----+\n",
            "\n"
          ]
        }
      ],
      "source": [
        "from pyspark.ml.feature import StringIndexer\n",
        "\n",
        "\n",
        "indexer = StringIndexer(inputCol=\"class\", outputCol=\"label\")\n",
        "indexed = indexer.fit(df).transform(df)\n",
        "indexed.show()\n",
        "indexed.select('label').distinct().show()"
      ]
    },
    {
      "cell_type": "code",
      "execution_count": 123,
      "metadata": {
        "colab": {
          "base_uri": "https://localhost:8080/"
        },
        "id": "EFt7Jxp8-Y4R",
        "outputId": "ca2a1219-6097-4321-e2c9-fd8504112cf7"
      },
      "outputs": [
        {
          "output_type": "stream",
          "name": "stdout",
          "text": [
            "age \t with null values:  0\n",
            "bp \t with null values:  0\n",
            "sg \t with null values:  0\n",
            "al \t with null values:  0\n",
            "su \t with null values:  0\n",
            "rbc \t with null values:  0\n",
            "pc \t with null values:  0\n",
            "pcc \t with null values:  0\n",
            "ba \t with null values:  0\n",
            "bgr \t with null values:  0\n",
            "bu \t with null values:  0\n",
            "sc \t with null values:  0\n",
            "sod \t with null values:  0\n",
            "pot \t with null values:  0\n",
            "hemo \t with null values:  0\n",
            "pcv \t with null values:  0\n",
            "wc \t with null values:  0\n",
            "rc \t with null values:  0\n",
            "htn \t with null values:  0\n",
            "dm \t with null values:  0\n",
            "cad \t with null values:  0\n",
            "appet \t with null values:  0\n",
            "pe \t with null values:  0\n",
            "ane \t with null values:  0\n",
            "class \t with null values:  0\n"
          ]
        }
      ],
      "source": [
        "#Count the value of null in every column\n",
        "for col in df.columns:\n",
        "    print(col, \"\\t\", \"with null values: \", df.filter(df[col].isNull()).count())"
      ]
    },
    {
      "cell_type": "code",
      "execution_count": 124,
      "metadata": {
        "colab": {
          "base_uri": "https://localhost:8080/"
        },
        "id": "r8xG3ay2-hoS",
        "outputId": "78ca20ca-5223-4b2b-ecf0-4bb0d180a675"
      },
      "outputs": [
        {
          "output_type": "stream",
          "name": "stdout",
          "text": [
            "+---+---+-----+---+---+--------+--------+----------+----------+---+---+----+---+---+----+---+-----+---+---+---+---+-----+---+---+-----+-----+-------+-------+--------+-------+--------+-------+--------+-------+--------+----------+-------+--------+\n",
            "|age| bp|   sg| al| su|     rbc|      pc|       pcc|        ba|bgr| bu|  sc|sod|pot|hemo|pcv|   wc| rc|htn| dm|cad|appet| pe|ane|class|label|alIndex|suIndex|rbcIndex|pcIndex|pccIndex|baIndex|htnIndex|dmIndex|cadIndex|appetIndex|peIndex|aneIndex|\n",
            "+---+---+-----+---+---+--------+--------+----------+----------+---+---+----+---+---+----+---+-----+---+---+---+---+-----+---+---+-----+-----+-------+-------+--------+-------+--------+-------+--------+-------+--------+----------+-------+--------+\n",
            "| 50|150| 1.02|  1|  0|abnormal|  normal|notpresent|notpresent|181|204| 8.4|135|  4|10.3| 44| 7800|5.2| no| no| no| good| no| no|  ckd|  0.0|    4.0|    0.0|     0.0|    0.0|     0.0|    0.0|     0.0|    0.0|     0.0|       0.0|    0.0|     0.0|\n",
            "| 69|140| 1.02|  4|  0|abnormal|  normal|notpresent|notpresent|121| 64| 7.3|130|5.4| 9.4| 38| 6000|3.9| no| no| no| good| no|yes|  ckd|  0.0|    3.0|    0.0|     0.0|    0.0|     0.0|    0.0|     0.0|    0.0|     0.0|       0.0|    0.0|     1.0|\n",
            "| 69|160| 1.02|  2|  3|abnormal|  normal|notpresent|notpresent|423| 34|   7|129|4.9|10.6| 31| 7500|4.6| no|yes| no| poor| no| no|  ckd|  0.0|    1.0|    2.0|     0.0|    0.0|     0.0|    0.0|     0.0|    1.0|     0.0|       1.0|    0.0|     0.0|\n",
            "| 71|140|1.005|  4|  0|abnormal|abnormal|   present|notpresent|106| 67|11.6|131|5.5| 7.2| 32| 6700|4.4| no| no| no| poor|yes|yes|  ckd|  0.0|    3.0|    0.0|     0.0|    1.0|     1.0|    0.0|     0.0|    0.0|     0.0|       1.0|    1.0|     1.0|\n",
            "| 65|170| 1.01|  2|  0|abnormal|  normal|   present|notpresent| 66|102|  16|128|5.6| 9.6| 35| 7300|  5| no| no| no| good| no|yes|  ckd|  0.0|    1.0|    0.0|     0.0|    0.0|     1.0|    0.0|     0.0|    0.0|     0.0|       0.0|    0.0|     1.0|\n",
            "| 70|160|1.015|  3|  0|abnormal|  normal|notpresent|notpresent| 74|180|   9|137|4.6| 9.6| 39| 7800|  4|yes| no| no| good|yes|yes|  ckd|  0.0|    2.0|    0.0|     0.0|    0.0|     0.0|    0.0|     1.0|    0.0|     0.0|       0.0|    1.0|     1.0|\n",
            "| 35|170| 1.01|  0|  0|abnormal|  normal|notpresent|notpresent|100|249|14.7|127|5.8| 9.7| 36| 6900|3.7| no| no| no| good| no|yes|  ckd|  0.0|    0.0|    0.0|     0.0|    0.0|     0.0|    0.0|     0.0|    0.0|     0.0|       0.0|    0.0|     1.0|\n",
            "| 55|120|1.015|  2|  4|abnormal|abnormal|notpresent|notpresent|410|223|17.6|132|5.6| 9.5| 44|12100|3.8| no|yes| no| good|yes|yes|  ckd|  0.0|    1.0|    4.0|     0.0|    1.0|     0.0|    0.0|     0.0|    1.0|     0.0|       0.0|    1.0|     1.0|\n",
            "| 59|130| 1.02|  3|  0|abnormal|abnormal|notpresent|notpresent|138|185|14.8|133|5.4| 9.3| 33| 4500|3.4|yes| no| no| good| no|yes|  ckd|  0.0|    2.0|    0.0|     0.0|    1.0|     0.0|    0.0|     1.0|    0.0|     0.0|       0.0|    0.0|     1.0|\n",
            "| 55|130|1.025|  2|  0|abnormal|abnormal|notpresent|notpresent| 70|342| 9.4|130|5.4| 8.5| 29|12200|2.6|yes| no| no| good| no|yes|  ckd|  0.0|    1.0|    0.0|     0.0|    1.0|     0.0|    0.0|     1.0|    0.0|     0.0|       0.0|    0.0|     1.0|\n",
            "| 43|120| 1.01|  2|  4|abnormal|abnormal|notpresent|notpresent|490|119|   8|130|5.7|   8| 28|11000|2.8|yes|yes|yes| poor| no|yes|  ckd|  0.0|    1.0|    4.0|     0.0|    1.0|     0.0|    0.0|     1.0|    1.0|     1.0|       1.0|    0.0|     1.0|\n",
            "| 68|100|1.015|  3|  0|abnormal|abnormal|notpresent|notpresent|138|213|11.6|135|  4| 8.1| 32| 3800|4.3|yes| no| no| good|yes|yes|  ckd|  0.0|    2.0|    0.0|     0.0|    1.0|     0.0|    0.0|     1.0|    0.0|     0.0|       0.0|    1.0|     1.0|\n",
            "| 68|160| 1.01|  3|  1|abnormal|  normal|notpresent|notpresent| 70|204| 5.7|142|4.9| 7.8| 28|11400|3.7|yes| no| no| poor|yes|yes|  ckd|  0.0|    2.0|    3.0|     0.0|    0.0|     0.0|    0.0|     1.0|    0.0|     0.0|       1.0|    1.0|     1.0|\n",
            "| 53|130|1.015|  2|  0|abnormal|  normal|notpresent|notpresent|380|102|17.5|139|5.3|10.3| 33| 5300|3.2|yes|yes|yes| poor| no| no|  ckd|  0.0|    1.0|    0.0|     0.0|    0.0|     0.0|    0.0|     1.0|    1.0|     1.0|       1.0|    0.0|     0.0|\n",
            "| 50|150|1.025|  0|  1|abnormal|abnormal|notpresent|   present|208|187|18.4|131|3.7|  10| 16| 9200|3.6|yes|yes|yes| poor| no| no|  ckd|  0.0|    0.0|    3.0|     0.0|    1.0|     0.0|    1.0|     1.0|    1.0|     1.0|       1.0|    0.0|     0.0|\n",
            "| 69|140|1.025|  0|  2|abnormal|  normal|notpresent|notpresent| 98| 73| 7.3|129|4.9| 9.1| 24| 6200|3.4|yes| no| no| poor| no|yes|  ckd|  0.0|    0.0|    1.0|     0.0|    0.0|     0.0|    0.0|     1.0|    0.0|     0.0|       1.0|    0.0|     1.0|\n",
            "| 69|130| 1.02|  0|  0|abnormal|  normal|notpresent|notpresent|157|187| 6.3|130|  5|11.7| 37| 6900|5.2| no| no| no| good| no| no|  ckd|  0.0|    0.0|    0.0|     0.0|    0.0|     0.0|    0.0|     0.0|    0.0|     0.0|       0.0|    0.0|     0.0|\n",
            "| 71|120| 1.02|  3|  0|abnormal|  normal|notpresent|notpresent| 76| 73| 6.4|134|4.4|11.6| 30|11400|3.9|yes| no| no| good| no| no|  ckd|  0.0|    2.0|    0.0|     0.0|    0.0|     0.0|    0.0|     1.0|    0.0|     0.0|       0.0|    0.0|     0.0|\n",
            "| 65|140| 1.02|  2|  0|abnormal|  normal|   present|notpresent| 99| 96| 7.1|135|5.7| 8.4| 24| 5300|4.6|yes|yes|yes| poor| no|yes|  ckd|  0.0|    1.0|    0.0|     0.0|    0.0|     1.0|    0.0|     1.0|    1.0|     1.0|       1.0|    0.0|     1.0|\n",
            "| 70|120| 1.02|  0|  3|abnormal|  normal|   present|notpresent|114| 73|18.4|129|4.1|11.6| 32| 9200|4.4|yes|yes|yes| good| no| no|  ckd|  0.0|    0.0|    2.0|     0.0|    0.0|     1.0|    0.0|     1.0|    1.0|     1.0|       0.0|    0.0|     0.0|\n",
            "+---+---+-----+---+---+--------+--------+----------+----------+---+---+----+---+---+----+---+-----+---+---+---+---+-----+---+---+-----+-----+-------+-------+--------+-------+--------+-------+--------+-------+--------+----------+-------+--------+\n",
            "only showing top 20 rows\n",
            "\n"
          ]
        }
      ],
      "source": [
        "from pyspark.ml.feature import StringIndexer\n",
        "\n",
        "cat_col_list=['al', 'su', 'rbc', 'pc', 'pcc', 'ba', 'htn', 'dm', 'cad', 'appet', 'pe', 'ane']\n",
        "for col in cat_col_list:\n",
        "    indexer = StringIndexer(inputCol=col, outputCol=col + \"Index\")\n",
        "    indexed = indexer.fit(indexed).transform(indexed)\n",
        "indexed.show()"
      ]
    },
    {
      "cell_type": "code",
      "execution_count": 125,
      "metadata": {
        "colab": {
          "base_uri": "https://localhost:8080/"
        },
        "id": "Icj2D0_I_Fgx",
        "outputId": "cb58d341-4504-4161-f06b-f892e881767a"
      },
      "outputs": [
        {
          "output_type": "execute_result",
          "data": {
            "text/plain": [
              "['age',\n",
              " 'bp',\n",
              " 'sg',\n",
              " 'bgr',\n",
              " 'bu',\n",
              " 'sc',\n",
              " 'sod',\n",
              " 'pot',\n",
              " 'hemo',\n",
              " 'pcv',\n",
              " 'wc',\n",
              " 'rc',\n",
              " 'alIndex',\n",
              " 'suIndex',\n",
              " 'rbcIndex',\n",
              " 'pcIndex',\n",
              " 'pccIndex',\n",
              " 'baIndex',\n",
              " 'htnIndex',\n",
              " 'dmIndex',\n",
              " 'cadIndex',\n",
              " 'appetIndex',\n",
              " 'peIndex',\n",
              " 'aneIndex']"
            ]
          },
          "metadata": {},
          "execution_count": 125
        }
      ],
      "source": [
        "numeric_cols=['age', 'bp', 'sg','bgr', 'bu', 'sc', 'sod', 'pot', 'hemo', 'pcv', 'wc', 'rc']\n",
        "index_cat_col_list=['alIndex', 'suIndex', 'rbcIndex', 'pcIndex', 'pccIndex', 'baIndex', 'htnIndex', 'dmIndex', 'cadIndex', 'appetIndex', 'peIndex', 'aneIndex']\n",
        "\n",
        "features_list=numeric_cols + index_cat_col_list\n",
        "features_list"
      ]
    },
    {
      "cell_type": "code",
      "execution_count": 126,
      "metadata": {
        "id": "o_YZTSp2_O5Z"
      },
      "outputs": [],
      "source": [
        "from pyspark.sql.types import DoubleType\n",
        "\n",
        "numeric_cols=['age', 'bp', 'sg','bgr', 'bu', 'sc', 'sod', 'pot', 'hemo', 'pcv', 'wc', 'rc']\n",
        "for col in numeric_cols:\n",
        "    indexed = indexed.withColumn(col, indexed[col].cast(DoubleType()))"
      ]
    },
    {
      "cell_type": "code",
      "execution_count": 127,
      "metadata": {
        "colab": {
          "base_uri": "https://localhost:8080/"
        },
        "id": "1uoDipbY_Vkh",
        "outputId": "75fc1155-160f-4aab-b3a9-a1591b7c2d05"
      },
      "outputs": [
        {
          "output_type": "stream",
          "name": "stdout",
          "text": [
            "+----+-----+-----+---+---+--------+--------+----------+----------+-----+-----+----+-----+---+----+----+-------+---+---+---+---+-----+---+---+-----+-----+-------+-------+--------+-------+--------+-------+--------+-------+--------+----------+-------+--------+--------------------+\n",
            "| age|   bp|   sg| al| su|     rbc|      pc|       pcc|        ba|  bgr|   bu|  sc|  sod|pot|hemo| pcv|     wc| rc|htn| dm|cad|appet| pe|ane|class|label|alIndex|suIndex|rbcIndex|pcIndex|pccIndex|baIndex|htnIndex|dmIndex|cadIndex|appetIndex|peIndex|aneIndex|            features|\n",
            "+----+-----+-----+---+---+--------+--------+----------+----------+-----+-----+----+-----+---+----+----+-------+---+---+---+---+-----+---+---+-----+-----+-------+-------+--------+-------+--------+-------+--------+-------+--------+----------+-------+--------+--------------------+\n",
            "|50.0|150.0| 1.02|  1|  0|abnormal|  normal|notpresent|notpresent|181.0|204.0| 8.4|135.0|4.0|10.3|44.0| 7800.0|5.2| no| no| no| good| no| no|  ckd|  0.0|    4.0|    0.0|     0.0|    0.0|     0.0|    0.0|     0.0|    0.0|     0.0|       0.0|    0.0|     0.0|(24,[0,1,2,3,4,5,...|\n",
            "|69.0|140.0| 1.02|  4|  0|abnormal|  normal|notpresent|notpresent|121.0| 64.0| 7.3|130.0|5.4| 9.4|38.0| 6000.0|3.9| no| no| no| good| no|yes|  ckd|  0.0|    3.0|    0.0|     0.0|    0.0|     0.0|    0.0|     0.0|    0.0|     0.0|       0.0|    0.0|     1.0|(24,[0,1,2,3,4,5,...|\n",
            "|69.0|160.0| 1.02|  2|  3|abnormal|  normal|notpresent|notpresent|423.0| 34.0| 7.0|129.0|4.9|10.6|31.0| 7500.0|4.6| no|yes| no| poor| no| no|  ckd|  0.0|    1.0|    2.0|     0.0|    0.0|     0.0|    0.0|     0.0|    1.0|     0.0|       1.0|    0.0|     0.0|[69.0,160.0,1.02,...|\n",
            "|71.0|140.0|1.005|  4|  0|abnormal|abnormal|   present|notpresent|106.0| 67.0|11.6|131.0|5.5| 7.2|32.0| 6700.0|4.4| no| no| no| poor|yes|yes|  ckd|  0.0|    3.0|    0.0|     0.0|    1.0|     1.0|    0.0|     0.0|    0.0|     0.0|       1.0|    1.0|     1.0|[71.0,140.0,1.005...|\n",
            "|65.0|170.0| 1.01|  2|  0|abnormal|  normal|   present|notpresent| 66.0|102.0|16.0|128.0|5.6| 9.6|35.0| 7300.0|5.0| no| no| no| good| no|yes|  ckd|  0.0|    1.0|    0.0|     0.0|    0.0|     1.0|    0.0|     0.0|    0.0|     0.0|       0.0|    0.0|     1.0|[65.0,170.0,1.01,...|\n",
            "|70.0|160.0|1.015|  3|  0|abnormal|  normal|notpresent|notpresent| 74.0|180.0| 9.0|137.0|4.6| 9.6|39.0| 7800.0|4.0|yes| no| no| good|yes|yes|  ckd|  0.0|    2.0|    0.0|     0.0|    0.0|     0.0|    0.0|     1.0|    0.0|     0.0|       0.0|    1.0|     1.0|[70.0,160.0,1.015...|\n",
            "|35.0|170.0| 1.01|  0|  0|abnormal|  normal|notpresent|notpresent|100.0|249.0|14.7|127.0|5.8| 9.7|36.0| 6900.0|3.7| no| no| no| good| no|yes|  ckd|  0.0|    0.0|    0.0|     0.0|    0.0|     0.0|    0.0|     0.0|    0.0|     0.0|       0.0|    0.0|     1.0|(24,[0,1,2,3,4,5,...|\n",
            "|55.0|120.0|1.015|  2|  4|abnormal|abnormal|notpresent|notpresent|410.0|223.0|17.6|132.0|5.6| 9.5|44.0|12100.0|3.8| no|yes| no| good|yes|yes|  ckd|  0.0|    1.0|    4.0|     0.0|    1.0|     0.0|    0.0|     0.0|    1.0|     0.0|       0.0|    1.0|     1.0|[55.0,120.0,1.015...|\n",
            "|59.0|130.0| 1.02|  3|  0|abnormal|abnormal|notpresent|notpresent|138.0|185.0|14.8|133.0|5.4| 9.3|33.0| 4500.0|3.4|yes| no| no| good| no|yes|  ckd|  0.0|    2.0|    0.0|     0.0|    1.0|     0.0|    0.0|     1.0|    0.0|     0.0|       0.0|    0.0|     1.0|[59.0,130.0,1.02,...|\n",
            "|55.0|130.0|1.025|  2|  0|abnormal|abnormal|notpresent|notpresent| 70.0|342.0| 9.4|130.0|5.4| 8.5|29.0|12200.0|2.6|yes| no| no| good| no|yes|  ckd|  0.0|    1.0|    0.0|     0.0|    1.0|     0.0|    0.0|     1.0|    0.0|     0.0|       0.0|    0.0|     1.0|[55.0,130.0,1.025...|\n",
            "|43.0|120.0| 1.01|  2|  4|abnormal|abnormal|notpresent|notpresent|490.0|119.0| 8.0|130.0|5.7| 8.0|28.0|11000.0|2.8|yes|yes|yes| poor| no|yes|  ckd|  0.0|    1.0|    4.0|     0.0|    1.0|     0.0|    0.0|     1.0|    1.0|     1.0|       1.0|    0.0|     1.0|[43.0,120.0,1.01,...|\n",
            "|68.0|100.0|1.015|  3|  0|abnormal|abnormal|notpresent|notpresent|138.0|213.0|11.6|135.0|4.0| 8.1|32.0| 3800.0|4.3|yes| no| no| good|yes|yes|  ckd|  0.0|    2.0|    0.0|     0.0|    1.0|     0.0|    0.0|     1.0|    0.0|     0.0|       0.0|    1.0|     1.0|[68.0,100.0,1.015...|\n",
            "|68.0|160.0| 1.01|  3|  1|abnormal|  normal|notpresent|notpresent| 70.0|204.0| 5.7|142.0|4.9| 7.8|28.0|11400.0|3.7|yes| no| no| poor|yes|yes|  ckd|  0.0|    2.0|    3.0|     0.0|    0.0|     0.0|    0.0|     1.0|    0.0|     0.0|       1.0|    1.0|     1.0|[68.0,160.0,1.01,...|\n",
            "|53.0|130.0|1.015|  2|  0|abnormal|  normal|notpresent|notpresent|380.0|102.0|17.5|139.0|5.3|10.3|33.0| 5300.0|3.2|yes|yes|yes| poor| no| no|  ckd|  0.0|    1.0|    0.0|     0.0|    0.0|     0.0|    0.0|     1.0|    1.0|     1.0|       1.0|    0.0|     0.0|[53.0,130.0,1.015...|\n",
            "|50.0|150.0|1.025|  0|  1|abnormal|abnormal|notpresent|   present|208.0|187.0|18.4|131.0|3.7|10.0|16.0| 9200.0|3.6|yes|yes|yes| poor| no| no|  ckd|  0.0|    0.0|    3.0|     0.0|    1.0|     0.0|    1.0|     1.0|    1.0|     1.0|       1.0|    0.0|     0.0|[50.0,150.0,1.025...|\n",
            "|69.0|140.0|1.025|  0|  2|abnormal|  normal|notpresent|notpresent| 98.0| 73.0| 7.3|129.0|4.9| 9.1|24.0| 6200.0|3.4|yes| no| no| poor| no|yes|  ckd|  0.0|    0.0|    1.0|     0.0|    0.0|     0.0|    0.0|     1.0|    0.0|     0.0|       1.0|    0.0|     1.0|[69.0,140.0,1.025...|\n",
            "|69.0|130.0| 1.02|  0|  0|abnormal|  normal|notpresent|notpresent|157.0|187.0| 6.3|130.0|5.0|11.7|37.0| 6900.0|5.2| no| no| no| good| no| no|  ckd|  0.0|    0.0|    0.0|     0.0|    0.0|     0.0|    0.0|     0.0|    0.0|     0.0|       0.0|    0.0|     0.0|(24,[0,1,2,3,4,5,...|\n",
            "|71.0|120.0| 1.02|  3|  0|abnormal|  normal|notpresent|notpresent| 76.0| 73.0| 6.4|134.0|4.4|11.6|30.0|11400.0|3.9|yes| no| no| good| no| no|  ckd|  0.0|    2.0|    0.0|     0.0|    0.0|     0.0|    0.0|     1.0|    0.0|     0.0|       0.0|    0.0|     0.0|(24,[0,1,2,3,4,5,...|\n",
            "|65.0|140.0| 1.02|  2|  0|abnormal|  normal|   present|notpresent| 99.0| 96.0| 7.1|135.0|5.7| 8.4|24.0| 5300.0|4.6|yes|yes|yes| poor| no|yes|  ckd|  0.0|    1.0|    0.0|     0.0|    0.0|     1.0|    0.0|     1.0|    1.0|     1.0|       1.0|    0.0|     1.0|[65.0,140.0,1.02,...|\n",
            "|70.0|120.0| 1.02|  0|  3|abnormal|  normal|   present|notpresent|114.0| 73.0|18.4|129.0|4.1|11.6|32.0| 9200.0|4.4|yes|yes|yes| good| no| no|  ckd|  0.0|    0.0|    2.0|     0.0|    0.0|     1.0|    0.0|     1.0|    1.0|     1.0|       0.0|    0.0|     0.0|[70.0,120.0,1.02,...|\n",
            "+----+-----+-----+---+---+--------+--------+----------+----------+-----+-----+----+-----+---+----+----+-------+---+---+---+---+-----+---+---+-----+-----+-------+-------+--------+-------+--------+-------+--------+-------+--------+----------+-------+--------+--------------------+\n",
            "only showing top 20 rows\n",
            "\n"
          ]
        }
      ],
      "source": [
        "from pyspark.ml.linalg import Vectors\n",
        "from pyspark.ml.feature import VectorAssembler\n",
        "\n",
        "vectorAssembler = VectorAssembler(inputCols=features_list,\n",
        "                                  outputCol=\"features\")\n",
        "\n",
        "# For your special case that has string instead of doubles you should cast them first.\n",
        "# expr = [col(c).cast(\"Double\").alias(c)\n",
        "#         for c in vectorAssembler.getInputCols()]\n",
        "\n",
        "# df2 = df2.select(*expr)\n",
        "features_vectorized = vectorAssembler.transform(indexed)\n",
        "features_vectorized.show()"
      ]
    },
    {
      "cell_type": "code",
      "execution_count": 128,
      "metadata": {
        "colab": {
          "base_uri": "https://localhost:8080/"
        },
        "id": "TORZ-S4W_e_w",
        "outputId": "ecaa812d-a9a5-437c-81ce-11ab690a49f4"
      },
      "outputs": [
        {
          "output_type": "stream",
          "name": "stdout",
          "text": [
            "+----+-----+-----+---+---+--------+--------+----------+----------+-----+-----+----+-----+---+----+----+-------+---+---+---+---+-----+---+---+-----+-----+-------+-------+--------+-------+--------+-------+--------+-------+--------+----------+-------+--------+--------------------+--------------------+\n",
            "| age|   bp|   sg| al| su|     rbc|      pc|       pcc|        ba|  bgr|   bu|  sc|  sod|pot|hemo| pcv|     wc| rc|htn| dm|cad|appet| pe|ane|class|label|alIndex|suIndex|rbcIndex|pcIndex|pccIndex|baIndex|htnIndex|dmIndex|cadIndex|appetIndex|peIndex|aneIndex|            features|       features_norm|\n",
            "+----+-----+-----+---+---+--------+--------+----------+----------+-----+-----+----+-----+---+----+----+-------+---+---+---+---+-----+---+---+-----+-----+-------+-------+--------+-------+--------+-------+--------+-------+--------+----------+-------+--------+--------------------+--------------------+\n",
            "|50.0|150.0| 1.02|  1|  0|abnormal|  normal|notpresent|notpresent|181.0|204.0| 8.4|135.0|4.0|10.3|44.0| 7800.0|5.2| no| no| no| good| no| no|  ckd|  0.0|    4.0|    0.0|     0.0|    0.0|     0.0|    0.0|     0.0|    0.0|     0.0|       0.0|    0.0|     0.0|(24,[0,1,2,3,4,5,...|(24,[0,1,2,3,4,5,...|\n",
            "|69.0|140.0| 1.02|  4|  0|abnormal|  normal|notpresent|notpresent|121.0| 64.0| 7.3|130.0|5.4| 9.4|38.0| 6000.0|3.9| no| no| no| good| no|yes|  ckd|  0.0|    3.0|    0.0|     0.0|    0.0|     0.0|    0.0|     0.0|    0.0|     0.0|       0.0|    0.0|     1.0|(24,[0,1,2,3,4,5,...|(24,[0,1,2,3,4,5,...|\n",
            "|69.0|160.0| 1.02|  2|  3|abnormal|  normal|notpresent|notpresent|423.0| 34.0| 7.0|129.0|4.9|10.6|31.0| 7500.0|4.6| no|yes| no| poor| no| no|  ckd|  0.0|    1.0|    2.0|     0.0|    0.0|     0.0|    0.0|     0.0|    1.0|     0.0|       1.0|    0.0|     0.0|[69.0,160.0,1.02,...|[0.00823475496233...|\n",
            "|71.0|140.0|1.005|  4|  0|abnormal|abnormal|   present|notpresent|106.0| 67.0|11.6|131.0|5.5| 7.2|32.0| 6700.0|4.4| no| no| no| poor|yes|yes|  ckd|  0.0|    3.0|    0.0|     0.0|    1.0|     1.0|    0.0|     0.0|    0.0|     0.0|       1.0|    1.0|     1.0|[71.0,140.0,1.005...|[0.00974644820895...|\n",
            "|65.0|170.0| 1.01|  2|  0|abnormal|  normal|   present|notpresent| 66.0|102.0|16.0|128.0|5.6| 9.6|35.0| 7300.0|5.0| no| no| no| good| no|yes|  ckd|  0.0|    1.0|    0.0|     0.0|    0.0|     1.0|    0.0|     0.0|    0.0|     0.0|       0.0|    0.0|     1.0|[65.0,170.0,1.01,...|[0.00822138546787...|\n",
            "|70.0|160.0|1.015|  3|  0|abnormal|  normal|notpresent|notpresent| 74.0|180.0| 9.0|137.0|4.6| 9.6|39.0| 7800.0|4.0|yes| no| no| good|yes|yes|  ckd|  0.0|    2.0|    0.0|     0.0|    0.0|     0.0|    0.0|     1.0|    0.0|     0.0|       0.0|    1.0|     1.0|[70.0,160.0,1.015...|[0.00824187307162...|\n",
            "|35.0|170.0| 1.01|  0|  0|abnormal|  normal|notpresent|notpresent|100.0|249.0|14.7|127.0|5.8| 9.7|36.0| 6900.0|3.7| no| no| no| good| no|yes|  ckd|  0.0|    0.0|    0.0|     0.0|    0.0|     0.0|    0.0|     0.0|    0.0|     0.0|       0.0|    0.0|     1.0|(24,[0,1,2,3,4,5,...|(24,[0,1,2,3,4,5,...|\n",
            "|55.0|120.0|1.015|  2|  4|abnormal|abnormal|notpresent|notpresent|410.0|223.0|17.6|132.0|5.6| 9.5|44.0|12100.0|3.8| no|yes| no| good|yes|yes|  ckd|  0.0|    1.0|    4.0|     0.0|    1.0|     0.0|    0.0|     0.0|    1.0|     0.0|       0.0|    1.0|     1.0|[55.0,120.0,1.015...|[0.00418871613185...|\n",
            "|59.0|130.0| 1.02|  3|  0|abnormal|abnormal|notpresent|notpresent|138.0|185.0|14.8|133.0|5.4| 9.3|33.0| 4500.0|3.4|yes| no| no| good| no|yes|  ckd|  0.0|    2.0|    0.0|     0.0|    1.0|     0.0|    0.0|     1.0|    0.0|     0.0|       0.0|    0.0|     1.0|[59.0,130.0,1.02,...|[0.01130935494506...|\n",
            "|55.0|130.0|1.025|  2|  0|abnormal|abnormal|notpresent|notpresent| 70.0|342.0| 9.4|130.0|5.4| 8.5|29.0|12200.0|2.6|yes| no| no| good| no|yes|  ckd|  0.0|    1.0|    0.0|     0.0|    1.0|     0.0|    0.0|     1.0|    0.0|     0.0|       0.0|    0.0|     1.0|[55.0,130.0,1.025...|[0.00423502869231...|\n",
            "|43.0|120.0| 1.01|  2|  4|abnormal|abnormal|notpresent|notpresent|490.0|119.0| 8.0|130.0|5.7| 8.0|28.0|11000.0|2.8|yes|yes|yes| poor| no|yes|  ckd|  0.0|    1.0|    4.0|     0.0|    1.0|     0.0|    0.0|     1.0|    1.0|     1.0|       1.0|    0.0|     1.0|[43.0,120.0,1.01,...|[0.00359336180724...|\n",
            "|68.0|100.0|1.015|  3|  0|abnormal|abnormal|notpresent|notpresent|138.0|213.0|11.6|135.0|4.0| 8.1|32.0| 3800.0|4.3|yes| no| no| good|yes|yes|  ckd|  0.0|    2.0|    0.0|     0.0|    1.0|     0.0|    0.0|     1.0|    0.0|     0.0|       0.0|    1.0|     1.0|[68.0,100.0,1.015...|[0.01504087024705...|\n",
            "|68.0|160.0| 1.01|  3|  1|abnormal|  normal|notpresent|notpresent| 70.0|204.0| 5.7|142.0|4.9| 7.8|28.0|11400.0|3.7|yes| no| no| poor|yes|yes|  ckd|  0.0|    2.0|    3.0|     0.0|    0.0|     0.0|    0.0|     1.0|    0.0|     0.0|       1.0|    1.0|     1.0|[68.0,160.0,1.01,...|[0.00561792647290...|\n",
            "|53.0|130.0|1.015|  2|  0|abnormal|  normal|notpresent|notpresent|380.0|102.0|17.5|139.0|5.3|10.3|33.0| 5300.0|3.2|yes|yes|yes| poor| no| no|  ckd|  0.0|    1.0|    0.0|     0.0|    0.0|     0.0|    0.0|     1.0|    1.0|     1.0|       1.0|    0.0|     0.0|[53.0,130.0,1.015...|[0.00857700246710...|\n",
            "|50.0|150.0|1.025|  0|  1|abnormal|abnormal|notpresent|   present|208.0|187.0|18.4|131.0|3.7|10.0|16.0| 9200.0|3.6|yes|yes|yes| poor| no| no|  ckd|  0.0|    0.0|    3.0|     0.0|    1.0|     0.0|    1.0|     1.0|    1.0|     1.0|       1.0|    0.0|     0.0|[50.0,150.0,1.025...|[0.00500614504304...|\n",
            "|69.0|140.0|1.025|  0|  2|abnormal|  normal|notpresent|notpresent| 98.0| 73.0| 7.3|129.0|4.9| 9.1|24.0| 6200.0|3.4|yes| no| no| poor| no|yes|  ckd|  0.0|    0.0|    1.0|     0.0|    0.0|     0.0|    0.0|     1.0|    0.0|     0.0|       1.0|    0.0|     1.0|[69.0,140.0,1.025...|[0.01020298770096...|\n",
            "|69.0|130.0| 1.02|  0|  0|abnormal|  normal|notpresent|notpresent|157.0|187.0| 6.3|130.0|5.0|11.7|37.0| 6900.0|5.2| no| no| no| good| no| no|  ckd|  0.0|    0.0|    0.0|     0.0|    0.0|     0.0|    0.0|     0.0|    0.0|     0.0|       0.0|    0.0|     0.0|(24,[0,1,2,3,4,5,...|(24,[0,1,2,3,4,5,...|\n",
            "|71.0|120.0| 1.02|  3|  0|abnormal|  normal|notpresent|notpresent| 76.0| 73.0| 6.4|134.0|4.4|11.6|30.0|11400.0|3.9|yes| no| no| good| no| no|  ckd|  0.0|    2.0|    0.0|     0.0|    0.0|     0.0|    0.0|     1.0|    0.0|     0.0|       0.0|    0.0|     0.0|(24,[0,1,2,3,4,5,...|(24,[0,1,2,3,4,5,...|\n",
            "|65.0|140.0| 1.02|  2|  0|abnormal|  normal|   present|notpresent| 99.0| 96.0| 7.1|135.0|5.7| 8.4|24.0| 5300.0|4.6|yes|yes|yes| poor| no|yes|  ckd|  0.0|    1.0|    0.0|     0.0|    0.0|     1.0|    0.0|     1.0|    1.0|     1.0|       1.0|    0.0|     1.0|[65.0,140.0,1.02,...|[0.01103037255507...|\n",
            "|70.0|120.0| 1.02|  0|  3|abnormal|  normal|   present|notpresent|114.0| 73.0|18.4|129.0|4.1|11.6|32.0| 9200.0|4.4|yes|yes|yes| good| no| no|  ckd|  0.0|    0.0|    2.0|     0.0|    0.0|     1.0|    0.0|     1.0|    1.0|     1.0|       0.0|    0.0|     0.0|[70.0,120.0,1.02,...|[0.00715488903789...|\n",
            "+----+-----+-----+---+---+--------+--------+----------+----------+-----+-----+----+-----+---+----+----+-------+---+---+---+---+-----+---+---+-----+-----+-------+-------+--------+-------+--------+-------+--------+-------+--------+----------+-------+--------+--------------------+--------------------+\n",
            "only showing top 20 rows\n",
            "\n"
          ]
        }
      ],
      "source": [
        "from pyspark.ml.feature import Normalizer\n",
        "from pyspark.ml.linalg import Vectors\n",
        "\n",
        "normalizer = Normalizer(inputCol=\"features\", outputCol=\"features_norm\", p=1.0)\n",
        "l1NormData = normalizer.transform(features_vectorized)\n",
        "l1NormData.show()"
      ]
    },
    {
      "cell_type": "code",
      "execution_count": 129,
      "metadata": {
        "colab": {
          "base_uri": "https://localhost:8080/"
        },
        "id": "aXfGzt5G_jeR",
        "outputId": "38cf03e5-7d2b-497d-9fd4-1d26629a3d71"
      },
      "outputs": [
        {
          "output_type": "stream",
          "name": "stdout",
          "text": [
            "+---+---+--------+--------+----------+----------+---+---+---+-----+---+---+-----+-----+--------------------+--------------------+\n",
            "| al| su|     rbc|      pc|       pcc|        ba|htn| dm|cad|appet| pe|ane|class|label|            features|       features_norm|\n",
            "+---+---+--------+--------+----------+----------+---+---+---+-----+---+---+-----+-----+--------------------+--------------------+\n",
            "|  1|  0|abnormal|  normal|notpresent|notpresent| no| no| no| good| no| no|  ckd|  0.0|(24,[0,1,2,3,4,5,...|(24,[0,1,2,3,4,5,...|\n",
            "|  4|  0|abnormal|  normal|notpresent|notpresent| no| no| no| good| no|yes|  ckd|  0.0|(24,[0,1,2,3,4,5,...|(24,[0,1,2,3,4,5,...|\n",
            "|  2|  3|abnormal|  normal|notpresent|notpresent| no|yes| no| poor| no| no|  ckd|  0.0|[69.0,160.0,1.02,...|[0.00823475496233...|\n",
            "|  4|  0|abnormal|abnormal|   present|notpresent| no| no| no| poor|yes|yes|  ckd|  0.0|[71.0,140.0,1.005...|[0.00974644820895...|\n",
            "|  2|  0|abnormal|  normal|   present|notpresent| no| no| no| good| no|yes|  ckd|  0.0|[65.0,170.0,1.01,...|[0.00822138546787...|\n",
            "|  3|  0|abnormal|  normal|notpresent|notpresent|yes| no| no| good|yes|yes|  ckd|  0.0|[70.0,160.0,1.015...|[0.00824187307162...|\n",
            "|  0|  0|abnormal|  normal|notpresent|notpresent| no| no| no| good| no|yes|  ckd|  0.0|(24,[0,1,2,3,4,5,...|(24,[0,1,2,3,4,5,...|\n",
            "|  2|  4|abnormal|abnormal|notpresent|notpresent| no|yes| no| good|yes|yes|  ckd|  0.0|[55.0,120.0,1.015...|[0.00418871613185...|\n",
            "|  3|  0|abnormal|abnormal|notpresent|notpresent|yes| no| no| good| no|yes|  ckd|  0.0|[59.0,130.0,1.02,...|[0.01130935494506...|\n",
            "|  2|  0|abnormal|abnormal|notpresent|notpresent|yes| no| no| good| no|yes|  ckd|  0.0|[55.0,130.0,1.025...|[0.00423502869231...|\n",
            "|  2|  4|abnormal|abnormal|notpresent|notpresent|yes|yes|yes| poor| no|yes|  ckd|  0.0|[43.0,120.0,1.01,...|[0.00359336180724...|\n",
            "|  3|  0|abnormal|abnormal|notpresent|notpresent|yes| no| no| good|yes|yes|  ckd|  0.0|[68.0,100.0,1.015...|[0.01504087024705...|\n",
            "|  3|  1|abnormal|  normal|notpresent|notpresent|yes| no| no| poor|yes|yes|  ckd|  0.0|[68.0,160.0,1.01,...|[0.00561792647290...|\n",
            "|  2|  0|abnormal|  normal|notpresent|notpresent|yes|yes|yes| poor| no| no|  ckd|  0.0|[53.0,130.0,1.015...|[0.00857700246710...|\n",
            "|  0|  1|abnormal|abnormal|notpresent|   present|yes|yes|yes| poor| no| no|  ckd|  0.0|[50.0,150.0,1.025...|[0.00500614504304...|\n",
            "|  0|  2|abnormal|  normal|notpresent|notpresent|yes| no| no| poor| no|yes|  ckd|  0.0|[69.0,140.0,1.025...|[0.01020298770096...|\n",
            "|  0|  0|abnormal|  normal|notpresent|notpresent| no| no| no| good| no| no|  ckd|  0.0|(24,[0,1,2,3,4,5,...|(24,[0,1,2,3,4,5,...|\n",
            "|  3|  0|abnormal|  normal|notpresent|notpresent|yes| no| no| good| no| no|  ckd|  0.0|(24,[0,1,2,3,4,5,...|(24,[0,1,2,3,4,5,...|\n",
            "|  2|  0|abnormal|  normal|   present|notpresent|yes|yes|yes| poor| no|yes|  ckd|  0.0|[65.0,140.0,1.02,...|[0.01103037255507...|\n",
            "|  0|  3|abnormal|  normal|   present|notpresent|yes|yes|yes| good| no| no|  ckd|  0.0|[70.0,120.0,1.02,...|[0.00715488903789...|\n",
            "+---+---+--------+--------+----------+----------+---+---+---+-----+---+---+-----+-----+--------------------+--------------------+\n",
            "only showing top 20 rows\n",
            "\n"
          ]
        }
      ],
      "source": [
        "df_combine = l1NormData\n",
        "for col in features_list:\n",
        "      df_combine = df_combine.drop(col)\n",
        "\n",
        "df_combine.show()"
      ]
    },
    {
      "cell_type": "code",
      "execution_count": 130,
      "metadata": {
        "colab": {
          "base_uri": "https://localhost:8080/"
        },
        "id": "utYKHFT__rA5",
        "outputId": "4caf8c7d-a7cc-4c28-df50-e537781a6ccc"
      },
      "outputs": [
        {
          "output_type": "stream",
          "name": "stdout",
          "text": [
            "+-----+-----+--------------------+--------------------+\n",
            "|class|label|            features|       features_norm|\n",
            "+-----+-----+--------------------+--------------------+\n",
            "|  ckd|  0.0|(24,[0,1,2,3,4,5,...|(24,[0,1,2,3,4,5,...|\n",
            "|  ckd|  0.0|(24,[0,1,2,3,4,5,...|(24,[0,1,2,3,4,5,...|\n",
            "|  ckd|  0.0|[69.0,160.0,1.02,...|[0.00823475496233...|\n",
            "|  ckd|  0.0|[71.0,140.0,1.005...|[0.00974644820895...|\n",
            "|  ckd|  0.0|[65.0,170.0,1.01,...|[0.00822138546787...|\n",
            "|  ckd|  0.0|[70.0,160.0,1.015...|[0.00824187307162...|\n",
            "|  ckd|  0.0|(24,[0,1,2,3,4,5,...|(24,[0,1,2,3,4,5,...|\n",
            "|  ckd|  0.0|[55.0,120.0,1.015...|[0.00418871613185...|\n",
            "|  ckd|  0.0|[59.0,130.0,1.02,...|[0.01130935494506...|\n",
            "|  ckd|  0.0|[55.0,130.0,1.025...|[0.00423502869231...|\n",
            "|  ckd|  0.0|[43.0,120.0,1.01,...|[0.00359336180724...|\n",
            "|  ckd|  0.0|[68.0,100.0,1.015...|[0.01504087024705...|\n",
            "|  ckd|  0.0|[68.0,160.0,1.01,...|[0.00561792647290...|\n",
            "|  ckd|  0.0|[53.0,130.0,1.015...|[0.00857700246710...|\n",
            "|  ckd|  0.0|[50.0,150.0,1.025...|[0.00500614504304...|\n",
            "|  ckd|  0.0|[69.0,140.0,1.025...|[0.01020298770096...|\n",
            "|  ckd|  0.0|(24,[0,1,2,3,4,5,...|(24,[0,1,2,3,4,5,...|\n",
            "|  ckd|  0.0|(24,[0,1,2,3,4,5,...|(24,[0,1,2,3,4,5,...|\n",
            "|  ckd|  0.0|[65.0,140.0,1.02,...|[0.01103037255507...|\n",
            "|  ckd|  0.0|[70.0,120.0,1.02,...|[0.00715488903789...|\n",
            "+-----+-----+--------------------+--------------------+\n",
            "only showing top 20 rows\n",
            "\n"
          ]
        }
      ],
      "source": [
        "for col in cat_col_list:\n",
        "      df_combine = df_combine.drop(col)\n",
        "\n",
        "df_combine.show()"
      ]
    },
    {
      "cell_type": "code",
      "execution_count": 131,
      "metadata": {
        "colab": {
          "base_uri": "https://localhost:8080/"
        },
        "id": "0g8v2B8u_0Pa",
        "outputId": "db18442b-67da-42f1-a9e8-da3da49bff95"
      },
      "outputs": [
        {
          "output_type": "stream",
          "name": "stdout",
          "text": [
            "+-----+--------------------+\n",
            "|label|       features_norm|\n",
            "+-----+--------------------+\n",
            "|  0.0|(24,[0,1,2,3,4,5,...|\n",
            "|  0.0|(24,[0,1,2,3,4,5,...|\n",
            "|  0.0|[0.00823475496233...|\n",
            "|  0.0|[0.00974644820895...|\n",
            "|  0.0|[0.00822138546787...|\n",
            "|  0.0|[0.00824187307162...|\n",
            "|  0.0|(24,[0,1,2,3,4,5,...|\n",
            "|  0.0|[0.00418871613185...|\n",
            "|  0.0|[0.01130935494506...|\n",
            "|  0.0|[0.00423502869231...|\n",
            "|  0.0|[0.00359336180724...|\n",
            "|  0.0|[0.01504087024705...|\n",
            "|  0.0|[0.00561792647290...|\n",
            "|  0.0|[0.00857700246710...|\n",
            "|  0.0|[0.00500614504304...|\n",
            "|  0.0|[0.01020298770096...|\n",
            "|  0.0|(24,[0,1,2,3,4,5,...|\n",
            "|  0.0|(24,[0,1,2,3,4,5,...|\n",
            "|  0.0|[0.01103037255507...|\n",
            "|  0.0|[0.00715488903789...|\n",
            "+-----+--------------------+\n",
            "only showing top 20 rows\n",
            "\n"
          ]
        }
      ],
      "source": [
        "df_combine = df_combine.drop(\"features\").drop(\"class\")\n",
        "df_combine.show()"
      ]
    },
    {
      "cell_type": "code",
      "execution_count": 132,
      "metadata": {
        "id": "NEshjNKW_8jM"
      },
      "outputs": [],
      "source": [
        "#Split the dataset into training and testing dataset\n",
        "\n",
        "splits = df_combine.randomSplit([0.75, 0.25])\n",
        "df_train = splits[0]\n",
        "df_test = splits[1]"
      ]
    },
    {
      "cell_type": "markdown",
      "metadata": {
        "id": "DrPvHek24_Vp"
      },
      "source": [
        "## Random Forest Classifier"
      ]
    },
    {
      "cell_type": "code",
      "execution_count": 133,
      "metadata": {
        "id": "y4t0_jrb__GY"
      },
      "outputs": [],
      "source": [
        "from pyspark.ml.classification import RandomForestClassifier\n",
        "\n",
        "# Train a RandomForest model.\n",
        "rf = RandomForestClassifier(labelCol=\"label\", featuresCol=\"features_norm\", numTrees=10)"
      ]
    },
    {
      "cell_type": "code",
      "execution_count": 134,
      "metadata": {
        "id": "egIa71jQAED4"
      },
      "outputs": [],
      "source": [
        "from pyspark.ml import Pipeline\n",
        "pipeline = Pipeline(stages=[rf])"
      ]
    },
    {
      "cell_type": "code",
      "execution_count": 135,
      "metadata": {
        "id": "vTcx9bQ_AF_B"
      },
      "outputs": [],
      "source": [
        "model = pipeline.fit(df_train)"
      ]
    },
    {
      "cell_type": "code",
      "execution_count": 136,
      "metadata": {
        "id": "Iz8vTX-gAI0t"
      },
      "outputs": [],
      "source": [
        "prediction = model.transform(df_train)"
      ]
    },
    {
      "cell_type": "code",
      "execution_count": 137,
      "metadata": {
        "colab": {
          "base_uri": "https://localhost:8080/"
        },
        "id": "RkuzW0coANW3",
        "outputId": "f3f66d62-e701-444c-c896-18fc89652f19"
      },
      "outputs": [
        {
          "output_type": "stream",
          "name": "stdout",
          "text": [
            "root\n",
            " |-- label: double (nullable = false)\n",
            " |-- features_norm: vector (nullable = true)\n",
            " |-- rawPrediction: vector (nullable = true)\n",
            " |-- probability: vector (nullable = true)\n",
            " |-- prediction: double (nullable = false)\n",
            "\n"
          ]
        }
      ],
      "source": [
        "prediction.printSchema()"
      ]
    },
    {
      "cell_type": "code",
      "execution_count": 138,
      "metadata": {
        "colab": {
          "base_uri": "https://localhost:8080/"
        },
        "id": "pRo11hLgB_KG",
        "outputId": "c06b84d3-80c9-4a1b-91e6-1027a2d7d70f"
      },
      "outputs": [
        {
          "output_type": "stream",
          "name": "stdout",
          "text": [
            "+-----+--------------------+--------------------+--------------------+----------+\n",
            "|label|       features_norm|       rawPrediction|         probability|prediction|\n",
            "+-----+--------------------+--------------------+--------------------+----------+\n",
            "|  0.0|(24,[0,1,2,3,4,5,...|[9.95115561702949...|[0.99511556170294...|       0.0|\n",
            "|  0.0|(24,[0,1,2,3,4,5,...|[9.90357366217207...|[0.99035736621720...|       0.0|\n",
            "|  0.0|(24,[0,1,2,3,4,5,...|[9.76666234916681...|[0.97666623491668...|       0.0|\n",
            "|  0.0|(24,[0,1,2,3,4,5,...|[9.90357366217207...|[0.99035736621720...|       0.0|\n",
            "|  0.0|(24,[0,1,2,3,4,5,...|[9.90633808272550...|[0.99063380827255...|       0.0|\n",
            "|  0.0|(24,[0,1,2,3,4,5,...|[9.95698724607276...|[0.99569872460727...|       0.0|\n",
            "|  0.0|(24,[0,1,2,3,4,5,...|[8.86610232267662...|[0.88661023226766...|       0.0|\n",
            "|  0.0|(24,[0,1,2,3,4,5,...|[9.90633808272550...|[0.99063380827255...|       0.0|\n",
            "|  0.0|(24,[0,1,2,3,4,5,...|[9.94871261225499...|[0.99487126122549...|       0.0|\n",
            "|  0.0|(24,[0,1,2,3,4,5,...|[9.90357366217207...|[0.99035736621720...|       0.0|\n",
            "|  0.0|(24,[0,1,2,3,4,5,...|[9.90357366217207...|[0.99035736621720...|       0.0|\n",
            "|  0.0|(24,[0,1,2,3,4,5,...|[9.89806344890773...|[0.98980634489077...|       0.0|\n",
            "|  0.0|(24,[0,1,2,3,4,5,...|[9.90357366217207...|[0.99035736621720...|       0.0|\n",
            "|  0.0|(24,[0,1,2,3,4,5,...|[9.90357366217207...|[0.99035736621720...|       0.0|\n",
            "|  0.0|(24,[0,1,2,3,4,5,...|[8.97611690489180...|[0.89761169048918...|       0.0|\n",
            "|  0.0|(24,[0,1,2,3,4,5,...|[9.88888845892853...|[0.98888884589285...|       0.0|\n",
            "|  0.0|(24,[0,1,2,3,4,5,...|[9.95115561702949...|[0.99511556170294...|       0.0|\n",
            "|  0.0|(24,[0,1,2,3,4,5,...|[9.82916252311140...|[0.98291625231114...|       0.0|\n",
            "|  0.0|(24,[0,1,2,3,4,5,...|[8.96662588066579...|[0.89666258806657...|       0.0|\n",
            "|  0.0|(24,[0,1,2,3,4,5,...|[9.88564071474024...|[0.98856407147402...|       0.0|\n",
            "+-----+--------------------+--------------------+--------------------+----------+\n",
            "only showing top 20 rows\n",
            "\n"
          ]
        }
      ],
      "source": [
        "prediction.show()"
      ]
    },
    {
      "cell_type": "code",
      "execution_count": 139,
      "metadata": {
        "colab": {
          "base_uri": "https://localhost:8080/"
        },
        "id": "O_6IWxEuCCDR",
        "outputId": "6a733c68-8537-402b-fde7-5e3164ebb144"
      },
      "outputs": [
        {
          "output_type": "execute_result",
          "data": {
            "text/plain": [
              "0.9957064949264637"
            ]
          },
          "metadata": {},
          "execution_count": 139
        }
      ],
      "source": [
        "from pyspark.ml.evaluation import MulticlassClassificationEvaluator\n",
        "binEval = MulticlassClassificationEvaluator().setMetricName(\"accuracy\") .setPredictionCol(\"prediction\").setLabelCol(\"label\")\n",
        "\n",
        "binEval.evaluate(prediction)"
      ]
    },
    {
      "cell_type": "code",
      "execution_count": 140,
      "metadata": {
        "id": "N4mi61avCEw3",
        "colab": {
          "base_uri": "https://localhost:8080/"
        },
        "outputId": "4ac12c12-afda-491f-8f7b-3cd84f7d1978"
      },
      "outputs": [
        {
          "output_type": "execute_result",
          "data": {
            "text/plain": [
              "0.9953603711703064"
            ]
          },
          "metadata": {},
          "execution_count": 140
        }
      ],
      "source": [
        "#test on testing data\n",
        "prediction = model.transform(df_test)\n",
        "\n",
        "from pyspark.ml.evaluation import MulticlassClassificationEvaluator\n",
        "binEval = MulticlassClassificationEvaluator().setMetricName(\"accuracy\") .setPredictionCol(\"prediction\").setLabelCol(\"label\")\n",
        "\n",
        "binEval.evaluate(prediction)"
      ]
    },
    {
      "cell_type": "markdown",
      "source": [
        "## Decision Tree"
      ],
      "metadata": {
        "id": "BtiWUMoaYPSS"
      }
    },
    {
      "cell_type": "code",
      "execution_count": 141,
      "metadata": {
        "id": "OGsi4ERvIbCX"
      },
      "outputs": [],
      "source": [
        "from pyspark.ml.classification import DecisionTreeClassifier\n",
        "\n",
        "dt = DecisionTreeClassifier(labelCol=\"label\", featuresCol=\"features_norm\")"
      ]
    },
    {
      "cell_type": "code",
      "source": [
        "from pyspark.ml import Pipeline\n",
        "pipeline = Pipeline(stages=[dt])"
      ],
      "metadata": {
        "id": "aYi32c6LYTKM"
      },
      "execution_count": 142,
      "outputs": []
    },
    {
      "cell_type": "code",
      "source": [
        "pipeline = Pipeline(stages=[vectorAssembler, dt])"
      ],
      "metadata": {
        "id": "Pg6tAOBcYV0l"
      },
      "execution_count": 143,
      "outputs": []
    },
    {
      "cell_type": "code",
      "source": [
        "#model = pipeline.fit(df_train)"
      ],
      "metadata": {
        "id": "eg_pNuyXYYtk"
      },
      "execution_count": 147,
      "outputs": []
    },
    {
      "cell_type": "code",
      "source": [
        "prediction = model.transform(df_train)"
      ],
      "metadata": {
        "id": "DN_JG6uSZ06z"
      },
      "execution_count": 148,
      "outputs": []
    },
    {
      "cell_type": "code",
      "source": [
        "prediction.printSchema()"
      ],
      "metadata": {
        "colab": {
          "base_uri": "https://localhost:8080/"
        },
        "id": "xtkiCjOfaCgn",
        "outputId": "e89b73db-e5bf-4f98-eb9e-1971da804b1e"
      },
      "execution_count": 149,
      "outputs": [
        {
          "output_type": "stream",
          "name": "stdout",
          "text": [
            "root\n",
            " |-- label: double (nullable = false)\n",
            " |-- features_norm: vector (nullable = true)\n",
            " |-- rawPrediction: vector (nullable = true)\n",
            " |-- probability: vector (nullable = true)\n",
            " |-- prediction: double (nullable = false)\n",
            "\n"
          ]
        }
      ]
    },
    {
      "cell_type": "code",
      "source": [
        "prediction.show()"
      ],
      "metadata": {
        "colab": {
          "base_uri": "https://localhost:8080/"
        },
        "id": "PCbsaIpdaIgN",
        "outputId": "be84614e-5854-43a3-e925-7114e240663f"
      },
      "execution_count": 150,
      "outputs": [
        {
          "output_type": "stream",
          "name": "stdout",
          "text": [
            "+-----+--------------------+--------------------+--------------------+----------+\n",
            "|label|       features_norm|       rawPrediction|         probability|prediction|\n",
            "+-----+--------------------+--------------------+--------------------+----------+\n",
            "|  0.0|(24,[0,1,2,3,4,5,...|[9.95115561702949...|[0.99511556170294...|       0.0|\n",
            "|  0.0|(24,[0,1,2,3,4,5,...|[9.90357366217207...|[0.99035736621720...|       0.0|\n",
            "|  0.0|(24,[0,1,2,3,4,5,...|[9.76666234916681...|[0.97666623491668...|       0.0|\n",
            "|  0.0|(24,[0,1,2,3,4,5,...|[9.90357366217207...|[0.99035736621720...|       0.0|\n",
            "|  0.0|(24,[0,1,2,3,4,5,...|[9.90633808272550...|[0.99063380827255...|       0.0|\n",
            "|  0.0|(24,[0,1,2,3,4,5,...|[9.95698724607276...|[0.99569872460727...|       0.0|\n",
            "|  0.0|(24,[0,1,2,3,4,5,...|[8.86610232267662...|[0.88661023226766...|       0.0|\n",
            "|  0.0|(24,[0,1,2,3,4,5,...|[9.90633808272550...|[0.99063380827255...|       0.0|\n",
            "|  0.0|(24,[0,1,2,3,4,5,...|[9.94871261225499...|[0.99487126122549...|       0.0|\n",
            "|  0.0|(24,[0,1,2,3,4,5,...|[9.90357366217207...|[0.99035736621720...|       0.0|\n",
            "|  0.0|(24,[0,1,2,3,4,5,...|[9.90357366217207...|[0.99035736621720...|       0.0|\n",
            "|  0.0|(24,[0,1,2,3,4,5,...|[9.89806344890773...|[0.98980634489077...|       0.0|\n",
            "|  0.0|(24,[0,1,2,3,4,5,...|[9.90357366217207...|[0.99035736621720...|       0.0|\n",
            "|  0.0|(24,[0,1,2,3,4,5,...|[9.90357366217207...|[0.99035736621720...|       0.0|\n",
            "|  0.0|(24,[0,1,2,3,4,5,...|[8.97611690489180...|[0.89761169048918...|       0.0|\n",
            "|  0.0|(24,[0,1,2,3,4,5,...|[9.88888845892853...|[0.98888884589285...|       0.0|\n",
            "|  0.0|(24,[0,1,2,3,4,5,...|[9.95115561702949...|[0.99511556170294...|       0.0|\n",
            "|  0.0|(24,[0,1,2,3,4,5,...|[9.82916252311140...|[0.98291625231114...|       0.0|\n",
            "|  0.0|(24,[0,1,2,3,4,5,...|[8.96662588066579...|[0.89666258806657...|       0.0|\n",
            "|  0.0|(24,[0,1,2,3,4,5,...|[9.88564071474024...|[0.98856407147402...|       0.0|\n",
            "+-----+--------------------+--------------------+--------------------+----------+\n",
            "only showing top 20 rows\n",
            "\n"
          ]
        }
      ]
    },
    {
      "cell_type": "code",
      "source": [
        "from pyspark.ml.evaluation import MulticlassClassificationEvaluator\n",
        "binEval = MulticlassClassificationEvaluator().setMetricName(\"accuracy\") .setPredictionCol(\"prediction\").setLabelCol(\"label\")\n",
        "\n",
        "binEval.evaluate(prediction)"
      ],
      "metadata": {
        "colab": {
          "base_uri": "https://localhost:8080/"
        },
        "id": "YeMWVvrSaFXj",
        "outputId": "8a84d4b3-5d85-40a6-f807-e0279056f7b0"
      },
      "execution_count": 151,
      "outputs": [
        {
          "output_type": "execute_result",
          "data": {
            "text/plain": [
              "0.9957064949264637"
            ]
          },
          "metadata": {},
          "execution_count": 151
        }
      ]
    },
    {
      "cell_type": "code",
      "source": [
        "#test on testing data\n",
        "prediction = model.transform(df_test)\n",
        "\n",
        "from pyspark.ml.evaluation import MulticlassClassificationEvaluator\n",
        "binEval = MulticlassClassificationEvaluator().setMetricName(\"accuracy\") .setPredictionCol(\"prediction\").setLabelCol(\"label\")\n",
        "\n",
        "binEval.evaluate(prediction)"
      ],
      "metadata": {
        "colab": {
          "base_uri": "https://localhost:8080/"
        },
        "id": "hvm-lwoTaL9p",
        "outputId": "395edb6e-dfe8-46e5-82fb-bdb7e97d4069"
      },
      "execution_count": 152,
      "outputs": [
        {
          "output_type": "execute_result",
          "data": {
            "text/plain": [
              "0.9953603711703064"
            ]
          },
          "metadata": {},
          "execution_count": 152
        }
      ]
    }
  ],
  "metadata": {
    "colab": {
      "provenance": []
    },
    "kernelspec": {
      "display_name": "Python 3",
      "name": "python3"
    },
    "language_info": {
      "name": "python"
    }
  },
  "nbformat": 4,
  "nbformat_minor": 0
}