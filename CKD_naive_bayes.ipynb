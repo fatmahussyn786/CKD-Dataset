{
  "nbformat": 4,
  "nbformat_minor": 0,
  "metadata": {
    "colab": {
      "provenance": []
    },
    "kernelspec": {
      "name": "python3",
      "display_name": "Python 3"
    },
    "language_info": {
      "name": "python"
    }
  },
  "cells": [
    {
      "cell_type": "code",
      "metadata": {
        "id": "Z918TwXXmrLt"
      },
      "source": [
        "import pandas as pd"
      ],
      "execution_count": null,
      "outputs": []
    },
    {
      "cell_type": "code",
      "metadata": {
        "colab": {
          "base_uri": "https://localhost:8080/"
        },
        "id": "j96BuhHTmzj0",
        "outputId": "672048ca-c122-459c-83b2-2516415c7018"
      },
      "source": [
        "!pip install pyspark\n",
        "from pyspark.sql.functions import *\n",
        "from pyspark.ml import Pipeline\n",
        "from pyspark.ml.feature import VectorAssembler\n",
        "from pyspark.ml.feature import  StringIndexer"
      ],
      "execution_count": null,
      "outputs": [
        {
          "output_type": "stream",
          "name": "stdout",
          "text": [
            "Requirement already satisfied: pyspark in /usr/local/lib/python3.10/dist-packages (3.4.1)\n",
            "Requirement already satisfied: py4j==0.10.9.7 in /usr/local/lib/python3.10/dist-packages (from pyspark) (0.10.9.7)\n"
          ]
        }
      ]
    },
    {
      "cell_type": "code",
      "metadata": {
        "id": "g7eSIL16m9cD"
      },
      "source": [
        "from pyspark.sql import SparkSession"
      ],
      "execution_count": null,
      "outputs": []
    },
    {
      "cell_type": "code",
      "metadata": {
        "colab": {
          "base_uri": "https://localhost:8080/"
        },
        "id": "HeXSbU_6nHW1",
        "outputId": "97f1fe1f-940a-4263-a62e-24babfd356ce"
      },
      "source": [
        "from google.colab import drive\n",
        "drive.mount(\"/content/gdrive\")"
      ],
      "execution_count": null,
      "outputs": [
        {
          "output_type": "stream",
          "name": "stdout",
          "text": [
            "Drive already mounted at /content/gdrive; to attempt to forcibly remount, call drive.mount(\"/content/gdrive\", force_remount=True).\n"
          ]
        }
      ]
    },
    {
      "cell_type": "code",
      "metadata": {
        "colab": {
          "base_uri": "https://localhost:8080/",
          "height": 270
        },
        "id": "q3IdCNChnIn0",
        "outputId": "9d711423-22ed-4da9-e077-53d401e84515"
      },
      "source": [
        "# Read data from the vehicle_stolen_dataset.csv\n",
        "vehicle_data = pd.read_csv(\"/content/gdrive/MyDrive/Colab Notebooks/dataset/CKD_final.csv\", header=None)\n",
        "vehicle_data.head()"
      ],
      "execution_count": null,
      "outputs": [
        {
          "output_type": "stream",
          "name": "stderr",
          "text": [
            "<ipython-input-50-041caaab449d>:2: DtypeWarning: Columns (0,1,2,3,4,9,10,11,12,13,14,15,16,17) have mixed types. Specify dtype option on import or set low_memory=False.\n",
            "  vehicle_data = pd.read_csv(\"/content/gdrive/MyDrive/Colab Notebooks/dataset/CKD_final.csv\", header=None)\n"
          ]
        },
        {
          "output_type": "execute_result",
          "data": {
            "text/plain": [
              "    0    1      2   3   4         5        6           7           8    9   \\\n",
              "0  age   bp     sg  al  su       rbc       pc         pcc          ba  bgr   \n",
              "1   50  150   1.02   1   0  abnormal   normal  notpresent  notpresent  181   \n",
              "2   69  140   1.02   4   0  abnormal   normal  notpresent  notpresent  121   \n",
              "3   69  160   1.02   2   3  abnormal   normal  notpresent  notpresent  423   \n",
              "4   71  140  1.005   4   0  abnormal  abnomal     present  notpresent  106   \n",
              "\n",
              "   ...   15    16   17   18   19   20     21   22   23     24  \n",
              "0  ...  pcv    wc   rc  htn   dm  cad  appet   pe  ane  class  \n",
              "1  ...   44  7800  5.2   no   no   no   good   no   no    ckd  \n",
              "2  ...   38  6000  3.9   no   no   no   good   no  yes    ckd  \n",
              "3  ...   31  7500  4.6   no  yes   no   poor   no   no    ckd  \n",
              "4  ...   32  6700  4.4   no   no   no   poor  yes  yes    ckd  \n",
              "\n",
              "[5 rows x 25 columns]"
            ],
            "text/html": [
              "\n",
              "  <div id=\"df-94d9203e-f4ec-42d1-a906-2149c8c7ea52\" class=\"colab-df-container\">\n",
              "    <div>\n",
              "<style scoped>\n",
              "    .dataframe tbody tr th:only-of-type {\n",
              "        vertical-align: middle;\n",
              "    }\n",
              "\n",
              "    .dataframe tbody tr th {\n",
              "        vertical-align: top;\n",
              "    }\n",
              "\n",
              "    .dataframe thead th {\n",
              "        text-align: right;\n",
              "    }\n",
              "</style>\n",
              "<table border=\"1\" class=\"dataframe\">\n",
              "  <thead>\n",
              "    <tr style=\"text-align: right;\">\n",
              "      <th></th>\n",
              "      <th>0</th>\n",
              "      <th>1</th>\n",
              "      <th>2</th>\n",
              "      <th>3</th>\n",
              "      <th>4</th>\n",
              "      <th>5</th>\n",
              "      <th>6</th>\n",
              "      <th>7</th>\n",
              "      <th>8</th>\n",
              "      <th>9</th>\n",
              "      <th>...</th>\n",
              "      <th>15</th>\n",
              "      <th>16</th>\n",
              "      <th>17</th>\n",
              "      <th>18</th>\n",
              "      <th>19</th>\n",
              "      <th>20</th>\n",
              "      <th>21</th>\n",
              "      <th>22</th>\n",
              "      <th>23</th>\n",
              "      <th>24</th>\n",
              "    </tr>\n",
              "  </thead>\n",
              "  <tbody>\n",
              "    <tr>\n",
              "      <th>0</th>\n",
              "      <td>age</td>\n",
              "      <td>bp</td>\n",
              "      <td>sg</td>\n",
              "      <td>al</td>\n",
              "      <td>su</td>\n",
              "      <td>rbc</td>\n",
              "      <td>pc</td>\n",
              "      <td>pcc</td>\n",
              "      <td>ba</td>\n",
              "      <td>bgr</td>\n",
              "      <td>...</td>\n",
              "      <td>pcv</td>\n",
              "      <td>wc</td>\n",
              "      <td>rc</td>\n",
              "      <td>htn</td>\n",
              "      <td>dm</td>\n",
              "      <td>cad</td>\n",
              "      <td>appet</td>\n",
              "      <td>pe</td>\n",
              "      <td>ane</td>\n",
              "      <td>class</td>\n",
              "    </tr>\n",
              "    <tr>\n",
              "      <th>1</th>\n",
              "      <td>50</td>\n",
              "      <td>150</td>\n",
              "      <td>1.02</td>\n",
              "      <td>1</td>\n",
              "      <td>0</td>\n",
              "      <td>abnormal</td>\n",
              "      <td>normal</td>\n",
              "      <td>notpresent</td>\n",
              "      <td>notpresent</td>\n",
              "      <td>181</td>\n",
              "      <td>...</td>\n",
              "      <td>44</td>\n",
              "      <td>7800</td>\n",
              "      <td>5.2</td>\n",
              "      <td>no</td>\n",
              "      <td>no</td>\n",
              "      <td>no</td>\n",
              "      <td>good</td>\n",
              "      <td>no</td>\n",
              "      <td>no</td>\n",
              "      <td>ckd</td>\n",
              "    </tr>\n",
              "    <tr>\n",
              "      <th>2</th>\n",
              "      <td>69</td>\n",
              "      <td>140</td>\n",
              "      <td>1.02</td>\n",
              "      <td>4</td>\n",
              "      <td>0</td>\n",
              "      <td>abnormal</td>\n",
              "      <td>normal</td>\n",
              "      <td>notpresent</td>\n",
              "      <td>notpresent</td>\n",
              "      <td>121</td>\n",
              "      <td>...</td>\n",
              "      <td>38</td>\n",
              "      <td>6000</td>\n",
              "      <td>3.9</td>\n",
              "      <td>no</td>\n",
              "      <td>no</td>\n",
              "      <td>no</td>\n",
              "      <td>good</td>\n",
              "      <td>no</td>\n",
              "      <td>yes</td>\n",
              "      <td>ckd</td>\n",
              "    </tr>\n",
              "    <tr>\n",
              "      <th>3</th>\n",
              "      <td>69</td>\n",
              "      <td>160</td>\n",
              "      <td>1.02</td>\n",
              "      <td>2</td>\n",
              "      <td>3</td>\n",
              "      <td>abnormal</td>\n",
              "      <td>normal</td>\n",
              "      <td>notpresent</td>\n",
              "      <td>notpresent</td>\n",
              "      <td>423</td>\n",
              "      <td>...</td>\n",
              "      <td>31</td>\n",
              "      <td>7500</td>\n",
              "      <td>4.6</td>\n",
              "      <td>no</td>\n",
              "      <td>yes</td>\n",
              "      <td>no</td>\n",
              "      <td>poor</td>\n",
              "      <td>no</td>\n",
              "      <td>no</td>\n",
              "      <td>ckd</td>\n",
              "    </tr>\n",
              "    <tr>\n",
              "      <th>4</th>\n",
              "      <td>71</td>\n",
              "      <td>140</td>\n",
              "      <td>1.005</td>\n",
              "      <td>4</td>\n",
              "      <td>0</td>\n",
              "      <td>abnormal</td>\n",
              "      <td>abnomal</td>\n",
              "      <td>present</td>\n",
              "      <td>notpresent</td>\n",
              "      <td>106</td>\n",
              "      <td>...</td>\n",
              "      <td>32</td>\n",
              "      <td>6700</td>\n",
              "      <td>4.4</td>\n",
              "      <td>no</td>\n",
              "      <td>no</td>\n",
              "      <td>no</td>\n",
              "      <td>poor</td>\n",
              "      <td>yes</td>\n",
              "      <td>yes</td>\n",
              "      <td>ckd</td>\n",
              "    </tr>\n",
              "  </tbody>\n",
              "</table>\n",
              "<p>5 rows × 25 columns</p>\n",
              "</div>\n",
              "    <div class=\"colab-df-buttons\">\n",
              "\n",
              "  <div class=\"colab-df-container\">\n",
              "    <button class=\"colab-df-convert\" onclick=\"convertToInteractive('df-94d9203e-f4ec-42d1-a906-2149c8c7ea52')\"\n",
              "            title=\"Convert this dataframe to an interactive table.\"\n",
              "            style=\"display:none;\">\n",
              "\n",
              "  <svg xmlns=\"http://www.w3.org/2000/svg\" height=\"24px\" viewBox=\"0 -960 960 960\">\n",
              "    <path d=\"M120-120v-720h720v720H120Zm60-500h600v-160H180v160Zm220 220h160v-160H400v160Zm0 220h160v-160H400v160ZM180-400h160v-160H180v160Zm440 0h160v-160H620v160ZM180-180h160v-160H180v160Zm440 0h160v-160H620v160Z\"/>\n",
              "  </svg>\n",
              "    </button>\n",
              "\n",
              "  <style>\n",
              "    .colab-df-container {\n",
              "      display:flex;\n",
              "      gap: 12px;\n",
              "    }\n",
              "\n",
              "    .colab-df-convert {\n",
              "      background-color: #E8F0FE;\n",
              "      border: none;\n",
              "      border-radius: 50%;\n",
              "      cursor: pointer;\n",
              "      display: none;\n",
              "      fill: #1967D2;\n",
              "      height: 32px;\n",
              "      padding: 0 0 0 0;\n",
              "      width: 32px;\n",
              "    }\n",
              "\n",
              "    .colab-df-convert:hover {\n",
              "      background-color: #E2EBFA;\n",
              "      box-shadow: 0px 1px 2px rgba(60, 64, 67, 0.3), 0px 1px 3px 1px rgba(60, 64, 67, 0.15);\n",
              "      fill: #174EA6;\n",
              "    }\n",
              "\n",
              "    .colab-df-buttons div {\n",
              "      margin-bottom: 4px;\n",
              "    }\n",
              "\n",
              "    [theme=dark] .colab-df-convert {\n",
              "      background-color: #3B4455;\n",
              "      fill: #D2E3FC;\n",
              "    }\n",
              "\n",
              "    [theme=dark] .colab-df-convert:hover {\n",
              "      background-color: #434B5C;\n",
              "      box-shadow: 0px 1px 3px 1px rgba(0, 0, 0, 0.15);\n",
              "      filter: drop-shadow(0px 1px 2px rgba(0, 0, 0, 0.3));\n",
              "      fill: #FFFFFF;\n",
              "    }\n",
              "  </style>\n",
              "\n",
              "    <script>\n",
              "      const buttonEl =\n",
              "        document.querySelector('#df-94d9203e-f4ec-42d1-a906-2149c8c7ea52 button.colab-df-convert');\n",
              "      buttonEl.style.display =\n",
              "        google.colab.kernel.accessAllowed ? 'block' : 'none';\n",
              "\n",
              "      async function convertToInteractive(key) {\n",
              "        const element = document.querySelector('#df-94d9203e-f4ec-42d1-a906-2149c8c7ea52');\n",
              "        const dataTable =\n",
              "          await google.colab.kernel.invokeFunction('convertToInteractive',\n",
              "                                                    [key], {});\n",
              "        if (!dataTable) return;\n",
              "\n",
              "        const docLinkHtml = 'Like what you see? Visit the ' +\n",
              "          '<a target=\"_blank\" href=https://colab.research.google.com/notebooks/data_table.ipynb>data table notebook</a>'\n",
              "          + ' to learn more about interactive tables.';\n",
              "        element.innerHTML = '';\n",
              "        dataTable['output_type'] = 'display_data';\n",
              "        await google.colab.output.renderOutput(dataTable, element);\n",
              "        const docLink = document.createElement('div');\n",
              "        docLink.innerHTML = docLinkHtml;\n",
              "        element.appendChild(docLink);\n",
              "      }\n",
              "    </script>\n",
              "  </div>\n",
              "\n",
              "\n",
              "<div id=\"df-e0ef7223-7ae1-4e8f-9062-d0ca326ac057\">\n",
              "  <button class=\"colab-df-quickchart\" onclick=\"quickchart('df-e0ef7223-7ae1-4e8f-9062-d0ca326ac057')\"\n",
              "            title=\"Suggest charts.\"\n",
              "            style=\"display:none;\">\n",
              "\n",
              "<svg xmlns=\"http://www.w3.org/2000/svg\" height=\"24px\"viewBox=\"0 0 24 24\"\n",
              "     width=\"24px\">\n",
              "    <g>\n",
              "        <path d=\"M19 3H5c-1.1 0-2 .9-2 2v14c0 1.1.9 2 2 2h14c1.1 0 2-.9 2-2V5c0-1.1-.9-2-2-2zM9 17H7v-7h2v7zm4 0h-2V7h2v10zm4 0h-2v-4h2v4z\"/>\n",
              "    </g>\n",
              "</svg>\n",
              "  </button>\n",
              "\n",
              "<style>\n",
              "  .colab-df-quickchart {\n",
              "    background-color: #E8F0FE;\n",
              "    border: none;\n",
              "    border-radius: 50%;\n",
              "    cursor: pointer;\n",
              "    display: none;\n",
              "    fill: #1967D2;\n",
              "    height: 32px;\n",
              "    padding: 0 0 0 0;\n",
              "    width: 32px;\n",
              "  }\n",
              "\n",
              "  .colab-df-quickchart:hover {\n",
              "    background-color: #E2EBFA;\n",
              "    box-shadow: 0px 1px 2px rgba(60, 64, 67, 0.3), 0px 1px 3px 1px rgba(60, 64, 67, 0.15);\n",
              "    fill: #174EA6;\n",
              "  }\n",
              "\n",
              "  [theme=dark] .colab-df-quickchart {\n",
              "    background-color: #3B4455;\n",
              "    fill: #D2E3FC;\n",
              "  }\n",
              "\n",
              "  [theme=dark] .colab-df-quickchart:hover {\n",
              "    background-color: #434B5C;\n",
              "    box-shadow: 0px 1px 3px 1px rgba(0, 0, 0, 0.15);\n",
              "    filter: drop-shadow(0px 1px 2px rgba(0, 0, 0, 0.3));\n",
              "    fill: #FFFFFF;\n",
              "  }\n",
              "</style>\n",
              "\n",
              "  <script>\n",
              "    async function quickchart(key) {\n",
              "      const charts = await google.colab.kernel.invokeFunction(\n",
              "          'suggestCharts', [key], {});\n",
              "    }\n",
              "    (() => {\n",
              "      let quickchartButtonEl =\n",
              "        document.querySelector('#df-e0ef7223-7ae1-4e8f-9062-d0ca326ac057 button');\n",
              "      quickchartButtonEl.style.display =\n",
              "        google.colab.kernel.accessAllowed ? 'block' : 'none';\n",
              "    })();\n",
              "  </script>\n",
              "</div>\n",
              "    </div>\n",
              "  </div>\n"
            ]
          },
          "metadata": {},
          "execution_count": 50
        }
      ]
    },
    {
      "cell_type": "code",
      "metadata": {
        "id": "GcH5yWPenhSy"
      },
      "source": [
        "spark = SparkSession.builder.master(\"local[*]\").getOrCreate() #Sets the Spark master URL to run locally."
      ],
      "execution_count": null,
      "outputs": []
    },
    {
      "cell_type": "code",
      "metadata": {
        "colab": {
          "base_uri": "https://localhost:8080/"
        },
        "id": "G5gu-_2ZnoM7",
        "outputId": "a2fbdfb1-c92e-40bb-dd08-cb9699458209"
      },
      "source": [
        "vehicle_df = spark.createDataFrame(vehicle_data)  #Create DataFrame\n",
        "vehicle_df.show(5)"
      ],
      "execution_count": null,
      "outputs": [
        {
          "output_type": "stream",
          "name": "stdout",
          "text": [
            "+---+---+-----+---+---+--------+-------+----------+----------+---+---+----+---+---+----+---+----+---+---+---+---+-----+---+---+-----+\n",
            "|  0|  1|    2|  3|  4|       5|      6|         7|         8|  9| 10|  11| 12| 13|  14| 15|  16| 17| 18| 19| 20|   21| 22| 23|   24|\n",
            "+---+---+-----+---+---+--------+-------+----------+----------+---+---+----+---+---+----+---+----+---+---+---+---+-----+---+---+-----+\n",
            "|age| bp|   sg| al| su|     rbc|     pc|       pcc|        ba|bgr| bu|  sc|sod|pot|hemo|pcv|  wc| rc|htn| dm|cad|appet| pe|ane|class|\n",
            "| 50|150| 1.02|  1|  0|abnormal| normal|notpresent|notpresent|181|204| 8.4|135|  4|10.3| 44|7800|5.2| no| no| no| good| no| no|  ckd|\n",
            "| 69|140| 1.02|  4|  0|abnormal| normal|notpresent|notpresent|121| 64| 7.3|130|5.4| 9.4| 38|6000|3.9| no| no| no| good| no|yes|  ckd|\n",
            "| 69|160| 1.02|  2|  3|abnormal| normal|notpresent|notpresent|423| 34|   7|129|4.9|10.6| 31|7500|4.6| no|yes| no| poor| no| no|  ckd|\n",
            "| 71|140|1.005|  4|  0|abnormal|abnomal|   present|notpresent|106| 67|11.6|131|5.5| 7.2| 32|6700|4.4| no| no| no| poor|yes|yes|  ckd|\n",
            "+---+---+-----+---+---+--------+-------+----------+----------+---+---+----+---+---+----+---+----+---+---+---+---+-----+---+---+-----+\n",
            "only showing top 5 rows\n",
            "\n"
          ]
        }
      ]
    },
    {
      "cell_type": "code",
      "metadata": {
        "id": "rTRpoc6jphUD"
      },
      "source": [
        "vehicle_df = vehicle_df.select(col(\"0\").alias(\"age\"),\n",
        "                         col(\"1\").alias(\"bp\"),\n",
        "                         col(\"2\").alias(\"sg\"),\n",
        "                         col(\"3\").alias(\"al\"),\n",
        "                         col(\"4\").alias(\"su\"),\n",
        "                         col(\"5\").alias(\"rbc\"),\n",
        "                         col(\"6\").alias(\"pc\"),\n",
        "                         col(\"7\").alias(\"pcc\"),\n",
        "                         col(\"8\").alias(\"ba\"),\n",
        "                         col(\"9\").alias(\"bgr\"),\n",
        "                         col(\"10\").alias(\"bu\"),\n",
        "                         col(\"11\").alias(\"sc\"),\n",
        "                         col(\"12\").alias(\"sod\"),\n",
        "                         col(\"13\").alias(\"pot\"),\n",
        "                         col(\"14\").alias(\"hemo\"),\n",
        "                         col(\"15\").alias(\"pcv\"),\n",
        "                         col(\"16\").alias(\"wc\"),\n",
        "                         col(\"17\").alias(\"rc\"),\n",
        "                         col(\"18\").alias(\"htn\"),\n",
        "                         col(\"19\").alias(\"dm\"),\n",
        "                         col(\"20\").alias(\"cad\"),\n",
        "                         col(\"21\").alias(\"appet\"),\n",
        "                         col(\"22\").alias(\"pe\"),\n",
        "                         col(\"23\").alias(\"ane\"),\n",
        "                         col(\"24\").alias(\"class\"))"
      ],
      "execution_count": null,
      "outputs": []
    },
    {
      "cell_type": "code",
      "source": [
        "# #How to handle Categorical features\n",
        "# from pyspark.ml.feature import StringIndexer"
      ],
      "metadata": {
        "id": "tfu0Fk4f3F2y"
      },
      "execution_count": null,
      "outputs": []
    },
    {
      "cell_type": "code",
      "source": [
        "# indexer = StringIndexer(inputCol=\"rbc\", outputCol=\"rbc_indexed\")\n",
        "# df_r = indexer.fit(vehicle_df).transform(vehicle_df)\n",
        "# df_r.show()"
      ],
      "metadata": {
        "id": "LfYaDTq53IFf"
      },
      "execution_count": null,
      "outputs": []
    },
    {
      "cell_type": "code",
      "source": [
        "# indexer = StringIndexer(inputCols=[\"pc\", \"pcc\", \"ba\", \"htn\", \"dm\", \"cad\", \"appet\", \"pe\", \"ane\", \"class\"],\n",
        "#                         outputCols=[\"pc_indexed\", \"pcc_indexed\",\"ba_indexed\", \"htn_indexed\", \"dm_indexed\",\"cad_indexed\",\"appet_indexed\", \"pe_indexed\",\"ane_indexed\", \"class_indexed\" ])\n",
        "# df_r = indexer.fit(df_r).transform(df_r)\n",
        "# df_r.show()"
      ],
      "metadata": {
        "id": "kFYJOeQm3B45"
      },
      "execution_count": null,
      "outputs": []
    },
    {
      "cell_type": "code",
      "source": [
        "vehicle_df.dtypes"
      ],
      "metadata": {
        "colab": {
          "base_uri": "https://localhost:8080/"
        },
        "id": "n1ABPKlv3pFC",
        "outputId": "77840eb4-83ea-406b-8e53-39d20dbfe0f9"
      },
      "execution_count": null,
      "outputs": [
        {
          "output_type": "execute_result",
          "data": {
            "text/plain": [
              "[('age', 'string'),\n",
              " ('bp', 'string'),\n",
              " ('sg', 'string'),\n",
              " ('al', 'string'),\n",
              " ('su', 'string'),\n",
              " ('rbc', 'string'),\n",
              " ('pc', 'string'),\n",
              " ('pcc', 'string'),\n",
              " ('ba', 'string'),\n",
              " ('bgr', 'string'),\n",
              " ('bu', 'string'),\n",
              " ('sc', 'string'),\n",
              " ('sod', 'string'),\n",
              " ('pot', 'string'),\n",
              " ('hemo', 'string'),\n",
              " ('pcv', 'string'),\n",
              " ('wc', 'string'),\n",
              " ('rc', 'string'),\n",
              " ('htn', 'string'),\n",
              " ('dm', 'string'),\n",
              " ('cad', 'string'),\n",
              " ('appet', 'string'),\n",
              " ('pe', 'string'),\n",
              " ('ane', 'string'),\n",
              " ('class', 'string')]"
            ]
          },
          "metadata": {},
          "execution_count": 57
        }
      ]
    },
    {
      "cell_type": "code",
      "metadata": {
        "id": "QJIfUINRrjrz"
      },
      "source": [
        "indexers = [StringIndexer(inputCol=\"age\", outputCol = \"age_index\"),\n",
        "           StringIndexer(inputCol=\"bp\", outputCol = \"bp_index\"),\n",
        "           StringIndexer(inputCol=\"sg\", outputCol = \"sg_index\"),\n",
        "           StringIndexer(inputCol=\"al\", outputCol = \"al_index\"),\n",
        "           StringIndexer(inputCol=\"su\", outputCol = \"su_index\"),\n",
        "           StringIndexer(inputCol=\"rbc\", outputCol = \"rbc_index\"),\n",
        "           StringIndexer(inputCol=\"pc\", outputCol = \"pc_index\"),\n",
        "           StringIndexer(inputCol=\"pcc\", outputCol = \"pcc_index\"),\n",
        "           StringIndexer(inputCol=\"ba\", outputCol = \"ba_index\"),\n",
        "           StringIndexer(inputCol=\"bgr\", outputCol = \"bgr_index\"),\n",
        "           StringIndexer(inputCol=\"bu\", outputCol = \"bu_index\"),\n",
        "           StringIndexer(inputCol=\"sc\", outputCol = \"sc_index\"),\n",
        "           StringIndexer(inputCol=\"sod\", outputCol = \"sod_index\"),\n",
        "           StringIndexer(inputCol=\"pot\", outputCol = \"pot_index\"),\n",
        "           StringIndexer(inputCol=\"hemo\", outputCol = \"hemo_index\"),\n",
        "           StringIndexer(inputCol=\"pcv\", outputCol = \"pcv_index\"),\n",
        "           StringIndexer(inputCol=\"wc\", outputCol = \"wc_index\"),\n",
        "           StringIndexer(inputCol=\"rc\", outputCol = \"rc_index\"),\n",
        "           StringIndexer(inputCol=\"htn\", outputCol = \"htn_index\"),\n",
        "           StringIndexer(inputCol=\"dm\", outputCol = \"dm_index\"),\n",
        "           StringIndexer(inputCol=\"cad\", outputCol = \"cad_index\"),\n",
        "           StringIndexer(inputCol=\"appet\", outputCol = \"appet_index\"),\n",
        "           StringIndexer(inputCol=\"pe\", outputCol = \"pe_index\"),\n",
        "           StringIndexer(inputCol=\"ane\", outputCol = \"ane_index\"),\n",
        "           StringIndexer(inputCol=\"class\", outputCol = \"label\")]"
      ],
      "execution_count": null,
      "outputs": []
    },
    {
      "cell_type": "code",
      "metadata": {
        "id": "kX0ok6FXz-Hi"
      },
      "source": [
        "pipeline = Pipeline(stages=indexers)\n",
        "indexed_vehicle_df = pipeline.fit(vehicle_df).transform(vehicle_df)"
      ],
      "execution_count": null,
      "outputs": []
    },
    {
      "cell_type": "code",
      "metadata": {
        "colab": {
          "base_uri": "https://localhost:8080/"
        },
        "id": "H4gRnXSc3ksx",
        "outputId": "2fc6d597-341b-4d58-8853-9d0b7f8a6a79"
      },
      "source": [
        "indexed_vehicle_df.show(5,False)"
      ],
      "execution_count": null,
      "outputs": [
        {
          "output_type": "stream",
          "name": "stdout",
          "text": [
            "+---+---+-----+---+---+--------+-------+----------+----------+---+---+----+---+---+----+---+----+---+---+---+---+-----+---+---+-----+---------+--------+--------+--------+--------+---------+--------+---------+--------+---------+--------+--------+---------+---------+----------+---------+--------+--------+---------+--------+---------+-----------+--------+---------+-----+\n",
            "|age|bp |sg   |al |su |rbc     |pc     |pcc       |ba        |bgr|bu |sc  |sod|pot|hemo|pcv|wc  |rc |htn|dm |cad|appet|pe |ane|class|age_index|bp_index|sg_index|al_index|su_index|rbc_index|pc_index|pcc_index|ba_index|bgr_index|bu_index|sc_index|sod_index|pot_index|hemo_index|pcv_index|wc_index|rc_index|htn_index|dm_index|cad_index|appet_index|pe_index|ane_index|label|\n",
            "+---+---+-----+---+---+--------+-------+----------+----------+---+---+----+---+---+----+---+----+---+---+---+---+-----+---+---+-----+---------+--------+--------+--------+--------+---------+--------+---------+--------+---------+--------+--------+---------+---------+----------+---------+--------+--------+---------+--------+---------+-----------+--------+---------+-----+\n",
            "|age|bp |sg   |al |su |rbc     |pc     |pcc       |ba        |bgr|bu |sc  |sod|pot|hemo|pcv|wc  |rc |htn|dm |cad|appet|pe |ane|class|77.0     |16.0    |20.0    |7.0     |7.0     |3.0      |4.0     |2.0      |3.0     |338.0    |393.0   |152.0   |57.0     |64.0     |170.0     |46.0     |953.0   |625.0   |3.0      |3.0     |2.0      |4.0        |3.0     |2.0      |2.0  |\n",
            "|50 |150|1.02 |1  |0  |abnormal|normal |notpresent|notpresent|181|204|8.4 |135|4  |10.3|44 |7800|5.2|no |no |no |good |no |no |ckd  |5.0      |0.0     |1.0     |4.0     |0.0     |0.0      |0.0     |0.0      |0.0     |103.0    |7.0     |36.0    |1.0      |7.0      |0.0       |3.0      |1.0     |0.0     |0.0      |0.0     |0.0      |0.0        |0.0     |0.0      |0.0  |\n",
            "|69 |140|1.02 |4  |0  |abnormal|normal |notpresent|notpresent|121|64 |7.3 |130|5.4|9.4 |38 |6000|3.9|no |no |no |good |no |yes|ckd  |2.0      |1.0     |1.0     |3.0     |0.0     |0.0      |0.0     |0.0      |0.0     |16.0     |64.0    |13.0    |0.0      |5.0      |55.0      |19.0     |14.0    |5.0     |0.0      |0.0     |0.0      |0.0        |0.0     |1.0      |0.0  |\n",
            "|69 |160|1.02 |2  |3  |abnormal|normal |notpresent|notpresent|423|34 |7   |129|4.9|10.6|31 |7500|4.6|no |yes|no |poor |no |no |ckd  |2.0      |2.0     |1.0     |1.0     |2.0     |0.0      |0.0     |0.0      |0.0     |92.0     |49.0    |34.0    |2.0      |0.0      |38.0      |17.0     |11.0    |2.0     |0.0      |1.0     |0.0      |1.0        |0.0     |0.0      |0.0  |\n",
            "|71 |140|1.005|4  |0  |abnormal|abnomal|present   |notpresent|106|67 |11.6|131|5.5|7.2 |32 |6700|4.4|no |no |no |poor |yes|yes|ckd  |9.0      |1.0     |3.0     |3.0     |0.0     |0.0      |3.0     |1.0      |0.0     |22.0     |53.0    |10.0    |8.0      |13.0     |101.0     |0.0      |6.0     |8.0     |0.0      |0.0     |0.0      |1.0        |1.0     |1.0      |0.0  |\n",
            "+---+---+-----+---+---+--------+-------+----------+----------+---+---+----+---+---+----+---+----+---+---+---+---+-----+---+---+-----+---------+--------+--------+--------+--------+---------+--------+---------+--------+---------+--------+--------+---------+---------+----------+---------+--------+--------+---------+--------+---------+-----------+--------+---------+-----+\n",
            "only showing top 5 rows\n",
            "\n"
          ]
        }
      ]
    },
    {
      "cell_type": "code",
      "source": [
        "indexed_vehicle_df.columns"
      ],
      "metadata": {
        "colab": {
          "base_uri": "https://localhost:8080/"
        },
        "id": "SPhMKd1N5JtO",
        "outputId": "5a3fc5ef-859a-49c9-fe4b-9ccf098d3b90"
      },
      "execution_count": null,
      "outputs": [
        {
          "output_type": "execute_result",
          "data": {
            "text/plain": [
              "['age',\n",
              " 'bp',\n",
              " 'sg',\n",
              " 'al',\n",
              " 'su',\n",
              " 'rbc',\n",
              " 'pc',\n",
              " 'pcc',\n",
              " 'ba',\n",
              " 'bgr',\n",
              " 'bu',\n",
              " 'sc',\n",
              " 'sod',\n",
              " 'pot',\n",
              " 'hemo',\n",
              " 'pcv',\n",
              " 'wc',\n",
              " 'rc',\n",
              " 'htn',\n",
              " 'dm',\n",
              " 'cad',\n",
              " 'appet',\n",
              " 'pe',\n",
              " 'ane',\n",
              " 'class',\n",
              " 'age_index',\n",
              " 'bp_index',\n",
              " 'sg_index',\n",
              " 'al_index',\n",
              " 'su_index',\n",
              " 'rbc_index',\n",
              " 'pc_index',\n",
              " 'pcc_index',\n",
              " 'ba_index',\n",
              " 'bgr_index',\n",
              " 'bu_index',\n",
              " 'sc_index',\n",
              " 'sod_index',\n",
              " 'pot_index',\n",
              " 'hemo_index',\n",
              " 'pcv_index',\n",
              " 'wc_index',\n",
              " 'rc_index',\n",
              " 'htn_index',\n",
              " 'dm_index',\n",
              " 'cad_index',\n",
              " 'appet_index',\n",
              " 'pe_index',\n",
              " 'ane_index',\n",
              " 'label']"
            ]
          },
          "metadata": {},
          "execution_count": 61
        }
      ]
    },
    {
      "cell_type": "code",
      "metadata": {
        "id": "ymfaBPG70RqE"
      },
      "source": [
        "vectorAssembler = VectorAssembler(inputCols = ['age_index',\n",
        " 'bp_index',\n",
        " 'sg_index',\n",
        " 'al_index',\n",
        " 'su_index',\n",
        " 'rbc_index',\n",
        " 'pc_index',\n",
        " 'pcc_index',\n",
        " 'ba_index',\n",
        " 'bgr_index',\n",
        " 'bu_index',\n",
        " 'sc_index',\n",
        " 'sod_index',\n",
        " 'pot_index',\n",
        " 'hemo_index',\n",
        " 'pcv_index',\n",
        " 'wc_index',\n",
        " 'rc_index',\n",
        " 'htn_index',\n",
        " 'dm_index',\n",
        " 'cad_index',\n",
        " 'appet_index',\n",
        " 'pe_index',\n",
        " 'ane_index'],outputCol = \"features\")\n",
        "vindexed_vehicle_df = vectorAssembler.transform(indexed_vehicle_df)"
      ],
      "execution_count": null,
      "outputs": []
    },
    {
      "cell_type": "code",
      "metadata": {
        "colab": {
          "base_uri": "https://localhost:8080/"
        },
        "id": "y_N-B5aL6_vM",
        "outputId": "6c1ae3cb-7e2e-4c0f-ca58-3911f90a4123"
      },
      "source": [
        "vindexed_vehicle_df.show(5, False)"
      ],
      "execution_count": null,
      "outputs": [
        {
          "output_type": "stream",
          "name": "stdout",
          "text": [
            "+---+---+-----+---+---+--------+-------+----------+----------+---+---+----+---+---+----+---+----+---+---+---+---+-----+---+---+-----+---------+--------+--------+--------+--------+---------+--------+---------+--------+---------+--------+--------+---------+---------+----------+---------+--------+--------+---------+--------+---------+-----------+--------+---------+-----+-------------------------------------------------------------------------------------------------------------------+\n",
            "|age|bp |sg   |al |su |rbc     |pc     |pcc       |ba        |bgr|bu |sc  |sod|pot|hemo|pcv|wc  |rc |htn|dm |cad|appet|pe |ane|class|age_index|bp_index|sg_index|al_index|su_index|rbc_index|pc_index|pcc_index|ba_index|bgr_index|bu_index|sc_index|sod_index|pot_index|hemo_index|pcv_index|wc_index|rc_index|htn_index|dm_index|cad_index|appet_index|pe_index|ane_index|label|features                                                                                                           |\n",
            "+---+---+-----+---+---+--------+-------+----------+----------+---+---+----+---+---+----+---+----+---+---+---+---+-----+---+---+-----+---------+--------+--------+--------+--------+---------+--------+---------+--------+---------+--------+--------+---------+---------+----------+---------+--------+--------+---------+--------+---------+-----------+--------+---------+-----+-------------------------------------------------------------------------------------------------------------------+\n",
            "|age|bp |sg   |al |su |rbc     |pc     |pcc       |ba        |bgr|bu |sc  |sod|pot|hemo|pcv|wc  |rc |htn|dm |cad|appet|pe |ane|class|77.0     |16.0    |20.0    |7.0     |7.0     |3.0      |4.0     |2.0      |3.0     |338.0    |393.0   |152.0   |57.0     |64.0     |170.0     |46.0     |953.0   |625.0   |3.0      |3.0     |2.0      |4.0        |3.0     |2.0      |2.0  |[77.0,16.0,20.0,7.0,7.0,3.0,4.0,2.0,3.0,338.0,393.0,152.0,57.0,64.0,170.0,46.0,953.0,625.0,3.0,3.0,2.0,4.0,3.0,2.0]|\n",
            "|50 |150|1.02 |1  |0  |abnormal|normal |notpresent|notpresent|181|204|8.4 |135|4  |10.3|44 |7800|5.2|no |no |no |good |no |no |ckd  |5.0      |0.0     |1.0     |4.0     |0.0     |0.0      |0.0     |0.0      |0.0     |103.0    |7.0     |36.0    |1.0      |7.0      |0.0       |3.0      |1.0     |0.0     |0.0      |0.0     |0.0      |0.0        |0.0     |0.0      |0.0  |(24,[0,2,3,9,10,11,12,13,15,16],[5.0,1.0,4.0,103.0,7.0,36.0,1.0,7.0,3.0,1.0])                                      |\n",
            "|69 |140|1.02 |4  |0  |abnormal|normal |notpresent|notpresent|121|64 |7.3 |130|5.4|9.4 |38 |6000|3.9|no |no |no |good |no |yes|ckd  |2.0      |1.0     |1.0     |3.0     |0.0     |0.0      |0.0     |0.0      |0.0     |16.0     |64.0    |13.0    |0.0      |5.0      |55.0      |19.0     |14.0    |5.0     |0.0      |0.0     |0.0      |0.0        |0.0     |1.0      |0.0  |(24,[0,1,2,3,9,10,11,13,14,15,16,17,23],[2.0,1.0,1.0,3.0,16.0,64.0,13.0,5.0,55.0,19.0,14.0,5.0,1.0])               |\n",
            "|69 |160|1.02 |2  |3  |abnormal|normal |notpresent|notpresent|423|34 |7   |129|4.9|10.6|31 |7500|4.6|no |yes|no |poor |no |no |ckd  |2.0      |2.0     |1.0     |1.0     |2.0     |0.0      |0.0     |0.0      |0.0     |92.0     |49.0    |34.0    |2.0      |0.0      |38.0      |17.0     |11.0    |2.0     |0.0      |1.0     |0.0      |1.0        |0.0     |0.0      |0.0  |[2.0,2.0,1.0,1.0,2.0,0.0,0.0,0.0,0.0,92.0,49.0,34.0,2.0,0.0,38.0,17.0,11.0,2.0,0.0,1.0,0.0,1.0,0.0,0.0]            |\n",
            "|71 |140|1.005|4  |0  |abnormal|abnomal|present   |notpresent|106|67 |11.6|131|5.5|7.2 |32 |6700|4.4|no |no |no |poor |yes|yes|ckd  |9.0      |1.0     |3.0     |3.0     |0.0     |0.0      |3.0     |1.0      |0.0     |22.0     |53.0    |10.0    |8.0      |13.0     |101.0     |0.0      |6.0     |8.0     |0.0      |0.0     |0.0      |1.0        |1.0     |1.0      |0.0  |[9.0,1.0,3.0,3.0,0.0,0.0,3.0,1.0,0.0,22.0,53.0,10.0,8.0,13.0,101.0,0.0,6.0,8.0,0.0,0.0,0.0,1.0,1.0,1.0]            |\n",
            "+---+---+-----+---+---+--------+-------+----------+----------+---+---+----+---+---+----+---+----+---+---+---+---+-----+---+---+-----+---------+--------+--------+--------+--------+---------+--------+---------+--------+---------+--------+--------+---------+---------+----------+---------+--------+--------+---------+--------+---------+-----------+--------+---------+-----+-------------------------------------------------------------------------------------------------------------------+\n",
            "only showing top 5 rows\n",
            "\n"
          ]
        }
      ]
    },
    {
      "cell_type": "markdown",
      "metadata": {
        "id": "0rJzHv9n7Pg4"
      },
      "source": [
        "# Naive Bayes Calssification\n"
      ]
    },
    {
      "cell_type": "code",
      "metadata": {
        "id": "_QlFHBfh7m74"
      },
      "source": [
        "from pyspark.ml.classification import NaiveBayes\n",
        "from pyspark.ml.evaluation import MulticlassClassificationEvaluator"
      ],
      "execution_count": null,
      "outputs": []
    },
    {
      "cell_type": "code",
      "metadata": {
        "id": "wCUKag427SFH"
      },
      "source": [
        "splits = vindexed_vehicle_df.randomSplit([0.75,0.25], 42)    # optional value 42 is seed for sampling\n",
        "train_df = splits[0]\n",
        "test_df = splits[1]"
      ],
      "execution_count": null,
      "outputs": []
    },
    {
      "cell_type": "code",
      "metadata": {
        "id": "ZqkpouDM7UIs"
      },
      "source": [
        "# Apply the Naive bayes classifier\n",
        "nb = NaiveBayes(modelType=\"multinomial\")"
      ],
      "execution_count": null,
      "outputs": []
    },
    {
      "cell_type": "code",
      "metadata": {
        "id": "Stgq6Qm-7ckF"
      },
      "source": [
        "nbmodel = nb.fit(train_df)"
      ],
      "execution_count": null,
      "outputs": []
    },
    {
      "cell_type": "code",
      "metadata": {
        "colab": {
          "base_uri": "https://localhost:8080/"
        },
        "id": "biqB_0_s7tiU",
        "outputId": "fd7775c3-2be5-4375-eba5-69245d8afe4c"
      },
      "source": [
        "# select example rows to display.\n",
        "predictions_df = nbmodel.transform(test_df)\n",
        "predictions_df.show(5)"
      ],
      "execution_count": null,
      "outputs": [
        {
          "output_type": "stream",
          "name": "stdout",
          "text": [
            "+---+---+-----+---+---+--------+--------+----------+----------+---+---+---+---+---+----+---+-----+---+---+---+---+-----+---+---+-----+---------+--------+--------+--------+--------+---------+--------+---------+--------+---------+--------+--------+---------+---------+----------+---------+--------+--------+---------+--------+---------+-----------+--------+---------+-----+--------------------+--------------------+--------------------+----------+\n",
            "|age| bp|   sg| al| su|     rbc|      pc|       pcc|        ba|bgr| bu| sc|sod|pot|hemo|pcv|   wc| rc|htn| dm|cad|appet| pe|ane|class|age_index|bp_index|sg_index|al_index|su_index|rbc_index|pc_index|pcc_index|ba_index|bgr_index|bu_index|sc_index|sod_index|pot_index|hemo_index|pcv_index|wc_index|rc_index|htn_index|dm_index|cad_index|appet_index|pe_index|ane_index|label|            features|       rawPrediction|         probability|prediction|\n",
            "+---+---+-----+---+---+--------+--------+----------+----------+---+---+---+---+---+----+---+-----+---+---+---+---+-----+---+---+-----+---------+--------+--------+--------+--------+---------+--------+---------+--------+---------+--------+--------+---------+---------+----------+---------+--------+--------+---------+--------+---------+-----------+--------+---------+-----+--------------------+--------------------+--------------------+----------+\n",
            "| 35|100|    0|  2|  0|abnormal|  normal|   present|notpresent|188| 48|4.4|139|5.3|   7| 39| 6900|  4| no|yes| no| good| no|yes|  ckd|      3.0|     9.0|     4.0|     1.0|     0.0|      0.0|     0.0|      1.0|     0.0|    129.0|    14.0|   117.0|      7.0|     20.0|      94.0|      8.0|     0.0|     3.0|      0.0|     1.0|      0.0|        0.0|     0.0|      1.0|  0.0|[3.0,9.0,4.0,1.0,...|[-1032.1613558156...|[1.0,8.5389055869...|       0.0|\n",
            "| 35|100|1.005|  2|  1|abnormal|abnormal|notpresent|notpresent|264|153|7.1|135|5.8|   9| 36|12200|2.6|yes|yes|yes| poor| no|yes|  ckd|      3.0|     9.0|     3.0|     1.0|     3.0|      0.0|     1.0|      0.0|     0.0|     73.0|    47.0|    11.0|      1.0|     22.0|      88.0|      6.0|     7.0|     7.0|      1.0|     1.0|      1.0|        1.0|     0.0|      1.0|  0.0|[3.0,9.0,3.0,1.0,...|[-727.48705988679...|[4.36780625412433...|       1.0|\n",
            "| 35|100| 1.01|  0|  0|abnormal|abnormal|notpresent|notpresent|153|129|9.4|129|4.6|  10| 29|11800|4.6| no| no| no| poor|yes| no|  ckd|      3.0|     9.0|     2.0|     0.0|     0.0|      0.0|     1.0|      0.0|     0.0|     64.0|   101.0|    15.0|      2.0|      4.0|      34.0|      1.0|    44.0|     2.0|      0.0|     0.0|      0.0|        1.0|     1.0|      0.0|  0.0|[3.0,9.0,2.0,0.0,...|[-620.41490599184...|[5.71522999109269...|       1.0|\n",
            "| 35|100| 1.01|  1|  0|  normal|  normal|notpresent|notpresent|163|119|3.3|125|3.9|13.3| 35|12050|5.2|yes| no| no| poor|yes| no|  ckd|      3.0|     9.0|     2.0|     4.0|     0.0|      1.0|     0.0|      0.0|     0.0|     61.0|     1.0|    47.0|     23.0|      9.0|      31.0|     13.0|   925.0|     0.0|      1.0|     0.0|      0.0|        1.0|     1.0|      0.0|  0.0|[3.0,9.0,2.0,4.0,...|[-1748.6865087128...|[3.67025474314858...|       2.0|\n",
            "| 35|100|1.015|  0|  4|abnormal|  normal|notpresent|notpresent|250| 20|1.2|134|2.8|11.1| 16| 9200|3.6|yes|yes|yes| poor| no| no|  ckd|      3.0|     9.0|     7.0|     0.0|     4.0|      0.0|     0.0|      0.0|     0.0|     75.0|     8.0|     1.0|     10.0|     34.0|      39.0|     22.0|     3.0|    16.0|      1.0|     1.0|      1.0|        1.0|     0.0|      0.0|  0.0|[3.0,9.0,7.0,0.0,...|[-676.87487104623...|[2.73046794138139...|       1.0|\n",
            "+---+---+-----+---+---+--------+--------+----------+----------+---+---+---+---+---+----+---+-----+---+---+---+---+-----+---+---+-----+---------+--------+--------+--------+--------+---------+--------+---------+--------+---------+--------+--------+---------+---------+----------+---------+--------+--------+---------+--------+---------+-----------+--------+---------+-----+--------------------+--------------------+--------------------+----------+\n",
            "only showing top 5 rows\n",
            "\n"
          ]
        }
      ]
    },
    {
      "cell_type": "code",
      "metadata": {
        "colab": {
          "base_uri": "https://localhost:8080/"
        },
        "id": "rLVm5LPp8MGF",
        "outputId": "bd7d49e0-96cf-4068-b9e3-116d84d3a990"
      },
      "source": [
        "# compute accuracy on the test set\n",
        "evaluator = MulticlassClassificationEvaluator(labelCol=\"label\", predictionCol=\"prediction\", metricName=\"accuracy\")\n",
        "nbaccuracy = evaluator.evaluate(predictions_df)\n",
        "print(\"Test set accuracy = \" + str(nbaccuracy))"
      ],
      "execution_count": null,
      "outputs": [
        {
          "output_type": "stream",
          "name": "stdout",
          "text": [
            "Test set accuracy = 0.6171717983760753\n"
          ]
        }
      ]
    },
    {
      "cell_type": "markdown",
      "source": [
        "## # Naive Bayes Calssification Ended"
      ],
      "metadata": {
        "id": "FY_4pl0ws8_7"
      }
    }
  ]
}